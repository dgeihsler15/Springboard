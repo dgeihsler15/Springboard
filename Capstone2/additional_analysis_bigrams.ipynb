{
 "cells": [
  {
   "cell_type": "markdown",
   "metadata": {},
   "source": [
    "In this notebook additional analysis is done on the review text data. The review text is split up in bigrams to help find the most important topics in competitor reviews."
   ]
  },
  {
   "cell_type": "code",
   "execution_count": 1,
   "metadata": {},
   "outputs": [],
   "source": [
    "#import packages\n",
    "%matplotlib inline\n",
    "import matplotlib.pyplot as plt \n",
    "import pandas as pd\n",
    "import numpy as np\n",
    "import seaborn as sns\n",
    "import nltk\n",
    "\n",
    "sns.set()"
   ]
  },
  {
   "cell_type": "code",
   "execution_count": 2,
   "metadata": {},
   "outputs": [],
   "source": [
    "df = pd.read_csv('yelp_reviews_filtered.csv')"
   ]
  },
  {
   "cell_type": "markdown",
   "metadata": {},
   "source": [
    "### Reviews mentioning Food and Restaurant"
   ]
  },
  {
   "cell_type": "code",
   "execution_count": 3,
   "metadata": {},
   "outputs": [],
   "source": [
    "#create strings for the reviews mentioning food and spa\n",
    "food = df.text[df.text.str.contains('food')]\n",
    "rest = df.text[df.text.str.contains('restaurant')]\n",
    "foodstr = food.str.cat()\n",
    "reststr = rest.str.cat()"
   ]
  },
  {
   "cell_type": "code",
   "execution_count": 4,
   "metadata": {},
   "outputs": [
    {
     "name": "stdout",
     "output_type": "stream",
     "text": [
      "Reviews containing food:  10637\n",
      "Reviews containing restaurant:  8890\n"
     ]
    }
   ],
   "source": [
    "print('Reviews containing food: ', len(food))\n",
    "print('Reviews containing restaurant: ', len(rest))"
   ]
  },
  {
   "cell_type": "code",
   "execution_count": 5,
   "metadata": {},
   "outputs": [],
   "source": [
    "from collections import Counter\n",
    "from nltk.tokenize import word_tokenize\n",
    "\n",
    "# Tokenize\n",
    "tokensf = word_tokenize(foodstr)\n",
    "\n",
    "# Convert the tokens into lowercase: lower_tokens\n",
    "lower_tokensf = [t.lower() for t in tokensf]"
   ]
  },
  {
   "cell_type": "code",
   "execution_count": 6,
   "metadata": {},
   "outputs": [],
   "source": [
    "# Tokenize\n",
    "tokensr = word_tokenize(reststr)\n",
    "\n",
    "# Convert the tokens into lowercase: lower_tokens\n",
    "lower_tokensr = [t.lower() for t in tokensr]"
   ]
  },
  {
   "cell_type": "code",
   "execution_count": 7,
   "metadata": {},
   "outputs": [],
   "source": [
    "from nltk.stem import WordNetLemmatizer\n",
    "from nltk.corpus import stopwords\n",
    "\n",
    "stop_words = set(stopwords.words('english'))\n",
    "stop_words.update(['hotel', 'stay', 'stayed', 'one', 'get', 'u'])\n",
    "\n",
    "# Retain alphabetic words: alpha_only\n",
    "alpha_onlyf = [t for t in lower_tokensf if t.isalpha()]\n",
    "\n",
    "# Remove all stop words: no_stops\n",
    "no_stopsf = [t  for t in alpha_onlyf if t not in stop_words]\n",
    "\n",
    "# Instantiate the WordNetLemmatizer\n",
    "wordnet_lemmatizer = WordNetLemmatizer()\n",
    "\n",
    "# Lemmatize all tokens into a new list: lemmatized\n",
    "lemmatizedf = [wordnet_lemmatizer.lemmatize(t) for t in no_stopsf]"
   ]
  },
  {
   "cell_type": "code",
   "execution_count": 8,
   "metadata": {},
   "outputs": [],
   "source": [
    "# Retain alphabetic words: alpha_only\n",
    "alpha_onlyr = [t for t in lower_tokensr if t.isalpha()]\n",
    "\n",
    "# Remove all stop words: no_stops\n",
    "no_stopsr = [t  for t in alpha_onlyr if t not in stop_words]\n",
    "\n",
    "# Instantiate the WordNetLemmatizer\n",
    "wordnet_lemmatizer = WordNetLemmatizer()\n",
    "\n",
    "# Lemmatize all tokens into a new list: lemmatized\n",
    "lemmatizedr = [wordnet_lemmatizer.lemmatize(t) for t in no_stopsr]"
   ]
  },
  {
   "cell_type": "code",
   "execution_count": 9,
   "metadata": {},
   "outputs": [],
   "source": [
    "#Create your bigrams\n",
    "bgsf = nltk.bigrams(lemmatizedf)\n",
    "\n",
    "#compute frequency distribution for all the bigrams in the text\n",
    "fdistf = nltk.FreqDist(bgsf)"
   ]
  },
  {
   "cell_type": "code",
   "execution_count": 10,
   "metadata": {},
   "outputs": [],
   "source": [
    "#Create your bigrams\n",
    "bgsr = nltk.bigrams(lemmatizedr)\n",
    "\n",
    "#compute frequency distribution for all the bigrams in the text\n",
    "fdistr = nltk.FreqDist(bgsr)\n",
    "\n",
    "\n",
    "\n"
   ]
  },
  {
   "cell_type": "code",
   "execution_count": 11,
   "metadata": {},
   "outputs": [
    {
     "name": "stdout",
     "output_type": "stream",
     "text": [
      "Reviews mentioning food:  [(('front', 'desk'), 1998), (('la', 'vega'), 1664), (('food', 'court'), 1628), (('resort', 'fee'), 1215), (('room', 'service'), 1183), (('customer', 'service'), 761), (('pool', 'area'), 673), (('room', 'clean'), 660), (('room', 'nice'), 611), (('monte', 'carlo'), 607), (('first', 'time'), 589), (('good', 'food'), 580), (('mandalay', 'bay'), 572), (('food', 'option'), 571), (('even', 'though'), 553), (('pretty', 'good'), 527), (('come', 'back'), 515), (('food', 'good'), 464), (('great', 'food'), 461), (('casino', 'floor'), 441)]\n"
     ]
    }
   ],
   "source": [
    "# Print the 20 most common bigrams\n",
    "print('Reviews mentioning food: ', fdistf.most_common(20))\n",
    "\n"
   ]
  },
  {
   "cell_type": "code",
   "execution_count": 12,
   "metadata": {},
   "outputs": [
    {
     "name": "stdout",
     "output_type": "stream",
     "text": [
      "Reviews mentioning restaurant:  [(('la', 'vega'), 1551), (('front', 'desk'), 1434), (('resort', 'fee'), 1014), (('room', 'service'), 775), (('mandalay', 'bay'), 677), (('pool', 'area'), 622), (('room', 'nice'), 610), (('room', 'clean'), 593), (('food', 'court'), 582), (('customer', 'service'), 571), (('new', 'york'), 464), (('first', 'time'), 460), (('feel', 'like'), 453), (('monte', 'carlo'), 441), (('casino', 'floor'), 438), (('even', 'though'), 435), (('hard', 'rock'), 420), (('great', 'restaurant'), 418), (('red', 'rock'), 410), (('pretty', 'good'), 403)]\n"
     ]
    }
   ],
   "source": [
    "print('Reviews mentioning restaurant: ', fdistr.most_common(20))"
   ]
  },
  {
   "cell_type": "markdown",
   "metadata": {},
   "source": [
    "### Reviews mentioning Spa"
   ]
  },
  {
   "cell_type": "code",
   "execution_count": 13,
   "metadata": {},
   "outputs": [],
   "source": [
    "spa = df.text[df.text.str.contains('spa')]\n",
    "spastr = spa.str.cat()"
   ]
  },
  {
   "cell_type": "code",
   "execution_count": 14,
   "metadata": {},
   "outputs": [],
   "source": [
    "# Tokenize\n",
    "tokenss = word_tokenize(spastr)\n",
    "\n",
    "# Convert the tokens into lowercase: lower_tokens\n",
    "lower_tokenss = [t.lower() for t in tokenss]"
   ]
  },
  {
   "cell_type": "code",
   "execution_count": 15,
   "metadata": {},
   "outputs": [],
   "source": [
    "# Retain alphabetic words: alpha_only\n",
    "alpha_onlys = [t for t in lower_tokenss if t.isalpha()]\n",
    "\n",
    "# Remove all stop words: no_stops\n",
    "no_stopss = [t  for t in alpha_onlys if t not in stop_words]\n",
    "\n",
    "# Instantiate the WordNetLemmatizer\n",
    "wordnet_lemmatizer = WordNetLemmatizer()\n",
    "\n",
    "# Lemmatize all tokens into a new list: lemmatized\n",
    "lemmatizeds = [wordnet_lemmatizer.lemmatize(t) for t in no_stopss]"
   ]
  },
  {
   "cell_type": "code",
   "execution_count": 16,
   "metadata": {},
   "outputs": [],
   "source": [
    "#Create your bigrams\n",
    "bgss = nltk.bigrams(lemmatizeds)\n",
    "\n",
    "#compute frequency distribution for all the bigrams in the text\n",
    "fdists = nltk.FreqDist(bgss)"
   ]
  },
  {
   "cell_type": "code",
   "execution_count": 17,
   "metadata": {},
   "outputs": [
    {
     "name": "stdout",
     "output_type": "stream",
     "text": [
      "Reviews mentioning spa:  [(('front', 'desk'), 1998), (('la', 'vega'), 1664), (('food', 'court'), 1628), (('resort', 'fee'), 1215), (('room', 'service'), 1183), (('customer', 'service'), 761), (('pool', 'area'), 673), (('room', 'clean'), 660), (('room', 'nice'), 611), (('monte', 'carlo'), 607), (('first', 'time'), 589), (('good', 'food'), 580), (('mandalay', 'bay'), 572), (('food', 'option'), 571), (('even', 'though'), 553), (('pretty', 'good'), 527), (('come', 'back'), 515), (('food', 'good'), 464), (('great', 'food'), 461), (('casino', 'floor'), 441)]\n"
     ]
    }
   ],
   "source": [
    "# Print the 20 most common bigrams\n",
    "print('Reviews mentioning spa: ', fdists.most_common(20))"
   ]
  },
  {
   "cell_type": "markdown",
   "metadata": {},
   "source": [
    "### Top Rival Reviews"
   ]
  },
  {
   "cell_type": "code",
   "execution_count": 18,
   "metadata": {},
   "outputs": [
    {
     "data": {
      "text/plain": [
       "count      80.000000\n",
       "mean      770.219318\n",
       "std       993.217078\n",
       "min         3.000000\n",
       "25%        63.000000\n",
       "50%       340.500000\n",
       "75%      1017.000000\n",
       "max      4041.000000\n",
       "Name: review_count, dtype: float64"
      ]
     },
     "execution_count": 18,
     "metadata": {},
     "output_type": "execute_result"
    }
   ],
   "source": [
    "#look at who the highest rated competitors are\n",
    "rivals = df.groupby('name').mean()\n",
    "rivals.review_count.describe()"
   ]
  },
  {
   "cell_type": "code",
   "execution_count": 19,
   "metadata": {},
   "outputs": [
    {
     "data": {
      "text/html": [
       "<div>\n",
       "<style scoped>\n",
       "    .dataframe tbody tr th:only-of-type {\n",
       "        vertical-align: middle;\n",
       "    }\n",
       "\n",
       "    .dataframe tbody tr th {\n",
       "        vertical-align: top;\n",
       "    }\n",
       "\n",
       "    .dataframe thead th {\n",
       "        text-align: right;\n",
       "    }\n",
       "</style>\n",
       "<table border=\"1\" class=\"dataframe\">\n",
       "  <thead>\n",
       "    <tr style=\"text-align: right;\">\n",
       "      <th></th>\n",
       "      <th>cool</th>\n",
       "      <th>funny</th>\n",
       "      <th>review_rating</th>\n",
       "      <th>useful</th>\n",
       "      <th>is_open</th>\n",
       "      <th>review_count</th>\n",
       "      <th>company_rating</th>\n",
       "      <th>text_length</th>\n",
       "    </tr>\n",
       "    <tr>\n",
       "      <th>name</th>\n",
       "      <th></th>\n",
       "      <th></th>\n",
       "      <th></th>\n",
       "      <th></th>\n",
       "      <th></th>\n",
       "      <th></th>\n",
       "      <th></th>\n",
       "      <th></th>\n",
       "    </tr>\n",
       "  </thead>\n",
       "  <tbody>\n",
       "    <tr>\n",
       "      <th>M Resort Spa Casino</th>\n",
       "      <td>0.864943</td>\n",
       "      <td>0.793103</td>\n",
       "      <td>3.946360</td>\n",
       "      <td>1.589080</td>\n",
       "      <td>1.0</td>\n",
       "      <td>1044.0</td>\n",
       "      <td>4.0</td>\n",
       "      <td>771.402299</td>\n",
       "    </tr>\n",
       "    <tr>\n",
       "      <th>ARIA Resort &amp; Casino</th>\n",
       "      <td>0.731502</td>\n",
       "      <td>0.816382</td>\n",
       "      <td>3.492947</td>\n",
       "      <td>1.663202</td>\n",
       "      <td>1.0</td>\n",
       "      <td>4041.0</td>\n",
       "      <td>3.5</td>\n",
       "      <td>987.181886</td>\n",
       "    </tr>\n",
       "    <tr>\n",
       "      <th>South Point Hotel, Casino &amp; Spa</th>\n",
       "      <td>0.564729</td>\n",
       "      <td>0.588507</td>\n",
       "      <td>3.422721</td>\n",
       "      <td>1.449802</td>\n",
       "      <td>1.0</td>\n",
       "      <td>1514.0</td>\n",
       "      <td>3.5</td>\n",
       "      <td>731.210040</td>\n",
       "    </tr>\n",
       "    <tr>\n",
       "      <th>Red Rock Casino Resort &amp; Spa</th>\n",
       "      <td>0.793610</td>\n",
       "      <td>0.735463</td>\n",
       "      <td>3.594249</td>\n",
       "      <td>1.804473</td>\n",
       "      <td>1.0</td>\n",
       "      <td>1564.0</td>\n",
       "      <td>3.5</td>\n",
       "      <td>831.402556</td>\n",
       "    </tr>\n",
       "    <tr>\n",
       "      <th>Caesars Palace Las Vegas Hotel &amp; Casino</th>\n",
       "      <td>0.870526</td>\n",
       "      <td>0.863290</td>\n",
       "      <td>3.186976</td>\n",
       "      <td>1.631759</td>\n",
       "      <td>1.0</td>\n",
       "      <td>2627.0</td>\n",
       "      <td>3.0</td>\n",
       "      <td>841.004950</td>\n",
       "    </tr>\n",
       "    <tr>\n",
       "      <th>Hard Rock Hotel &amp; Casino</th>\n",
       "      <td>0.738631</td>\n",
       "      <td>0.760680</td>\n",
       "      <td>3.030776</td>\n",
       "      <td>1.602205</td>\n",
       "      <td>1.0</td>\n",
       "      <td>2175.0</td>\n",
       "      <td>3.0</td>\n",
       "      <td>962.060634</td>\n",
       "    </tr>\n",
       "    <tr>\n",
       "      <th>Mandalay Bay Resort &amp; Casino</th>\n",
       "      <td>0.861629</td>\n",
       "      <td>0.821256</td>\n",
       "      <td>3.245687</td>\n",
       "      <td>1.597308</td>\n",
       "      <td>1.0</td>\n",
       "      <td>2898.0</td>\n",
       "      <td>3.0</td>\n",
       "      <td>899.205314</td>\n",
       "    </tr>\n",
       "    <tr>\n",
       "      <th>Bally's Las Vegas Hotel &amp; Casino</th>\n",
       "      <td>0.605711</td>\n",
       "      <td>0.783635</td>\n",
       "      <td>2.878638</td>\n",
       "      <td>1.719385</td>\n",
       "      <td>1.0</td>\n",
       "      <td>1821.0</td>\n",
       "      <td>3.0</td>\n",
       "      <td>844.846787</td>\n",
       "    </tr>\n",
       "    <tr>\n",
       "      <th>New York New York Hotel &amp; Casino</th>\n",
       "      <td>0.779516</td>\n",
       "      <td>0.745711</td>\n",
       "      <td>3.232089</td>\n",
       "      <td>1.436428</td>\n",
       "      <td>1.0</td>\n",
       "      <td>1982.0</td>\n",
       "      <td>3.0</td>\n",
       "      <td>801.771443</td>\n",
       "    </tr>\n",
       "    <tr>\n",
       "      <th>Palms Casino Resort</th>\n",
       "      <td>0.842912</td>\n",
       "      <td>0.958621</td>\n",
       "      <td>2.954789</td>\n",
       "      <td>1.914943</td>\n",
       "      <td>1.0</td>\n",
       "      <td>1305.0</td>\n",
       "      <td>3.0</td>\n",
       "      <td>916.865900</td>\n",
       "    </tr>\n",
       "    <tr>\n",
       "      <th>Paris Las Vegas Hotel &amp; Casino</th>\n",
       "      <td>0.824181</td>\n",
       "      <td>0.868455</td>\n",
       "      <td>2.948489</td>\n",
       "      <td>1.725841</td>\n",
       "      <td>1.0</td>\n",
       "      <td>2349.0</td>\n",
       "      <td>3.0</td>\n",
       "      <td>828.192848</td>\n",
       "    </tr>\n",
       "    <tr>\n",
       "      <th>Planet Hollywood Las Vegas Resort &amp; Casino</th>\n",
       "      <td>0.698475</td>\n",
       "      <td>0.766584</td>\n",
       "      <td>3.071302</td>\n",
       "      <td>1.540617</td>\n",
       "      <td>1.0</td>\n",
       "      <td>2818.0</td>\n",
       "      <td>3.0</td>\n",
       "      <td>912.369989</td>\n",
       "    </tr>\n",
       "    <tr>\n",
       "      <th>Plaza Hotel &amp; Casino</th>\n",
       "      <td>0.524802</td>\n",
       "      <td>0.675595</td>\n",
       "      <td>2.534722</td>\n",
       "      <td>1.671627</td>\n",
       "      <td>1.0</td>\n",
       "      <td>1008.0</td>\n",
       "      <td>2.5</td>\n",
       "      <td>907.833333</td>\n",
       "    </tr>\n",
       "    <tr>\n",
       "      <th>The LINQ Hotel &amp; Casino</th>\n",
       "      <td>0.518432</td>\n",
       "      <td>0.643651</td>\n",
       "      <td>2.663546</td>\n",
       "      <td>1.565828</td>\n",
       "      <td>1.0</td>\n",
       "      <td>1708.0</td>\n",
       "      <td>2.5</td>\n",
       "      <td>936.159743</td>\n",
       "    </tr>\n",
       "    <tr>\n",
       "      <th>Rio All Suites Hotel &amp; Casino</th>\n",
       "      <td>0.627907</td>\n",
       "      <td>0.691645</td>\n",
       "      <td>2.640396</td>\n",
       "      <td>1.583979</td>\n",
       "      <td>1.0</td>\n",
       "      <td>2321.0</td>\n",
       "      <td>2.5</td>\n",
       "      <td>866.996555</td>\n",
       "    </tr>\n",
       "    <tr>\n",
       "      <th>Monte Carlo Hotel And Casino</th>\n",
       "      <td>0.580113</td>\n",
       "      <td>0.647280</td>\n",
       "      <td>2.608255</td>\n",
       "      <td>1.478049</td>\n",
       "      <td>0.0</td>\n",
       "      <td>2666.0</td>\n",
       "      <td>2.5</td>\n",
       "      <td>919.810882</td>\n",
       "    </tr>\n",
       "    <tr>\n",
       "      <th>Luxor Hotel and Casino Las Vegas</th>\n",
       "      <td>0.557440</td>\n",
       "      <td>0.679260</td>\n",
       "      <td>2.626060</td>\n",
       "      <td>1.297867</td>\n",
       "      <td>1.0</td>\n",
       "      <td>3890.0</td>\n",
       "      <td>2.5</td>\n",
       "      <td>892.863274</td>\n",
       "    </tr>\n",
       "    <tr>\n",
       "      <th>Hooters Casino Hotel Las Vegas</th>\n",
       "      <td>0.537709</td>\n",
       "      <td>0.882682</td>\n",
       "      <td>2.344274</td>\n",
       "      <td>1.347765</td>\n",
       "      <td>1.0</td>\n",
       "      <td>1432.0</td>\n",
       "      <td>2.5</td>\n",
       "      <td>772.687151</td>\n",
       "    </tr>\n",
       "    <tr>\n",
       "      <th>Flamingo Las Vegas Hotel &amp; Casino</th>\n",
       "      <td>0.492445</td>\n",
       "      <td>0.690102</td>\n",
       "      <td>2.469010</td>\n",
       "      <td>1.671600</td>\n",
       "      <td>1.0</td>\n",
       "      <td>3241.0</td>\n",
       "      <td>2.5</td>\n",
       "      <td>982.812828</td>\n",
       "    </tr>\n",
       "    <tr>\n",
       "      <th>Circus Circus Las Vegas Hotel and Casino</th>\n",
       "      <td>0.639816</td>\n",
       "      <td>1.144407</td>\n",
       "      <td>2.328881</td>\n",
       "      <td>1.692821</td>\n",
       "      <td>1.0</td>\n",
       "      <td>2395.0</td>\n",
       "      <td>2.5</td>\n",
       "      <td>796.238314</td>\n",
       "    </tr>\n",
       "    <tr>\n",
       "      <th>Westgate Las Vegas Resort &amp; Casino</th>\n",
       "      <td>0.387245</td>\n",
       "      <td>0.669297</td>\n",
       "      <td>2.042735</td>\n",
       "      <td>2.335963</td>\n",
       "      <td>1.0</td>\n",
       "      <td>1519.0</td>\n",
       "      <td>2.0</td>\n",
       "      <td>903.806049</td>\n",
       "    </tr>\n",
       "  </tbody>\n",
       "</table>\n",
       "</div>"
      ],
      "text/plain": [
       "                                                cool     funny  review_rating  \\\n",
       "name                                                                            \n",
       "M Resort Spa Casino                         0.864943  0.793103       3.946360   \n",
       "ARIA Resort & Casino                        0.731502  0.816382       3.492947   \n",
       "South Point Hotel, Casino & Spa             0.564729  0.588507       3.422721   \n",
       "Red Rock Casino Resort & Spa                0.793610  0.735463       3.594249   \n",
       "Caesars Palace Las Vegas Hotel & Casino     0.870526  0.863290       3.186976   \n",
       "Hard Rock Hotel & Casino                    0.738631  0.760680       3.030776   \n",
       "Mandalay Bay Resort & Casino                0.861629  0.821256       3.245687   \n",
       "Bally's Las Vegas Hotel & Casino            0.605711  0.783635       2.878638   \n",
       "New York New York Hotel & Casino            0.779516  0.745711       3.232089   \n",
       "Palms Casino Resort                         0.842912  0.958621       2.954789   \n",
       "Paris Las Vegas Hotel & Casino              0.824181  0.868455       2.948489   \n",
       "Planet Hollywood Las Vegas Resort & Casino  0.698475  0.766584       3.071302   \n",
       "Plaza Hotel & Casino                        0.524802  0.675595       2.534722   \n",
       "The LINQ Hotel & Casino                     0.518432  0.643651       2.663546   \n",
       "Rio All Suites Hotel & Casino               0.627907  0.691645       2.640396   \n",
       "Monte Carlo Hotel And Casino                0.580113  0.647280       2.608255   \n",
       "Luxor Hotel and Casino Las Vegas            0.557440  0.679260       2.626060   \n",
       "Hooters Casino Hotel Las Vegas              0.537709  0.882682       2.344274   \n",
       "Flamingo Las Vegas Hotel & Casino           0.492445  0.690102       2.469010   \n",
       "Circus Circus Las Vegas Hotel and Casino    0.639816  1.144407       2.328881   \n",
       "Westgate Las Vegas Resort & Casino          0.387245  0.669297       2.042735   \n",
       "\n",
       "                                              useful  is_open  review_count  \\\n",
       "name                                                                          \n",
       "M Resort Spa Casino                         1.589080      1.0        1044.0   \n",
       "ARIA Resort & Casino                        1.663202      1.0        4041.0   \n",
       "South Point Hotel, Casino & Spa             1.449802      1.0        1514.0   \n",
       "Red Rock Casino Resort & Spa                1.804473      1.0        1564.0   \n",
       "Caesars Palace Las Vegas Hotel & Casino     1.631759      1.0        2627.0   \n",
       "Hard Rock Hotel & Casino                    1.602205      1.0        2175.0   \n",
       "Mandalay Bay Resort & Casino                1.597308      1.0        2898.0   \n",
       "Bally's Las Vegas Hotel & Casino            1.719385      1.0        1821.0   \n",
       "New York New York Hotel & Casino            1.436428      1.0        1982.0   \n",
       "Palms Casino Resort                         1.914943      1.0        1305.0   \n",
       "Paris Las Vegas Hotel & Casino              1.725841      1.0        2349.0   \n",
       "Planet Hollywood Las Vegas Resort & Casino  1.540617      1.0        2818.0   \n",
       "Plaza Hotel & Casino                        1.671627      1.0        1008.0   \n",
       "The LINQ Hotel & Casino                     1.565828      1.0        1708.0   \n",
       "Rio All Suites Hotel & Casino               1.583979      1.0        2321.0   \n",
       "Monte Carlo Hotel And Casino                1.478049      0.0        2666.0   \n",
       "Luxor Hotel and Casino Las Vegas            1.297867      1.0        3890.0   \n",
       "Hooters Casino Hotel Las Vegas              1.347765      1.0        1432.0   \n",
       "Flamingo Las Vegas Hotel & Casino           1.671600      1.0        3241.0   \n",
       "Circus Circus Las Vegas Hotel and Casino    1.692821      1.0        2395.0   \n",
       "Westgate Las Vegas Resort & Casino          2.335963      1.0        1519.0   \n",
       "\n",
       "                                            company_rating  text_length  \n",
       "name                                                                     \n",
       "M Resort Spa Casino                                    4.0   771.402299  \n",
       "ARIA Resort & Casino                                   3.5   987.181886  \n",
       "South Point Hotel, Casino & Spa                        3.5   731.210040  \n",
       "Red Rock Casino Resort & Spa                           3.5   831.402556  \n",
       "Caesars Palace Las Vegas Hotel & Casino                3.0   841.004950  \n",
       "Hard Rock Hotel & Casino                               3.0   962.060634  \n",
       "Mandalay Bay Resort & Casino                           3.0   899.205314  \n",
       "Bally's Las Vegas Hotel & Casino                       3.0   844.846787  \n",
       "New York New York Hotel & Casino                       3.0   801.771443  \n",
       "Palms Casino Resort                                    3.0   916.865900  \n",
       "Paris Las Vegas Hotel & Casino                         3.0   828.192848  \n",
       "Planet Hollywood Las Vegas Resort & Casino             3.0   912.369989  \n",
       "Plaza Hotel & Casino                                   2.5   907.833333  \n",
       "The LINQ Hotel & Casino                                2.5   936.159743  \n",
       "Rio All Suites Hotel & Casino                          2.5   866.996555  \n",
       "Monte Carlo Hotel And Casino                           2.5   919.810882  \n",
       "Luxor Hotel and Casino Las Vegas                       2.5   892.863274  \n",
       "Hooters Casino Hotel Las Vegas                         2.5   772.687151  \n",
       "Flamingo Las Vegas Hotel & Casino                      2.5   982.812828  \n",
       "Circus Circus Las Vegas Hotel and Casino               2.5   796.238314  \n",
       "Westgate Las Vegas Resort & Casino                     2.0   903.806049  "
      ]
     },
     "execution_count": 19,
     "metadata": {},
     "output_type": "execute_result"
    }
   ],
   "source": [
    "big_rivals = rivals[rivals.review_count > 1000]\n",
    "big_rivals.sort_values('company_rating', ascending=False)"
   ]
  },
  {
   "cell_type": "code",
   "execution_count": 20,
   "metadata": {},
   "outputs": [],
   "source": [
    "top_rivals = big_rivals[big_rivals.company_rating >=3.5]"
   ]
  },
  {
   "cell_type": "code",
   "execution_count": 21,
   "metadata": {},
   "outputs": [],
   "source": [
    "tr = top_rivals.merge(df, on='name')\n",
    "neg_tr = tr[tr.review_rating_y < 3]\n",
    "pos_tr = tr[tr.review_rating_y > 3]\n",
    "trn = neg_tr.text.str.cat()\n",
    "trp = pos_tr.text.str.cat()"
   ]
  },
  {
   "cell_type": "code",
   "execution_count": 22,
   "metadata": {},
   "outputs": [],
   "source": [
    "# Tokenize\n",
    "tokenstrp = word_tokenize(trp)\n",
    "\n",
    "# Convert the tokens into lowercase: lower_tokens\n",
    "lower_tokenstrp = [t.lower() for t in tokenstrp]"
   ]
  },
  {
   "cell_type": "code",
   "execution_count": 23,
   "metadata": {},
   "outputs": [],
   "source": [
    "# Tokenize\n",
    "tokenstrn = word_tokenize(trn)\n",
    "\n",
    "# Convert the tokens into lowercase: lower_tokens\n",
    "lower_tokenstrn = [t.lower() for t in tokenstrn]"
   ]
  },
  {
   "cell_type": "code",
   "execution_count": 24,
   "metadata": {},
   "outputs": [],
   "source": [
    "# Retain alphabetic words: alpha_only\n",
    "alpha_onlytrp = [t for t in lower_tokenstrp if t.isalpha()]\n",
    "\n",
    "# Remove all stop words: no_stops\n",
    "no_stopstrp = [t  for t in alpha_onlytrp if t not in stop_words]\n",
    "\n",
    "# Instantiate the WordNetLemmatizer\n",
    "wordnet_lemmatizer = WordNetLemmatizer()\n",
    "\n",
    "# Lemmatize all tokens into a new list: lemmatized\n",
    "lemmatizedtrp = [wordnet_lemmatizer.lemmatize(t) for t in no_stopstrp]\n"
   ]
  },
  {
   "cell_type": "code",
   "execution_count": 25,
   "metadata": {},
   "outputs": [],
   "source": [
    "# Retain alphabetic words: alpha_only\n",
    "alpha_onlytrn = [t for t in lower_tokenstrn if t.isalpha()]\n",
    "\n",
    "# Remove all stop words: no_stops\n",
    "no_stopstrn = [t  for t in alpha_onlytrn if t not in stop_words]\n",
    "\n",
    "# Instantiate the WordNetLemmatizer\n",
    "wordnet_lemmatizer = WordNetLemmatizer()\n",
    "\n",
    "# Lemmatize all tokens into a new list: lemmatized\n",
    "lemmatizedtrn = [wordnet_lemmatizer.lemmatize(t) for t in no_stopstrn]"
   ]
  },
  {
   "cell_type": "code",
   "execution_count": 26,
   "metadata": {},
   "outputs": [],
   "source": [
    "#Create your bigrams\n",
    "bgstrp = nltk.bigrams(lemmatizedtrp)\n",
    "\n",
    "#compute frequency distribution for all the bigrams in the text\n",
    "fdiststrp = nltk.FreqDist(bgstrp)"
   ]
  },
  {
   "cell_type": "code",
   "execution_count": 27,
   "metadata": {},
   "outputs": [],
   "source": [
    "#Create your bigrams\n",
    "bgstrn = nltk.bigrams(lemmatizedtrn)\n",
    "\n",
    "#compute frequency distribution for all the bigrams in the text\n",
    "fdiststrn = nltk.FreqDist(bgstrn)"
   ]
  },
  {
   "cell_type": "code",
   "execution_count": 28,
   "metadata": {},
   "outputs": [
    {
     "name": "stdout",
     "output_type": "stream",
     "text": [
      "Top Rival positive reviews:  [(('red', 'rock'), 728), (('la', 'vega'), 672), (('bowling', 'alley'), 422), (('movie', 'theater'), 401), (('front', 'desk'), 394), (('south', 'point'), 389), (('room', 'service'), 364), (('pool', 'area'), 327), (('room', 'nice'), 294), (('first', 'time'), 251), (('really', 'nice'), 245), (('customer', 'service'), 241), (('resort', 'fee'), 228), (('room', 'clean'), 224), (('great', 'place'), 214), (('sky', 'suite'), 209), (('next', 'time'), 205), (('would', 'definitely'), 193), (('casino', 'floor'), 192), (('feel', 'like'), 192)]\n"
     ]
    }
   ],
   "source": [
    "print('Top Rival positive reviews: ', fdiststrp.most_common(20))"
   ]
  },
  {
   "cell_type": "code",
   "execution_count": 29,
   "metadata": {},
   "outputs": [
    {
     "name": "stdout",
     "output_type": "stream",
     "text": [
      "Top Rival negative reviews:  [(('front', 'desk'), 724), (('customer', 'service'), 369), (('red', 'rock'), 226), (('resort', 'fee'), 177), (('la', 'vega'), 176), (('room', 'service'), 140), (('told', 'u'), 114), (('south', 'point'), 113), (('called', 'front'), 107), (('even', 'though'), 104), (('come', 'back'), 103), (('next', 'day'), 100), (('came', 'back'), 96), (('room', 'ready'), 95), (('first', 'time'), 85), (('said', 'would'), 83), (('go', 'back'), 80), (('gave', 'u'), 80), (('room', 'nice'), 78), (('got', 'room'), 75)]\n"
     ]
    }
   ],
   "source": [
    "print('Top Rival negative reviews: ', fdiststrn.most_common(20))"
   ]
  }
 ],
 "metadata": {
  "kernelspec": {
   "display_name": "Python 3",
   "language": "python",
   "name": "python3"
  },
  "language_info": {
   "codemirror_mode": {
    "name": "ipython",
    "version": 3
   },
   "file_extension": ".py",
   "mimetype": "text/x-python",
   "name": "python",
   "nbconvert_exporter": "python",
   "pygments_lexer": "ipython3",
   "version": "3.6.5"
  }
 },
 "nbformat": 4,
 "nbformat_minor": 2
}

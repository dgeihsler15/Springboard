{
 "cells": [
  {
   "cell_type": "markdown",
   "metadata": {},
   "source": [
    "### Overview:\n",
    "\n",
    "In this notebook the insights gained from exploratory analysis are used to help answer the question around proper stocking requirements for Divvy stations. The goal was to create a model to predict the ratio of trips in / trips out of any given station by day of the week and month of the year. This would allow Divvy to compare this predicted ratio with the current stocking status of their stations."
   ]
  },
  {
   "cell_type": "code",
   "execution_count": 1,
   "metadata": {
    "collapsed": true
   },
   "outputs": [],
   "source": [
    "%matplotlib inline\n",
    "import matplotlib.pyplot as plt \n",
    "import pandas as pd\n",
    "import numpy as np\n",
    "import seaborn as sns\n",
    "import scipy as sp\n",
    "from scipy import stats\n",
    "import statsmodels.api as sm\n",
    "import datetime as dt"
   ]
  },
  {
   "cell_type": "code",
   "execution_count": 2,
   "metadata": {
    "collapsed": true
   },
   "outputs": [],
   "source": [
    "df = pd.read_csv('Divvy_data_2017T2.csv')"
   ]
  },
  {
   "cell_type": "code",
   "execution_count": 3,
   "metadata": {
    "collapsed": false
   },
   "outputs": [],
   "source": [
    "df.rename(columns={'start_station_trip_count': 'start_trips_whole_year'}, inplace=True)"
   ]
  },
  {
   "cell_type": "code",
   "execution_count": 4,
   "metadata": {
    "collapsed": false
   },
   "outputs": [],
   "source": [
    "df.start_time = pd.to_datetime(df.start_time, format='%Y-%m-%d  %H:%M:%S')\n",
    "df = df.set_index('start_time')\n",
    "df['month_of_year'] = df.index.month"
   ]
  },
  {
   "cell_type": "markdown",
   "metadata": {},
   "source": [
    "### First we need to define our target and predictor variables"
   ]
  },
  {
   "cell_type": "code",
   "execution_count": 5,
   "metadata": {
    "collapsed": false
   },
   "outputs": [],
   "source": [
    "#find the number of trips leaving each station by day of the week and month of the year\n",
    "stations_out = df.groupby(['start_station_id', 'day_of_week', 'month_of_year']).count()\n",
    "\n",
    "#Not all stations had trips arrive at them every single day of the year. These are not currently shown as empty values, data does\n",
    "#not appear for those days at all. Unstack the month and day of week, to view information for all days, and fill NaN's with 0's.\n",
    "out = stations_out.unstack(['month_of_year', 'day_of_week'])\n",
    "out = out.fillna(0)"
   ]
  },
  {
   "cell_type": "code",
   "execution_count": 6,
   "metadata": {
    "collapsed": false
   },
   "outputs": [
    {
     "data": {
      "text/html": [
       "<div>\n",
       "<table border=\"1\" class=\"dataframe\">\n",
       "  <thead>\n",
       "    <tr>\n",
       "      <th></th>\n",
       "      <th colspan=\"10\" halign=\"left\">trip_id</th>\n",
       "      <th>...</th>\n",
       "      <th colspan=\"10\" halign=\"left\">week_of_year</th>\n",
       "    </tr>\n",
       "    <tr>\n",
       "      <th>month_of_year</th>\n",
       "      <th>1</th>\n",
       "      <th>2</th>\n",
       "      <th>3</th>\n",
       "      <th>4</th>\n",
       "      <th>5</th>\n",
       "      <th>6</th>\n",
       "      <th>7</th>\n",
       "      <th>8</th>\n",
       "      <th>9</th>\n",
       "      <th>10</th>\n",
       "      <th>...</th>\n",
       "      <th>3</th>\n",
       "      <th>4</th>\n",
       "      <th>5</th>\n",
       "      <th>6</th>\n",
       "      <th>7</th>\n",
       "      <th>8</th>\n",
       "      <th>9</th>\n",
       "      <th>10</th>\n",
       "      <th>11</th>\n",
       "      <th>12</th>\n",
       "    </tr>\n",
       "    <tr>\n",
       "      <th>day_of_week</th>\n",
       "      <th>0</th>\n",
       "      <th>0</th>\n",
       "      <th>0</th>\n",
       "      <th>0</th>\n",
       "      <th>0</th>\n",
       "      <th>0</th>\n",
       "      <th>0</th>\n",
       "      <th>0</th>\n",
       "      <th>0</th>\n",
       "      <th>0</th>\n",
       "      <th>...</th>\n",
       "      <th>6</th>\n",
       "      <th>6</th>\n",
       "      <th>6</th>\n",
       "      <th>6</th>\n",
       "      <th>6</th>\n",
       "      <th>6</th>\n",
       "      <th>6</th>\n",
       "      <th>6</th>\n",
       "      <th>6</th>\n",
       "      <th>6</th>\n",
       "    </tr>\n",
       "    <tr>\n",
       "      <th>start_station_id</th>\n",
       "      <th></th>\n",
       "      <th></th>\n",
       "      <th></th>\n",
       "      <th></th>\n",
       "      <th></th>\n",
       "      <th></th>\n",
       "      <th></th>\n",
       "      <th></th>\n",
       "      <th></th>\n",
       "      <th></th>\n",
       "      <th></th>\n",
       "      <th></th>\n",
       "      <th></th>\n",
       "      <th></th>\n",
       "      <th></th>\n",
       "      <th></th>\n",
       "      <th></th>\n",
       "      <th></th>\n",
       "      <th></th>\n",
       "      <th></th>\n",
       "      <th></th>\n",
       "    </tr>\n",
       "  </thead>\n",
       "  <tbody>\n",
       "    <tr>\n",
       "      <th>2</th>\n",
       "      <td>12</td>\n",
       "      <td>75</td>\n",
       "      <td>51</td>\n",
       "      <td>128</td>\n",
       "      <td>273</td>\n",
       "      <td>322</td>\n",
       "      <td>536</td>\n",
       "      <td>270</td>\n",
       "      <td>330</td>\n",
       "      <td>145</td>\n",
       "      <td>...</td>\n",
       "      <td>57</td>\n",
       "      <td>293</td>\n",
       "      <td>286</td>\n",
       "      <td>463</td>\n",
       "      <td>749</td>\n",
       "      <td>357</td>\n",
       "      <td>623</td>\n",
       "      <td>162</td>\n",
       "      <td>20</td>\n",
       "      <td>11</td>\n",
       "    </tr>\n",
       "    <tr>\n",
       "      <th>3</th>\n",
       "      <td>38</td>\n",
       "      <td>171</td>\n",
       "      <td>107</td>\n",
       "      <td>228</td>\n",
       "      <td>556</td>\n",
       "      <td>477</td>\n",
       "      <td>912</td>\n",
       "      <td>682</td>\n",
       "      <td>614</td>\n",
       "      <td>394</td>\n",
       "      <td>...</td>\n",
       "      <td>186</td>\n",
       "      <td>585</td>\n",
       "      <td>760</td>\n",
       "      <td>876</td>\n",
       "      <td>1248</td>\n",
       "      <td>796</td>\n",
       "      <td>1020</td>\n",
       "      <td>631</td>\n",
       "      <td>188</td>\n",
       "      <td>113</td>\n",
       "    </tr>\n",
       "    <tr>\n",
       "      <th>4</th>\n",
       "      <td>15</td>\n",
       "      <td>101</td>\n",
       "      <td>28</td>\n",
       "      <td>182</td>\n",
       "      <td>469</td>\n",
       "      <td>399</td>\n",
       "      <td>744</td>\n",
       "      <td>377</td>\n",
       "      <td>431</td>\n",
       "      <td>251</td>\n",
       "      <td>...</td>\n",
       "      <td>74</td>\n",
       "      <td>505</td>\n",
       "      <td>595</td>\n",
       "      <td>867</td>\n",
       "      <td>1052</td>\n",
       "      <td>595</td>\n",
       "      <td>635</td>\n",
       "      <td>369</td>\n",
       "      <td>76</td>\n",
       "      <td>56</td>\n",
       "    </tr>\n",
       "    <tr>\n",
       "      <th>5</th>\n",
       "      <td>24</td>\n",
       "      <td>51</td>\n",
       "      <td>35</td>\n",
       "      <td>60</td>\n",
       "      <td>124</td>\n",
       "      <td>147</td>\n",
       "      <td>231</td>\n",
       "      <td>138</td>\n",
       "      <td>95</td>\n",
       "      <td>113</td>\n",
       "      <td>...</td>\n",
       "      <td>16</td>\n",
       "      <td>63</td>\n",
       "      <td>89</td>\n",
       "      <td>156</td>\n",
       "      <td>197</td>\n",
       "      <td>99</td>\n",
       "      <td>94</td>\n",
       "      <td>89</td>\n",
       "      <td>17</td>\n",
       "      <td>12</td>\n",
       "    </tr>\n",
       "    <tr>\n",
       "      <th>6</th>\n",
       "      <td>21</td>\n",
       "      <td>99</td>\n",
       "      <td>41</td>\n",
       "      <td>54</td>\n",
       "      <td>443</td>\n",
       "      <td>398</td>\n",
       "      <td>655</td>\n",
       "      <td>420</td>\n",
       "      <td>417</td>\n",
       "      <td>316</td>\n",
       "      <td>...</td>\n",
       "      <td>119</td>\n",
       "      <td>404</td>\n",
       "      <td>557</td>\n",
       "      <td>834</td>\n",
       "      <td>1038</td>\n",
       "      <td>759</td>\n",
       "      <td>745</td>\n",
       "      <td>442</td>\n",
       "      <td>66</td>\n",
       "      <td>69</td>\n",
       "    </tr>\n",
       "  </tbody>\n",
       "</table>\n",
       "<p>5 rows × 2184 columns</p>\n",
       "</div>"
      ],
      "text/plain": [
       "                 trip_id                                              ...   \\\n",
       "month_of_year         1    2    3    4    5    6    7    8    9    10 ...    \n",
       "day_of_week            0    0    0    0    0    0    0    0    0    0 ...    \n",
       "start_station_id                                                      ...    \n",
       "2                     12   75   51  128  273  322  536  270  330  145 ...    \n",
       "3                     38  171  107  228  556  477  912  682  614  394 ...    \n",
       "4                     15  101   28  182  469  399  744  377  431  251 ...    \n",
       "5                     24   51   35   60  124  147  231  138   95  113 ...    \n",
       "6                     21   99   41   54  443  398  655  420  417  316 ...    \n",
       "\n",
       "                 week_of_year                                                 \n",
       "month_of_year              3    4    5    6     7    8     9    10   11   12  \n",
       "day_of_week                 6    6    6    6     6    6     6    6    6    6  \n",
       "start_station_id                                                              \n",
       "2                          57  293  286  463   749  357   623  162   20   11  \n",
       "3                         186  585  760  876  1248  796  1020  631  188  113  \n",
       "4                          74  505  595  867  1052  595   635  369   76   56  \n",
       "5                          16   63   89  156   197   99    94   89   17   12  \n",
       "6                         119  404  557  834  1038  759   745  442   66   69  \n",
       "\n",
       "[5 rows x 2184 columns]"
      ]
     },
     "execution_count": 6,
     "metadata": {},
     "output_type": "execute_result"
    }
   ],
   "source": [
    "out.head()"
   ]
  },
  {
   "cell_type": "code",
   "execution_count": 7,
   "metadata": {
    "collapsed": true
   },
   "outputs": [],
   "source": [
    "#restack the day and month so we can see the number of trips broken down by these variables with the 0s filled in \n",
    "a = out.stack(['day_of_week', 'month_of_year'])"
   ]
  },
  {
   "cell_type": "code",
   "execution_count": 8,
   "metadata": {
    "collapsed": true
   },
   "outputs": [],
   "source": [
    "#find the number of trips arriving at each station by day of the week and month of the year\n",
    "stations_in = df.groupby(['end_station_id', 'day_of_week', 'month_of_year']).count()\n",
    "\n",
    "#Not all stations had trips leave from them every single day of the year. These are not currently shown as empty values, data does\n",
    "#not appear for those days at all. Unstack the month and day of week, to view information for all days, and fill NaN's with 0's.\n",
    "ins = stations_in.unstack(['month_of_year', 'day_of_week'])\n",
    "ins = ins.fillna(0)"
   ]
  },
  {
   "cell_type": "code",
   "execution_count": 9,
   "metadata": {
    "collapsed": false
   },
   "outputs": [],
   "source": [
    "#restack the day and month so we can see the number of trips broken down by these variables with the 0s filled in \n",
    "b = ins.stack(['day_of_week', 'month_of_year'])"
   ]
  },
  {
   "cell_type": "code",
   "execution_count": 10,
   "metadata": {
    "collapsed": true
   },
   "outputs": [],
   "source": [
    "#create a function to find the trips coming in to trips going out ratio for each station\n",
    "def io_ratio():\n",
    "    station_ios = []\n",
    "    \n",
    "    #49140 is how many observations there our in our data broken down by station, day of week, and month of the year\n",
    "    for row in range(0, 49140):\n",
    "        if int(a.trip_id.iloc[row]) == 0 & int(b.trip_id.iloc[row]) == 0:\n",
    "            station_ios.append(1)\n",
    "        elif b.trip_id.iloc[row] == 0:\n",
    "            station_ios.append(1/a.trip_id.iloc[row])\n",
    "        elif a.trip_id.iloc[row] == 0:\n",
    "            station_ios.append(b.trip_id.iloc[row])\n",
    "        else:\n",
    "            io = float(b.trip_id.iloc[row]) / a.trip_id.iloc[row]\n",
    "            station_ios.append(io)\n",
    "    \n",
    "    return station_ios\n"
   ]
  },
  {
   "cell_type": "code",
   "execution_count": 11,
   "metadata": {
    "collapsed": false
   },
   "outputs": [],
   "source": [
    "ratio = io_ratio()"
   ]
  },
  {
   "cell_type": "code",
   "execution_count": 12,
   "metadata": {
    "collapsed": true
   },
   "outputs": [],
   "source": [
    "#create a function to find the number of trips coming in and coming out of each station by day of the week and month.\n",
    "def rides():\n",
    "    rides_in = []\n",
    "    rides_out =[]\n",
    "    \n",
    "    \n",
    "    #49140 is how many observations there our in our data broken down by station, day of week, and month of the year\n",
    "    for row in range(0, 49140):\n",
    "            rides_in.append(b.trip_id.iloc[row])\n",
    "            rides_out.append(a.trip_id.iloc[row])\n",
    "    \n",
    "    return rides_in, rides_out"
   ]
  },
  {
   "cell_type": "code",
   "execution_count": 13,
   "metadata": {
    "collapsed": false
   },
   "outputs": [],
   "source": [
    "i, o = rides()"
   ]
  },
  {
   "cell_type": "code",
   "execution_count": 14,
   "metadata": {
    "collapsed": true
   },
   "outputs": [],
   "source": [
    "avg_duration = df.groupby(['start_station_id', 'day_of_week', 'month_of_year']).mean()\n"
   ]
  },
  {
   "cell_type": "code",
   "execution_count": 15,
   "metadata": {
    "collapsed": true
   },
   "outputs": [],
   "source": [
    "dur = avg_duration.unstack(['month_of_year', 'day_of_week'])\n",
    "dur = dur.fillna(0)\n",
    "ad = dur.stack(['day_of_week', 'month_of_year'])"
   ]
  },
  {
   "cell_type": "code",
   "execution_count": 16,
   "metadata": {
    "collapsed": true
   },
   "outputs": [],
   "source": [
    "#create a function to find the number average duration starting from each station by day of the week and month.\n",
    "def average_duration():\n",
    "    avgdur = []\n",
    "    \n",
    "    \n",
    "    #49140 is how many observations there our in our data broken down by station, day of week, and month of the year\n",
    "    for row in range(0, 49140):\n",
    "            avgdur.append(ad.trip_duration.iloc[row])\n",
    "    \n",
    "    return avgdur\n",
    "\n",
    "avgdur = average_duration()"
   ]
  },
  {
   "cell_type": "code",
   "execution_count": 17,
   "metadata": {
    "collapsed": false
   },
   "outputs": [],
   "source": [
    "c = a.reset_index()\n",
    "c['ratio'] = ratio\n",
    "c['rides_in'] = i\n",
    "c['rides_out'] = o\n",
    "c['average_duration'] = avgdur\n"
   ]
  },
  {
   "cell_type": "code",
   "execution_count": 18,
   "metadata": {
    "collapsed": true
   },
   "outputs": [],
   "source": [
    "#add some additional features\n",
    "add_features = df.groupby(['start_station_id', 'start_capacity', 'group', 'start_latitude', 'start_longitude' ]).count()\n",
    "add_features = add_features.reset_index()\n",
    "add_features = add_features[['start_station_id', 'start_capacity', 'group', 'start_latitude', 'start_longitude']]"
   ]
  },
  {
   "cell_type": "code",
   "execution_count": 19,
   "metadata": {
    "collapsed": true
   },
   "outputs": [],
   "source": [
    "af = c.merge(add_features, on='start_station_id')\n",
    "c['capacity'] = af.start_capacity_y\n",
    "c['group'] = af.group_y\n",
    "c['latitude'] = af.start_latitude_y\n",
    "c['longitude'] = af.start_longitude_y"
   ]
  },
  {
   "cell_type": "code",
   "execution_count": 20,
   "metadata": {
    "collapsed": false
   },
   "outputs": [],
   "source": [
    "c['start_station_id'] = c['start_station_id'].astype(float)\n",
    "c['day_of_week'] = c['day_of_week'].astype(float)\n",
    "c['month_of_year'] = c['month_of_year'].astype(float)\n",
    "c['rides_in'] = c['rides_in'].astype(float)\n",
    "c['rides_out'] = c['rides_out'].astype(float)\n",
    "c['capacity'] = c['capacity'].astype(float)\n",
    "c['group'] = c['group'].astype(float)"
   ]
  },
  {
   "cell_type": "code",
   "execution_count": 21,
   "metadata": {
    "collapsed": false
   },
   "outputs": [],
   "source": [
    "data = c[['start_station_id','day_of_week','month_of_year', 'capacity', 'group','latitude', 'longitude', 'average_duration', \\\n",
    "              'rides_in', 'rides_out', 'ratio',]]"
   ]
  },
  {
   "cell_type": "code",
   "execution_count": 22,
   "metadata": {
    "collapsed": false
   },
   "outputs": [
    {
     "name": "stdout",
     "output_type": "stream",
     "text": [
      "<class 'pandas.core.frame.DataFrame'>\n",
      "Int64Index: 49140 entries, 0 to 49139\n",
      "Data columns (total 11 columns):\n",
      "start_station_id    49140 non-null float64\n",
      "day_of_week         49140 non-null float64\n",
      "month_of_year       49140 non-null float64\n",
      "capacity            49140 non-null float64\n",
      "group               49140 non-null float64\n",
      "latitude            49140 non-null float64\n",
      "longitude           49140 non-null float64\n",
      "average_duration    49140 non-null float64\n",
      "rides_in            49140 non-null float64\n",
      "rides_out           49140 non-null float64\n",
      "ratio               49140 non-null float64\n",
      "dtypes: float64(11)\n",
      "memory usage: 4.5 MB\n"
     ]
    }
   ],
   "source": [
    "data.info()"
   ]
  },
  {
   "cell_type": "code",
   "execution_count": 23,
   "metadata": {
    "collapsed": true
   },
   "outputs": [],
   "source": [
    "#target variable\n",
    "y = data['ratio'].values"
   ]
  },
  {
   "cell_type": "code",
   "execution_count": 24,
   "metadata": {
    "collapsed": false
   },
   "outputs": [],
   "source": [
    "#predictor variables\n",
    "X = data[['start_station_id', 'day_of_week', 'month_of_year', 'average_duration', 'capacity', 'group', \\\n",
    "         'latitude', 'longitude']]"
   ]
  },
  {
   "cell_type": "markdown",
   "metadata": {},
   "source": [
    "### Feature Selection"
   ]
  },
  {
   "cell_type": "code",
   "execution_count": 25,
   "metadata": {
    "collapsed": false
   },
   "outputs": [
    {
     "data": {
      "text/plain": [
       "array([ 7.3062231e-05, -0.0000000e+00,  0.0000000e+00,  0.0000000e+00,\n",
       "       -0.0000000e+00,  0.0000000e+00,  0.0000000e+00, -0.0000000e+00])"
      ]
     },
     "execution_count": 25,
     "metadata": {},
     "output_type": "execute_result"
    }
   ],
   "source": [
    "from sklearn.model_selection import train_test_split\n",
    "from sklearn.linear_model import Lasso\n",
    "\n",
    "lasso = Lasso()\n",
    "\n",
    "X_train, X_test, y_train, y_test = train_test_split(X, y, test_size=.2, random_state=15)\n",
    "\n",
    "lasso_coef = lasso.fit(X_train,y_train).coef_\n",
    "\n",
    "lasso_coef"
   ]
  },
  {
   "cell_type": "code",
   "execution_count": 26,
   "metadata": {
    "collapsed": true
   },
   "outputs": [],
   "source": [
    "#station_id was the only coefficent that was not taken down to 0 by lasso. We'll use this along with \n",
    "#day of the week and month of the year to build our model.\n",
    "\n",
    "X =data[['start_station_id', 'day_of_week', 'month_of_year']]"
   ]
  },
  {
   "cell_type": "code",
   "execution_count": 27,
   "metadata": {
    "collapsed": false
   },
   "outputs": [
    {
     "name": "stderr",
     "output_type": "stream",
     "text": [
      "C:\\Users\\Danny\\Miniconda2\\envs\\tutorial\\lib\\site-packages\\pandas\\core\\generic.py:2387: SettingWithCopyWarning: \n",
      "A value is trying to be set on a copy of a slice from a DataFrame.\n",
      "Try using .loc[row_indexer,col_indexer] = value instead\n",
      "\n",
      "See the caveats in the documentation: http://pandas.pydata.org/pandas-docs/stable/indexing.html#indexing-view-versus-copy\n",
      "  self[name] = value\n"
     ]
    }
   ],
   "source": [
    "#prep categorical variables to utilize the get_dummies function\n",
    "X.start_station_id = X.start_station_id.astype('category')\n",
    "X.month_of_year = X.month_of_year.astype('category')\n",
    "X.day_of_week = X.day_of_week.astype('category')"
   ]
  },
  {
   "cell_type": "code",
   "execution_count": 28,
   "metadata": {
    "collapsed": false
   },
   "outputs": [],
   "source": [
    "X = pd.get_dummies(X)"
   ]
  },
  {
   "cell_type": "markdown",
   "metadata": {},
   "source": [
    "### Now that we have our predictor and target variables, we can split the data into training and tests sets, and train a model. "
   ]
  },
  {
   "cell_type": "code",
   "execution_count": 29,
   "metadata": {
    "collapsed": false
   },
   "outputs": [],
   "source": [
    "\n",
    "from sklearn.model_selection import GridSearchCV\n",
    "from sklearn.linear_model import LinearRegression\n",
    "from sklearn.neighbors import KNeighborsClassifier\n",
    "from sklearn.linear_model import Ridge\n",
    "from sklearn.preprocessing import StandardScaler\n",
    "from sklearn.pipeline import Pipeline\n",
    "from sklearn.metrics import classification_report"
   ]
  },
  {
   "cell_type": "code",
   "execution_count": 30,
   "metadata": {
    "collapsed": false
   },
   "outputs": [
    {
     "name": "stdout",
     "output_type": "stream",
     "text": [
      "0.060308809223191935\n"
     ]
    }
   ],
   "source": [
    "steps=[('scaler', StandardScaler()), ('reg', LinearRegression())]\n",
    "\n",
    "pipeline = Pipeline(steps)\n",
    "\n",
    "X_train, X_test, y_train, y_test = train_test_split(X, y, test_size=.2, random_state=15)\n",
    "reg_scaled = pipeline.fit(X_train, y_train)\n",
    "\n",
    "y_pred= pipeline.predict(X_test)\n",
    "\n",
    "print pipeline.score(X_test, y_test)"
   ]
  },
  {
   "cell_type": "code",
   "execution_count": 31,
   "metadata": {
    "collapsed": false
   },
   "outputs": [
    {
     "name": "stdout",
     "output_type": "stream",
     "text": [
      "{'ridge__alpha': 0.1}\n"
     ]
    }
   ],
   "source": [
    "steps=[('scaler', StandardScaler()), ('ridge', Ridge(alpha=.5, normalize=True))]\n",
    "\n",
    "pipeline = Pipeline(steps)\n",
    "\n",
    "parameters = {'ridge__alpha': [.1,.5,1,5,10]}\n",
    "\n",
    "X_train, X_test, y_train, y_test = train_test_split(X, y, test_size=.2, random_state=15)\n",
    "\n",
    "cv = GridSearchCV(pipeline, param_grid=parameters, cv=5)\n",
    "\n",
    "cv.fit(X_train, y_train)\n",
    "\n",
    "print cv.best_params_"
   ]
  },
  {
   "cell_type": "code",
   "execution_count": 32,
   "metadata": {
    "collapsed": false
   },
   "outputs": [
    {
     "name": "stdout",
     "output_type": "stream",
     "text": [
      "0.06402091004585908\n"
     ]
    }
   ],
   "source": [
    "steps=[('scaler', StandardScaler()), ('ridge', Ridge(alpha=.1, normalize=True))]\n",
    "\n",
    "pipeline = Pipeline(steps)\n",
    "\n",
    "X_train, X_test, y_train, y_test = train_test_split(X, y, test_size=.2, random_state=15)\n",
    "reg_scaled = pipeline.fit(X_train, y_train)\n",
    "\n",
    "y_pred= pipeline.predict(X_test)\n",
    "\n",
    "print pipeline.score(X_test, y_test)"
   ]
  },
  {
   "cell_type": "markdown",
   "metadata": {
    "collapsed": true
   },
   "source": [
    "### What if we separated out the target variable into classes that can be used for different stocking recommendations, and used our data for classification?\n",
    "\n",
    "These stocking classes will be based on the trips in to trips out ratio, and will be separated in a way that a different recommendation can be made about stocking requirements for each class."
   ]
  },
  {
   "cell_type": "code",
   "execution_count": 33,
   "metadata": {
    "collapsed": false
   },
   "outputs": [
    {
     "data": {
      "image/png": "[encoded data removed]",
      "text/plain": [
       "<matplotlib.figure.Figure at 0x3cdf7550>"
      ]
     },
     "metadata": {},
     "output_type": "display_data"
    }
   ],
   "source": [
    "#view the distribution for the ratios - most seem to fall between 0 and 2\n",
    "plt.hist(data.ratio)\n",
    "plt.xlabel('Trips in vs trips out ratio')\n",
    "plt.ylabel('Frequency')\n",
    "plt.title('Distribution of Ratios')\n",
    "plt.show()"
   ]
  },
  {
   "cell_type": "code",
   "execution_count": 34,
   "metadata": {
    "collapsed": false
   },
   "outputs": [],
   "source": [
    "#separate the stock classes - different ratios would require different degrees of stocking needs\n",
    "\n",
    "stockclass= []\n",
    "\n",
    "def separate_stockclass():\n",
    "    for i in range(len(c.ratio)):\n",
    "        if c.ratio[i] < .75:\n",
    "            stockclass.append('0 to .75')\n",
    "        #elif c.ratio[i] < .8:\n",
    "        #    stockclass.append('.6 to .9')\n",
    "        elif c.ratio[i] < 1.4:\n",
    "            stockclass.append('.75 to 1.4')\n",
    "        elif c.ratio[i] < 2.5:\n",
    "            stockclass.append('1.2 to 2')\n",
    "        elif c.ratio[i] >= 2.5:\n",
    "            stockclass.append('2.5+')\n",
    "        else:\n",
    "            return 'Error'"
   ]
  },
  {
   "cell_type": "code",
   "execution_count": 35,
   "metadata": {
    "collapsed": false
   },
   "outputs": [],
   "source": [
    "separate_stockclass()"
   ]
  },
  {
   "cell_type": "code",
   "execution_count": 36,
   "metadata": {
    "collapsed": false
   },
   "outputs": [
    {
     "name": "stderr",
     "output_type": "stream",
     "text": [
      "C:\\Users\\Danny\\Miniconda2\\envs\\tutorial\\lib\\site-packages\\ipykernel\\__main__.py:2: SettingWithCopyWarning: \n",
      "A value is trying to be set on a copy of a slice from a DataFrame.\n",
      "Try using .loc[row_indexer,col_indexer] = value instead\n",
      "\n",
      "See the caveats in the documentation: http://pandas.pydata.org/pandas-docs/stable/indexing.html#indexing-view-versus-copy\n",
      "  from ipykernel import kernelapp as app\n"
     ]
    }
   ],
   "source": [
    "#new predictor and target variables for classification\n",
    "data['class'] = stockclass\n",
    "y1 = data['class']\n",
    "X1 = data[['start_station_id', 'day_of_week', 'month_of_year']]"
   ]
  },
  {
   "cell_type": "markdown",
   "metadata": {},
   "source": [
    "## KNN"
   ]
  },
  {
   "cell_type": "code",
   "execution_count": 37,
   "metadata": {
    "collapsed": false
   },
   "outputs": [
    {
     "name": "stdout",
     "output_type": "stream",
     "text": [
      "{'knn__n_neighbors': 23}\n"
     ]
    }
   ],
   "source": [
    "steps=[('knn', KNeighborsClassifier())]\n",
    "\n",
    "pipeline = Pipeline(steps)\n",
    "\n",
    "parameters = {'knn__n_neighbors':np.arange(9,25)}\n",
    "\n",
    "X_train, X_test, y_train, y_test = train_test_split(X1, y1, test_size=.2, random_state=15)\n",
    "\n",
    "cv = GridSearchCV(pipeline, param_grid=parameters, cv=5)\n",
    "\n",
    "cv.fit(X_train, y_train)\n",
    "\n",
    "print cv.best_params_"
   ]
  },
  {
   "cell_type": "code",
   "execution_count": 38,
   "metadata": {
    "collapsed": false
   },
   "outputs": [
    {
     "name": "stdout",
     "output_type": "stream",
     "text": [
      "Training score:  0.8259055759055759\n",
      "Test score:  0.8215303215303216\n",
      "             precision    recall  f1-score   support\n",
      "\n",
      " .75 to 1.4       0.82      1.00      0.90      8074\n",
      "   0 to .75       0.30      0.01      0.03       973\n",
      "   1.2 to 2       0.67      0.02      0.03       660\n",
      "       2.5+       0.00      0.00      0.00       121\n",
      "\n",
      "avg / total       0.75      0.82      0.75      9828\n",
      "\n"
     ]
    },
    {
     "name": "stderr",
     "output_type": "stream",
     "text": [
      "C:\\Users\\Danny\\Miniconda2\\envs\\tutorial\\lib\\site-packages\\sklearn\\metrics\\classification.py:1135: UndefinedMetricWarning: Precision and F-score are ill-defined and being set to 0.0 in labels with no predicted samples.\n",
      "  'precision', 'predicted', average, warn_for)\n"
     ]
    }
   ],
   "source": [
    "clf = KNeighborsClassifier(n_neighbors= 24)\n",
    "X_train, X_test, y_train, y_test = train_test_split(X1, y1, test_size=.2, random_state=15)\n",
    "clf.fit(X_train, y_train)\n",
    "y_pred = clf.predict(X_test)\n",
    "\n",
    "print \"Training score: \", clf.score(X_train, y_train)\n",
    "print \"Test score: \", clf.score(X_test, y_test)\n",
    "\n",
    "print classification_report(y_test, y_pred)"
   ]
  },
  {
   "cell_type": "markdown",
   "metadata": {},
   "source": [
    "## Random Forest"
   ]
  },
  {
   "cell_type": "code",
   "execution_count": 39,
   "metadata": {
    "collapsed": false
   },
   "outputs": [
    {
     "name": "stdout",
     "output_type": "stream",
     "text": [
      "{'rf__n_estimators': 6}\n",
      "0.7559523809523809\n"
     ]
    },
    {
     "name": "stderr",
     "output_type": "stream",
     "text": [
      "C:\\Users\\Danny\\Miniconda2\\envs\\tutorial\\lib\\site-packages\\sklearn\\ensemble\\weight_boosting.py:29: DeprecationWarning: numpy.core.umath_tests is an internal NumPy module and should not be imported. It will be removed in a future NumPy release.\n",
      "  from numpy.core.umath_tests import inner1d\n"
     ]
    }
   ],
   "source": [
    "from sklearn.ensemble import RandomForestClassifier\n",
    "\n",
    "steps=[('rf', RandomForestClassifier())]\n",
    "\n",
    "pipeline = Pipeline(steps)\n",
    "\n",
    "parameters = {'rf__n_estimators':np.arange(5,20)}\n",
    "\n",
    "X_train, X_test, y_train, y_test = train_test_split(X1, y1, test_size=.2, random_state=15)\n",
    "\n",
    "cv = GridSearchCV(pipeline, param_grid=parameters, cv=5)\n",
    "\n",
    "cv.fit(X_train, y_train)\n",
    "\n",
    "print cv.best_params_\n",
    "print cv.best_score_"
   ]
  },
  {
   "cell_type": "code",
   "execution_count": 40,
   "metadata": {
    "collapsed": false
   },
   "outputs": [
    {
     "name": "stdout",
     "output_type": "stream",
     "text": [
      "Training score:  0.9870522995522996\n",
      "Test score:  0.7380952380952381\n",
      "             precision    recall  f1-score   support\n",
      "\n",
      " .75 to 1.4       0.85      0.87      0.86      8136\n",
      "   0 to .75       0.14      0.13      0.13       934\n",
      "   1.2 to 2       0.11      0.09      0.10       651\n",
      "       2.5+       0.01      0.01      0.01       107\n",
      "\n",
      "avg / total       0.72      0.74      0.73      9828\n",
      "\n"
     ]
    }
   ],
   "source": [
    "clf = RandomForestClassifier(n_estimators=19)\n",
    "X_train, X_test, y_train, y_test = train_test_split(X1, y1, test_size=.2, random_state=18)\n",
    "clf.fit(X_train, y_train)\n",
    "\n",
    "\n",
    "print \"Training score: \", clf.score(X_train, y_train)\n",
    "print \"Test score: \", clf.score(X_test, y_test)\n",
    "\n",
    "y_pred = clf.predict(X_test)\n",
    "print classification_report(y_test, y_pred)"
   ]
  },
  {
   "cell_type": "markdown",
   "metadata": {},
   "source": [
    "## Multinomial NB"
   ]
  },
  {
   "cell_type": "code",
   "execution_count": 41,
   "metadata": {
    "collapsed": false
   },
   "outputs": [
    {
     "name": "stdout",
     "output_type": "stream",
     "text": [
      "{'MNB__alpha': 3}\n",
      "0.8262362637362637\n"
     ]
    }
   ],
   "source": [
    "from sklearn.naive_bayes import MultinomialNB\n",
    "\n",
    "steps=[('MNB', MultinomialNB())]\n",
    "\n",
    "pipeline = Pipeline(steps)\n",
    "\n",
    "parameters = {'MNB__alpha':np.arange(1,10)}\n",
    "\n",
    "#using X on this model because X has the dummy columns added in\n",
    "X_train, X_test, y_train, y_test = train_test_split(X, y1, test_size=.2, random_state=15)\n",
    "\n",
    "cv = GridSearchCV(pipeline, param_grid=parameters, cv=5)\n",
    "\n",
    "cv.fit(X_train, y_train)\n",
    "\n",
    "print cv.best_params_\n",
    "print cv.best_score_"
   ]
  },
  {
   "cell_type": "code",
   "execution_count": 42,
   "metadata": {
    "collapsed": false
   },
   "outputs": [
    {
     "name": "stdout",
     "output_type": "stream",
     "text": [
      "Training score:  0.8266178266178266\n",
      "Test score:  0.8269230769230769\n",
      "             precision    recall  f1-score   support\n",
      "\n",
      " .75 to 1.4       0.83      1.00      0.91      8086\n",
      "   0 to .75       0.60      0.07      0.13       965\n",
      "   1.2 to 2       0.65      0.02      0.04       661\n",
      "       2.5+       0.00      0.00      0.00       116\n",
      "\n",
      "avg / total       0.79      0.83      0.76      9828\n",
      "\n"
     ]
    }
   ],
   "source": [
    "X_train, X_test, y_train, y_test = train_test_split(X,y1, test_size=.2, random_state=15, stratify=y1)\n",
    "\n",
    "clf = MultinomialNB(alpha=1)\n",
    "\n",
    "clf.fit(X_train, y_train)\n",
    "y_pred = clf.predict(X_test)\n",
    "\n",
    "print \"Training score: \", clf.score(X_train, y_train)\n",
    "print \"Test score: \", clf.score(X_test, y_test)\n",
    "\n",
    "y_pred = clf.predict(X_test)\n",
    "print classification_report(y_test, y_pred)"
   ]
  }
 ],
 "metadata": {
  "kernelspec": {
   "display_name": "Python 2",
   "language": "python",
   "name": "python2"
  },
  "language_info": {
   "codemirror_mode": {
    "name": "ipython",
    "version": 2
   },
   "file_extension": ".py",
   "mimetype": "text/x-python",
   "name": "python",
   "nbconvert_exporter": "python",
   "pygments_lexer": "ipython2",
   "version": "2.7.11"
  }
 },
 "nbformat": 4,
 "nbformat_minor": 0
}

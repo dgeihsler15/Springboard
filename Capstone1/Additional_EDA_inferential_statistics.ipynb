{
 "cells": [
  {
   "cell_type": "markdown",
   "metadata": {},
   "source": [
    "### Overview:\n",
    "In this notebook further exploratory data analysis was performed on the 2017 Divvy trip data incorporating inferential statistical methods"
   ]
  },
  {
   "cell_type": "code",
   "execution_count": 1,
   "metadata": {
    "collapsed": true
   },
   "outputs": [],
   "source": [
    "%matplotlib inline\n",
    "import matplotlib.pyplot as plt \n",
    "import pandas as pd\n",
    "import numpy as np\n",
    "import seaborn as sns\n",
    "import scipy as sp\n",
    "from scipy import stats\n",
    "import statsmodels.api as sm\n",
    "import datetime as dt"
   ]
  },
  {
   "cell_type": "code",
   "execution_count": 2,
   "metadata": {
    "collapsed": false
   },
   "outputs": [],
   "source": [
    "df = pd.read_csv('Divvy_data_2017T.csv')"
   ]
  },
  {
   "cell_type": "markdown",
   "metadata": {},
   "source": [
    "### The first section will explore correlations to help group Divvy stations by similiarities\n",
    "This will allow us to make stocking predictions per station group according to the season/day later on"
   ]
  },
  {
   "cell_type": "code",
   "execution_count": 3,
   "metadata": {
    "collapsed": true
   },
   "outputs": [],
   "source": [
    "def pearson_r(x, y):\n",
    "    \"\"\"Compute Pearson correlation coefficient between two arrays.\"\"\"\n",
    "    # Compute correlation matrix: corr_mat\n",
    "    corr_mat = np.corrcoef(x, y)\n",
    "\n",
    "    # Return entry [0,1]\n",
    "    return corr_mat[0,1]"
   ]
  },
  {
   "cell_type": "markdown",
   "metadata": {},
   "source": [
    "### Look for correlations between Station Capacity and Number of Trips"
   ]
  },
  {
   "cell_type": "code",
   "execution_count": 4,
   "metadata": {
    "collapsed": false
   },
   "outputs": [],
   "source": [
    "starts = df.groupby('start_capacity').count()\n",
    "ends = df.groupby('end_capacity').count()\n"
   ]
  },
  {
   "cell_type": "code",
   "execution_count": 5,
   "metadata": {
    "collapsed": false
   },
   "outputs": [
    {
     "name": "stdout",
     "output_type": "stream",
     "text": [
      "slope:  -1.10051114038e-05\n",
      "pearson_r:  -0.246792456357\n"
     ]
    },
    {
     "data": {
      "image/png": "[encoded data removed]",
      "text/plain": [
       "<matplotlib.figure.Figure at 0x4316940>"
      ]
     },
     "metadata": {},
     "output_type": "display_data"
    }
   ],
   "source": [
    "_ = plt.plot(starts.trip_id, starts.index, marker='.', linestyle='none')\n",
    "_ = plt.xlabel('Number of Rides')\n",
    "_ = plt.ylabel('Start Capacity')\n",
    "_ = plt.title('Number of Rides vs Start Capacity')\n",
    "\n",
    "# Perform a linear regression using np.polyfit(): slope, intercept\n",
    "slope, intercept = np.polyfit(starts.trip_id, starts.index,1)\n",
    "\n",
    "corr = pearson_r(starts.trip_id, starts.index)\n",
    "print 'slope: ', slope\n",
    "print 'pearson_r: ', corr\n",
    "\n",
    "# Plot regression line\n",
    "x = np.array([0,1000000])\n",
    "y = slope * x + intercept\n",
    "\n",
    "lat = plt.plot(x, y, color='red')\n",
    "\n",
    "plt.show()"
   ]
  },
  {
   "cell_type": "code",
   "execution_count": 6,
   "metadata": {
    "collapsed": false
   },
   "outputs": [
    {
     "name": "stdout",
     "output_type": "stream",
     "text": [
      "slope:  -1.1083403317e-05\n",
      "pearson_r:  -0.251666462577\n"
     ]
    },
    {
     "data": {
      "image/png": "[encoded data removed]",
      "text/plain": [
       "<matplotlib.figure.Figure at 0x1ace51d0>"
      ]
     },
     "metadata": {},
     "output_type": "display_data"
    }
   ],
   "source": [
    "_ = plt.plot(ends.trip_id, ends.index, marker='.', linestyle='none')\n",
    "_ = plt.xlabel('Number of Rides')\n",
    "_ = plt.ylabel('End Capacity')\n",
    "_ = plt.title('Number of Rides vs End Capacity')\n",
    "\n",
    "# Perform a linear regression using np.polyfit(): slope, intercept\n",
    "slope, intercept = np.polyfit(ends.trip_id, ends.index,1)\n",
    "\n",
    "corr = pearson_r(ends.trip_id, ends.index)\n",
    "print 'slope: ', slope\n",
    "print 'pearson_r: ', corr\n",
    "\n",
    "# Plot regression line\n",
    "x = np.array([0,1000000])\n",
    "y = slope * x + intercept\n",
    "\n",
    "_ = plt.plot(x, y, color='red')\n",
    "\n",
    "plt.show()"
   ]
  },
  {
   "cell_type": "markdown",
   "metadata": {},
   "source": [
    "### Look for correlations between Latitude / Longitude and Number of Trips"
   ]
  },
  {
   "cell_type": "code",
   "execution_count": 7,
   "metadata": {
    "collapsed": true
   },
   "outputs": [],
   "source": [
    "lats = df.groupby('start_latitude').count()\n",
    "lons = df.groupby('start_longitude').count()"
   ]
  },
  {
   "cell_type": "code",
   "execution_count": 8,
   "metadata": {
    "collapsed": false
   },
   "outputs": [
    {
     "name": "stdout",
     "output_type": "stream",
     "text": [
      "slope:  9.11620743949e-07\n",
      "pearson_r:  0.123793962342\n"
     ]
    },
    {
     "data": {
      "image/png": "[encoded data removed]",
      "text/plain": [
       "<matplotlib.figure.Figure at 0x1ace5710>"
      ]
     },
     "metadata": {},
     "output_type": "display_data"
    }
   ],
   "source": [
    "_ = plt.plot(lats.trip_id, lats.index, marker='.', linestyle='none')\n",
    "_ = plt.xlabel('Number of Rides')\n",
    "_ = plt.ylabel('Latitude')\n",
    "_ = plt.title('Number of Rides vs Latittude')\n",
    "\n",
    "# Perform a linear regression using np.polyfit(): slope, intercept\n",
    "slope, intercept = np.polyfit(lats.trip_id, lats.index,1)\n",
    "\n",
    "corr = pearson_r(lats.trip_id, lats.index)\n",
    "print 'slope: ', slope\n",
    "print 'pearson_r: ', corr\n",
    "\n",
    "# Plot regression line\n",
    "x = np.array([0,100000])\n",
    "y = slope * x + intercept\n",
    "\n",
    "_ = plt.plot(x, y, color='red')\n",
    "\n",
    "plt.show()"
   ]
  },
  {
   "cell_type": "code",
   "execution_count": 9,
   "metadata": {
    "collapsed": false
   },
   "outputs": [
    {
     "name": "stdout",
     "output_type": "stream",
     "text": [
      "slope:  1.30159700324e-06\n",
      "pearson_r:  0.274355503297\n"
     ]
    },
    {
     "data": {
      "image/png": "[encoded data removed]",
      "text/plain": [
       "<matplotlib.figure.Figure at 0x13ea6be0>"
      ]
     },
     "metadata": {},
     "output_type": "display_data"
    }
   ],
   "source": [
    "_ = plt.plot(lons.trip_id, lons.index, marker='.', linestyle='none')\n",
    "_ = plt.xlabel('Number of Rides')\n",
    "_ = plt.ylabel('Longitude')\n",
    "_ = plt.title('Number of Rides vs Longitude')\n",
    "\n",
    "\n",
    "\n",
    "# Perform a linear regression using np.polyfit(): slope, intercept\n",
    "slope, intercept = np.polyfit(lons.trip_id, lons.index,1)\n",
    "\n",
    "corr = pearson_r(lons.trip_id, lons.index)\n",
    "print 'slope: ', slope\n",
    "print 'pearson_r: ', corr\n",
    "\n",
    "# Plot regression line\n",
    "x = np.array([0,100000])\n",
    "y = slope * x + intercept\n",
    "\n",
    "_ = plt.plot(x, y, color='red')\n",
    "\n",
    "plt.show()"
   ]
  },
  {
   "cell_type": "markdown",
   "metadata": {},
   "source": [
    "### Divide stations into tiers based on trip traffic\n",
    "\n",
    "With no strong correlations found between capacity and number of trips, or longitude/latitude and number of trips, it may be best to divide stations into a few tiers based on their number of total rides. This will allow for recommendations to be made based on stations being used at different frequencies."
   ]
  },
  {
   "cell_type": "code",
   "execution_count": 10,
   "metadata": {
    "collapsed": false
   },
   "outputs": [
    {
     "data": {
      "text/plain": [
       "count      585.000000\n",
       "mean      6545.225641\n",
       "std       9114.864108\n",
       "min          3.000000\n",
       "25%        591.000000\n",
       "50%       3441.000000\n",
       "75%       9628.000000\n",
       "max      97569.000000\n",
       "Name: trip_id, dtype: float64"
      ]
     },
     "execution_count": 10,
     "metadata": {},
     "output_type": "execute_result"
    }
   ],
   "source": [
    "#get a count of total trips from each station in 2017\n",
    "sstations = df.groupby('start_station_id').count()\n",
    "sstations.trip_id.describe()"
   ]
  },
  {
   "cell_type": "code",
   "execution_count": 11,
   "metadata": {
    "collapsed": false
   },
   "outputs": [],
   "source": [
    "#create a df for start stations so a group column can be added\n",
    "ss = pd.DataFrame(sstations.trip_id)\n",
    "\n",
    "ss.rename(columns={'trip_id': 'start_station_trip_count'}, inplace=True)\n",
    "ss['start_station_id'] = ss.index"
   ]
  },
  {
   "cell_type": "code",
   "execution_count": 12,
   "metadata": {
    "collapsed": false
   },
   "outputs": [],
   "source": [
    "#create a function to apply to ss to create a group column\n",
    "def f(df):\n",
    "    if df.start_station_trip_count < 591:\n",
    "        val= 4\n",
    "    elif df.start_station_trip_count < 3441:\n",
    "        val = 3\n",
    "    elif df.start_station_trip_count < 9628:\n",
    "        val = 2\n",
    "    elif df.start_station_trip_count >= 9628:\n",
    "        val = 1\n",
    "    return val\n",
    "\n",
    "#create a new group column\n",
    "ss['group'] = ss.apply(f, axis=1)"
   ]
  },
  {
   "cell_type": "code",
   "execution_count": 13,
   "metadata": {
    "collapsed": false
   },
   "outputs": [],
   "source": [
    "# merge ss with original df on start_station_id\n",
    "df = pd.merge(df, ss, on='start_station_id', how='left')\n",
    "\n",
    "#pd.df.drop('start_station_trip_count')"
   ]
  },
  {
   "cell_type": "code",
   "execution_count": 14,
   "metadata": {
    "collapsed": true
   },
   "outputs": [],
   "source": [
    "df.start_time = pd.to_datetime(df.start_time, format='%Y-%m-%d  %H:%M:%S')"
   ]
  },
  {
   "cell_type": "code",
   "execution_count": 15,
   "metadata": {
    "collapsed": true
   },
   "outputs": [],
   "source": [
    "df = df.set_index('start_time')"
   ]
  },
  {
   "cell_type": "code",
   "execution_count": 16,
   "metadata": {
    "collapsed": false
   },
   "outputs": [],
   "source": [
    "df['day_of_year'] = df.index.dayofyear\n",
    "df['week_of_year'] = df.index.week"
   ]
  },
  {
   "cell_type": "code",
   "execution_count": 17,
   "metadata": {
    "collapsed": false
   },
   "outputs": [],
   "source": [
    "group1 = df.loc[df.group == 1]\n",
    "group2 = df.loc[df.group == 2]\n",
    "group3 = df.loc[df.group == 3]\n",
    "group4 = df.loc[df.group == 4]"
   ]
  },
  {
   "cell_type": "code",
   "execution_count": 18,
   "metadata": {
    "collapsed": false
   },
   "outputs": [
    {
     "name": "stdout",
     "output_type": "stream",
     "text": [
      "Average Start Station Capacity\n",
      "Group 1 27.5882739203\n",
      "Group 2 17.6941599153\n",
      "Group 3 15.2839083074\n",
      "Group 4 13.644185503\n",
      "\n",
      "Average End Station Capacity\n",
      "Group 1 25.9218887618\n",
      "Group 2 21.2396421509\n",
      "Group 3 18.6819500757\n",
      "Group 4 15.8927581717\n"
     ]
    }
   ],
   "source": [
    "print 'Average Start Station Capacity'\n",
    "print 'Group 1', np.mean(group1.start_capacity)\n",
    "print 'Group 2',np.mean(group2.start_capacity)\n",
    "print 'Group 3',np.mean(group3.start_capacity)\n",
    "print 'Group 4',np.mean(group4.start_capacity)\n",
    "print ''\n",
    "print 'Average End Station Capacity'\n",
    "print 'Group 1',np.mean(group1.end_capacity)\n",
    "print 'Group 2',np.mean(group2.end_capacity)\n",
    "print 'Group 3',np.mean(group3.end_capacity)\n",
    "print 'Group 4',np.mean(group4.end_capacity)\n"
   ]
  },
  {
   "cell_type": "code",
   "execution_count": 19,
   "metadata": {
    "collapsed": false
   },
   "outputs": [
    {
     "data": {
      "text/plain": [
       "<matplotlib.text.Text at 0x52915828>"
      ]
     },
     "execution_count": 19,
     "metadata": {},
     "output_type": "execute_result"
    },
    {
     "data": {
      "image/png": "[encoded data removed]",
      "text/plain": [
       "<matplotlib.figure.Figure at 0x552a2fd0>"
      ]
     },
     "metadata": {},
     "output_type": "display_data"
    }
   ],
   "source": [
    "sns.boxplot(x='group', y='start_capacity', data=df)\n",
    "plt.xlabel('Group Level')\n",
    "plt.ylabel('Start Capacity')\n",
    "plt.title('Start Capacities by Group')"
   ]
  },
  {
   "cell_type": "code",
   "execution_count": 20,
   "metadata": {
    "collapsed": false
   },
   "outputs": [
    {
     "data": {
      "text/plain": [
       "<matplotlib.text.Text at 0x45ae02e8>"
      ]
     },
     "execution_count": 20,
     "metadata": {},
     "output_type": "execute_result"
    },
    {
     "data": {
      "image/png": "[encoded data removed]",
      "text/plain": [
       "<matplotlib.figure.Figure at 0x4a827240>"
      ]
     },
     "metadata": {},
     "output_type": "display_data"
    }
   ],
   "source": [
    "sns.boxplot(x='group', y='end_capacity', data=df)\n",
    "plt.xlabel('Group Level')\n",
    "plt.ylabel('End Capacity')\n",
    "plt.title('End Capacities by Group')"
   ]
  },
  {
   "cell_type": "markdown",
   "metadata": {},
   "source": [
    "### How does the ratio of bike in vs bikes out of a station compare in the different group levels?"
   ]
  },
  {
   "cell_type": "code",
   "execution_count": 21,
   "metadata": {
    "collapsed": false
   },
   "outputs": [],
   "source": [
    "#count number of rides out per station for 2017\n",
    "rout = df.groupby(['start_station_id']).count()\n",
    "\n",
    "#count number of rides in per station for 2017\n",
    "rin = df.groupby(['end_station_id']).count()"
   ]
  },
  {
   "cell_type": "code",
   "execution_count": 22,
   "metadata": {
    "collapsed": false
   },
   "outputs": [],
   "source": [
    "# get the infromation for trips in and trips out ready for a join\n",
    "i = pd.DataFrame(rin.trip_id)\n",
    "o = pd.DataFrame(rout.trip_id)\n",
    "i.rename(columns={'trip_id': 'trips_in'}, inplace=True)\n",
    "o.rename(columns={'trip_id': 'trips_out'}, inplace=True)\n",
    "i.index.names = ['station_id']\n",
    "o.index.names= ['station_id']"
   ]
  },
  {
   "cell_type": "code",
   "execution_count": 23,
   "metadata": {
    "collapsed": true
   },
   "outputs": [],
   "source": [
    "# join trips in and out into one dataframe\n",
    "io = i.join(o, how='outer')\n",
    "io['in_out_ratio'] = io.trips_in / io.trips_out\n",
    "io = io.fillna(0)"
   ]
  },
  {
   "cell_type": "code",
   "execution_count": 24,
   "metadata": {
    "collapsed": false
   },
   "outputs": [],
   "source": [
    "#combine with other df's to get capacity and group information \n",
    "total_io = io.join(ss)\n",
    "cap = df[['start_station_id','start_capacity']]\n",
    "cap = cap.drop_duplicates('start_station_id')\n",
    "cap = cap.set_index('start_station_id')\n",
    "\n",
    "total_io = total_io.join(cap)\n",
    "total_io = total_io.drop(['start_station_trip_count', 'start_station_id'], axis=1)\n",
    "total_io.rename(columns={'start_capacity': 'capacity'}, inplace=True)"
   ]
  },
  {
   "cell_type": "code",
   "execution_count": 25,
   "metadata": {
    "collapsed": false
   },
   "outputs": [
    {
     "data": {
      "image/png": "[encoded data removed]",
      "text/plain": [
       "<matplotlib.figure.Figure at 0x4b2c5fd0>"
      ]
     },
     "metadata": {},
     "output_type": "display_data"
    }
   ],
   "source": [
    "_ = sns.swarmplot(x = 'group', y ='in_out_ratio', data=total_io)\n",
    "_ = plt.xlabel('Group Number')\n",
    "_ = plt.ylabel('Trips in to trips out ratio')\n",
    "_ = plt.title('Trips in/out ratio by Group Number')"
   ]
  },
  {
   "cell_type": "code",
   "execution_count": 26,
   "metadata": {
    "collapsed": false
   },
   "outputs": [
    {
     "name": "stdout",
     "output_type": "stream",
     "text": [
      "slope:  0.00825532130621\n",
      "pearson_r:  0.0576079135014\n"
     ]
    },
    {
     "data": {
      "image/png": "[encoded data removed]",
      "text/plain": [
       "<matplotlib.figure.Figure at 0x3b815978>"
      ]
     },
     "metadata": {},
     "output_type": "display_data"
    }
   ],
   "source": [
    "#look at correlation between groups and in/out ratio\n",
    "_ = plt.plot(total_io.group, total_io.in_out_ratio, marker='.', linestyle='none')\n",
    "_ = plt.xlabel('Group Level')\n",
    "_ = plt.ylabel('Trips in vs trips out ratio')\n",
    "_ = plt.title('Trips in/out ratio by Group Level')\n",
    "\n",
    "# Perform a linear regression using np.polyfit(): slope, intercept\n",
    "slope, intercept = np.polyfit(total_io.group, total_io.in_out_ratio,1)\n",
    "\n",
    "corr = pearson_r(total_io.group, total_io.in_out_ratio)\n",
    "print 'slope: ', slope\n",
    "print 'pearson_r: ', corr\n",
    "\n",
    "# Plot regression line\n",
    "x = np.array([0,5])\n",
    "y = slope * x + intercept\n",
    "\n",
    "_ = plt.plot(x, y, color='red')\n",
    "\n",
    "plt.show()"
   ]
  },
  {
   "cell_type": "markdown",
   "metadata": {},
   "source": [
    "### Is there a correlation between station capacity and in/out ratio?"
   ]
  },
  {
   "cell_type": "code",
   "execution_count": 27,
   "metadata": {
    "collapsed": false
   },
   "outputs": [
    {
     "data": {
      "image/png": "[encoded data removed]",
      "text/plain": [
       "<matplotlib.figure.Figure at 0x4703ac50>"
      ]
     },
     "metadata": {},
     "output_type": "display_data"
    }
   ],
   "source": [
    "_ = sns.swarmplot(x = 'capacity', y ='in_out_ratio', data=total_io)\n",
    "_ = plt.xlabel('Station Capacities')\n",
    "_ = plt.ylabel('Trips in vs trips out ratio')\n",
    "_ = plt.title('Trips in/out ratio by Station Capacity')"
   ]
  },
  {
   "cell_type": "code",
   "execution_count": 28,
   "metadata": {
    "collapsed": false
   },
   "outputs": [
    {
     "name": "stdout",
     "output_type": "stream",
     "text": [
      "slope:  -0.00196730522216\n",
      "pearson_r:  -0.0818490335559\n"
     ]
    },
    {
     "data": {
      "image/png": "[encoded data removed]",
      "text/plain": [
       "<matplotlib.figure.Figure at 0x213804e0>"
      ]
     },
     "metadata": {},
     "output_type": "display_data"
    }
   ],
   "source": [
    "#look at correlation between groups and in/out ratio\n",
    "_ = plt.plot(total_io.capacity, total_io.in_out_ratio, marker='.', linestyle='none')\n",
    "_ = plt.xlabel('Station Capacity')\n",
    "_ = plt.ylabel('Trips in vs trips out ratio')\n",
    "_ = plt.title('Trips in/out ratio by Station Capacity')\n",
    "\n",
    "# Perform a linear regression using np.polyfit(): slope, intercept\n",
    "slope, intercept = np.polyfit(total_io.capacity, total_io.in_out_ratio,1)\n",
    "\n",
    "corr = pearson_r(total_io.capacity, total_io.in_out_ratio)\n",
    "print 'slope: ', slope\n",
    "print 'pearson_r: ', corr\n",
    "\n",
    "# Plot regression line\n",
    "x = np.array([0,70])\n",
    "y = slope * x + intercept\n",
    "\n",
    "_ = plt.plot(x, y, color='red')\n",
    "\n",
    "plt.show()"
   ]
  },
  {
   "cell_type": "markdown",
   "metadata": {},
   "source": [
    "### The next section will focus on testing hypotheses from EDA:\n",
    "\n",
    "- Busiest hour of the day is attributed to typical commuting hours\n",
    "- The number of trips are higher in the PM hours \n",
    "- The number of trips are higher on the weekend days in the busy season\n",
    "- The number of trips are higher on the weekday days in the slow season\n",
    "- The average trip durations are higher on the weekend than weekdays\n",
    "- The average trip durations are higher in the busy season \n",
    "- There is not a significant difference in the average in/out ratios between highest traffic group and lowest traffic group\n",
    "- There is not a significant difference in average in/out ratios between highest station capacity and lowest station\n",
    "- There is not a significant difference in average in/out ratio between the high and low season\n",
    "- There is not a significant difference in average in/out ratio between weekends and weekdays\n",
    "- There is significant difference in average station capacities between group levels "
   ]
  },
  {
   "cell_type": "code",
   "execution_count": 29,
   "metadata": {
    "collapsed": true
   },
   "outputs": [],
   "source": [
    "#create a function to draw bootstrap replicates\n",
    "def bootstrap_replicate_1D(data, func):\n",
    "    bs_sample = np.random.choice(data, len(data))\n",
    "    return func(bs_sample)\n",
    "\n",
    "def draw_bs_reps(data, func, size=1):\n",
    "    \"\"\"Draw bootstrap replicates.\"\"\"\n",
    "\n",
    "    # Initialize array of replicates: bs_replicates\n",
    "    bs_replicates = np.empty(size)\n",
    "\n",
    "    # Generate replicates\n",
    "    for i in range(size):\n",
    "        bs_replicates[i] = bootstrap_replicate_1D(data, func)\n",
    "\n",
    "    return bs_replicates"
   ]
  },
  {
   "cell_type": "markdown",
   "metadata": {},
   "source": [
    "### 1. Test if the busiest hour of the day is attributed to typical commuting hours"
   ]
  },
  {
   "cell_type": "markdown",
   "metadata": {},
   "source": [
    "Null hypothesis: The average number of trips during the 5pm hour for weekdays = the average number of trips during the 5pm hour for weekend days\n",
    "\n",
    "Alternative hypothesis: The average number of trips during the 5pm hour for weekdays != the average number of trips during the 5pm hour for weekend days\n",
    "\n",
    "significance level = .05"
   ]
  },
  {
   "cell_type": "code",
   "execution_count": 30,
   "metadata": {
    "collapsed": false
   },
   "outputs": [],
   "source": [
    "weekday = df.loc[df.day_of_week < 5]\n",
    "weekend = df.loc[df.day_of_week >= 5]"
   ]
  },
  {
   "cell_type": "code",
   "execution_count": 31,
   "metadata": {
    "collapsed": false
   },
   "outputs": [],
   "source": [
    "weekday_hours = weekday.groupby(['day_of_year','hour']).count()\n",
    "weekend_hours = weekend.groupby(['day_of_year','hour']).count()"
   ]
  },
  {
   "cell_type": "code",
   "execution_count": 32,
   "metadata": {
    "collapsed": false
   },
   "outputs": [],
   "source": [
    "total_weekday = np.array(weekday_hours.trip_id[:,17])\n",
    "total_weekend = np.array(weekend_hours.trip_id[:,17])"
   ]
  },
  {
   "cell_type": "markdown",
   "metadata": {},
   "source": [
    "Is there a significant difference in average trip numbers for the 5pm hour on weekdays vs weekends?"
   ]
  },
  {
   "cell_type": "code",
   "execution_count": 33,
   "metadata": {
    "collapsed": false
   },
   "outputs": [
    {
     "data": {
      "text/plain": [
       "Ttest_indResult(statistic=8.2769686656119283, pvalue=2.4420604517896118e-15)"
      ]
     },
     "execution_count": 33,
     "metadata": {},
     "output_type": "execute_result"
    }
   ],
   "source": [
    "sp.stats.ttest_ind(total_weekday, total_weekend)"
   ]
  },
  {
   "cell_type": "markdown",
   "metadata": {},
   "source": [
    "The t test assumed the means are identical, and the results allows us to reject that hypothesis. \n",
    "\n",
    "What is the probability that the weekdays average at 5pm is greater than the weekend average at 5pm?  "
   ]
  },
  {
   "cell_type": "code",
   "execution_count": 34,
   "metadata": {
    "collapsed": false
   },
   "outputs": [
    {
     "name": "stdout",
     "output_type": "stream",
     "text": [
      "p-value = 1.0\n"
     ]
    }
   ],
   "source": [
    "# Compute observed difference of means\n",
    "diff_means = np.mean(total_weekday) - np.mean(total_weekend)\n",
    "\n",
    "# Compute 10,000 bootstrap replicates\n",
    "bs_replicates_wd = draw_bs_reps(total_weekday, np.mean, size=10000)\n",
    "bs_replicates_we = draw_bs_reps(total_weekend, np.mean, size=10000)\n",
    "\n",
    "# Get replicates of difference of means: bs_replicates\n",
    "bs_replicates1 = bs_replicates_wd - bs_replicates_we\n",
    "\n",
    "# Compute p value\n",
    "p = np.sum(bs_replicates1 >= 0) / float(len(bs_replicates1))\n",
    "print 'p-value =', p"
   ]
  },
  {
   "cell_type": "code",
   "execution_count": 35,
   "metadata": {
    "collapsed": false
   },
   "outputs": [
    {
     "name": "stdout",
     "output_type": "stream",
     "text": [
      "95% confidence interval:  [ 543.27735806  833.47624542]\n",
      "Observed difference:  688.356776557\n"
     ]
    }
   ],
   "source": [
    "conf95 = np.percentile(bs_replicates1, [2.5,97.5])\n",
    "print '95% confidence interval: ', conf95\n",
    "print 'Observed difference: ', diff_means"
   ]
  },
  {
   "cell_type": "markdown",
   "metadata": {},
   "source": [
    "The results show that we can be confident that the average trip count at 5pm on the weekdays will be higher than the average trip count at 5pm on weekend days. This supports the idea that busiest hour of the day throughout the year is attributed to typical commuting hours."
   ]
  },
  {
   "cell_type": "markdown",
   "metadata": {},
   "source": [
    "### 2. Test if the PM hours truly have higher trip counts than AM hours"
   ]
  },
  {
   "cell_type": "markdown",
   "metadata": {},
   "source": [
    "Null Hypothesis: The average trip count for PM hours = the average trip count in AM hours\n",
    "\n",
    "Alternative Hypothesis: The average trip count for PM hours != the average trip count in AM hours\n",
    "\n",
    "Significance level: .05"
   ]
  },
  {
   "cell_type": "code",
   "execution_count": 36,
   "metadata": {
    "collapsed": false
   },
   "outputs": [],
   "source": [
    "#get the count of trips for am and pm hours for every day of 2017\n",
    "ampm = df.groupby(['day_of_year','part_day']).count()"
   ]
  },
  {
   "cell_type": "code",
   "execution_count": 37,
   "metadata": {
    "collapsed": false
   },
   "outputs": [],
   "source": [
    "#create arrays based off the count of am and pm trips to use in bootstrap method\n",
    "am = np.array(ampm.trip_id[:,'AM'])\n",
    "pm = np.array(ampm.trip_id[:,'PM'])"
   ]
  },
  {
   "cell_type": "code",
   "execution_count": 38,
   "metadata": {
    "collapsed": false
   },
   "outputs": [
    {
     "data": {
      "text/plain": [
       "Ttest_indResult(statistic=-15.062862909068603, pvalue=7.8295533248265518e-45)"
      ]
     },
     "execution_count": 38,
     "metadata": {},
     "output_type": "execute_result"
    }
   ],
   "source": [
    "sp.stats.ttest_ind(am, pm)"
   ]
  },
  {
   "cell_type": "markdown",
   "metadata": {},
   "source": [
    "The t test assumed the means are identical, and the results allows us to reject that hypothesis. \n",
    "\n",
    "What is the probability that the pm average is greater than the am average trip count?"
   ]
  },
  {
   "cell_type": "code",
   "execution_count": 39,
   "metadata": {
    "collapsed": false
   },
   "outputs": [
    {
     "name": "stdout",
     "output_type": "stream",
     "text": [
      "p-value = 1.0\n"
     ]
    }
   ],
   "source": [
    "# Compute observed difference of means\n",
    "diff_means2 = np.mean(pm) - np.mean(am)\n",
    "\n",
    "# Compute 10,000 bootstrap replicates\n",
    "bs_replicates_pm = draw_bs_reps(pm, np.mean, size=10000)\n",
    "bs_replicates_am = draw_bs_reps(am, np.mean, size=10000)\n",
    "\n",
    "# Get replicates of difference of means: bs_replicates\n",
    "bs_replicates2 = bs_replicates_pm - bs_replicates_am\n",
    "\n",
    "# Compute p value\n",
    "p = np.sum(bs_replicates2 >= 0) / float(len(bs_replicates2))\n",
    "print 'p-value =', p"
   ]
  },
  {
   "cell_type": "code",
   "execution_count": 40,
   "metadata": {
    "collapsed": false
   },
   "outputs": [
    {
     "name": "stdout",
     "output_type": "stream",
     "text": [
      "95% confidence interval:  [ 3268.46815068  4236.3189726 ]\n",
      "Observed difference:  3754.17808219\n"
     ]
    }
   ],
   "source": [
    "conf95 = np.percentile(bs_replicates2, [2.5,97.5])\n",
    "print '95% confidence interval: ', conf95\n",
    "print 'Observed difference: ', diff_means2"
   ]
  },
  {
   "cell_type": "markdown",
   "metadata": {},
   "source": [
    "We fail to reject the null hypothesis and are confident that the average number of trips for PM hours is higher than that of AM hours."
   ]
  },
  {
   "cell_type": "markdown",
   "metadata": {},
   "source": [
    "### 3. Test if the number of trips are higher on the weekend days in the busy season"
   ]
  },
  {
   "cell_type": "markdown",
   "metadata": {},
   "source": [
    "Null Hypothesis: The average trip count for weekend days = the average trip count per day for weekday days in high season\n",
    "\n",
    "Alternative Hypothesis: The average trip count for weekend days != the average trip count for weekday days in high season\n",
    "\n",
    "Significance level: .05"
   ]
  },
  {
   "cell_type": "code",
   "execution_count": 41,
   "metadata": {
    "collapsed": false
   },
   "outputs": [],
   "source": [
    "high = df['2017-06-01':'2017-09-30']"
   ]
  },
  {
   "cell_type": "code",
   "execution_count": 42,
   "metadata": {
    "collapsed": false
   },
   "outputs": [],
   "source": [
    "hweekdays = high.loc[high.day_of_week < 5]\n",
    "hweekend = high.loc[high.day_of_week >= 5]"
   ]
  },
  {
   "cell_type": "code",
   "execution_count": 43,
   "metadata": {
    "collapsed": false
   },
   "outputs": [],
   "source": [
    "hweekdays2 = hweekdays.groupby('day_of_year').count()\n",
    "hweekend2 = hweekend.groupby('day_of_year').count()"
   ]
  },
  {
   "cell_type": "code",
   "execution_count": 44,
   "metadata": {
    "collapsed": false
   },
   "outputs": [],
   "source": [
    "#create arrays based off the count of weekday and weekend trips to use in bootstrap method\n",
    "hweekday3 = np.array(hweekdays2.trip_id)\n",
    "hweekend3 = np.array(hweekend2.trip_id)"
   ]
  },
  {
   "cell_type": "code",
   "execution_count": 45,
   "metadata": {
    "collapsed": false
   },
   "outputs": [
    {
     "data": {
      "text/plain": [
       "Ttest_indResult(statistic=-1.3755100760279759, pvalue=0.17153558407918659)"
      ]
     },
     "execution_count": 45,
     "metadata": {},
     "output_type": "execute_result"
    }
   ],
   "source": [
    "sp.stats.ttest_ind(hweekday3, hweekend3)"
   ]
  },
  {
   "cell_type": "markdown",
   "metadata": {},
   "source": [
    "The t test assumed the means are identical, and the results below do not allow us to reject that hypothesis. Because the results are above our signficiance level, there isn't signficant evidence for us to make the claim that the average number of trips are higher or lower on weekends during the busy season."
   ]
  },
  {
   "cell_type": "markdown",
   "metadata": {},
   "source": [
    "### 4. Test if the number of trips are higher on the weekdays in the slow season"
   ]
  },
  {
   "cell_type": "markdown",
   "metadata": {},
   "source": [
    "Null Hypothesis: The average trip count for weekdays = the average trip count for weekend days in slow season\n",
    "\n",
    "Alternative Hypothesis: The average trip count for weekday days != the average trip count for weekend days in slow season\n",
    "\n",
    "Significance level: .05"
   ]
  },
  {
   "cell_type": "code",
   "execution_count": 46,
   "metadata": {
    "collapsed": false
   },
   "outputs": [],
   "source": [
    "#get the count of trips for weekdays and weekends for every week in slow season\n",
    "\n",
    "#group data by low months, and join the two low timeframes (Jan-Mar, and Nov-Dec) \n",
    "slow1 = df['2017-01-01':'2017-03-31']\n",
    "slow2 = df['2017-11-01':'2017-12-31']\n",
    "slow = pd.concat([slow1,slow2])\n",
    "\n",
    "sweekdays = slow.loc[slow.day_of_week < 5]\n",
    "sweekend = slow.loc[slow.day_of_week >= 5]"
   ]
  },
  {
   "cell_type": "code",
   "execution_count": 47,
   "metadata": {
    "collapsed": false
   },
   "outputs": [],
   "source": [
    "sweekdays2 = sweekdays.groupby('day_of_year').count()\n",
    "sweekend2 = sweekend.groupby('day_of_year').count()\n",
    "\n",
    "#create arrays based off the count of weekday and weekend trips to use in bootstrap method\n",
    "sweekday3 = np.array(sweekdays2.trip_id)\n",
    "sweekend3 = np.array(sweekend2.trip_id)\n"
   ]
  },
  {
   "cell_type": "code",
   "execution_count": 48,
   "metadata": {
    "collapsed": false
   },
   "outputs": [
    {
     "data": {
      "text/plain": [
       "Ttest_indResult(statistic=5.2573472473029579, pvalue=4.9815150122745131e-07)"
      ]
     },
     "execution_count": 48,
     "metadata": {},
     "output_type": "execute_result"
    }
   ],
   "source": [
    "sp.stats.ttest_ind(sweekday3, sweekend3)"
   ]
  },
  {
   "cell_type": "markdown",
   "metadata": {},
   "source": [
    "The t test assumed the means are identical, and the results allows us to reject that hypothesis. \n",
    "\n",
    "What is the probability that the pm average is greater than the am average trip count?"
   ]
  },
  {
   "cell_type": "code",
   "execution_count": 49,
   "metadata": {
    "collapsed": false
   },
   "outputs": [
    {
     "name": "stdout",
     "output_type": "stream",
     "text": [
      "p-value = 1.0\n"
     ]
    }
   ],
   "source": [
    "# Compute observed difference of means\n",
    "diff_means_s = np.mean(sweekday3) - np.mean(sweekend3)\n",
    "\n",
    "# Compute 10,000 bootstrap replicates from shifted arrays\n",
    "bs_replicates_weekdays = draw_bs_reps(sweekday3, np.mean, size=10000)\n",
    "bs_replicates_weekends = draw_bs_reps(sweekend3, np.mean, size=10000)\n",
    "\n",
    "# Get replicates of difference of means: bs_replicates\n",
    "bs_replicates1s = bs_replicates_weekdays - bs_replicates_weekends\n",
    "\n",
    "# Compute p value\n",
    "p = np.sum(bs_replicates1s >= 0) / float(len(bs_replicates1s))\n",
    "print 'p-value =', p"
   ]
  },
  {
   "cell_type": "code",
   "execution_count": 50,
   "metadata": {
    "collapsed": false
   },
   "outputs": [
    {
     "name": "stdout",
     "output_type": "stream",
     "text": [
      "95% confidence interval:  [ 1291.29321167  3055.10090439]\n",
      "Observed difference:  2222.61024978\n"
     ]
    }
   ],
   "source": [
    "conf95 = np.percentile(bs_replicates1s, [2.5,97.5])\n",
    "print '95% confidence interval: ', conf95\n",
    "print 'Observed difference: ', diff_means_s"
   ]
  },
  {
   "cell_type": "markdown",
   "metadata": {},
   "source": [
    "We fail to reject the null hypothesis and are confident that the average number of trips for weekdays is higher than that of weekend trips in the slow season."
   ]
  },
  {
   "cell_type": "markdown",
   "metadata": {},
   "source": [
    "### 5. Test if the average trip durations are higher on the weekends vs weekdays"
   ]
  },
  {
   "cell_type": "markdown",
   "metadata": {},
   "source": [
    "Null Hypothesis: The average trip duration for weekdays = the average trip duration for weekend days\n",
    "\n",
    "Alternative Hypothesis: The average trip duration for weekday days != the average trip duration for weekend days \n",
    "\n",
    "Significance level: .05"
   ]
  },
  {
   "cell_type": "code",
   "execution_count": 51,
   "metadata": {
    "collapsed": true
   },
   "outputs": [],
   "source": [
    "weekday_durations = weekday.groupby(['day_of_year']).mean()\n",
    "weekend_durations = weekend.groupby(['day_of_year']).mean()\n",
    "\n",
    "avg_wdd = weekday_durations.trip_duration\n",
    "avg_wed = weekend_durations.trip_duration"
   ]
  },
  {
   "cell_type": "code",
   "execution_count": 52,
   "metadata": {
    "collapsed": false
   },
   "outputs": [
    {
     "data": {
      "text/plain": [
       "Ttest_indResult(statistic=-11.971366901885748, pvalue=4.6098048816966565e-28)"
      ]
     },
     "execution_count": 52,
     "metadata": {},
     "output_type": "execute_result"
    }
   ],
   "source": [
    "sp.stats.ttest_ind(avg_wdd, avg_wed)"
   ]
  },
  {
   "cell_type": "markdown",
   "metadata": {
    "collapsed": true
   },
   "source": [
    "The t test assumed the means are identical, and the results allows us to reject that hypothesis. \n",
    "\n",
    "What is the probability that the weekend average duration is greater than the weekday average trip duration?"
   ]
  },
  {
   "cell_type": "code",
   "execution_count": 53,
   "metadata": {
    "collapsed": false
   },
   "outputs": [
    {
     "name": "stdout",
     "output_type": "stream",
     "text": [
      "p-value = 1.0\n"
     ]
    }
   ],
   "source": [
    "# Compute observed difference of means\n",
    "diff_means_dur = np.mean(avg_wed) - np.mean(avg_wdd)\n",
    "\n",
    "# Compute 10,000 bootstrap replicates from shifted arrays\n",
    "bs_replicates_wed = draw_bs_reps(avg_wed, np.mean, size=10000)\n",
    "bs_replicates_wdd = draw_bs_reps(avg_wdd, np.mean, size=10000)\n",
    "\n",
    "# Get replicates of difference of means: bs_replicates\n",
    "bs_replicates1_dur = bs_replicates_wed - bs_replicates_wdd\n",
    "\n",
    "# Compute p value\n",
    "p = np.sum(bs_replicates1_dur >= 0) / float(len(bs_replicates1_dur))\n",
    "print 'p-value =', p"
   ]
  },
  {
   "cell_type": "code",
   "execution_count": 54,
   "metadata": {
    "collapsed": false
   },
   "outputs": [
    {
     "name": "stdout",
     "output_type": "stream",
     "text": [
      "95% confidence interval:  [ 3.76271773  5.69146754]\n",
      "Observed difference:  4.73799856733\n"
     ]
    }
   ],
   "source": [
    "conf95 = np.percentile(bs_replicates1_dur, [2.5,97.5])\n",
    "print '95% confidence interval: ', conf95\n",
    "print 'Observed difference: ', diff_means_dur"
   ]
  },
  {
   "cell_type": "markdown",
   "metadata": {},
   "source": [
    "We fail to reject the null hypothesis and are confident that the average trip duration for weekends is higher than that of weekdays."
   ]
  },
  {
   "cell_type": "markdown",
   "metadata": {},
   "source": [
    "### 6. Test if the average trip durations are higher in the high season "
   ]
  },
  {
   "cell_type": "markdown",
   "metadata": {},
   "source": [
    "Null Hypothesis: The average trip duration for the high season = the average trip duration for the slow season\n",
    "\n",
    "Alternative Hypothesis: The average trip duration for the high season = the average trip duration for the slow season \n",
    "\n",
    "Significance level: .05"
   ]
  },
  {
   "cell_type": "code",
   "execution_count": 55,
   "metadata": {
    "collapsed": true
   },
   "outputs": [],
   "source": [
    "high_durations = high.groupby(['day_of_year']).mean()\n",
    "slow_durations = slow.groupby(['day_of_year']).mean()\n",
    "\n",
    "avg_hd = high_durations.trip_duration\n",
    "avg_sd = slow_durations.trip_duration"
   ]
  },
  {
   "cell_type": "code",
   "execution_count": 56,
   "metadata": {
    "collapsed": false
   },
   "outputs": [
    {
     "data": {
      "text/plain": [
       "Ttest_indResult(statistic=-11.971366901885748, pvalue=4.6098048816966565e-28)"
      ]
     },
     "execution_count": 56,
     "metadata": {},
     "output_type": "execute_result"
    }
   ],
   "source": [
    "sp.stats.ttest_ind(avg_wdd, avg_wed)"
   ]
  },
  {
   "cell_type": "markdown",
   "metadata": {},
   "source": [
    "The t test assumed the means are identical, and the results allows us to reject that hypothesis. \n",
    "\n",
    "What is the probability that the high season average duration is greater than the slow season average trip duration?"
   ]
  },
  {
   "cell_type": "code",
   "execution_count": 57,
   "metadata": {
    "collapsed": false
   },
   "outputs": [
    {
     "name": "stdout",
     "output_type": "stream",
     "text": [
      "p-value = 1.0\n"
     ]
    }
   ],
   "source": [
    "# Compute observed difference of means\n",
    "diff_means_dhs = np.mean(avg_hd) - np.mean(avg_sd)\n",
    "\n",
    "# Compute 10,000 bootstrap replicates from shifted arrays\n",
    "bs_replicates_hd = draw_bs_reps(avg_hd, np.mean, size=10000)\n",
    "bs_replicates_sd = draw_bs_reps(avg_sd, np.mean, size=10000)\n",
    "\n",
    "# Get replicates of difference of means: bs_replicates\n",
    "bs_replicates1_dhs = bs_replicates_hd - bs_replicates_sd\n",
    "\n",
    "# Compute p value\n",
    "p = np.sum(bs_replicates1_dhs >= 0) / float(len(bs_replicates1_dhs))\n",
    "print 'p-value =', p"
   ]
  },
  {
   "cell_type": "code",
   "execution_count": 58,
   "metadata": {
    "collapsed": false
   },
   "outputs": [
    {
     "name": "stdout",
     "output_type": "stream",
     "text": [
      "95% confidence interval:  [ 4.96644496  6.39320107]\n",
      "Observed difference:  5.67337698338\n"
     ]
    }
   ],
   "source": [
    "conf95 = np.percentile(bs_replicates1_dhs, [2.5,97.5])\n",
    "print '95% confidence interval: ', conf95\n",
    "print 'Observed difference: ', diff_means_dhs"
   ]
  },
  {
   "cell_type": "markdown",
   "metadata": {},
   "source": [
    "We fail to reject the null hypothesis and are confident that the average trip duration for the high season is higher than that of the slow season."
   ]
  },
  {
   "cell_type": "markdown",
   "metadata": {},
   "source": [
    "### 7. Is there a difference in average in/out ratios between highest traffic group (1) and lowest traffic group (4)?"
   ]
  },
  {
   "cell_type": "markdown",
   "metadata": {},
   "source": [
    "Null Hypothesis: The average in/out ratio for the highest traffic group = the average in/out ratio for the lowest traffic group\n",
    "\n",
    "Alternative Hypothesis: The average in/out ratio for the highest traffic group != the average in/out ratio for the lowest traffic group\n",
    "\n",
    "Significance level: .05"
   ]
  },
  {
   "cell_type": "code",
   "execution_count": 59,
   "metadata": {
    "collapsed": true
   },
   "outputs": [],
   "source": [
    "g1 = total_io.loc[total_io.group == 1]\n",
    "r1 = g1.in_out_ratio\n",
    "\n",
    "g4 = total_io.loc[total_io.group == 4]\n",
    "r4 = g4.in_out_ratio\n",
    "\n",
    "r1 = np.array(r1)\n",
    "r4 = np.array(r4)"
   ]
  },
  {
   "cell_type": "code",
   "execution_count": 60,
   "metadata": {
    "collapsed": false
   },
   "outputs": [
    {
     "data": {
      "text/plain": [
       "Ttest_indResult(statistic=-1.0240120464630789, pvalue=0.30668007561982935)"
      ]
     },
     "execution_count": 60,
     "metadata": {},
     "output_type": "execute_result"
    }
   ],
   "source": [
    "sp.stats.ttest_ind(r1, r4)"
   ]
  },
  {
   "cell_type": "markdown",
   "metadata": {},
   "source": [
    "The t test assumed the means are identical, and the results above do not allow us to reject that hypothesis."
   ]
  },
  {
   "cell_type": "markdown",
   "metadata": {},
   "source": [
    "### 8. Is there a difference in average in/out ratios between highest station capacity (55) and station capacity (11)?"
   ]
  },
  {
   "cell_type": "markdown",
   "metadata": {},
   "source": [
    "Null Hypothesis: The average in/out ratio for the highest station capacity = the average in/out ratio for the lowest station capacity\n",
    "\n",
    "Alternative Hypothesis: The average in/out ratio for the highest station capacity != the average in/out ratio for the lowest station capacity\n",
    "\n",
    "\n",
    "Significance level: .05"
   ]
  },
  {
   "cell_type": "code",
   "execution_count": 61,
   "metadata": {
    "collapsed": true
   },
   "outputs": [],
   "source": [
    "cap11 = total_io.loc[total_io.capacity == 11]\n",
    "r11 = cap11.in_out_ratio\n",
    "\n",
    "cap55 = total_io.loc[total_io.capacity == 55]\n",
    "r55 = cap55.in_out_ratio\n",
    "\n",
    "r11 = np.array(r11)\n",
    "r55 = np.array(r55)"
   ]
  },
  {
   "cell_type": "code",
   "execution_count": 62,
   "metadata": {
    "collapsed": false
   },
   "outputs": [
    {
     "data": {
      "text/plain": [
       "Ttest_indResult(statistic=0.63829946140396709, pvalue=0.52464255954763017)"
      ]
     },
     "execution_count": 62,
     "metadata": {},
     "output_type": "execute_result"
    }
   ],
   "source": [
    "sp.stats.ttest_ind(r11, r55)"
   ]
  },
  {
   "cell_type": "markdown",
   "metadata": {},
   "source": [
    "The t test assumed the means are identical, and the results above do not allow us to reject that hypothesis."
   ]
  },
  {
   "cell_type": "markdown",
   "metadata": {},
   "source": [
    "### Find the in/out ratios in high and slow seasons"
   ]
  },
  {
   "cell_type": "code",
   "execution_count": 63,
   "metadata": {
    "collapsed": true
   },
   "outputs": [],
   "source": [
    "#count number of rides in high season\n",
    "routh = high.groupby(['start_station_id']).count()\n",
    "\n",
    "#count number of rides in high season\n",
    "rinh = high.groupby(['end_station_id']).count()"
   ]
  },
  {
   "cell_type": "code",
   "execution_count": 64,
   "metadata": {
    "collapsed": true
   },
   "outputs": [],
   "source": [
    "# get the infromation for trips in and trips out ready for a join\n",
    "ih = pd.DataFrame(rinh.trip_id)\n",
    "oh = pd.DataFrame(routh.trip_id)\n",
    "ih.rename(columns={'trip_id': 'trips_in'}, inplace=True)\n",
    "oh.rename(columns={'trip_id': 'trips_out'}, inplace=True)\n",
    "ih.index.names = ['station_id']\n",
    "oh.index.names= ['station_id']\n",
    "\n",
    "# join trips in and out into one dataframe\n",
    "ioh = ih.join(oh, how='outer')\n",
    "ioh['in_out_ratio'] = ioh.trips_in / ioh.trips_out\n",
    "ioh = ioh.fillna(0)"
   ]
  },
  {
   "cell_type": "code",
   "execution_count": 65,
   "metadata": {
    "collapsed": true
   },
   "outputs": [],
   "source": [
    "#count number of rides out in slow season\n",
    "routl = slow.groupby(['start_station_id']).count()\n",
    "\n",
    "#count number of rides in slow season\n",
    "rinl = slow.groupby(['end_station_id']).count()"
   ]
  },
  {
   "cell_type": "code",
   "execution_count": 66,
   "metadata": {
    "collapsed": true
   },
   "outputs": [],
   "source": [
    "# get the infromation for trips in and trips out ready for a join\n",
    "il = pd.DataFrame(rinl.trip_id)\n",
    "ol = pd.DataFrame(routl.trip_id)\n",
    "il.rename(columns={'trip_id': 'trips_in'}, inplace=True)\n",
    "ol.rename(columns={'trip_id': 'trips_out'}, inplace=True)\n",
    "il.index.names = ['station_id']\n",
    "ol.index.names= ['station_id']\n",
    "\n",
    "# join trips in and out into one dataframe\n",
    "iol = il.join(ol, how='outer')\n",
    "iol['in_out_ratio'] = iol.trips_in / iol.trips_out\n",
    "iol = iol.fillna(0)"
   ]
  },
  {
   "cell_type": "markdown",
   "metadata": {},
   "source": [
    "### 9. Is there a difference in average in/out ratios between high season and slow season?\n"
   ]
  },
  {
   "cell_type": "markdown",
   "metadata": {},
   "source": [
    "Null Hypothesis: The average in/out ratio for the high season = the average in/out ratio for the slow season\n",
    "\n",
    "Alternative Hypothesis: The average in/out ratio for the high season != the average in/out ratio for the slow season\n",
    "\n",
    "Significance level: .05"
   ]
  },
  {
   "cell_type": "code",
   "execution_count": 67,
   "metadata": {
    "collapsed": false
   },
   "outputs": [
    {
     "data": {
      "text/plain": [
       "Ttest_indResult(statistic=1.8546033891219362, pvalue=0.063905202015036675)"
      ]
     },
     "execution_count": 67,
     "metadata": {},
     "output_type": "execute_result"
    }
   ],
   "source": [
    "highr = ioh.in_out_ratio\n",
    "slowr = iol.in_out_ratio\n",
    "\n",
    "rh = np.array(highr)\n",
    "rl = np.array(slowr)\n",
    "\n",
    "sp.stats.ttest_ind(rh, rl)"
   ]
  },
  {
   "cell_type": "markdown",
   "metadata": {},
   "source": [
    "The t test assumed the means are identical, and the results do not allows us to reject that hypothesis. "
   ]
  },
  {
   "cell_type": "markdown",
   "metadata": {},
   "source": [
    "### Find the in/out ratios in high and slow seasons\n"
   ]
  },
  {
   "cell_type": "code",
   "execution_count": 68,
   "metadata": {
    "collapsed": true
   },
   "outputs": [],
   "source": [
    "#count number of rides for weekdays\n",
    "routwd = weekday.groupby(['start_station_id']).count()\n",
    "\n",
    "#count number of rides for weekdays\n",
    "rinwd= weekday.groupby(['end_station_id']).count()"
   ]
  },
  {
   "cell_type": "code",
   "execution_count": 69,
   "metadata": {
    "collapsed": true
   },
   "outputs": [],
   "source": [
    "# get the infromation for trips in and trips out ready for a join\n",
    "iwd = pd.DataFrame(rinwd.trip_id)\n",
    "owd = pd.DataFrame(routwd.trip_id)\n",
    "iwd.rename(columns={'trip_id': 'trips_in'}, inplace=True)\n",
    "owd.rename(columns={'trip_id': 'trips_out'}, inplace=True)\n",
    "iwd.index.names = ['station_id']\n",
    "owd.index.names= ['station_id']\n",
    "\n",
    "# join trips in and out into one dataframe\n",
    "iowd = iwd.join(owd, how='outer')\n",
    "iowd['in_out_ratio'] = iowd.trips_in / iowd.trips_out\n",
    "iowd = iowd.fillna(0)"
   ]
  },
  {
   "cell_type": "code",
   "execution_count": 70,
   "metadata": {
    "collapsed": true
   },
   "outputs": [],
   "source": [
    "#count number of rides on weekend days\n",
    "routwe = weekend.groupby(['start_station_id']).count()\n",
    "\n",
    "#count number of rides in weekend days\n",
    "rinwe = weekend.groupby(['end_station_id']).count()"
   ]
  },
  {
   "cell_type": "code",
   "execution_count": 71,
   "metadata": {
    "collapsed": true
   },
   "outputs": [],
   "source": [
    "# get the infromation for trips in and trips out ready for a join\n",
    "iwe = pd.DataFrame(rinwe.trip_id)\n",
    "owe = pd.DataFrame(routwe.trip_id)\n",
    "iwe.rename(columns={'trip_id': 'trips_in'}, inplace=True)\n",
    "owe.rename(columns={'trip_id': 'trips_out'}, inplace=True)\n",
    "iwe.index.names = ['station_id']\n",
    "owe.index.names= ['station_id']\n",
    "\n",
    "# join trips in and out into one dataframe\n",
    "iowe = iwe.join(owe, how='outer')\n",
    "iowe['in_out_ratio'] = iowe.trips_in / iowe.trips_out\n",
    "iowe = iowe.fillna(0)"
   ]
  },
  {
   "cell_type": "markdown",
   "metadata": {},
   "source": [
    "### 10. Is there a difference in average in/out ratios between weekends and weekdays?"
   ]
  },
  {
   "cell_type": "markdown",
   "metadata": {},
   "source": [
    "Null Hypothesis: The average in/out ratio for the weekends = the average in/out ratio for weekdays\n",
    "\n",
    "Alternative Hypothesis: The average in/out ratio for weekends != the average in/out ratio for weekdays\n",
    "\n",
    "Significance level: .05"
   ]
  },
  {
   "cell_type": "code",
   "execution_count": 72,
   "metadata": {
    "collapsed": false
   },
   "outputs": [
    {
     "data": {
      "text/plain": [
       "Ttest_indResult(statistic=-1.3409476661538016, pvalue=0.18019860443844965)"
      ]
     },
     "execution_count": 72,
     "metadata": {},
     "output_type": "execute_result"
    }
   ],
   "source": [
    "weekendr = iowe.in_out_ratio\n",
    "weekdayr = iowd.in_out_ratio\n",
    "\n",
    "rwe = np.array(weekendr)\n",
    "rwd = np.array(weekdayr)\n",
    "\n",
    "sp.stats.ttest_ind(rwe, rwd)"
   ]
  },
  {
   "cell_type": "markdown",
   "metadata": {},
   "source": [
    "The t test assumed the means are identical, and the results above do not allow us to reject that hypothesis."
   ]
  },
  {
   "cell_type": "markdown",
   "metadata": {},
   "source": [
    "### 11. Is there a difference in average station capacities between the highest and lowest traffic group level?"
   ]
  },
  {
   "cell_type": "markdown",
   "metadata": {},
   "source": [
    "Null Hypothesis: The average station capacity for the highest traffic group = the average station capacity for the lowest traffic group\n",
    "\n",
    "Alternative Hypothesis: The average station capacity for the highest traffic group != the average station capacity for the lowest traffic group\n",
    "\n",
    "Significance level: .05"
   ]
  },
  {
   "cell_type": "code",
   "execution_count": 73,
   "metadata": {
    "collapsed": false
   },
   "outputs": [],
   "source": [
    "g1c = np.array(group1.start_capacity)\n",
    "g4c = np.array(group4.start_capacity)\n",
    "\n",
    "g1ec = np.array(group1.end_capacity)\n",
    "g4ec = np.array(group4.end_capacity)\n"
   ]
  },
  {
   "cell_type": "code",
   "execution_count": 74,
   "metadata": {
    "collapsed": false
   },
   "outputs": [
    {
     "data": {
      "text/plain": [
       "Ttest_indResult(statistic=237.13718466524881, pvalue=0.0)"
      ]
     },
     "execution_count": 74,
     "metadata": {},
     "output_type": "execute_result"
    }
   ],
   "source": [
    "sp.stats.ttest_ind(g1c, g4c)"
   ]
  },
  {
   "cell_type": "code",
   "execution_count": 75,
   "metadata": {
    "collapsed": false
   },
   "outputs": [
    {
     "data": {
      "text/plain": [
       "Ttest_indResult(statistic=166.40475113349163, pvalue=0.0)"
      ]
     },
     "execution_count": 75,
     "metadata": {},
     "output_type": "execute_result"
    }
   ],
   "source": [
    "sp.stats.ttest_ind(g1ec, g4ec)"
   ]
  },
  {
   "cell_type": "markdown",
   "metadata": {},
   "source": [
    "Both t test assumed the means are identical, and the results above cause us to reject the null hypothesis."
   ]
  }
 ],
 "metadata": {
  "kernelspec": {
   "display_name": "Python 2",
   "language": "python",
   "name": "python2"
  },
  "language_info": {
   "codemirror_mode": {
    "name": "ipython",
    "version": 2
   },
   "file_extension": ".py",
   "mimetype": "text/x-python",
   "name": "python",
   "nbconvert_exporter": "python",
   "pygments_lexer": "ipython2",
   "version": "2.7.11"
  }
 },
 "nbformat": 4,
 "nbformat_minor": 0
}

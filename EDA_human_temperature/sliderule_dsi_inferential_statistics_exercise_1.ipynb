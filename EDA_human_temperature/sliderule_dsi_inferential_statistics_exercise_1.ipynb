{
 "cells": [
  {
   "cell_type": "markdown",
   "metadata": {},
   "source": [
    "# What is the True Normal Human Body Temperature? \n",
    "\n",
    "#### Background\n",
    "\n",
    "The mean normal body temperature was held to be 37$^{\\circ}$C or 98.6$^{\\circ}$F for more than 120 years since it was first conceptualized and reported by Carl Wunderlich in a famous 1868 book. But, is this value statistically correct?"
   ]
  },
  {
   "cell_type": "markdown",
   "metadata": {},
   "source": [
    "<h3>Exercises</h3>\n",
    "\n",
    "<p>In this exercise, you will analyze a dataset of human body temperatures and employ the concepts of hypothesis testing, confidence intervals, and statistical significance.</p>\n",
    "\n",
    "<p>Answer the following questions <b>in this notebook below and submit to your Github account</b>.</p> \n",
    "\n",
    "<ol>\n",
    "<li>  Is the distribution of body temperatures normal? \n",
    "    <ul>\n",
    "    <li> Although this is not a requirement for the Central Limit Theorem to hold (read the introduction on Wikipedia's page about the CLT carefully: https://en.wikipedia.org/wiki/Central_limit_theorem), it gives us some peace of mind that the population may also be normally distributed if we assume that this sample is representative of the population.\n",
    "    <li> Think about the way you're going to check for the normality of the distribution. Graphical methods are usually used first, but there are also other ways: https://en.wikipedia.org/wiki/Normality_test\n",
    "    </ul>\n",
    "<li>  Is the sample size large? Are the observations independent?\n",
    "    <ul>\n",
    "    <li> Remember that this is a condition for the Central Limit Theorem, and hence the statistical tests we are using, to apply.\n",
    "    </ul>\n",
    "<li>  Is the true population mean really 98.6 degrees F?\n",
    "    <ul>\n",
    "    <li> First, try a bootstrap hypothesis test.\n",
    "    <li> Now, let's try frequentist statistical testing. Would you use a one-sample or two-sample test? Why?\n",
    "    <li> In this situation, is it appropriate to use the $t$ or $z$ statistic? \n",
    "    <li> Now try using the other test. How is the result be different? Why?\n",
    "    </ul>\n",
    "<li>  Draw a small sample of size 10 from the data and repeat both frequentist tests. \n",
    "    <ul>\n",
    "    <li> Which one is the correct one to use? \n",
    "    <li> What do you notice? What does this tell you about the difference in application of the $t$ and $z$ statistic?\n",
    "    </ul>\n",
    "<li>  At what temperature should we consider someone's temperature to be \"abnormal\"?\n",
    "    <ul>\n",
    "    <li> As in the previous example, try calculating everything using the boostrap approach, as well as the frequentist approach.\n",
    "    <li> Start by computing the margin of error and confidence interval. When calculating the confidence interval, keep in mind that you should use the appropriate formula for one draw, and not N draws.\n",
    "    </ul>\n",
    "<li>  Is there a significant difference between males and females in normal temperature?\n",
    "    <ul>\n",
    "    <li> What testing approach did you use and why?\n",
    "    <li> Write a story with your conclusion in the context of the original problem.\n",
    "    </ul>\n",
    "</ol>\n",
    "\n",
    "You can include written notes in notebook cells using Markdown: \n",
    "   - In the control panel at the top, choose Cell > Cell Type > Markdown\n",
    "   - Markdown syntax: http://nestacms.com/docs/creating-content/markdown-cheat-sheet\n",
    "\n",
    "#### Resources\n",
    "\n",
    "+ Information and data sources: http://www.amstat.org/publications/jse/datasets/normtemp.txt, http://www.amstat.org/publications/jse/jse_data_archive.htm\n",
    "+ Markdown syntax: http://nestacms.com/docs/creating-content/markdown-cheat-sheet\n",
    "\n",
    "****"
   ]
  },
  {
   "cell_type": "code",
   "execution_count": 1,
   "metadata": {
    "collapsed": false
   },
   "outputs": [],
   "source": [
    "import pandas as pd\n",
    "from statsmodels.stats import weightstats as stests\n",
    "import scipy as sp\n",
    "from scipy import stats\n",
    "import numpy as np\n",
    "import matplotlib.pyplot as plt\n",
    "%matplotlib inline\n",
    "\n",
    "df = pd.read_csv('data/human_body_temperature.csv')"
   ]
  },
  {
   "cell_type": "code",
   "execution_count": 2,
   "metadata": {
    "collapsed": false
   },
   "outputs": [
    {
     "data": {
      "text/plain": [
       "130"
      ]
     },
     "execution_count": 2,
     "metadata": {},
     "output_type": "execute_result"
    }
   ],
   "source": [
    "len(df.temperature)"
   ]
  },
  {
   "cell_type": "markdown",
   "metadata": {
    "collapsed": true
   },
   "source": [
    "## 1. Is the distribution of body temperatures normal?"
   ]
  },
  {
   "cell_type": "code",
   "execution_count": 3,
   "metadata": {
    "collapsed": false
   },
   "outputs": [
    {
     "data": {
      "image/png": "[encoded data removed]",
      "text/plain": [
       "<matplotlib.figure.Figure at 0x4261b00>"
      ]
     },
     "metadata": {},
     "output_type": "display_data"
    }
   ],
   "source": [
    "#check shape of histogram to see if temperature data is nomrally distributed\n",
    "\n",
    "#rule of thumb is for the number of bins to be equal to the square root of the # of samples\n",
    "bins = int(np.sqrt(len(df.temperature)))\n",
    "plt.hist(df.temperature, bins=bins)\n",
    "plt.show()"
   ]
  },
  {
   "cell_type": "markdown",
   "metadata": {},
   "source": [
    "The histogram appears to be normally distributed, but because of the potential of binning bias, it will also be a good idea to compare the ecdf of the data to the theoretical cdf of the normal distribution to check normality."
   ]
  },
  {
   "cell_type": "code",
   "execution_count": 4,
   "metadata": {
    "collapsed": false
   },
   "outputs": [],
   "source": [
    "#provide parameters (mean and std) and draw samples \n",
    "mean = np.mean(df.temperature)\n",
    "std = np.std(df.temperature)\n",
    "samples = np.random.normal(mean, std, size=10000)"
   ]
  },
  {
   "cell_type": "code",
   "execution_count": 5,
   "metadata": {
    "collapsed": true
   },
   "outputs": [],
   "source": [
    "def ecdf(data):\n",
    "    \"\"\"Compute ECDF for a one-dimensional array of measurements.\"\"\"\n",
    "    # Number of data points: n\n",
    "    n = float(len(data))\n",
    "\n",
    "    # x-data for the ECDF: x\n",
    "    x = np.sort(data)\n",
    "\n",
    "    # y-data for the ECDF: y\n",
    "    y = np.arange(1, n+1) / n\n",
    "\n",
    "    return x, y"
   ]
  },
  {
   "cell_type": "code",
   "execution_count": 6,
   "metadata": {
    "collapsed": false,
    "scrolled": true
   },
   "outputs": [
    {
     "data": {
      "image/png": "[encoded data removed]",
      "text/plain": [
       "<matplotlib.figure.Figure at 0xdb336d8>"
      ]
     },
     "metadata": {},
     "output_type": "display_data"
    }
   ],
   "source": [
    "#plot and compare the cdfs\n",
    "x,y = ecdf(df.temperature)\n",
    "x_theor, y_theor = ecdf(samples)\n",
    "\n",
    "plt.plot(x_theor, y_theor, label='Theoretical')\n",
    "plt.plot(x, y, marker='.', linestyle='none', label='Observed')\n",
    "plt.xlabel('Body Temperature (F)')\n",
    "plt.ylabel('ECDF')\n",
    "plt.title('CDF Comparison')\n",
    "plt.legend(loc='upper left')\n",
    "plt.show()\n"
   ]
  },
  {
   "cell_type": "markdown",
   "metadata": {},
   "source": [
    "As the cdfs line up closely we can confidently say the body temperatures are aproximately normally distributed"
   ]
  },
  {
   "cell_type": "markdown",
   "metadata": {},
   "source": [
    "## 2. Is the sample size large? Are the observations independent?"
   ]
  },
  {
   "cell_type": "markdown",
   "metadata": {},
   "source": [
    "The 10% rule states that if the sample is less than 10% of the population we can assume approximate independence. To answer this question we'll have to take a look at the number of samples in our data set compared to the entire human population."
   ]
  },
  {
   "cell_type": "code",
   "execution_count": 7,
   "metadata": {
    "collapsed": false
   },
   "outputs": [
    {
     "data": {
      "text/plain": [
       "130"
      ]
     },
     "execution_count": 7,
     "metadata": {},
     "output_type": "execute_result"
    }
   ],
   "source": [
    "sample_size = len(df.temperature)\n",
    "sample_size"
   ]
  },
  {
   "cell_type": "markdown",
   "metadata": {},
   "source": [
    "Generally, a sample size over 30 is considered large, as this sample contains 130 units, we would consider this a large sample. \n",
    "As the human population is in the billions however, the sample size is well under 10% of the population. The observations can be considered independent."
   ]
  },
  {
   "cell_type": "markdown",
   "metadata": {},
   "source": [
    "## 3. Is the true population mean really 98.6 degrees F?"
   ]
  },
  {
   "cell_type": "code",
   "execution_count": 8,
   "metadata": {
    "collapsed": true
   },
   "outputs": [],
   "source": [
    "#Bootstrap hypothesis test: null hypothesis is that population mean = 98.6 degrees (F)\n",
    "\n",
    "#create a function to draw bootstrap replicates\n",
    "def bootstrap_replicate_1D(data, func):\n",
    "    bs_sample = np.random.choice(data, len(data))\n",
    "    return func(bs_sample)\n",
    "\n",
    "def draw_bs_reps(data, func, size=1):\n",
    "    \"\"\"Draw bootstrap replicates.\"\"\"\n",
    "\n",
    "    # Initialize array of replicates: bs_replicates\n",
    "    bs_replicates = np.empty(size)\n",
    "\n",
    "    # Generate replicates\n",
    "    for i in range(size):\n",
    "        bs_replicates[i] = bootstrap_replicate_1D(data, func)\n",
    "\n",
    "    return bs_replicates\n"
   ]
  },
  {
   "cell_type": "code",
   "execution_count": 9,
   "metadata": {
    "collapsed": false
   },
   "outputs": [
    {
     "name": "stdout",
     "output_type": "stream",
     "text": [
      "0\n"
     ]
    }
   ],
   "source": [
    "#find the p_value using bootstrap replicates \n",
    "population_mean = 98.6\n",
    "bs_replicates = draw_bs_reps(df.temperature, np.mean, size=10000)\n",
    "p_value = np.sum(bs_replicates >= population_mean) / len(bs_replicates)\n",
    "\n",
    "print p_value\n"
   ]
  },
  {
   "cell_type": "markdown",
   "metadata": {},
   "source": [
    "Using a bootstrap hypothesis test we find that the p-value is 0 (tehcnically very near 0). This value is statistically significant and lets us know how small the probability of the mean body temperature being 98.6 really is. The population mean is very likley not 98.6 degrees.\n",
    "\n",
    "For frequentist statistical testing, we would use a one sample test because we are comparing one data set (df.temperatures) to a single number (98.6). As the sample size is greater than 30, it would be appropriate to use the z statistic in this situation. However, both z and t tests were conducted below."
   ]
  },
  {
   "cell_type": "code",
   "execution_count": 10,
   "metadata": {
    "collapsed": false
   },
   "outputs": [
    {
     "name": "stdout",
     "output_type": "stream",
     "text": [
      "critical value: -5.47592520208\n"
     ]
    }
   ],
   "source": [
    "sample_mean = np.mean(df.temperature)\n",
    "mean = 98.6\n",
    "n = len(df.temperature)\n",
    "sample_std = np.std(df.temperature)\n",
    "critical_value = (sample_mean - mean) / (sample_std/np.sqrt(n))\n",
    "print 'critical value: '+ str(critical_value)"
   ]
  },
  {
   "cell_type": "markdown",
   "metadata": {},
   "source": [
    "Because the z score is more than 5 standard deviations from the mean we'll get a probablity of (very near) 0, it is very unlikely that we would have gotten our sample mean if 98.6 was the true population mean.\n",
    "\n",
    "Looking at this value on a t table with about 100 degrees of freedom we have less than .0005 probability that we would have gotten our sample mean assuming 98.6 is the population mean.\n",
    "\n",
    "Both results are consistent using the larger sample size of 130."
   ]
  },
  {
   "cell_type": "markdown",
   "metadata": {},
   "source": [
    "## 4. Draw a small sample of size 10 from the data and repeat both frequentist tests."
   ]
  },
  {
   "cell_type": "markdown",
   "metadata": {},
   "source": [
    "With a sample size of 10 it would now be more appropriate to use a t statistic as it is more accurate with smaller sample sizes (less than 30)."
   ]
  },
  {
   "cell_type": "code",
   "execution_count": 12,
   "metadata": {
    "collapsed": false
   },
   "outputs": [
    {
     "name": "stdout",
     "output_type": "stream",
     "text": [
      "critical value: 0.146020415081\n"
     ]
    }
   ],
   "source": [
    "sample10 = np.random.choice(df.temperature, size=10)\n",
    "sample_mean10 = np.mean(sample10)\n",
    "mean = 98.6\n",
    "sample_std10 = np.std(sample10)\n",
    "critical_value10 = (sample_mean10 - mean) / (sample_std10/np.sqrt(10))\n",
    "print 'critical value: '+ str(critical_value10)\n"
   ]
  },
  {
   "cell_type": "code",
   "execution_count": 13,
   "metadata": {
    "collapsed": false
   },
   "outputs": [
    {
     "name": "stdout",
     "output_type": "stream",
     "text": [
      "[ 99.2  99.3  98.2  98.6  97.9  98.6  98.8  98.3  98.3  99. ]\n",
      "98.62\n"
     ]
    }
   ],
   "source": [
    "print sample10\n",
    "print sample_mean10"
   ]
  },
  {
   "cell_type": "markdown",
   "metadata": {
    "collapsed": true
   },
   "source": [
    "In this particular sample of 10 temperatures we find a z score of -2.39 which lets us know that we have a .0084 probability we would have gotten a sample mean equal to or more extreme than this one assuming 98.6 is the population mean.\n",
    "\n",
    "Looking at this value on a t table with 9 degrees of freedom we have between a .025 and .01 probability that we would have gotten our sample mean assuming 98.6 is the population mean.\n",
    "\n",
    "In this case the results from the t test and z test were not completely consistent, the t test is highly affected by the degree of freedom and should be used for smaller samples, and the z test is ideally used with larger samples and/ or when the population standard deviation is known."
   ]
  },
  {
   "cell_type": "markdown",
   "metadata": {},
   "source": [
    "## 5. At what temperature should we consider someone's temperature to be \"abnormal\"?"
   ]
  },
  {
   "cell_type": "markdown",
   "metadata": {
    "collapsed": true
   },
   "source": [
    "Using the bootstrap replicates calculated in question 3 we can find a 95% confidence interval for the sampling distribution for the mean. Using this confidence interval we would consider someone's temperature to be abnormal if it was below 98.12 degrees or above 98.37 degrees (F)."
   ]
  },
  {
   "cell_type": "code",
   "execution_count": 14,
   "metadata": {
    "collapsed": false
   },
   "outputs": [
    {
     "data": {
      "text/plain": [
       "array([ 98.12538462,  98.37384615])"
      ]
     },
     "execution_count": 14,
     "metadata": {},
     "output_type": "execute_result"
    }
   ],
   "source": [
    "conf95 = np.percentile(bs_replicates, [2.5,97.5])\n",
    "conf95"
   ]
  },
  {
   "cell_type": "code",
   "execution_count": 15,
   "metadata": {
    "collapsed": false
   },
   "outputs": [
    {
     "data": {
      "text/plain": [
       "0.00063624846390636586"
      ]
     },
     "execution_count": 15,
     "metadata": {},
     "output_type": "execute_result"
    }
   ],
   "source": [
    "standard_error = sp.stats.sem(bs_replicates)\n",
    "standard_error"
   ]
  },
  {
   "cell_type": "markdown",
   "metadata": {},
   "source": [
    "## 6. Is there a significant difference between males and females in normal temperature?"
   ]
  },
  {
   "cell_type": "markdown",
   "metadata": {},
   "source": [
    "To determine if there is a significant difference between temperature for males and females we can do a two-sample bootstrap test. We use this method instead of permutation because we want to test if males and females have the same mean body temperature, not that they have the same distribution.\n",
    "\n",
    "For a two-sample bootstrap test, we shift both arrays to have the same mean, since we are simulating the hypothesis that their means are equal. Then we'll draw bootstrap samples out of the shifted arrays and compute the difference in means. The p-value will be the fraction of replicates with a difference in means less than or equal to what was observed. We use less than as the observed difference between males and females was negative.\n",
    "\n",
    "We will use a typical .05 significance level in our test."
   ]
  },
  {
   "cell_type": "code",
   "execution_count": 16,
   "metadata": {
    "collapsed": false
   },
   "outputs": [
    {
     "data": {
      "text/plain": [
       "-0.28923076923076962"
      ]
     },
     "execution_count": 16,
     "metadata": {},
     "output_type": "execute_result"
    }
   ],
   "source": [
    "males = df.temperature.loc[df.gender == 'M']\n",
    "females = df.temperature.loc[df.gender == 'F']\n",
    "diff_means = np.mean(males) - np.mean(females)\n",
    "diff_means"
   ]
  },
  {
   "cell_type": "code",
   "execution_count": 17,
   "metadata": {
    "collapsed": false
   },
   "outputs": [
    {
     "name": "stdout",
     "output_type": "stream",
     "text": [
      "p-value = 0\n"
     ]
    }
   ],
   "source": [
    "# Compute mean of all temps\n",
    "mean_temps = np.mean(df.temperature)\n",
    "\n",
    "# Compute difference of means\n",
    "diff_means = np.mean(males) - np.mean(females)\n",
    "\n",
    "# Generate shifted arrays\n",
    "male_temps_shifted = males - np.mean(males) + mean_temps\n",
    "female_temps_shifted = females - np.mean(females) + mean_temps\n",
    "\n",
    "# Compute 10,000 bootstrap replicates from shifted arrays\n",
    "bs_replicates_males = draw_bs_reps(male_temps_shifted, np.mean, size=10000)\n",
    "bs_replicates_females = draw_bs_reps(female_temps_shifted, np.mean, size=10000)\n",
    "\n",
    "# Get replicates of difference of means: bs_replicates\n",
    "bs_replicates1 = bs_replicates_males - bs_replicates_females\n",
    "\n",
    "# Compute p value\n",
    "p = np.sum(bs_replicates1 <= diff_means) / len(bs_replicates1)\n",
    "print 'p-value =', p"
   ]
  },
  {
   "cell_type": "code",
   "execution_count": 18,
   "metadata": {
    "collapsed": false
   },
   "outputs": [
    {
     "data": {
      "text/plain": [
       "65"
      ]
     },
     "execution_count": 18,
     "metadata": {},
     "output_type": "execute_result"
    }
   ],
   "source": [
    "len(males)\n",
    "len(females)"
   ]
  },
  {
   "cell_type": "markdown",
   "metadata": {},
   "source": [
    "In this study we found that the difference in average body temperature between males and females is statistically significant. 130 body temperatures were collected with an even split of 65 males and 65 females. In our sample we observed a difference is body temperature from males to females of -.289 degrees (F). To determine if there was a difference in average body temperature we conducted a hypothesis test assuming that the average body temperature for males and females was the same. \n",
    "Conducting this test, we found that the probability of getting our observed difference in body temperature was almost zero percent assuming average body temperature was the same between genders. This result allowed us to reject the null hypothesis, and determine there is a statistically significant difference in male and female average body temperatures."
   ]
  }
 ],
 "metadata": {
  "kernelspec": {
   "display_name": "Python 2",
   "language": "python",
   "name": "python2"
  },
  "language_info": {
   "codemirror_mode": {
    "name": "ipython",
    "version": 2
   },
   "file_extension": ".py",
   "mimetype": "text/x-python",
   "name": "python",
   "nbconvert_exporter": "python",
   "pygments_lexer": "ipython2",
   "version": "2.7.11"
  }
 },
 "nbformat": 4,
 "nbformat_minor": 1
}

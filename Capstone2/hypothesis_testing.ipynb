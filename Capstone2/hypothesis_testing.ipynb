{
 "cells": [
  {
   "cell_type": "code",
   "execution_count": 1,
   "metadata": {},
   "outputs": [],
   "source": [
    "%matplotlib inline\n",
    "import matplotlib.pyplot as plt \n",
    "import pandas as pd\n",
    "import numpy as np\n",
    "import seaborn as sns\n",
    "import scipy as sp\n",
    "from scipy import stats\n",
    "import statsmodels.api as sm\n",
    "\n",
    "sns.set()"
   ]
  },
  {
   "cell_type": "code",
   "execution_count": 2,
   "metadata": {},
   "outputs": [],
   "source": [
    "#import hotel reviews into a dataframe\n",
    "df = pd.read_csv('yelp_reviews_filtered.csv')"
   ]
  },
  {
   "cell_type": "markdown",
   "metadata": {},
   "source": [
    "## Hypothesis Testing"
   ]
  },
  {
   "cell_type": "code",
   "execution_count": 3,
   "metadata": {},
   "outputs": [],
   "source": [
    "#create a function to draw bootstrap replicates\n",
    "def bootstrap_replicate_1D(data, func):\n",
    "    bs_sample = np.random.choice(data, len(data))\n",
    "    return func(bs_sample)\n",
    "\n",
    "def draw_bs_reps(data, func, size=1):\n",
    "    \"\"\"Draw bootstrap replicates.\"\"\"\n",
    "\n",
    "    # Initialize array of replicates: bs_replicates\n",
    "    bs_replicates = np.empty(size)\n",
    "\n",
    "    # Generate replicates\n",
    "    for i in range(size):\n",
    "        bs_replicates[i] = bootstrap_replicate_1D(data, func)\n",
    "\n",
    "    return bs_replicates"
   ]
  },
  {
   "cell_type": "markdown",
   "metadata": {},
   "source": [
    "### Is there a significant difference between text length in high and low rated reviews?\n",
    "\n",
    "Null hypothesis: The average text length of reviews above 3 == the average text length of reviews below 3\n",
    "\n",
    "Alternative hypothesis: The average text length of reviews above 3 != the average text length of reviews below 3\n",
    "\n",
    "significance level = .05"
   ]
  },
  {
   "cell_type": "code",
   "execution_count": 4,
   "metadata": {},
   "outputs": [],
   "source": [
    "high_rating = df[df.review_rating > 3]\n",
    "low_rating = df[df.review_rating < 3]"
   ]
  },
  {
   "cell_type": "code",
   "execution_count": 5,
   "metadata": {},
   "outputs": [
    {
     "data": {
      "text/plain": [
       "Ttest_indResult(statistic=-27.788654464057906, pvalue=1.1406181296993607e-168)"
      ]
     },
     "execution_count": 5,
     "metadata": {},
     "output_type": "execute_result"
    }
   ],
   "source": [
    "sp.stats.ttest_ind(high_rating.text_length, low_rating.text_length)"
   ]
  },
  {
   "cell_type": "markdown",
   "metadata": {},
   "source": [
    "The t test assumed the means are identical, and the results allows us to reject that hypothesis. \n",
    "\n",
    "What is the probability that text_length is higher in low rated reviews?"
   ]
  },
  {
   "cell_type": "code",
   "execution_count": 6,
   "metadata": {},
   "outputs": [],
   "source": [
    "# Compute observed difference of means\n",
    "diff_means = np.mean(high_rating.text_length) - np.mean(low_rating.text_length)\n",
    "\n",
    "# Compute 10,000 bootstrap replicates\n",
    "bs_replicates_hl = draw_bs_reps(high_rating.text_length, np.mean, size=10000)\n",
    "bs_replicates_ll = draw_bs_reps(low_rating.text_length, np.mean, size=10000)\n",
    "\n",
    "# Get replicates of difference of means: bs_replicates\n",
    "bs_replicatestl = bs_replicates_hl - bs_replicates_ll"
   ]
  },
  {
   "cell_type": "code",
   "execution_count": 7,
   "metadata": {},
   "outputs": [
    {
     "name": "stdout",
     "output_type": "stream",
     "text": [
      "p-value = 1.0\n",
      "95% confidence interval:  [-204.26076835 -177.0693572 ]\n",
      "Observed difference:  -190.56633469385076\n"
     ]
    }
   ],
   "source": [
    "# Compute p value\n",
    "p = np.sum(bs_replicatestl <= 0) / float(len(bs_replicatestl))\n",
    "print('p-value =', p)\n",
    "\n",
    "conf95 = np.percentile(bs_replicatestl, [2.5,97.5])\n",
    "print('95% confidence interval: ', conf95)\n",
    "print('Observed difference: ', diff_means)"
   ]
  },
  {
   "cell_type": "markdown",
   "metadata": {},
   "source": [
    "Based on the results we reject the null hypothesis and are confident that the average text length is larger for lower rated reviews."
   ]
  },
  {
   "cell_type": "markdown",
   "metadata": {},
   "source": [
    "### Is there a significant difference between text length in high and low rated companies?\n",
    "\n",
    "Null hypothesis: The average text length for companies rated above 3 == the average text length of companies rated below 3\n",
    "\n",
    "Alternative hypothesis: The average text length for companies rated above 3 == the average text length of companies rated below 3\n",
    "\n",
    "significance level = .05"
   ]
  },
  {
   "cell_type": "code",
   "execution_count": 8,
   "metadata": {},
   "outputs": [],
   "source": [
    "high_company = df[df.company_rating > 3]\n",
    "low_company = df[df.company_rating < 3]"
   ]
  },
  {
   "cell_type": "code",
   "execution_count": 9,
   "metadata": {},
   "outputs": [
    {
     "data": {
      "text/plain": [
       "Ttest_indResult(statistic=-5.418520161172166, pvalue=6.045297064899137e-08)"
      ]
     },
     "execution_count": 9,
     "metadata": {},
     "output_type": "execute_result"
    }
   ],
   "source": [
    "sp.stats.ttest_ind(high_company.text_length, low_company.text_length)"
   ]
  },
  {
   "cell_type": "markdown",
   "metadata": {},
   "source": [
    "The t test assumed the means are identical, and the results allows us to reject that hypothesis. \n",
    "\n",
    "What is the probability that text_length is longer for low rated companies?"
   ]
  },
  {
   "cell_type": "code",
   "execution_count": 10,
   "metadata": {},
   "outputs": [],
   "source": [
    "# Compute observed difference of means\n",
    "diff_means = np.mean(high_company.text_length) - np.mean(low_company.text_length)\n",
    "\n",
    "# Compute 10,000 bootstrap replicates\n",
    "bs_replicates_hcl = draw_bs_reps(high_company.text_length, np.mean, size=10000)\n",
    "bs_replicates_lcl = draw_bs_reps(low_company.text_length, np.mean, size=10000)\n",
    "\n",
    "# Get replicates of difference of means: bs_replicates\n",
    "bs_replicatesctl = bs_replicates_hcl - bs_replicates_lcl"
   ]
  },
  {
   "cell_type": "code",
   "execution_count": 11,
   "metadata": {},
   "outputs": [
    {
     "name": "stdout",
     "output_type": "stream",
     "text": [
      "p-value = 1.0\n",
      "95% confidence interval:  [-61.97624924 -29.58038267]\n",
      "Observed difference:  -45.423446540501914\n"
     ]
    }
   ],
   "source": [
    "# Compute p value\n",
    "p = np.sum(bs_replicatesctl <= 0) / float(len(bs_replicatesctl))\n",
    "print('p-value =', p)\n",
    "\n",
    "conf95 = np.percentile(bs_replicatesctl, [2.5,97.5])\n",
    "print('95% confidence interval: ', conf95)\n",
    "print('Observed difference: ', diff_means)"
   ]
  },
  {
   "cell_type": "markdown",
   "metadata": {},
   "source": [
    "Based on the results we reject the null hypothesis and are confident that the average text length is larger for lower rated companies."
   ]
  },
  {
   "cell_type": "markdown",
   "metadata": {},
   "source": [
    "### Is there a significant difference between review counts for high and low rated companies?\n",
    "\n",
    "Null hypothesis: The average review count for companies rated above 3 == the average review count of companies rated below 3\n",
    "\n",
    "Alternative hypothesis: The average review count for companies rated above 3 == the review count length of companies rated below 3\n",
    "\n",
    "significance level = .05"
   ]
  },
  {
   "cell_type": "code",
   "execution_count": 12,
   "metadata": {},
   "outputs": [],
   "source": [
    "#create a df that will allow you to compare the review counts for each company and their company rating\n",
    "review_counts = df.groupby('business_id').sum()\n",
    "avg_company_rating = df.groupby('business_id').mean()\n",
    "counts_by_company = review_counts.merge(avg_company_rating, left_on=review_counts.index, right_on=avg_company_rating.index)\n",
    "\n",
    "#split this dataframe into high and low rated companies (high company count and low company count)\n",
    "hcc = counts_by_company[counts_by_company.company_rating_y > 3] \n",
    "lcc = counts_by_company[counts_by_company.company_rating_y < 3]\n"
   ]
  },
  {
   "cell_type": "code",
   "execution_count": 13,
   "metadata": {},
   "outputs": [
    {
     "data": {
      "text/plain": [
       "Ttest_indResult(statistic=-1.170286535347613, pvalue=0.24732539587879276)"
      ]
     },
     "execution_count": 13,
     "metadata": {},
     "output_type": "execute_result"
    }
   ],
   "source": [
    "sp.stats.ttest_ind(hcc.review_count_x, lcc.review_count_x)"
   ]
  },
  {
   "cell_type": "markdown",
   "metadata": {},
   "source": [
    "The t test assumed the means are identical, and the results do not allow us to reject the null hypothesis. There is not a statistically significant difference in the average review counts for high and low rated companies"
   ]
  },
  {
   "cell_type": "markdown",
   "metadata": {},
   "source": [
    "### Is there a significant difference in Funny reviews for high and low rated companies?\n",
    "\n",
    "Null hypothesis: The average Funny reviews for companies rated above 3 == the average Funny reviews of companies rated below 3\n",
    "\n",
    "Alternative hypothesis: The average Funny reviews for companies rated above 3 != the average Funny reviews of companies rated below 3\n",
    "\n",
    "significance level = .05"
   ]
  },
  {
   "cell_type": "code",
   "execution_count": 14,
   "metadata": {},
   "outputs": [],
   "source": [
    "companies = df.groupby('business_id').mean()\n",
    "high_vote = companies[companies.company_rating > 3]\n",
    "low_vote = companies[companies.company_rating < 3]"
   ]
  },
  {
   "cell_type": "code",
   "execution_count": 15,
   "metadata": {},
   "outputs": [
    {
     "data": {
      "text/plain": [
       "Ttest_indResult(statistic=0.023347574144448702, pvalue=0.9814641358335048)"
      ]
     },
     "execution_count": 15,
     "metadata": {},
     "output_type": "execute_result"
    }
   ],
   "source": [
    "sp.stats.ttest_ind(high_vote.funny, low_vote.funny)"
   ]
  },
  {
   "cell_type": "markdown",
   "metadata": {},
   "source": [
    "The t test assumed the means are identical, and the results do not allow us to reject the null hypothesis. There is not a statistically significant difference in funny reviews for high and low rated companies"
   ]
  },
  {
   "cell_type": "markdown",
   "metadata": {},
   "source": [
    "### Is there a significant difference in Useful reviews for high and low rated companies?\n",
    "\n",
    "Null hypothesis: The average Useful reviews for companies rated above 3 == the average Useful reviews of companies rated below 3\n",
    "\n",
    "Alternative hypothesis: The average Useful reviews for companies rated above 3 != the average Useful reviews of companies rated below 3\n",
    "\n",
    "significance level = .05"
   ]
  },
  {
   "cell_type": "code",
   "execution_count": 16,
   "metadata": {},
   "outputs": [
    {
     "data": {
      "text/plain": [
       "Ttest_indResult(statistic=0.32709783735571313, pvalue=0.7449326891860704)"
      ]
     },
     "execution_count": 16,
     "metadata": {},
     "output_type": "execute_result"
    }
   ],
   "source": [
    "sp.stats.ttest_ind(high_vote.useful, low_vote.useful)"
   ]
  },
  {
   "cell_type": "markdown",
   "metadata": {},
   "source": [
    "The t test assumed the means are identical, and the results do not allow us to reject the null hypothesis. There is not a statistically significant difference in useful reviews for high and low rated companies"
   ]
  },
  {
   "cell_type": "markdown",
   "metadata": {},
   "source": [
    "### Is there a significant difference in Cool reviews for high and low rated companies?\n",
    "\n",
    "Null hypothesis: The average Cool reviews for companies rated above 3 == the average Cool reviews of companies rated below 3\n",
    "\n",
    "Alternative hypothesis: The average Cool reviews for companies rated above 3 != the average Cool reviews of companies rated below 3\n",
    "\n",
    "significance level = .05"
   ]
  },
  {
   "cell_type": "code",
   "execution_count": 17,
   "metadata": {},
   "outputs": [
    {
     "data": {
      "text/plain": [
       "Ttest_indResult(statistic=2.5312459335363044, pvalue=0.01449151198707585)"
      ]
     },
     "execution_count": 17,
     "metadata": {},
     "output_type": "execute_result"
    }
   ],
   "source": [
    "sp.stats.ttest_ind(high_vote.cool, low_vote.cool)"
   ]
  },
  {
   "cell_type": "markdown",
   "metadata": {},
   "source": [
    "The t test assumed the means are identical, and the results failling below the significance level of .05 allow us to reject that hypothesis. \n",
    "\n",
    "What is the probability of more cool reviews in higher rated companies?"
   ]
  },
  {
   "cell_type": "code",
   "execution_count": 18,
   "metadata": {},
   "outputs": [],
   "source": [
    "# Compute observed difference of means\n",
    "diff_means = np.mean(high_vote.cool) - np.mean(low_vote.cool)\n",
    "\n",
    "# Compute 10,000 bootstrap replicates\n",
    "bs_replicates_hco = draw_bs_reps(high_vote.cool, np.mean, size=10000)\n",
    "bs_replicates_lco = draw_bs_reps(low_vote.cool, np.mean, size=10000)\n",
    "\n",
    "# Get replicates of difference of means: bs_replicates\n",
    "bs_replicates_cool = bs_replicates_hco - bs_replicates_lco"
   ]
  },
  {
   "cell_type": "code",
   "execution_count": 19,
   "metadata": {},
   "outputs": [
    {
     "name": "stdout",
     "output_type": "stream",
     "text": [
      "p-value = 0.9978\n",
      "95% confidence interval:  [0.1207656  0.80764126]\n",
      "Observed difference:  0.44458562967754867\n"
     ]
    }
   ],
   "source": [
    "# Compute p value\n",
    "p = np.sum(bs_replicates_cool >= 0) / float(len(bs_replicates_cool))\n",
    "print('p-value =', p)\n",
    "\n",
    "conf95 = np.percentile(bs_replicates_cool, [2.5,97.5])\n",
    "print('95% confidence interval: ', conf95)\n",
    "print('Observed difference: ', diff_means)"
   ]
  },
  {
   "cell_type": "markdown",
   "metadata": {},
   "source": [
    "Based on the results we reject the null hypothesis and are confident that the average cool reviews are higher for higher rated companies."
   ]
  },
  {
   "cell_type": "markdown",
   "metadata": {},
   "source": [
    "### Is there a significant difference in Funny reviews for high and low review ratings?\n",
    "\n",
    "Null hypothesis: The average Funny reviews for reviews rated above 3 == the average Funny reviews for reviews rated below 3\n",
    "\n",
    "Alternative hypothesis: The average Funny reviews for reviews rated above 3 == the average Funny reviews for reviews rated below 3\n",
    "significance level = .05"
   ]
  },
  {
   "cell_type": "code",
   "execution_count": 20,
   "metadata": {},
   "outputs": [],
   "source": [
    "reviews = df.groupby('review_id').mean()\n",
    "highr_vote = reviews[reviews.review_rating > 3]\n",
    "lowr_vote = reviews[reviews.review_rating < 3]\n"
   ]
  },
  {
   "cell_type": "code",
   "execution_count": 21,
   "metadata": {},
   "outputs": [
    {
     "data": {
      "text/plain": [
       "Ttest_indResult(statistic=-8.131779555795593, pvalue=4.326425729250118e-16)"
      ]
     },
     "execution_count": 21,
     "metadata": {},
     "output_type": "execute_result"
    }
   ],
   "source": [
    "sp.stats.ttest_ind(highr_vote.funny, lowr_vote.funny)"
   ]
  },
  {
   "cell_type": "markdown",
   "metadata": {},
   "source": [
    "The t test assumed the means are identical, and the results allows us to reject that hypothesis. \n",
    "\n",
    "What is the probability that average funny reviews are higher for lower review ratings?"
   ]
  },
  {
   "cell_type": "code",
   "execution_count": 22,
   "metadata": {},
   "outputs": [],
   "source": [
    "# Compute observed difference of means\n",
    "diff_means = np.mean(highr_vote.funny) - np.mean(lowr_vote.funny)\n",
    "\n",
    "# Compute 10,000 bootstrap replicates\n",
    "bs_replicates_hrf = draw_bs_reps(highr_vote.funny, np.mean, size=10000)\n",
    "bs_replicates_lrf = draw_bs_reps(lowr_vote.funny, np.mean, size=10000)\n",
    "\n",
    "# Get replicates of difference of means: bs_replicates\n",
    "bs_replicatesrf = bs_replicates_hrf - bs_replicates_lrf"
   ]
  },
  {
   "cell_type": "code",
   "execution_count": 23,
   "metadata": {},
   "outputs": [
    {
     "name": "stdout",
     "output_type": "stream",
     "text": [
      "p-value = 1.0\n",
      "95% confidence interval:  [-0.23212837 -0.14206482]\n",
      "Observed difference:  -0.1876202869464002\n"
     ]
    }
   ],
   "source": [
    "# Compute p value\n",
    "p = np.sum(bs_replicatesrf <= 0) / float(len(bs_replicatesrf))\n",
    "print('p-value =', p)\n",
    "\n",
    "conf95 = np.percentile(bs_replicatesrf, [2.5,97.5])\n",
    "print('95% confidence interval: ', conf95)\n",
    "print('Observed difference: ', diff_means)"
   ]
  },
  {
   "cell_type": "markdown",
   "metadata": {},
   "source": [
    "Based on the results we reject the null hypothesis and are confident that the average funny reviews are higher for lower review ratings."
   ]
  },
  {
   "cell_type": "markdown",
   "metadata": {},
   "source": [
    "### Is there a significant difference in Useful reviews for high and low review ratings?\n",
    "\n",
    "Null hypothesis: The average Useful reviews for reviews rated above 3 == the average Useful reviews for reviews rated below 3\n",
    "\n",
    "Alternative hypothesis: The average Funny reviews for reviews rated above 3 == the average Funny reviews for reviews rated below 3\n",
    "significance level = .05"
   ]
  },
  {
   "cell_type": "code",
   "execution_count": 24,
   "metadata": {},
   "outputs": [
    {
     "data": {
      "text/plain": [
       "Ttest_indResult(statistic=-6.433998189906983, pvalue=1.2540863734333058e-10)"
      ]
     },
     "execution_count": 24,
     "metadata": {},
     "output_type": "execute_result"
    }
   ],
   "source": [
    "sp.stats.ttest_ind(highr_vote.useful, lowr_vote.useful)"
   ]
  },
  {
   "cell_type": "markdown",
   "metadata": {},
   "source": [
    "The t test assumed the means are identical, and the results allows us to reject that hypothesis. \n",
    "\n",
    "What is the probability that average useful reviews are higher for lower review ratings?"
   ]
  },
  {
   "cell_type": "code",
   "execution_count": 25,
   "metadata": {},
   "outputs": [],
   "source": [
    "# Compute observed difference of means\n",
    "diff_means = np.mean(highr_vote.useful) - np.mean(lowr_vote.useful)\n",
    "\n",
    "# Compute 10,000 bootstrap replicates\n",
    "bs_replicates_hru = draw_bs_reps(highr_vote.useful, np.mean, size=10000)\n",
    "bs_replicates_lru = draw_bs_reps(lowr_vote.useful, np.mean, size=10000)\n",
    "\n",
    "# Get replicates of difference of means: bs_replicates\n",
    "bs_replicatesru = bs_replicates_hru - bs_replicates_lru"
   ]
  },
  {
   "cell_type": "code",
   "execution_count": 26,
   "metadata": {},
   "outputs": [
    {
     "name": "stdout",
     "output_type": "stream",
     "text": [
      "p-value = 1.0\n",
      "95% confidence interval:  [-0.2803227  -0.14694699]\n",
      "Observed difference:  -0.21364267929634817\n"
     ]
    }
   ],
   "source": [
    "# Compute p value\n",
    "p = np.sum(bs_replicatesru <= 0) / float(len(bs_replicatesru))\n",
    "print('p-value =', p)\n",
    "\n",
    "conf95 = np.percentile(bs_replicatesru, [2.5,97.5])\n",
    "print('95% confidence interval: ', conf95)\n",
    "print('Observed difference: ', diff_means)"
   ]
  },
  {
   "cell_type": "markdown",
   "metadata": {},
   "source": [
    "Based on the results we reject the null hypothesis and are confident that the average useful reviews are higher for lower review ratings."
   ]
  },
  {
   "cell_type": "markdown",
   "metadata": {},
   "source": [
    "### Is there a significant difference in Cool reviews for high and low review ratings?\n",
    "\n",
    "Null hypothesis: The average Cool reviews for reviews rated above 3 == the average Cool reviews for reviews rated below 3\n",
    "\n",
    "Alternative hypothesis: The average Cool reviews for reviews rated above 3 == the average Cool reviews for reviews rated below 3\n",
    "significance level = .05"
   ]
  },
  {
   "cell_type": "code",
   "execution_count": 27,
   "metadata": {},
   "outputs": [
    {
     "data": {
      "text/plain": [
       "Ttest_indResult(statistic=21.669653690837418, pvalue=1.1898962930781724e-103)"
      ]
     },
     "execution_count": 27,
     "metadata": {},
     "output_type": "execute_result"
    }
   ],
   "source": [
    "sp.stats.ttest_ind(highr_vote.cool, lowr_vote.cool)"
   ]
  },
  {
   "cell_type": "markdown",
   "metadata": {},
   "source": [
    "The t test assumed the means are identical, and the results allows us to reject that hypothesis. \n",
    "\n",
    "What is the probability that average cool reviews are higher for higher review ratings?"
   ]
  },
  {
   "cell_type": "code",
   "execution_count": 28,
   "metadata": {},
   "outputs": [],
   "source": [
    "# Compute observed difference of means\n",
    "diff_means = np.mean(highr_vote.cool) - np.mean(lowr_vote.cool)\n",
    "\n",
    "# Compute 10,000 bootstrap replicates\n",
    "bs_replicates_hrc = draw_bs_reps(highr_vote.cool, np.mean, size=10000)\n",
    "bs_replicates_lrc = draw_bs_reps(lowr_vote.cool, np.mean, size=10000)\n",
    "\n",
    "# Get replicates of difference of means: bs_replicates\n",
    "bs_replicatesrc = bs_replicates_hrc - bs_replicates_lrc"
   ]
  },
  {
   "cell_type": "code",
   "execution_count": 29,
   "metadata": {},
   "outputs": [
    {
     "name": "stdout",
     "output_type": "stream",
     "text": [
      "p-value = 1.0\n",
      "95% confidence interval:  [0.46870195 0.56249207]\n",
      "Observed difference:  0.5147021452491629\n"
     ]
    }
   ],
   "source": [
    "# Compute p value\n",
    "p = np.sum(bs_replicatesrc >= 0) / float(len(bs_replicatesrc))\n",
    "print('p-value =', p)\n",
    "\n",
    "conf95 = np.percentile(bs_replicatesrc, [2.5,97.5])\n",
    "print('95% confidence interval: ', conf95)\n",
    "print('Observed difference: ', diff_means)"
   ]
  },
  {
   "cell_type": "markdown",
   "metadata": {},
   "source": [
    "Based on the results we reject the null hypothesis and are confident that the average cool reviews are higher for higher review ratings."
   ]
  }
 ],
 "metadata": {
  "kernelspec": {
   "display_name": "Python 3",
   "language": "python",
   "name": "python3"
  },
  "language_info": {
   "codemirror_mode": {
    "name": "ipython",
    "version": 3
   },
   "file_extension": ".py",
   "mimetype": "text/x-python",
   "name": "python",
   "nbconvert_exporter": "python",
   "pygments_lexer": "ipython3",
   "version": "3.6.5"
  }
 },
 "nbformat": 4,
 "nbformat_minor": 2
}

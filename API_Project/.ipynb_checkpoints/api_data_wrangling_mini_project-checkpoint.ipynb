{
 "cells": [
  {
   "cell_type": "markdown",
   "metadata": {},
   "source": [
    "\n",
    "\n",
    "\n",
    "This exercise will require you to pull some data from the Qunadl API. Qaundl is currently the most widely used aggregator of financial market data."
   ]
  },
  {
   "cell_type": "markdown",
   "metadata": {},
   "source": [
    "As a first step, you will need to register a free account on the http://www.quandl.com website."
   ]
  },
  {
   "cell_type": "markdown",
   "metadata": {},
   "source": [
    "After you register, you will be provided with a unique API key, that you should store:"
   ]
  },
  {
   "cell_type": "code",
   "execution_count": 1,
   "metadata": {
    "collapsed": true
   },
   "outputs": [],
   "source": [
    "# Store the API key as a string - according to PEP8, constants are always named in all upper case\n",
    "API_KEY = 'dxpXisifsxgCyjy8xgZs'"
   ]
  },
  {
   "cell_type": "markdown",
   "metadata": {},
   "source": [
    "Qaundl has a large number of data sources, but, unfortunately, most of them require a Premium subscription. Still, there are also a good number of free datasets."
   ]
  },
  {
   "cell_type": "markdown",
   "metadata": {},
   "source": [
    "For this mini project, we will focus on equities data from the Frankfurt Stock Exhange (FSE), which is available for free. We'll try and analyze the stock prices of a company called Carl Zeiss Meditec, which manufactures tools for eye examinations, as well as medical lasers for laser eye surgery: https://www.zeiss.com/meditec/int/home.html. The company is listed under the stock ticker AFX_X."
   ]
  },
  {
   "cell_type": "markdown",
   "metadata": {},
   "source": [
    "You can find the detailed Quandl API instructions here: https://docs.quandl.com/docs/time-series"
   ]
  },
  {
   "cell_type": "markdown",
   "metadata": {},
   "source": [
    "While there is a dedicated Python package for connecting to the Quandl API, we would prefer that you use the *requests* package, which can be easily downloaded using *pip* or *conda*. You can find the documentation for the package here: http://docs.python-requests.org/en/master/ "
   ]
  },
  {
   "cell_type": "markdown",
   "metadata": {},
   "source": [
    "Finally, apart from the *requests* package, you are encouraged to not use any third party Python packages, such as *pandas*, and instead focus on what's available in the Python Standard Library (the *collections* module might come in handy: https://pymotw.com/3/collections/).\n",
    "Also, since you won't have access to DataFrames, you are encouraged to us Python's native data structures - preferably dictionaries, though some questions can also be answered using lists.\n",
    "You can read more on these data structures here: https://docs.python.org/3/tutorial/datastructures.html"
   ]
  },
  {
   "cell_type": "markdown",
   "metadata": {},
   "source": [
    "Keep in mind that the JSON responses you will be getting from the API map almost one-to-one to Python's dictionaries. Unfortunately, they can be very nested, so make sure you read up on indexing dictionaries in the documentation provided above."
   ]
  },
  {
   "cell_type": "code",
   "execution_count": 2,
   "metadata": {
    "collapsed": true
   },
   "outputs": [],
   "source": [
    "# First, import the relevant modules\n",
    "import requests\n",
    "import json"
   ]
  },
  {
   "cell_type": "code",
   "execution_count": 3,
   "metadata": {
    "collapsed": false
   },
   "outputs": [
    {
     "name": "stdout",
     "output_type": "stream",
     "text": [
      "{u'dataset': {u'dataset_code': u'AFX_X', u'column_names': [u'Date', u'Open', u'High', u'Low', u'Close', u'Change', u'Traded Volume', u'Turnover', u'Last Price of the Day', u'Daily Traded Units', u'Daily Turnover'], u'newest_available_date': u'2018-06-20', u'description': u'Stock Prices for Carl Zeiss Meditec (AFX) from the Frankfurt Stock Exchange.<br><br>Trading System: Xetra<br><br>ISIN: DE0005313704', u'end_date': u'2018-06-15', u'data': [[u'2018-06-15', None, 62.45, 60.9, 61.45, None, 461929.0, 28395821.0, None, None, None]], u'start_date': u'2018-06-15', u'limit': None, u'transform': None, u'order': None, u'refreshed_at': u'2018-06-20T22:28:01.440Z', u'frequency': u'daily', u'database_code': u'FSE', u'oldest_available_date': u'2000-06-07', u'collapse': None, u'premium': False, u'database_id': 6129, u'column_index': None, u'type': u'Time Series', u'id': 10095370, u'name': u'Carl Zeiss Meditec (AFX_X)'}}\n"
     ]
    }
   ],
   "source": [
    "# Now, call the Quandl API and pull out a small sample of the data (only one day) to get a glimpse\n",
    "# into the JSON structure that will be returned\n",
    "\n",
    "r = requests.get(\"https://www.quandl.com/api/v3/datasets/FSE/AFX_X.json?start_date=2018-06-15&end_date=2018-06-15& \\\n",
    "api_key=dxpXisifsxgCyjy8xgZs\")\n",
    "june1518 = r.json()\n",
    "print june1518\n"
   ]
  },
  {
   "cell_type": "code",
   "execution_count": 4,
   "metadata": {
    "collapsed": false
   },
   "outputs": [
    {
     "data": {
      "text/plain": [
       "[[u'2018-06-15',\n",
       "  None,\n",
       "  62.45,\n",
       "  60.9,\n",
       "  61.45,\n",
       "  None,\n",
       "  461929.0,\n",
       "  28395821.0,\n",
       "  None,\n",
       "  None,\n",
       "  None]]"
      ]
     },
     "execution_count": 4,
     "metadata": {},
     "output_type": "execute_result"
    }
   ],
   "source": [
    "# Inspect the JSON structure of the object you created, and take note of how nested it is,\n",
    "# as well as the overall structure\n",
    "\n",
    "june1518['dataset']['data']\n"
   ]
  },
  {
   "cell_type": "markdown",
   "metadata": {},
   "source": [
    "These are your tasks for this mini project:\n",
    "\n",
    "1. Collect data from the Franfurt Stock Exchange, for the ticker AFX_X, for the whole year 2017 (keep in mind that the date format is YYYY-MM-DD).\n",
    "2. Convert the returned JSON object into a Python dictionary.\n",
    "3. Calculate what the highest and lowest opening prices were for the stock in this period.\n",
    "4. What was the largest change in any one day (based on High and Low price)?\n",
    "5. What was the largest change between any two days (based on Closing Price)?\n",
    "6. What was the average daily trading volume during this year?\n",
    "7. (Optional) What was the median trading volume during this year. (Note: you may need to implement your own function for calculating the median.)"
   ]
  },
  {
   "cell_type": "markdown",
   "metadata": {
    "collapsed": true
   },
   "source": [
    "## 1. Collect data from the Franfurt Stock Exchange, for the ticker AFX_X, for the whole year 2017 \n",
    "(keep in mind that the date format is YYYY-MM-DD)."
   ]
  },
  {
   "cell_type": "code",
   "execution_count": 5,
   "metadata": {
    "collapsed": false
   },
   "outputs": [],
   "source": [
    "r = requests.get(\"https://www.quandl.com/api/v3/datasets/FSE/AFX_X.json?start_date=2017-01-01&end_date=2017-12-31& \\\n",
    "api_key=dxpXisifsxgCyjy8xgZs\")\n",
    "\n"
   ]
  },
  {
   "cell_type": "markdown",
   "metadata": {},
   "source": [
    "## 2. Convert the returned JSON object into a Python dictionary."
   ]
  },
  {
   "cell_type": "code",
   "execution_count": 6,
   "metadata": {
    "collapsed": false
   },
   "outputs": [
    {
     "name": "stdout",
     "output_type": "stream",
     "text": [
      "{u'2017-04-13': {u'Daily Traded Units': None, u'Daily Turnover': None, u'Traded Volume': 88416.0, u'Last Price of the Day': None, u'High': 42.48, u'Low': 41.99, u'Date': u'2017-04-13', u'Close': 42.2, u'Open': 42.06, u'Change': None, u'Turnover': 3734717.0}, u'2017-03-22': {u'Daily Traded Units': None, u'Daily Turnover': None, u'Traded Volume': 670349.0, u'Last Price of the Day': None, u'High': 39.02, u'Low': 37.53, u'Date': u'2017-03-22', u'Close': 38.94, u'Open': 38.25, u'Change': None, u'Turnover': 25910543.0}, u'2017-02-23': {u'Daily Traded Units': None, u'Daily Turnover': None, u'Traded Volume': 81945.0, u'Last Price of the Day': None, u'High': 39.98, u'Low': 39.38, u'Date': u'2017-02-23', u'Close': 39.79, u'Open': 39.72, u'Change': None, u'Turnover': 3260642.0}, u'2017-02-27': {u'Daily Traded Units': None, u'Daily Turnover': None, u'Traded Volume': 62655.0, u'Last Price of the Day': None, u'High': 40.64, u'Low': 39.75, u'Date': u'2017-02-27', u'Close': 40.39, u'Open': 39.75, u'Change': None, u'Turnover': 2520260.0}, u'2017-03-13': {u'Daily Traded Units': None, u'Daily Turnover': None, u'Traded Volume': 44803.0, u'Last Price of the Day': None, u'High': 41.46, u'Low': 41.08, u'Date': u'2017-03-13', u'Close': 41.3, u'Open': 41.4, u'Change': None, u'Turnover': 1850251.0}, u'2017-11-01': {u'Daily Traded Units': None, u'Daily Turnover': None, u'Traded Volume': 56319.0, u'Last Price of the Day': None, u'High': 46.55, u'Low': 45.97, u'Date': u'2017-11-01', u'Close': 46.04, u'Open': 46.29, u'Change': None, u'Turnover': 2603859.0}, u'2017-11-02': {u'Daily Traded Units': None, u'Daily Turnover': None, u'Traded Volume': 37958.0, u'Last Price of the Day': None, u'High': 46.06, u'Low': 45.18, u'Date': u'2017-11-02', u'Close': 45.27, u'Open': 45.88, u'Change': None, u'Turnover': 1724840.0}, u'2017-11-03': {u'Daily Traded Units': None, u'Daily Turnover': None, u'Traded Volume': 56911.0, u'Last Price of the Day': None, u'High': 46.04, u'Low': 44.83, u'Date': u'2017-11-03', u'Close': 45.97, u'Open': 45.0, u'Change': None, u'Turnover': 2603498.0}, u'2017-04-05': {u'Daily Traded Units': None, u'Daily Turnover': None, u'Traded Volume': 156005.0, u'Last Price of the Day': None, u'High': 41.34, u'Low': 40.79, u'Date': u'2017-04-05', u'Close': 41.1, u'Open': 41.1, u'Change': None, u'Turnover': 6404780.0}, u'2017-11-06': {u'Daily Traded Units': None, u'Daily Turnover': None, u'Traded Volume': 60716.0, u'Last Price of the Day': None, u'High': 46.09, u'Low': 45.76, u'Date': u'2017-11-06', u'Close': 45.99, u'Open': 45.81, u'Change': None, u'Turnover': 2789220.0}, u'2017-11-07': {u'Daily Traded Units': None, u'Daily Turnover': None, u'Traded Volume': 48152.0, u'Last Price of the Day': None, u'High': 46.33, u'Low': 45.84, u'Date': u'2017-11-07', u'Close': 46.26, u'Open': 46.16, u'Change': None, u'Turnover': 2224221.0}, u'2017-11-08': {u'Daily Traded Units': None, u'Daily Turnover': None, u'Traded Volume': 94195.0, u'Last Price of the Day': None, u'High': 47.72, u'Low': 46.42, u'Date': u'2017-11-08', u'Close': 47.47, u'Open': 46.42, u'Change': None, u'Turnover': 4463935.0}, u'2017-11-09': {u'Daily Traded Units': None, u'Daily Turnover': None, u'Traded Volume': 120268.0, u'Last Price of the Day': None, u'High': 48.06, u'Low': 47.09, u'Date': u'2017-11-09', u'Close': 47.21, u'Open': 47.65, u'Change': None, u'Turnover': 5712034.0}, u'2017-02-01': {u'Daily Traded Units': None, u'Daily Turnover': None, u'Traded Volume': 85137.0, u'Last Price of the Day': None, u'High': 36.0, u'Low': 34.75, u'Date': u'2017-02-01', u'Close': 35.94, u'Open': 34.75, u'Change': None, u'Turnover': 3038172.0}, u'2017-02-24': {u'Daily Traded Units': None, u'Daily Turnover': None, u'Traded Volume': 101294.0, u'Last Price of the Day': None, u'High': 40.14, u'Low': 38.91, u'Date': u'2017-02-24', u'Close': 39.74, u'Open': 39.77, u'Change': None, u'Turnover': 4015150.0}, u'2017-10-16': {u'Daily Traded Units': None, u'Daily Turnover': None, u'Traded Volume': 49246.0, u'Last Price of the Day': None, u'High': 45.75, u'Low': 45.3, u'Date': u'2017-10-16', u'Close': 45.55, u'Open': 45.61, u'Change': None, u'Turnover': 2243129.0}, u'2017-10-17': {u'Daily Traded Units': None, u'Daily Turnover': None, u'Traded Volume': 65837.0, u'Last Price of the Day': None, u'High': 46.06, u'Low': 45.37, u'Date': u'2017-10-17', u'Close': 45.96, u'Open': 45.8, u'Change': None, u'Turnover': 3014080.0}, u'2017-10-10': {u'Daily Traded Units': None, u'Daily Turnover': None, u'Traded Volume': 65860.0, u'Last Price of the Day': None, u'High': 46.04, u'Low': 45.57, u'Date': u'2017-10-10', u'Close': 45.84, u'Open': 45.64, u'Change': None, u'Turnover': 3016658.0}, u'2017-10-11': {u'Daily Traded Units': None, u'Daily Turnover': None, u'Traded Volume': 69455.0, u'Last Price of the Day': None, u'High': 45.97, u'Low': 45.25, u'Date': u'2017-10-11', u'Close': 45.29, u'Open': 45.97, u'Change': None, u'Turnover': 3158321.0}, u'2017-10-12': {u'Daily Traded Units': None, u'Daily Turnover': None, u'Traded Volume': 49180.0, u'Last Price of the Day': None, u'High': 45.58, u'Low': 45.17, u'Date': u'2017-10-12', u'Close': 45.43, u'Open': 45.58, u'Change': None, u'Turnover': 2233481.0}, u'2017-10-13': {u'Daily Traded Units': None, u'Daily Turnover': None, u'Traded Volume': 43362.0, u'Last Price of the Day': None, u'High': 45.7, u'Low': 45.37, u'Date': u'2017-10-13', u'Close': 45.4, u'Open': 45.5, u'Change': None, u'Turnover': 1971801.0}, u'2017-03-24': {u'Daily Traded Units': None, u'Daily Turnover': None, u'Traded Volume': 210926.0, u'Last Price of the Day': None, u'High': 39.02, u'Low': 38.6, u'Date': u'2017-03-24', u'Close': 38.94, u'Open': 38.94, u'Change': None, u'Turnover': 8205507.0}, u'2017-07-28': {u'Daily Traded Units': None, u'Daily Turnover': None, u'Traded Volume': 114006.0, u'Last Price of the Day': None, u'High': 45.29, u'Low': 44.75, u'Date': u'2017-07-28', u'Close': 44.97, u'Open': 45.26, u'Change': None, u'Turnover': 5127247.0}, u'2017-06-07': {u'Daily Traded Units': None, u'Daily Turnover': None, u'Traded Volume': 1081.0, u'Last Price of the Day': None, u'High': 47.43, u'Low': 47.01, u'Date': u'2017-06-07', u'Close': 47.43, u'Open': 47.01, u'Change': None, u'Turnover': 51021.0}, u'2017-10-18': {u'Daily Traded Units': None, u'Daily Turnover': None, u'Traded Volume': 45263.0, u'Last Price of the Day': None, u'High': 46.2, u'Low': 45.61, u'Date': u'2017-10-18', u'Close': 45.77, u'Open': 46.01, u'Change': None, u'Turnover': 2076951.0}, u'2017-10-19': {u'Daily Traded Units': None, u'Daily Turnover': None, u'Traded Volume': 59991.0, u'Last Price of the Day': None, u'High': 45.85, u'Low': 44.79, u'Date': u'2017-10-19', u'Close': 45.0, u'Open': 45.72, u'Change': None, u'Turnover': 2703085.0}, u'2017-06-02': {u'Daily Traded Units': None, u'Daily Turnover': None, u'Traded Volume': 290.0, u'Last Price of the Day': None, u'High': 46.99, u'Low': 46.72, u'Date': u'2017-06-02', u'Close': 46.99, u'Open': 46.8, u'Change': None, u'Turnover': 13584.0}, u'2017-05-17': {u'Daily Traded Units': None, u'Daily Turnover': None, u'Traded Volume': 149515.0, u'Last Price of the Day': None, u'High': 45.34, u'Low': 44.01, u'Date': u'2017-05-17', u'Close': 44.19, u'Open': 45.06, u'Change': None, u'Turnover': 6664744.0}, u'2017-02-20': {u'Daily Traded Units': None, u'Daily Turnover': None, u'Traded Volume': 37014.0, u'Last Price of the Day': None, u'High': 39.25, u'Low': 38.81, u'Date': u'2017-02-20', u'Close': 38.98, u'Open': 39.25, u'Change': None, u'Turnover': 1444138.0}, u'2017-03-23': {u'Daily Traded Units': None, u'Daily Turnover': None, u'Traded Volume': 169971.0, u'Last Price of the Day': None, u'High': 39.25, u'Low': 38.63, u'Date': u'2017-03-23', u'Close': 38.96, u'Open': 39.01, u'Change': None, u'Turnover': 6621807.0}, u'2017-02-02': {u'Daily Traded Units': None, u'Daily Turnover': None, u'Traded Volume': 54279.0, u'Last Price of the Day': None, u'High': 36.2, u'Low': 35.7, u'Date': u'2017-02-02', u'Close': 36.07, u'Open': 35.95, u'Change': None, u'Turnover': 1953176.0}, u'2017-07-31': {u'Daily Traded Units': None, u'Daily Turnover': None, u'Traded Volume': 62672.0, u'Last Price of the Day': None, u'High': 45.75, u'Low': 44.94, u'Date': u'2017-07-31', u'Close': 45.3, u'Open': 44.94, u'Change': None, u'Turnover': 2844210.0}, u'2017-05-12': {u'Daily Traded Units': None, u'Daily Turnover': None, u'Traded Volume': 159495.0, u'Last Price of the Day': None, u'High': 45.18, u'Low': 44.16, u'Date': u'2017-05-12', u'Close': 44.99, u'Open': 45.18, u'Change': None, u'Turnover': 7113519.0}, u'2017-01-03': {u'Daily Traded Units': None, u'Daily Turnover': None, u'Traded Volume': 70618.0, u'Last Price of the Day': None, u'High': 35.93, u'Low': 35.34, u'Date': u'2017-01-03', u'Close': 35.48, u'Open': 35.9, u'Change': None, u'Turnover': 2515473.0}, u'2017-06-12': {u'Daily Traded Units': None, u'Daily Turnover': None, u'Traded Volume': 112942.0, u'Last Price of the Day': None, u'High': 47.43, u'Low': 45.89, u'Date': u'2017-06-12', u'Close': 46.31, u'Open': 47.31, u'Change': None, u'Turnover': 5238390.0}, u'2017-05-15': {u'Daily Traded Units': None, u'Daily Turnover': None, u'Traded Volume': 193702.0, u'Last Price of the Day': None, u'High': 45.78, u'Low': 44.31, u'Date': u'2017-05-15', u'Close': 45.14, u'Open': 45.09, u'Change': None, u'Turnover': 8734286.0}, u'2017-01-02': {u'Daily Traded Units': None, u'Daily Turnover': None, u'Traded Volume': 44700.0, u'Last Price of the Day': None, u'High': 35.94, u'Low': 34.99, u'Date': u'2017-01-02', u'Close': 35.8, u'Open': 34.99, u'Change': None, u'Turnover': 1590561.0}, u'2017-03-30': {u'Daily Traded Units': None, u'Daily Turnover': None, u'Traded Volume': 189201.0, u'Last Price of the Day': None, u'High': 40.14, u'Low': 39.42, u'Date': u'2017-03-30', u'Close': 39.75, u'Open': 40.02, u'Change': None, u'Turnover': 7541354.0}, u'2017-11-17': {u'Daily Traded Units': None, u'Daily Turnover': None, u'Traded Volume': 54107.0, u'Last Price of the Day': None, u'High': 47.15, u'Low': 46.8, u'Date': u'2017-11-17', u'Close': 46.84, u'Open': 47.03, u'Change': None, u'Turnover': 2540820.0}, u'2017-11-16': {u'Daily Traded Units': None, u'Daily Turnover': None, u'Traded Volume': 89373.0, u'Last Price of the Day': None, u'High': 47.23, u'Low': 46.55, u'Date': u'2017-11-16', u'Close': 47.03, u'Open': 47.09, u'Change': None, u'Turnover': 4195732.0}, u'2017-10-09': {u'Daily Traded Units': None, u'Daily Turnover': None, u'Traded Volume': 44059.0, u'Last Price of the Day': None, u'High': 46.2, u'Low': 45.6, u'Date': u'2017-10-09', u'Close': 45.74, u'Open': 46.2, u'Change': None, u'Turnover': 2015453.0}, u'2017-11-14': {u'Daily Traded Units': None, u'Daily Turnover': None, u'Traded Volume': 67672.0, u'Last Price of the Day': None, u'High': 48.9, u'Low': 47.84, u'Date': u'2017-11-14', u'Close': 48.0, u'Open': 48.4, u'Change': None, u'Turnover': 3259979.0}, u'2017-11-13': {u'Daily Traded Units': None, u'Daily Turnover': None, u'Traded Volume': 76286.0, u'Last Price of the Day': None, u'High': 48.61, u'Low': 47.76, u'Date': u'2017-11-13', u'Close': 48.34, u'Open': 48.38, u'Change': None, u'Turnover': 3681337.0}, u'2017-03-07': {u'Daily Traded Units': None, u'Daily Turnover': None, u'Traded Volume': 61925.0, u'Last Price of the Day': None, u'High': 41.8, u'Low': 41.25, u'Date': u'2017-03-07', u'Close': 41.42, u'Open': 41.5, u'Change': None, u'Turnover': 2569608.0}, u'2017-11-10': {u'Daily Traded Units': None, u'Daily Turnover': None, u'Traded Volume': 90245.0, u'Last Price of the Day': None, u'High': 48.89, u'Low': 47.16, u'Date': u'2017-11-10', u'Close': 48.34, u'Open': 47.3, u'Change': None, u'Turnover': 4361552.0}, u'2017-10-02': {u'Daily Traded Units': None, u'Daily Turnover': None, u'Traded Volume': 95313.0, u'Last Price of the Day': None, u'High': 44.98, u'Low': 44.18, u'Date': u'2017-10-02', u'Close': 44.98, u'Open': 44.51, u'Change': None, u'Turnover': 4265024.0}, u'2017-07-19': {u'Daily Traded Units': None, u'Daily Turnover': None, u'Traded Volume': 71971.0, u'Last Price of the Day': None, u'High': 45.72, u'Low': 44.94, u'Date': u'2017-07-19', u'Close': 45.57, u'Open': 45.06, u'Change': None, u'Turnover': 3273001.0}, u'2017-02-22': {u'Daily Traded Units': None, u'Daily Turnover': None, u'Traded Volume': 77619.0, u'Last Price of the Day': None, u'High': 39.75, u'Low': 39.27, u'Date': u'2017-02-22', u'Close': 39.7, u'Open': 39.6, u'Change': None, u'Turnover': 3066894.0}, u'2017-10-06': {u'Daily Traded Units': None, u'Daily Turnover': None, u'Traded Volume': 66760.0, u'Last Price of the Day': None, u'High': 46.19, u'Low': 45.69, u'Date': u'2017-10-06', u'Close': 46.0, u'Open': 46.19, u'Change': None, u'Turnover': 3066198.0}, u'2017-10-05': {u'Daily Traded Units': None, u'Daily Turnover': None, u'Traded Volume': 94804.0, u'Last Price of the Day': None, u'High': 46.09, u'Low': 45.63, u'Date': u'2017-10-05', u'Close': 46.05, u'Open': 46.01, u'Change': None, u'Turnover': 4352002.0}, u'2017-10-04': {u'Daily Traded Units': None, u'Daily Turnover': None, u'Traded Volume': 115706.0, u'Last Price of the Day': None, u'High': 46.17, u'Low': 45.22, u'Date': u'2017-10-04', u'Close': 46.11, u'Open': 45.36, u'Change': None, u'Turnover': 5313199.0}, u'2017-06-13': {u'Daily Traded Units': None, u'Daily Turnover': None, u'Traded Volume': 107644.0, u'Last Price of the Day': None, u'High': 46.51, u'Low': 46.03, u'Date': u'2017-06-13', u'Close': 46.32, u'Open': 46.5, u'Change': None, u'Turnover': 4981185.0}, u'2017-07-07': {u'Daily Traded Units': None, u'Daily Turnover': None, u'Traded Volume': 47999.0, u'Last Price of the Day': None, u'High': 44.79, u'Low': 44.25, u'Date': u'2017-07-07', u'Close': 44.53, u'Open': 44.79, u'Change': None, u'Turnover': 2136578.0}, u'2017-05-10': {u'Daily Traded Units': None, u'Daily Turnover': None, u'Traded Volume': 91858.0, u'Last Price of the Day': None, u'High': 43.6, u'Low': 42.53, u'Date': u'2017-05-10', u'Close': 43.28, u'Open': 43.5, u'Change': None, u'Turnover': 3958630.0}, u'2017-05-11': {u'Daily Traded Units': None, u'Daily Turnover': None, u'Traded Volume': 189125.0, u'Last Price of the Day': None, u'High': 46.06, u'Low': 43.25, u'Date': u'2017-05-11', u'Close': 45.0, u'Open': 43.4, u'Change': None, u'Turnover': 8496322.0}, u'2017-05-16': {u'Daily Traded Units': None, u'Daily Turnover': None, u'Traded Volume': 101476.0, u'Last Price of the Day': None, u'High': 45.36, u'Low': 44.56, u'Date': u'2017-05-16', u'Close': 45.31, u'Open': 45.15, u'Change': None, u'Turnover': 4567885.0}, u'2017-06-16': {u'Daily Traded Units': None, u'Daily Turnover': None, u'Traded Volume': 202214.0, u'Last Price of the Day': None, u'High': 46.8, u'Low': 45.66, u'Date': u'2017-06-16', u'Close': 46.63, u'Open': 45.66, u'Change': None, u'Turnover': 9411695.0}, u'2017-12-29': {u'Daily Traded Units': None, u'Daily Turnover': None, u'Traded Volume': 34640.0, u'Last Price of the Day': None, u'High': 51.94, u'Low': 51.45, u'Date': u'2017-12-29', u'Close': 51.76, u'Open': 51.76, u'Change': None, u'Turnover': 1792304.0}, u'2017-12-28': {u'Daily Traded Units': None, u'Daily Turnover': None, u'Traded Volume': 40660.0, u'Last Price of the Day': None, u'High': 51.82, u'Low': 51.43, u'Date': u'2017-12-28', u'Close': 51.6, u'Open': 51.65, u'Change': None, u'Turnover': 2099024.0}, u'2017-12-27': {u'Daily Traded Units': None, u'Daily Turnover': None, u'Traded Volume': 57452.0, u'Last Price of the Day': None, u'High': 51.89, u'Low': 50.76, u'Date': u'2017-12-27', u'Close': 51.82, u'Open': 51.45, u'Change': None, u'Turnover': 2957018.0}, u'2017-01-09': {u'Daily Traded Units': None, u'Daily Turnover': None, u'Traded Volume': 62225.0, u'Last Price of the Day': None, u'High': 35.35, u'Low': 34.43, u'Date': u'2017-01-09', u'Close': 34.67, u'Open': 35.29, u'Change': None, u'Turnover': 2157182.0}, u'2017-06-19': {u'Daily Traded Units': None, u'Daily Turnover': None, u'Traded Volume': 70056.0, u'Last Price of the Day': None, u'High': 46.9, u'Low': 46.25, u'Date': u'2017-06-19', u'Close': 46.64, u'Open': 46.9, u'Change': None, u'Turnover': 3260381.0}, u'2017-06-14': {u'Daily Traded Units': None, u'Daily Turnover': None, u'Traded Volume': 83741.0, u'Last Price of the Day': None, u'High': 46.86, u'Low': 46.05, u'Date': u'2017-06-14', u'Close': 46.33, u'Open': 46.52, u'Change': None, u'Turnover': 3881453.0}, u'2017-12-22': {u'Daily Traded Units': None, u'Daily Turnover': None, u'Traded Volume': 71165.0, u'Last Price of the Day': None, u'High': 51.5, u'Low': 50.92, u'Date': u'2017-12-22', u'Close': 51.32, u'Open': 51.05, u'Change': None, u'Turnover': 3641949.0}, u'2017-12-21': {u'Daily Traded Units': None, u'Daily Turnover': None, u'Traded Volume': 120649.0, u'Last Price of the Day': None, u'High': 51.52, u'Low': 50.9, u'Date': u'2017-12-21', u'Close': 51.4, u'Open': 51.16, u'Change': None, u'Turnover': 6179433.0}, u'2017-12-20': {u'Daily Traded Units': None, u'Daily Turnover': None, u'Traded Volume': 50587.0, u'Last Price of the Day': None, u'High': 52.04, u'Low': 51.2, u'Date': u'2017-12-20', u'Close': 51.27, u'Open': 51.88, u'Change': None, u'Turnover': 2610258.0}, u'2017-01-16': {u'Daily Traded Units': None, u'Daily Turnover': None, u'Traded Volume': 47879.0, u'Last Price of the Day': None, u'High': 35.24, u'Low': 34.56, u'Date': u'2017-01-16', u'Close': 35.07, u'Open': 34.85, u'Change': None, u'Turnover': 1678679.0}, u'2017-01-17': {u'Daily Traded Units': None, u'Daily Turnover': None, u'Traded Volume': 39195.0, u'Last Price of the Day': None, u'High': 35.19, u'Low': 34.79, u'Date': u'2017-01-17', u'Close': 34.99, u'Open': 35.06, u'Change': None, u'Turnover': 1369857.0}, u'2017-03-31': {u'Daily Traded Units': None, u'Daily Turnover': None, u'Traded Volume': 95382.0, u'Last Price of the Day': None, u'High': 40.07, u'Low': 39.42, u'Date': u'2017-03-31', u'Close': 39.98, u'Open': 39.77, u'Change': None, u'Turnover': 3795061.0}, u'2017-03-06': {u'Daily Traded Units': None, u'Daily Turnover': None, u'Traded Volume': 46510.0, u'Last Price of the Day': None, u'High': 41.4, u'Low': 40.81, u'Date': u'2017-03-06', u'Close': 41.4, u'Open': 41.25, u'Change': None, u'Turnover': 1916799.0}, u'2017-01-13': {u'Daily Traded Units': None, u'Daily Turnover': None, u'Traded Volume': 59367.0, u'Last Price of the Day': None, u'High': 34.98, u'Low': 34.6, u'Date': u'2017-01-13', u'Close': 34.85, u'Open': 34.98, u'Change': None, u'Turnover': 2065534.0}, u'2017-01-10': {u'Daily Traded Units': None, u'Daily Turnover': None, u'Traded Volume': 43976.0, u'Last Price of the Day': None, u'High': 34.98, u'Low': 34.46, u'Date': u'2017-01-10', u'Close': 34.91, u'Open': 34.8, u'Change': None, u'Turnover': 1528055.0}, u'2017-04-24': {u'Daily Traded Units': None, u'Daily Turnover': None, u'Traded Volume': 102084.0, u'Last Price of the Day': None, u'High': 42.02, u'Low': 41.23, u'Date': u'2017-04-24', u'Close': 41.81, u'Open': 42.01, u'Change': None, u'Turnover': 4247032.0}, u'2017-02-13': {u'Daily Traded Units': None, u'Daily Turnover': None, u'Traded Volume': 177171.0, u'Last Price of the Day': None, u'High': 39.36, u'Low': 37.35, u'Date': u'2017-02-13', u'Close': 38.53, u'Open': 37.37, u'Change': None, u'Turnover': 6804028.0}, u'2017-05-18': {u'Daily Traded Units': None, u'Daily Turnover': None, u'Traded Volume': 166160.0, u'Last Price of the Day': None, u'High': 44.3, u'Low': 43.29, u'Date': u'2017-05-18', u'Close': 43.98, u'Open': 44.0, u'Change': None, u'Turnover': 7277314.0}, u'2017-01-18': {u'Daily Traded Units': None, u'Daily Turnover': None, u'Traded Volume': 65931.0, u'Last Price of the Day': None, u'High': 35.51, u'Low': 34.8, u'Date': u'2017-01-18', u'Close': 34.9, u'Open': 35.04, u'Change': None, u'Turnover': 2311608.0}, u'2017-03-29': {u'Daily Traded Units': None, u'Daily Turnover': None, u'Traded Volume': 335406.0, u'Last Price of the Day': None, u'High': 40.01, u'Low': 39.05, u'Date': u'2017-03-29', u'Close': 40.01, u'Open': 39.39, u'Change': None, u'Turnover': 13349426.0}, u'2017-05-19': {u'Daily Traded Units': None, u'Daily Turnover': None, u'Traded Volume': 45.0, u'Last Price of the Day': None, u'High': 44.12, u'Low': 43.74, u'Date': u'2017-05-19', u'Close': 44.12, u'Open': 43.74, u'Change': None, u'Turnover': 1980.0}, u'2017-04-25': {u'Daily Traded Units': None, u'Daily Turnover': None, u'Traded Volume': 85973.0, u'Last Price of the Day': None, u'High': 42.18, u'Low': 41.66, u'Date': u'2017-04-25', u'Close': 41.89, u'Open': 41.93, u'Change': None, u'Turnover': 3604204.0}, u'2017-02-10': {u'Daily Traded Units': None, u'Daily Turnover': None, u'Traded Volume': 115843.0, u'Last Price of the Day': None, u'High': 37.5, u'Low': 36.57, u'Date': u'2017-02-10', u'Close': 37.06, u'Open': 36.65, u'Change': None, u'Turnover': 4291017.0}, u'2017-06-08': {u'Daily Traded Units': None, u'Daily Turnover': None, u'Traded Volume': 1945.0, u'Last Price of the Day': None, u'High': 47.8, u'Low': 46.27, u'Date': u'2017-06-08', u'Close': 46.27, u'Open': 47.8, u'Change': None, u'Turnover': 90599.0}, u'2017-08-02': {u'Daily Traded Units': None, u'Daily Turnover': None, u'Traded Volume': 187468.0, u'Last Price of the Day': None, u'High': 45.77, u'Low': 44.9, u'Date': u'2017-08-02', u'Close': 45.56, u'Open': 45.25, u'Change': None, u'Turnover': 8528548.0}, u'2017-08-03': {u'Daily Traded Units': None, u'Daily Turnover': None, u'Traded Volume': 77854.0, u'Last Price of the Day': None, u'High': 45.54, u'Low': 44.91, u'Date': u'2017-08-03', u'Close': 44.97, u'Open': 45.34, u'Change': None, u'Turnover': 3517146.0}, u'2017-08-01': {u'Daily Traded Units': None, u'Daily Turnover': None, u'Traded Volume': 74975.0, u'Last Price of the Day': None, u'High': 45.54, u'Low': 45.1, u'Date': u'2017-08-01', u'Close': 45.45, u'Open': 45.24, u'Change': None, u'Turnover': 3399891.0}, u'2017-08-07': {u'Daily Traded Units': None, u'Daily Turnover': None, u'Traded Volume': 164543.0, u'Last Price of the Day': None, u'High': 46.34, u'Low': 44.02, u'Date': u'2017-08-07', u'Close': 44.96, u'Open': 45.85, u'Change': None, u'Turnover': 7378816.0}, u'2017-08-04': {u'Daily Traded Units': None, u'Daily Turnover': None, u'Traded Volume': 96202.0, u'Last Price of the Day': None, u'High': 45.13, u'Low': 44.36, u'Date': u'2017-08-04', u'Close': 45.07, u'Open': 45.13, u'Change': None, u'Turnover': 4306911.0}, u'2017-04-21': {u'Daily Traded Units': None, u'Daily Turnover': None, u'Traded Volume': 186784.0, u'Last Price of the Day': None, u'High': 42.14, u'Low': 41.01, u'Date': u'2017-04-21', u'Close': 41.32, u'Open': 41.97, u'Change': None, u'Turnover': 7728103.0}, u'2017-07-25': {u'Daily Traded Units': None, u'Daily Turnover': None, u'Traded Volume': 112224.0, u'Last Price of the Day': None, u'High': 45.04, u'Low': 44.63, u'Date': u'2017-07-25', u'Close': 44.82, u'Open': 44.7, u'Change': None, u'Turnover': 5033312.0}, u'2017-07-24': {u'Daily Traded Units': None, u'Daily Turnover': None, u'Traded Volume': 104282.0, u'Last Price of the Day': None, u'High': 45.31, u'Low': 44.49, u'Date': u'2017-07-24', u'Close': 44.61, u'Open': 45.31, u'Change': None, u'Turnover': 4661866.0}, u'2017-08-08': {u'Daily Traded Units': None, u'Daily Turnover': None, u'Traded Volume': 156168.0, u'Last Price of the Day': None, u'High': 45.09, u'Low': 44.15, u'Date': u'2017-08-08', u'Close': 44.37, u'Open': 44.9, u'Change': None, u'Turnover': 6941408.0}, u'2017-08-09': {u'Daily Traded Units': None, u'Daily Turnover': None, u'Traded Volume': 355857.0, u'Last Price of the Day': None, u'High': 43.5, u'Low': 41.64, u'Date': u'2017-08-09', u'Close': 41.81, u'Open': 43.5, u'Change': None, u'Turnover': 15003956.0}, u'2017-07-21': {u'Daily Traded Units': None, u'Daily Turnover': None, u'Traded Volume': 73422.0, u'Last Price of the Day': None, u'High': 45.88, u'Low': 45.04, u'Date': u'2017-07-21', u'Close': 45.44, u'Open': 45.57, u'Change': None, u'Turnover': 3334695.0}, u'2017-07-20': {u'Daily Traded Units': None, u'Daily Turnover': None, u'Traded Volume': 87399.0, u'Last Price of the Day': None, u'High': 45.96, u'Low': 45.23, u'Date': u'2017-07-20', u'Close': 45.66, u'Open': 45.74, u'Change': None, u'Turnover': 3986488.0}, u'2017-05-01': {u'Daily Traded Units': None, u'Daily Turnover': None, u'Traded Volume': 86348.0, u'Last Price of the Day': None, u'High': 42.245, u'Low': 41.655, u'Date': u'2017-05-01', u'Close': 41.72, u'Open': None, u'Change': -0.44, u'Turnover': 3606589.0}, u'2017-04-07': {u'Daily Traded Units': None, u'Daily Turnover': None, u'Traded Volume': 81255.0, u'Last Price of the Day': None, u'High': 41.42, u'Low': 40.84, u'Date': u'2017-04-07', u'Close': 41.42, u'Open': 40.9, u'Change': None, u'Turnover': 3344628.0}, u'2017-05-03': {u'Daily Traded Units': None, u'Daily Turnover': None, u'Traded Volume': 65266.0, u'Last Price of the Day': None, u'High': 42.29, u'Low': 41.78, u'Date': u'2017-05-03', u'Close': 41.9, u'Open': 42.2, u'Change': None, u'Turnover': 2738394.0}, u'2017-05-02': {u'Daily Traded Units': None, u'Daily Turnover': None, u'Traded Volume': 86559.0, u'Last Price of the Day': None, u'High': 42.23, u'Low': 41.76, u'Date': u'2017-05-02', u'Close': 42.15, u'Open': 41.89, u'Change': None, u'Turnover': 3636583.0}, u'2017-05-05': {u'Daily Traded Units': None, u'Daily Turnover': None, u'Traded Volume': 78512.0, u'Last Price of the Day': None, u'High': 42.91, u'Low': 42.38, u'Date': u'2017-05-05', u'Close': 42.75, u'Open': 42.52, u'Change': None, u'Turnover': 3353971.0}, u'2017-05-04': {u'Daily Traded Units': None, u'Daily Turnover': None, u'Traded Volume': 82058.0, u'Last Price of the Day': None, u'High': 42.5, u'Low': 41.71, u'Date': u'2017-05-04', u'Close': 42.5, u'Open': 41.86, u'Change': None, u'Turnover': 3465505.0}, u'2017-03-27': {u'Daily Traded Units': None, u'Daily Turnover': None, u'Traded Volume': 191515.0, u'Last Price of the Day': None, u'High': 39.1, u'Low': 38.53, u'Date': u'2017-03-27', u'Close': 38.85, u'Open': 38.73, u'Change': None, u'Turnover': 7446952.0}, u'2017-05-09': {u'Daily Traded Units': None, u'Daily Turnover': None, u'Traded Volume': 151439.0, u'Last Price of the Day': None, u'High': 43.55, u'Low': 41.82, u'Date': u'2017-05-09', u'Close': 43.3, u'Open': 41.83, u'Change': None, u'Turnover': 6538516.0}, u'2017-05-08': {u'Daily Traded Units': None, u'Daily Turnover': None, u'Traded Volume': 97456.0, u'Last Price of the Day': None, u'High': 43.0, u'Low': 42.04, u'Date': u'2017-05-08', u'Close': 42.24, u'Open': 43.0, u'Change': None, u'Turnover': 4128048.0}, u'2017-05-29': {u'Daily Traded Units': None, u'Daily Turnover': None, u'Traded Volume': 112.0, u'Last Price of the Day': None, u'High': 45.61, u'Low': 45.24, u'Date': u'2017-05-29', u'Close': 45.32, u'Open': 45.61, u'Change': None, u'Turnover': 5089.0}, u'2017-01-19': {u'Daily Traded Units': None, u'Daily Turnover': None, u'Traded Volume': 73105.0, u'Last Price of the Day': None, u'High': 35.04, u'Low': 34.42, u'Date': u'2017-01-19', u'Close': 34.5, u'Open': 35.04, u'Change': None, u'Turnover': 2526731.0}, u'2017-05-26': {u'Daily Traded Units': None, u'Daily Turnover': None, u'Traded Volume': 74453.0, u'Last Price of the Day': None, u'High': 45.36, u'Low': 44.71, u'Date': u'2017-05-26', u'Close': 45.3, u'Open': 44.8, u'Change': None, u'Turnover': 3360707.0}, u'2017-01-05': {u'Daily Traded Units': None, u'Daily Turnover': None, u'Traded Volume': 48412.0, u'Last Price of the Day': None, u'High': 35.2, u'Low': 34.73, u'Date': u'2017-01-05', u'Close': 35.06, u'Open': 35.02, u'Change': None, u'Turnover': 1692326.0}, u'2017-01-04': {u'Daily Traded Units': None, u'Daily Turnover': None, u'Traded Volume': 54408.0, u'Last Price of the Day': None, u'High': 35.51, u'Low': 34.75, u'Date': u'2017-01-04', u'Close': 35.19, u'Open': 35.48, u'Change': None, u'Turnover': 1906810.0}, u'2017-01-06': {u'Daily Traded Units': None, u'Daily Turnover': None, u'Traded Volume': 27507.0, u'Last Price of the Day': None, u'High': 35.21, u'Low': 34.91, u'Date': u'2017-01-06', u'Close': 35.04, u'Open': 34.91, u'Change': None, u'Turnover': 964046.0}, u'2017-04-26': {u'Daily Traded Units': None, u'Daily Turnover': None, u'Traded Volume': 65847.0, u'Last Price of the Day': None, u'High': 41.94, u'Low': 41.4, u'Date': u'2017-04-26', u'Close': 41.5, u'Open': 41.88, u'Change': None, u'Turnover': 2743109.0}, u'2017-09-18': {u'Daily Traded Units': None, u'Daily Turnover': None, u'Traded Volume': 44037.0, u'Last Price of the Day': None, u'High': 42.63, u'Low': 42.23, u'Date': u'2017-09-18', u'Close': 42.27, u'Open': 42.5, u'Change': None, u'Turnover': 1864954.0}, u'2017-09-19': {u'Daily Traded Units': None, u'Daily Turnover': None, u'Traded Volume': 65546.0, u'Last Price of the Day': None, u'High': 42.65, u'Low': 42.13, u'Date': u'2017-09-19', u'Close': 42.44, u'Open': 42.65, u'Change': None, u'Turnover': 2777065.0}, u'2017-03-28': {u'Daily Traded Units': None, u'Daily Turnover': None, u'Traded Volume': 115075.0, u'Last Price of the Day': None, u'High': 39.35, u'Low': 38.79, u'Date': u'2017-03-28', u'Close': 39.22, u'Open': 38.95, u'Change': None, u'Turnover': 4505494.0}, u'2017-09-14': {u'Daily Traded Units': None, u'Daily Turnover': None, u'Traded Volume': 65157.0, u'Last Price of the Day': None, u'High': 42.8, u'Low': 42.35, u'Date': u'2017-09-14', u'Close': 42.52, u'Open': 42.35, u'Change': None, u'Turnover': 2770696.0}, u'2017-09-15': {u'Daily Traded Units': None, u'Daily Turnover': None, u'Traded Volume': 107144.0, u'Last Price of the Day': None, u'High': 42.81, u'Low': 42.25, u'Date': u'2017-09-15', u'Close': 42.42, u'Open': 42.29, u'Change': None, u'Turnover': 4555791.0}, u'2017-09-12': {u'Daily Traded Units': None, u'Daily Turnover': None, u'Traded Volume': 52828.0, u'Last Price of the Day': None, u'High': 43.34, u'Low': 42.62, u'Date': u'2017-09-12', u'Close': 42.73, u'Open': 43.21, u'Change': None, u'Turnover': 2259924.0}, u'2017-09-13': {u'Daily Traded Units': None, u'Daily Turnover': None, u'Traded Volume': 68801.0, u'Last Price of the Day': None, u'High': 42.69, u'Low': 42.22, u'Date': u'2017-09-13', u'Close': 42.45, u'Open': 42.49, u'Change': None, u'Turnover': 2921240.0}, u'2017-09-11': {u'Daily Traded Units': None, u'Daily Turnover': None, u'Traded Volume': 103273.0, u'Last Price of the Day': None, u'High': 42.89, u'Low': 42.56, u'Date': u'2017-09-11', u'Close': 42.85, u'Open': 42.81, u'Change': None, u'Turnover': 4415614.0}, u'2017-04-27': {u'Daily Traded Units': None, u'Daily Turnover': None, u'Traded Volume': 151683.0, u'Last Price of the Day': None, u'High': 42.24, u'Low': 41.51, u'Date': u'2017-04-27', u'Close': 42.16, u'Open': 41.51, u'Change': None, u'Turnover': 6380639.0}, u'2017-02-08': {u'Daily Traded Units': None, u'Daily Turnover': None, u'Traded Volume': 39731.0, u'Last Price of the Day': None, u'High': 36.14, u'Low': 35.84, u'Date': u'2017-02-08', u'Close': 36.05, u'Open': 35.98, u'Change': None, u'Turnover': 1431205.0}, u'2017-01-11': {u'Daily Traded Units': None, u'Daily Turnover': None, u'Traded Volume': 123530.0, u'Last Price of the Day': None, u'High': 36.0, u'Low': 34.84, u'Date': u'2017-01-11', u'Close': 35.42, u'Open': 34.95, u'Change': None, u'Turnover': 4369079.0}, u'2017-02-07': {u'Daily Traded Units': None, u'Daily Turnover': None, u'Traded Volume': 67410.0, u'Last Price of the Day': None, u'High': 36.05, u'Low': 35.36, u'Date': u'2017-02-07', u'Close': 35.89, u'Open': 35.56, u'Change': None, u'Turnover': 2410818.0}, u'2017-08-11': {u'Daily Traded Units': None, u'Daily Turnover': None, u'Traded Volume': 183412.0, u'Last Price of the Day': None, u'High': 41.94, u'Low': 40.96, u'Date': u'2017-08-11', u'Close': 41.94, u'Open': 41.3, u'Change': None, u'Turnover': 7604144.0}, u'2017-08-10': {u'Daily Traded Units': None, u'Daily Turnover': None, u'Traded Volume': 175161.0, u'Last Price of the Day': None, u'High': 41.99, u'Low': 41.14, u'Date': u'2017-08-10', u'Close': 41.68, u'Open': 41.73, u'Change': None, u'Turnover': 7303562.0}, u'2017-07-12': {u'Daily Traded Units': None, u'Daily Turnover': None, u'Traded Volume': 115705.0, u'Last Price of the Day': None, u'High': 45.05, u'Low': 43.89, u'Date': u'2017-07-12', u'Close': 44.95, u'Open': 44.29, u'Change': None, u'Turnover': 5133971.0}, u'2017-07-13': {u'Daily Traded Units': None, u'Daily Turnover': None, u'Traded Volume': 82745.0, u'Last Price of the Day': None, u'High': 45.18, u'Low': 44.67, u'Date': u'2017-07-13', u'Close': 44.95, u'Open': 44.67, u'Change': None, u'Turnover': 3718928.0}, u'2017-08-15': {u'Daily Traded Units': None, u'Daily Turnover': None, u'Traded Volume': 64334.0, u'Last Price of the Day': None, u'High': 42.53, u'Low': 42.2, u'Date': u'2017-08-15', u'Close': 42.28, u'Open': 42.53, u'Change': None, u'Turnover': 2721852.0}, u'2017-08-14': {u'Daily Traded Units': None, u'Daily Turnover': None, u'Traded Volume': 127682.0, u'Last Price of the Day': None, u'High': 42.69, u'Low': 42.01, u'Date': u'2017-08-14', u'Close': 42.3, u'Open': 42.12, u'Change': None, u'Turnover': 5416963.0}, u'2017-08-17': {u'Daily Traded Units': None, u'Daily Turnover': None, u'Traded Volume': 131361.0, u'Last Price of the Day': None, u'High': 43.01, u'Low': 41.76, u'Date': u'2017-08-17', u'Close': 42.5, u'Open': 41.88, u'Change': None, u'Turnover': 5583704.0}, u'2017-08-16': {u'Daily Traded Units': None, u'Daily Turnover': None, u'Traded Volume': 104676.0, u'Last Price of the Day': None, u'High': 42.62, u'Low': 41.98, u'Date': u'2017-08-16', u'Close': 42.05, u'Open': 42.4, u'Change': None, u'Turnover': 4408312.0}, u'2017-07-18': {u'Daily Traded Units': None, u'Daily Turnover': None, u'Traded Volume': 104003.0, u'Last Price of the Day': None, u'High': 45.55, u'Low': 44.7, u'Date': u'2017-07-18', u'Close': 45.0, u'Open': 45.5, u'Change': None, u'Turnover': 4684627.0}, u'2017-08-18': {u'Daily Traded Units': None, u'Daily Turnover': None, u'Traded Volume': 72886.0, u'Last Price of the Day': None, u'High': 42.6, u'Low': 42.01, u'Date': u'2017-08-18', u'Close': 42.41, u'Open': 42.28, u'Change': None, u'Turnover': 3092377.0}, u'2017-06-09': {u'Daily Traded Units': None, u'Daily Turnover': None, u'Traded Volume': 99674.0, u'Last Price of the Day': None, u'High': 47.44, u'Low': 46.55, u'Date': u'2017-06-09', u'Close': 47.44, u'Open': 46.77, u'Change': None, u'Turnover': 4702170.0}, u'2017-03-14': {u'Daily Traded Units': None, u'Daily Turnover': None, u'Traded Volume': 60420.0, u'Last Price of the Day': None, u'High': 41.5, u'Low': 41.2, u'Date': u'2017-03-14', u'Close': 41.3, u'Open': 41.2, u'Change': None, u'Turnover': 2498025.0}, u'2017-07-10': {u'Daily Traded Units': None, u'Daily Turnover': None, u'Traded Volume': 71868.0, u'Last Price of the Day': None, u'High': 45.18, u'Low': 44.51, u'Date': u'2017-07-10', u'Close': 44.7, u'Open': 44.64, u'Change': None, u'Turnover': 3221218.0}, u'2017-04-17': {u'Daily Traded Units': None, u'Daily Turnover': None, u'Traded Volume': 88416.0, u'Last Price of the Day': None, u'High': 42.48, u'Low': 41.985, u'Date': u'2017-04-17', u'Close': 42.2, u'Open': None, u'Change': None, u'Turnover': 3734717.0}, u'2017-03-17': {u'Daily Traded Units': None, u'Daily Turnover': None, u'Traded Volume': 90109.0, u'Last Price of the Day': None, u'High': 41.59, u'Low': 41.16, u'Date': u'2017-03-17', u'Close': 41.34, u'Open': 41.47, u'Change': None, u'Turnover': 3734232.0}, u'2017-05-30': {u'Daily Traded Units': None, u'Daily Turnover': None, u'Traded Volume': 587.0, u'Last Price of the Day': None, u'High': 46.02, u'Low': 45.05, u'Date': u'2017-05-30', u'Close': 46.02, u'Open': 45.05, u'Change': None, u'Turnover': 26792.0}, u'2017-05-31': {u'Daily Traded Units': None, u'Daily Turnover': None, u'Traded Volume': 522.0, u'Last Price of the Day': None, u'High': 46.26, u'Low': 45.22, u'Date': u'2017-05-31', u'Close': 45.86, u'Open': 45.22, u'Change': None, u'Turnover': 24044.0}, u'2017-07-27': {u'Daily Traded Units': None, u'Daily Turnover': None, u'Traded Volume': 50557.0, u'Last Price of the Day': None, u'High': 45.45, u'Low': 45.15, u'Date': u'2017-07-27', u'Close': 45.25, u'Open': 45.16, u'Change': None, u'Turnover': 2290284.0}, u'2017-07-11': {u'Daily Traded Units': None, u'Daily Turnover': None, u'Traded Volume': 90538.0, u'Last Price of the Day': None, u'High': 44.94, u'Low': 44.08, u'Date': u'2017-07-11', u'Close': 44.2, u'Open': 44.94, u'Change': None, u'Turnover': 4010457.0}, u'2017-01-30': {u'Daily Traded Units': None, u'Daily Turnover': None, u'Traded Volume': 69603.0, u'Last Price of the Day': None, u'High': 35.59, u'Low': 34.95, u'Date': u'2017-01-30', u'Close': 35.15, u'Open': 35.38, u'Change': None, u'Turnover': 2457762.0}, u'2017-01-31': {u'Daily Traded Units': None, u'Daily Turnover': None, u'Traded Volume': 63371.0, u'Last Price of the Day': None, u'High': 35.24, u'Low': 34.56, u'Date': u'2017-01-31', u'Close': 34.56, u'Open': 35.24, u'Change': None, u'Turnover': 2199583.0}, u'2017-04-19': {u'Daily Traded Units': None, u'Daily Turnover': None, u'Traded Volume': 92722.0, u'Last Price of the Day': None, u'High': 42.61, u'Low': 41.94, u'Date': u'2017-04-19', u'Close': 42.61, u'Open': 41.94, u'Change': None, u'Turnover': 3930856.0}, u'2017-04-18': {u'Daily Traded Units': None, u'Daily Turnover': None, u'Traded Volume': 133057.0, u'Last Price of the Day': None, u'High': 42.4, u'Low': 41.54, u'Date': u'2017-04-18', u'Close': 42.0, u'Open': 42.24, u'Change': None, u'Turnover': 5587565.0}, u'2017-02-03': {u'Daily Traded Units': None, u'Daily Turnover': None, u'Traded Volume': 40705.0, u'Last Price of the Day': None, u'High': 36.2, u'Low': 35.73, u'Date': u'2017-02-03', u'Close': 36.1, u'Open': 36.02, u'Change': None, u'Turnover': 1464712.0}, u'2017-09-08': {u'Daily Traded Units': None, u'Daily Turnover': None, u'Traded Volume': 59881.0, u'Last Price of the Day': None, u'High': 42.75, u'Low': 42.56, u'Date': u'2017-09-08', u'Close': 42.67, u'Open': 42.7, u'Change': None, u'Turnover': 2553977.0}, u'2017-09-05': {u'Daily Traded Units': None, u'Daily Turnover': None, u'Traded Volume': 66351.0, u'Last Price of the Day': None, u'High': 43.19, u'Low': 42.55, u'Date': u'2017-09-05', u'Close': 42.62, u'Open': 43.0, u'Change': None, u'Turnover': 2846115.0}, u'2017-09-04': {u'Daily Traded Units': None, u'Daily Turnover': None, u'Traded Volume': 105288.0, u'Last Price of the Day': None, u'High': 42.75, u'Low': 41.95, u'Date': u'2017-09-04', u'Close': 42.6, u'Open': 42.38, u'Change': None, u'Turnover': 4471634.0}, u'2017-09-07': {u'Daily Traded Units': None, u'Daily Turnover': None, u'Traded Volume': 64320.0, u'Last Price of the Day': None, u'High': 43.02, u'Low': 42.67, u'Date': u'2017-09-07', u'Close': 42.77, u'Open': 43.0, u'Change': None, u'Turnover': 2751388.0}, u'2017-09-06': {u'Daily Traded Units': None, u'Daily Turnover': None, u'Traded Volume': 71006.0, u'Last Price of the Day': None, u'High': 42.71, u'Low': 42.34, u'Date': u'2017-09-06', u'Close': 42.55, u'Open': 42.66, u'Change': None, u'Turnover': 3020229.0}, u'2017-09-01': {u'Daily Traded Units': None, u'Daily Turnover': None, u'Traded Volume': 151474.0, u'Last Price of the Day': None, u'High': 43.06, u'Low': 42.07, u'Date': u'2017-09-01', u'Close': 42.41, u'Open': 42.16, u'Change': None, u'Turnover': 6453558.0}, u'2017-06-06': {u'Daily Traded Units': None, u'Daily Turnover': None, u'Traded Volume': 686.0, u'Last Price of the Day': None, u'High': 47.45, u'Low': 46.21, u'Date': u'2017-06-06', u'Close': 47.43, u'Open': 47.12, u'Change': None, u'Turnover': 32083.0}, u'2017-04-28': {u'Daily Traded Units': None, u'Daily Turnover': None, u'Traded Volume': 86348.0, u'Last Price of the Day': None, u'High': 42.25, u'Low': 41.66, u'Date': u'2017-04-28', u'Close': 41.72, u'Open': 42.17, u'Change': None, u'Turnover': 3606589.0}, u'2017-01-24': {u'Daily Traded Units': None, u'Daily Turnover': None, u'Traded Volume': 48797.0, u'Last Price of the Day': None, u'High': 34.35, u'Low': 33.85, u'Date': u'2017-01-24', u'Close': 34.22, u'Open': 34.0, u'Change': None, u'Turnover': 1666086.0}, u'2017-02-06': {u'Daily Traded Units': None, u'Daily Turnover': None, u'Traded Volume': 41911.0, u'Last Price of the Day': None, u'High': 36.15, u'Low': 35.6, u'Date': u'2017-02-06', u'Close': 35.64, u'Open': 36.06, u'Change': None, u'Turnover': 1496794.0}, u'2017-02-09': {u'Daily Traded Units': None, u'Daily Turnover': None, u'Traded Volume': 67781.0, u'Last Price of the Day': None, u'High': 36.25, u'Low': 35.77, u'Date': u'2017-02-09', u'Close': 36.25, u'Open': 36.2, u'Change': None, u'Turnover': 2445428.0}, u'2017-07-17': {u'Daily Traded Units': None, u'Daily Turnover': None, u'Traded Volume': 104995.0, u'Last Price of the Day': None, u'High': 46.23, u'Low': 45.29, u'Date': u'2017-07-17', u'Close': 45.6, u'Open': 45.6, u'Change': None, u'Turnover': 4801806.0}, u'2017-06-01': {u'Daily Traded Units': None, u'Daily Turnover': None, u'Traded Volume': 106513.0, u'Last Price of the Day': None, u'High': 46.52, u'Low': 45.89, u'Date': u'2017-06-01', u'Close': 46.52, u'Open': 46.12, u'Change': None, u'Turnover': 4930686.0}, u'2017-08-24': {u'Daily Traded Units': None, u'Daily Turnover': None, u'Traded Volume': 65213.0, u'Last Price of the Day': None, u'High': 43.05, u'Low': 42.63, u'Date': u'2017-08-24', u'Close': 42.69, u'Open': 42.72, u'Change': None, u'Turnover': 2792319.0}, u'2017-08-25': {u'Daily Traded Units': None, u'Daily Turnover': None, u'Traded Volume': 69734.0, u'Last Price of the Day': None, u'High': 42.64, u'Low': 42.05, u'Date': u'2017-08-25', u'Close': 42.14, u'Open': 42.64, u'Change': None, u'Turnover': 2948016.0}, u'2017-07-05': {u'Daily Traded Units': None, u'Daily Turnover': None, u'Traded Volume': 48706.0, u'Last Price of the Day': None, u'High': 45.36, u'Low': 44.44, u'Date': u'2017-07-05', u'Close': 45.19, u'Open': 44.67, u'Change': None, u'Turnover': 2189436.0}, u'2017-07-04': {u'Daily Traded Units': None, u'Daily Turnover': None, u'Traded Volume': 50549.0, u'Last Price of the Day': None, u'High': 45.83, u'Low': 44.74, u'Date': u'2017-07-04', u'Close': 44.8, u'Open': 45.83, u'Change': None, u'Turnover': 2273551.0}, u'2017-07-03': {u'Daily Traded Units': None, u'Daily Turnover': None, u'Traded Volume': 71381.0, u'Last Price of the Day': None, u'High': 45.83, u'Low': 45.06, u'Date': u'2017-07-03', u'Close': 45.75, u'Open': 45.29, u'Change': None, u'Turnover': 3251502.0}, u'2017-08-21': {u'Daily Traded Units': None, u'Daily Turnover': None, u'Traded Volume': 68812.0, u'Last Price of the Day': None, u'High': 42.76, u'Low': 42.2, u'Date': u'2017-08-21', u'Close': 42.26, u'Open': 42.42, u'Change': None, u'Turnover': 2922972.0}, u'2017-08-22': {u'Daily Traded Units': None, u'Daily Turnover': None, u'Traded Volume': 95376.0, u'Last Price of the Day': None, u'High': 42.96, u'Low': 42.4, u'Date': u'2017-08-22', u'Close': 42.71, u'Open': 42.46, u'Change': None, u'Turnover': 4075646.0}, u'2017-08-23': {u'Daily Traded Units': None, u'Daily Turnover': None, u'Traded Volume': 70269.0, u'Last Price of the Day': None, u'High': 43.17, u'Low': 42.6, u'Date': u'2017-08-23', u'Close': 42.71, u'Open': 42.82, u'Change': None, u'Turnover': 3011578.0}, u'2017-05-23': {u'Daily Traded Units': None, u'Daily Turnover': None, u'Traded Volume': 38308.0, u'Last Price of the Day': None, u'High': 44.13, u'Low': 43.55, u'Date': u'2017-05-23', u'Close': 43.9, u'Open': 43.67, u'Change': None, u'Turnover': 1681904.0}, u'2017-05-22': {u'Daily Traded Units': None, u'Daily Turnover': None, u'Traded Volume': 70856.0, u'Last Price of the Day': None, u'High': 44.22, u'Low': 43.44, u'Date': u'2017-05-22', u'Close': 43.84, u'Open': 44.16, u'Change': None, u'Turnover': 3103013.0}, u'2017-03-01': {u'Daily Traded Units': None, u'Daily Turnover': None, u'Traded Volume': 86753.0, u'Last Price of the Day': None, u'High': 41.57, u'Low': 40.9, u'Date': u'2017-03-01', u'Close': 41.2, u'Open': 41.19, u'Change': None, u'Turnover': 3569796.0}, u'2017-08-28': {u'Daily Traded Units': None, u'Daily Turnover': None, u'Traded Volume': 47130.0, u'Last Price of the Day': None, u'High': 42.25, u'Low': 41.86, u'Date': u'2017-08-28', u'Close': 41.91, u'Open': 42.11, u'Change': None, u'Turnover': 1978704.0}, u'2017-08-29': {u'Daily Traded Units': None, u'Daily Turnover': None, u'Traded Volume': 98156.0, u'Last Price of the Day': None, u'High': 41.98, u'Low': 41.33, u'Date': u'2017-08-29', u'Close': 41.85, u'Open': 41.71, u'Change': None, u'Turnover': 4094452.0}, u'2017-05-25': {u'Daily Traded Units': None, u'Daily Turnover': None, u'Traded Volume': 49970.0, u'Last Price of the Day': None, u'High': 44.87, u'Low': 44.29, u'Date': u'2017-05-25', u'Close': 44.78, u'Open': 44.8, u'Change': None, u'Turnover': 2231857.0}, u'2017-05-24': {u'Daily Traded Units': None, u'Daily Turnover': None, u'Traded Volume': 111923.0, u'Last Price of the Day': None, u'High': 44.67, u'Low': 43.92, u'Date': u'2017-05-24', u'Close': 44.53, u'Open': 43.92, u'Change': None, u'Turnover': 4971343.0}, u'2017-01-27': {u'Daily Traded Units': None, u'Daily Turnover': None, u'Traded Volume': 69657.0, u'Last Price of the Day': None, u'High': 35.43, u'Low': 34.81, u'Date': u'2017-01-27', u'Close': 35.3, u'Open': 34.83, u'Change': None, u'Turnover': 2444913.0}, u'2017-01-26': {u'Daily Traded Units': None, u'Daily Turnover': None, u'Traded Volume': 64103.0, u'Last Price of the Day': None, u'High': 35.58, u'Low': 34.8, u'Date': u'2017-01-26', u'Close': 34.89, u'Open': 35.07, u'Change': None, u'Turnover': 2249375.0}, u'2017-03-09': {u'Daily Traded Units': None, u'Daily Turnover': None, u'Traded Volume': 43988.0, u'Last Price of the Day': None, u'High': 41.61, u'Low': 41.16, u'Date': u'2017-03-09', u'Close': 41.4, u'Open': 41.61, u'Change': None, u'Turnover': 1819182.0}, u'2017-02-17': {u'Daily Traded Units': None, u'Daily Turnover': None, u'Traded Volume': 60583.0, u'Last Price of the Day': None, u'High': 39.03, u'Low': 38.48, u'Date': u'2017-02-17', u'Close': 39.02, u'Open': 38.8, u'Change': None, u'Turnover': 2352961.0}, u'2017-01-23': {u'Daily Traded Units': None, u'Daily Turnover': None, u'Traded Volume': 55333.0, u'Last Price of the Day': None, u'High': 34.12, u'Low': 33.62, u'Date': u'2017-01-23', u'Close': 34.06, u'Open': 34.04, u'Change': None, u'Turnover': 1877957.0}, u'2017-01-20': {u'Daily Traded Units': None, u'Daily Turnover': None, u'Traded Volume': 80246.0, u'Last Price of the Day': None, u'High': 34.59, u'Low': 34.05, u'Date': u'2017-01-20', u'Close': 34.17, u'Open': 34.54, u'Change': None, u'Turnover': 2743474.0}, u'2017-01-12': {u'Daily Traded Units': None, u'Daily Turnover': None, u'Traded Volume': 163860.0, u'Last Price of the Day': None, u'High': 35.38, u'Low': 34.31, u'Date': u'2017-01-12', u'Close': 34.9, u'Open': 35.38, u'Change': None, u'Turnover': 5703427.0}, u'2017-02-16': {u'Daily Traded Units': None, u'Daily Turnover': None, u'Traded Volume': 84682.0, u'Last Price of the Day': None, u'High': 39.2, u'Low': 38.25, u'Date': u'2017-02-16', u'Close': 38.71, u'Open': 38.8, u'Change': None, u'Turnover': 3282322.0}, u'2017-04-14': {u'Daily Traded Units': None, u'Daily Turnover': None, u'Traded Volume': 88416.0, u'Last Price of the Day': None, u'High': 42.48, u'Low': 41.985, u'Date': u'2017-04-14', u'Close': 42.2, u'Open': None, u'Change': None, u'Turnover': 3734717.0}, u'2017-03-08': {u'Daily Traded Units': None, u'Daily Turnover': None, u'Traded Volume': 45111.0, u'Last Price of the Day': None, u'High': 41.71, u'Low': 40.95, u'Date': u'2017-03-08', u'Close': 41.68, u'Open': 41.13, u'Change': None, u'Turnover': 1870935.0}, u'2017-08-31': {u'Daily Traded Units': None, u'Daily Turnover': None, u'Traded Volume': 157888.0, u'Last Price of the Day': None, u'High': 42.08, u'Low': 41.12, u'Date': u'2017-08-31', u'Close': 41.9, u'Open': 42.0, u'Change': None, u'Turnover': 6580200.0}, u'2017-08-30': {u'Daily Traded Units': None, u'Daily Turnover': None, u'Traded Volume': 97804.0, u'Last Price of the Day': None, u'High': 42.2, u'Low': 41.49, u'Date': u'2017-08-30', u'Close': 41.94, u'Open': 42.0, u'Change': None, u'Turnover': 4090262.0}, u'2017-03-16': {u'Daily Traded Units': None, u'Daily Turnover': None, u'Traded Volume': 55799.0, u'Last Price of the Day': None, u'High': 41.57, u'Low': 41.09, u'Date': u'2017-03-16', u'Close': 41.46, u'Open': 41.4, u'Change': None, u'Turnover': 2308423.0}, u'2017-04-11': {u'Daily Traded Units': None, u'Daily Turnover': None, u'Traded Volume': 107817.0, u'Last Price of the Day': None, u'High': 42.03, u'Low': 41.53, u'Date': u'2017-04-11', u'Close': 41.75, u'Open': 41.62, u'Change': None, u'Turnover': 4501109.0}, u'2017-03-15': {u'Daily Traded Units': None, u'Daily Turnover': None, u'Traded Volume': 60324.0, u'Last Price of the Day': None, u'High': 41.5, u'Low': 40.91, u'Date': u'2017-03-15', u'Close': 41.25, u'Open': 41.4, u'Change': None, u'Turnover': 2488650.0}, u'2017-04-10': {u'Daily Traded Units': None, u'Daily Turnover': None, u'Traded Volume': 62297.0, u'Last Price of the Day': None, u'High': 41.68, u'Low': 41.31, u'Date': u'2017-04-10', u'Close': 41.68, u'Open': 41.46, u'Change': None, u'Turnover': 2585922.0}, u'2017-07-06': {u'Daily Traded Units': None, u'Daily Turnover': None, u'Traded Volume': 66116.0, u'Last Price of the Day': None, u'High': 45.5, u'Low': 44.15, u'Date': u'2017-07-06', u'Close': 44.62, u'Open': 45.5, u'Change': None, u'Turnover': 2952605.0}, u'2017-06-15': {u'Daily Traded Units': None, u'Daily Turnover': None, u'Traded Volume': 101733.0, u'Last Price of the Day': None, u'High': 46.34, u'Low': 45.21, u'Date': u'2017-06-15', u'Close': 45.67, u'Open': 46.34, u'Change': None, u'Turnover': 4635593.0}, u'2017-04-12': {u'Daily Traded Units': None, u'Daily Turnover': None, u'Traded Volume': 158278.0, u'Last Price of the Day': None, u'High': 42.45, u'Low': 41.84, u'Date': u'2017-04-12', u'Close': 42.2, u'Open': 42.02, u'Change': None, u'Turnover': 6672547.0}, u'2017-09-27': {u'Daily Traded Units': None, u'Daily Turnover': None, u'Traded Volume': 76600.0, u'Last Price of the Day': None, u'High': 42.49, u'Low': 41.78, u'Date': u'2017-09-27', u'Close': 42.04, u'Open': 42.35, u'Change': None, u'Turnover': 3219861.0}, u'2017-09-26': {u'Daily Traded Units': None, u'Daily Turnover': None, u'Traded Volume': 51321.0, u'Last Price of the Day': None, u'High': 42.57, u'Low': 42.11, u'Date': u'2017-09-26', u'Close': 42.37, u'Open': 42.3, u'Change': None, u'Turnover': 2175381.0}, u'2017-09-25': {u'Daily Traded Units': None, u'Daily Turnover': None, u'Traded Volume': 56224.0, u'Last Price of the Day': None, u'High': 42.3, u'Low': 41.96, u'Date': u'2017-09-25', u'Close': 42.07, u'Open': 42.3, u'Change': None, u'Turnover': 2366453.0}, u'2017-09-22': {u'Daily Traded Units': None, u'Daily Turnover': None, u'Traded Volume': 79955.0, u'Last Price of the Day': None, u'High': 42.38, u'Low': 41.48, u'Date': u'2017-09-22', u'Close': 42.06, u'Open': 41.48, u'Change': None, u'Turnover': 3362517.0}, u'2017-09-21': {u'Daily Traded Units': None, u'Daily Turnover': None, u'Traded Volume': 105194.0, u'Last Price of the Day': None, u'High': 42.29, u'Low': 41.39, u'Date': u'2017-09-21', u'Close': 41.46, u'Open': 42.29, u'Change': None, u'Turnover': 4378409.0}, u'2017-09-20': {u'Daily Traded Units': None, u'Daily Turnover': None, u'Traded Volume': 57838.0, u'Last Price of the Day': None, u'High': 42.54, u'Low': 41.99, u'Date': u'2017-09-20', u'Close': 41.99, u'Open': 42.54, u'Change': None, u'Turnover': 2440557.0}, u'2017-09-29': {u'Daily Traded Units': None, u'Daily Turnover': None, u'Traded Volume': 99821.0, u'Last Price of the Day': None, u'High': 44.17, u'Low': 43.3, u'Date': u'2017-09-29', u'Close': 44.17, u'Open': 43.58, u'Change': None, u'Turnover': 4384796.0}, u'2017-09-28': {u'Daily Traded Units': None, u'Daily Turnover': None, u'Traded Volume': 157234.0, u'Last Price of the Day': None, u'High': 43.56, u'Low': 42.0, u'Date': u'2017-09-28', u'Close': 43.56, u'Open': 42.0, u'Change': None, u'Turnover': 6775569.0}, u'2017-01-25': {u'Daily Traded Units': None, u'Daily Turnover': None, u'Traded Volume': 56240.0, u'Last Price of the Day': None, u'High': 34.86, u'Low': 34.03, u'Date': u'2017-01-25', u'Close': 34.83, u'Open': 34.42, u'Change': None, u'Turnover': 1947147.0}, u'2017-02-28': {u'Daily Traded Units': None, u'Daily Turnover': None, u'Traded Volume': 67440.0, u'Last Price of the Day': None, u'High': 40.95, u'Low': 40.38, u'Date': u'2017-02-28', u'Close': 40.84, u'Open': 40.38, u'Change': None, u'Turnover': 2747011.0}, u'2017-02-21': {u'Daily Traded Units': None, u'Daily Turnover': None, u'Traded Volume': 46070.0, u'Last Price of the Day': None, u'High': 39.57, u'Low': 38.85, u'Date': u'2017-02-21', u'Close': 39.45, u'Open': 38.85, u'Change': None, u'Turnover': 1808350.0}, u'2017-11-28': {u'Daily Traded Units': None, u'Daily Turnover': None, u'Traded Volume': 42669.0, u'Last Price of the Day': None, u'High': 49.89, u'Low': 49.03, u'Date': u'2017-11-28', u'Close': 49.25, u'Open': 49.09, u'Change': None, u'Turnover': 2107358.0}, u'2017-11-29': {u'Daily Traded Units': None, u'Daily Turnover': None, u'Traded Volume': 67342.0, u'Last Price of the Day': None, u'High': 49.64, u'Low': 48.7, u'Date': u'2017-11-29', u'Close': 48.75, u'Open': 49.64, u'Change': None, u'Turnover': 3292223.0}, u'2017-11-27': {u'Daily Traded Units': None, u'Daily Turnover': None, u'Traded Volume': 102180.0, u'Last Price of the Day': None, u'High': 49.73, u'Low': 48.96, u'Date': u'2017-11-27', u'Close': 49.2, u'Open': 49.13, u'Change': None, u'Turnover': 5055762.0}, u'2017-11-24': {u'Daily Traded Units': None, u'Daily Turnover': None, u'Traded Volume': 50350.0, u'Last Price of the Day': None, u'High': 49.41, u'Low': 48.87, u'Date': u'2017-11-24', u'Close': 49.11, u'Open': 49.11, u'Change': None, u'Turnover': 2472842.0}, u'2017-11-22': {u'Daily Traded Units': None, u'Daily Turnover': None, u'Traded Volume': 91142.0, u'Last Price of the Day': None, u'High': 49.61, u'Low': 48.39, u'Date': u'2017-11-22', u'Close': 48.8, u'Open': 48.4, u'Change': None, u'Turnover': 4478093.0}, u'2017-11-23': {u'Daily Traded Units': None, u'Daily Turnover': None, u'Traded Volume': 38834.0, u'Last Price of the Day': None, u'High': 49.46, u'Low': 48.45, u'Date': u'2017-11-23', u'Close': 49.2, u'Open': 48.8, u'Change': None, u'Turnover': 1909352.0}, u'2017-11-20': {u'Daily Traded Units': None, u'Daily Turnover': None, u'Traded Volume': 97252.0, u'Last Price of the Day': None, u'High': 47.38, u'Low': 46.54, u'Date': u'2017-11-20', u'Close': 47.04, u'Open': 46.57, u'Change': None, u'Turnover': 4563515.0}, u'2017-11-21': {u'Daily Traded Units': None, u'Daily Turnover': None, u'Traded Volume': 78502.0, u'Last Price of the Day': None, u'High': 48.59, u'Low': 46.78, u'Date': u'2017-11-21', u'Close': 48.39, u'Open': 47.25, u'Change': None, u'Turnover': 3782098.0}, u'2017-10-30': {u'Daily Traded Units': None, u'Daily Turnover': None, u'Traded Volume': 56245.0, u'Last Price of the Day': None, u'High': 46.65, u'Low': 45.61, u'Date': u'2017-10-30', u'Close': 45.76, u'Open': 46.53, u'Change': None, u'Turnover': 2585397.0}, u'2017-07-26': {u'Daily Traded Units': None, u'Daily Turnover': None, u'Traded Volume': 81970.0, u'Last Price of the Day': None, u'High': 45.33, u'Low': 44.46, u'Date': u'2017-07-26', u'Close': 45.16, u'Open': 44.91, u'Change': None, u'Turnover': 3688510.0}, u'2017-06-22': {u'Daily Traded Units': None, u'Daily Turnover': None, u'Traded Volume': 56071.0, u'Last Price of the Day': None, u'High': 47.4, u'Low': 46.75, u'Date': u'2017-06-22', u'Close': 47.29, u'Open': 47.03, u'Change': None, u'Turnover': 2640508.0}, u'2017-06-23': {u'Daily Traded Units': None, u'Daily Turnover': None, u'Traded Volume': 80586.0, u'Last Price of the Day': None, u'High': 47.4, u'Low': 46.79, u'Date': u'2017-06-23', u'Close': 46.99, u'Open': 47.29, u'Change': None, u'Turnover': 3792498.0}, u'2017-06-20': {u'Daily Traded Units': None, u'Daily Turnover': None, u'Traded Volume': 108334.0, u'Last Price of the Day': None, u'High': 47.43, u'Low': 46.27, u'Date': u'2017-06-20', u'Close': 47.37, u'Open': 46.48, u'Change': None, u'Turnover': 5109730.0}, u'2017-06-21': {u'Daily Traded Units': None, u'Daily Turnover': None, u'Traded Volume': 89752.0, u'Last Price of the Day': None, u'High': 47.48, u'Low': 46.53, u'Date': u'2017-06-21', u'Close': 46.99, u'Open': 47.46, u'Change': None, u'Turnover': 4206563.0}, u'2017-06-26': {u'Daily Traded Units': None, u'Daily Turnover': None, u'Traded Volume': 73322.0, u'Last Price of the Day': None, u'High': 47.63, u'Low': 46.91, u'Date': u'2017-06-26', u'Close': 47.21, u'Open': 46.95, u'Change': None, u'Turnover': 3465639.0}, u'2017-06-27': {u'Daily Traded Units': None, u'Daily Turnover': None, u'Traded Volume': 82492.0, u'Last Price of the Day': None, u'High': 47.33, u'Low': 46.39, u'Date': u'2017-06-27', u'Close': 46.83, u'Open': 47.23, u'Change': None, u'Turnover': 3866344.0}, u'2017-12-14': {u'Daily Traded Units': None, u'Daily Turnover': None, u'Traded Volume': 132981.0, u'Last Price of the Day': None, u'High': 53.54, u'Low': 52.15, u'Date': u'2017-12-14', u'Close': 52.67, u'Open': 53.11, u'Change': None, u'Turnover': 7016953.0}, u'2017-12-15': {u'Daily Traded Units': None, u'Daily Turnover': None, u'Traded Volume': 204080.0, u'Last Price of the Day': None, u'High': 52.7, u'Low': 51.64, u'Date': u'2017-12-15', u'Close': 52.01, u'Open': 52.7, u'Change': None, u'Turnover': 10596319.0}, u'2017-12-12': {u'Daily Traded Units': None, u'Daily Turnover': None, u'Traded Volume': 87911.0, u'Last Price of the Day': None, u'High': 53.1, u'Low': 51.82, u'Date': u'2017-12-12', u'Close': 52.43, u'Open': 52.29, u'Change': None, u'Turnover': 4615924.0}, u'2017-12-13': {u'Daily Traded Units': None, u'Daily Turnover': None, u'Traded Volume': 128434.0, u'Last Price of the Day': None, u'High': 53.35, u'Low': 52.48, u'Date': u'2017-12-13', u'Close': 53.09, u'Open': 52.64, u'Change': None, u'Turnover': 6801159.0}, u'2017-12-11': {u'Daily Traded Units': None, u'Daily Turnover': None, u'Traded Volume': 71817.0, u'Last Price of the Day': None, u'High': 52.45, u'Low': 51.26, u'Date': u'2017-12-11', u'Close': 52.14, u'Open': 52.28, u'Change': None, u'Turnover': 3724193.0}, u'2017-12-18': {u'Daily Traded Units': None, u'Daily Turnover': None, u'Traded Volume': 129733.0, u'Last Price of the Day': None, u'High': 52.75, u'Low': 51.61, u'Date': u'2017-12-18', u'Close': 52.62, u'Open': 52.37, u'Change': None, u'Turnover': 6770499.0}, u'2017-12-19': {u'Daily Traded Units': None, u'Daily Turnover': None, u'Traded Volume': 137313.0, u'Last Price of the Day': None, u'High': 52.73, u'Low': 51.07, u'Date': u'2017-12-19', u'Close': 51.66, u'Open': 52.73, u'Change': None, u'Turnover': 7102361.0}, u'2017-04-06': {u'Daily Traded Units': None, u'Daily Turnover': None, u'Traded Volume': 96794.0, u'Last Price of the Day': None, u'High': 41.25, u'Low': 40.83, u'Date': u'2017-04-06', u'Close': 41.05, u'Open': 40.96, u'Change': None, u'Turnover': 3968681.0}, u'2017-07-14': {u'Daily Traded Units': None, u'Daily Turnover': None, u'Traded Volume': 67375.0, u'Last Price of the Day': None, u'High': 45.56, u'Low': 44.83, u'Date': u'2017-07-14', u'Close': 45.53, u'Open': 45.07, u'Change': None, u'Turnover': 3054060.0}, u'2017-03-20': {u'Daily Traded Units': None, u'Daily Turnover': None, u'Traded Volume': 97572.0, u'Last Price of the Day': None, u'High': 42.17, u'Low': 41.26, u'Date': u'2017-03-20', u'Close': 41.97, u'Open': 41.26, u'Change': None, u'Turnover': 4074891.0}, u'2017-02-15': {u'Daily Traded Units': None, u'Daily Turnover': None, u'Traded Volume': 77420.0, u'Last Price of the Day': None, u'High': 38.93, u'Low': 38.4, u'Date': u'2017-02-15', u'Close': 38.72, u'Open': 38.5, u'Change': None, u'Turnover': 2996861.0}, u'2017-06-28': {u'Daily Traded Units': None, u'Daily Turnover': None, u'Traded Volume': 117165.0, u'Last Price of the Day': None, u'High': 46.68, u'Low': 45.41, u'Date': u'2017-06-28', u'Close': 45.68, u'Open': 46.68, u'Change': None, u'Turnover': 5381488.0}, u'2017-03-21': {u'Daily Traded Units': None, u'Daily Turnover': None, u'Traded Volume': 56906.0, u'Last Price of the Day': None, u'High': 41.83, u'Low': 40.97, u'Date': u'2017-03-21', u'Close': 40.98, u'Open': 41.8, u'Change': None, u'Turnover': 2349965.0}, u'2017-03-10': {u'Daily Traded Units': None, u'Daily Turnover': None, u'Traded Volume': 38518.0, u'Last Price of the Day': None, u'High': 41.53, u'Low': 41.16, u'Date': u'2017-03-10', u'Close': 41.4, u'Open': 41.53, u'Change': None, u'Turnover': 1592270.0}, u'2017-06-29': {u'Daily Traded Units': None, u'Daily Turnover': None, u'Traded Volume': 134965.0, u'Last Price of the Day': None, u'High': 45.81, u'Low': 45.11, u'Date': u'2017-06-29', u'Close': 45.2, u'Open': 45.73, u'Change': None, u'Turnover': 6132452.0}, u'2017-11-30': {u'Daily Traded Units': None, u'Daily Turnover': None, u'Traded Volume': 123019.0, u'Last Price of the Day': None, u'High': 49.84, u'Low': 48.28, u'Date': u'2017-11-30', u'Close': 49.7, u'Open': 48.64, u'Change': None, u'Turnover': 6085171.0}, u'2017-03-03': {u'Daily Traded Units': None, u'Daily Turnover': None, u'Traded Volume': 40800.0, u'Last Price of the Day': None, u'High': 41.22, u'Low': 40.84, u'Date': u'2017-03-03', u'Close': 41.18, u'Open': 41.12, u'Change': None, u'Turnover': 1675587.0}, u'2017-04-03': {u'Daily Traded Units': None, u'Daily Turnover': None, u'Traded Volume': 127973.0, u'Last Price of the Day': None, u'High': 40.15, u'Low': 39.54, u'Date': u'2017-04-03', u'Close': 39.64, u'Open': 40.15, u'Change': None, u'Turnover': 5081376.0}, u'2017-10-20': {u'Daily Traded Units': None, u'Daily Turnover': None, u'Traded Volume': 55707.0, u'Last Price of the Day': None, u'High': 45.34, u'Low': 44.76, u'Date': u'2017-10-20', u'Close': 44.87, u'Open': 45.08, u'Change': None, u'Turnover': 2503853.0}, u'2017-10-23': {u'Daily Traded Units': None, u'Daily Turnover': None, u'Traded Volume': 43375.0, u'Last Price of the Day': None, u'High': 45.34, u'Low': 44.89, u'Date': u'2017-10-23', u'Close': 45.0, u'Open': 44.9, u'Change': None, u'Turnover': 1952918.0}, u'2017-10-25': {u'Daily Traded Units': None, u'Daily Turnover': None, u'Traded Volume': 47730.0, u'Last Price of the Day': None, u'High': 45.06, u'Low': 44.7, u'Date': u'2017-10-25', u'Close': 45.0, u'Open': 45.01, u'Change': None, u'Turnover': 2145697.0}, u'2017-10-24': {u'Daily Traded Units': None, u'Daily Turnover': None, u'Traded Volume': 43042.0, u'Last Price of the Day': None, u'High': 45.27, u'Low': 44.75, u'Date': u'2017-10-24', u'Close': 44.85, u'Open': 45.16, u'Change': None, u'Turnover': 1937616.0}, u'2017-10-27': {u'Daily Traded Units': None, u'Daily Turnover': None, u'Traded Volume': 74472.0, u'Last Price of the Day': None, u'High': 46.42, u'Low': 45.46, u'Date': u'2017-10-27', u'Close': 46.41, u'Open': 45.48, u'Change': None, u'Turnover': 3434087.0}, u'2017-10-26': {u'Daily Traded Units': None, u'Daily Turnover': None, u'Traded Volume': 56319.0, u'Last Price of the Day': None, u'High': 45.41, u'Low': 44.91, u'Date': u'2017-10-26', u'Close': 45.41, u'Open': 45.2, u'Change': None, u'Turnover': 2548078.0}, u'2017-02-14': {u'Daily Traded Units': None, u'Daily Turnover': None, u'Traded Volume': 82601.0, u'Last Price of the Day': None, u'High': 38.86, u'Low': 38.0, u'Date': u'2017-02-14', u'Close': 38.37, u'Open': 38.81, u'Change': None, u'Turnover': 3163898.0}, u'2017-06-30': {u'Daily Traded Units': None, u'Daily Turnover': None, u'Traded Volume': 136112.0, u'Last Price of the Day': None, u'High': 45.74, u'Low': 45.0, u'Date': u'2017-06-30', u'Close': 45.44, u'Open': 45.01, u'Change': None, u'Turnover': 6187148.0}, u'2017-11-15': {u'Daily Traded Units': None, u'Daily Turnover': None, u'Traded Volume': 67593.0, u'Last Price of the Day': None, u'High': 48.01, u'Low': 46.75, u'Date': u'2017-11-15', u'Close': 47.05, u'Open': 47.98, u'Change': None, u'Turnover': 3188321.0}, u'2017-04-20': {u'Daily Traded Units': None, u'Daily Turnover': None, u'Traded Volume': 223621.0, u'Last Price of the Day': None, u'High': 42.64, u'Low': 41.52, u'Date': u'2017-04-20', u'Close': 41.93, u'Open': 42.5, u'Change': None, u'Turnover': 9418192.0}, u'2017-12-05': {u'Daily Traded Units': None, u'Daily Turnover': None, u'Traded Volume': 83023.0, u'Last Price of the Day': None, u'High': 51.38, u'Low': 50.4, u'Date': u'2017-12-05', u'Close': 51.25, u'Open': 51.21, u'Change': None, u'Turnover': 4231971.0}, u'2017-12-04': {u'Daily Traded Units': None, u'Daily Turnover': None, u'Traded Volume': 94385.0, u'Last Price of the Day': None, u'High': 51.23, u'Low': 49.5, u'Date': u'2017-12-04', u'Close': 51.14, u'Open': 49.5, u'Change': None, u'Turnover': 4800027.0}, u'2017-12-07': {u'Daily Traded Units': None, u'Daily Turnover': None, u'Traded Volume': 48123.0, u'Last Price of the Day': None, u'High': 51.47, u'Low': 50.81, u'Date': u'2017-12-07', u'Close': 51.47, u'Open': 50.89, u'Change': None, u'Turnover': 2463848.0}, u'2017-12-06': {u'Daily Traded Units': None, u'Daily Turnover': None, u'Traded Volume': 88730.0, u'Last Price of the Day': None, u'High': 51.11, u'Low': 50.39, u'Date': u'2017-12-06', u'Close': 50.89, u'Open': 50.8, u'Change': None, u'Turnover': 4504075.0}, u'2017-12-01': {u'Daily Traded Units': None, u'Daily Turnover': None, u'Traded Volume': 101733.0, u'Last Price of the Day': None, u'High': 50.49, u'Low': 49.17, u'Date': u'2017-12-01', u'Close': 49.86, u'Open': 49.52, u'Change': None, u'Turnover': 5065932.0}, u'2017-04-04': {u'Daily Traded Units': None, u'Daily Turnover': None, u'Traded Volume': 193156.0, u'Last Price of the Day': None, u'High': 40.88, u'Low': 39.48, u'Date': u'2017-04-04', u'Close': 40.81, u'Open': 39.5, u'Change': None, u'Turnover': 7822665.0}, u'2017-03-02': {u'Daily Traded Units': None, u'Daily Turnover': None, u'Traded Volume': 49863.0, u'Last Price of the Day': None, u'High': 41.39, u'Low': 40.76, u'Date': u'2017-03-02', u'Close': 41.17, u'Open': 41.38, u'Change': None, u'Turnover': 2048153.0}, u'2017-12-08': {u'Daily Traded Units': None, u'Daily Turnover': None, u'Traded Volume': 109157.0, u'Last Price of the Day': None, u'High': 52.83, u'Low': 51.28, u'Date': u'2017-12-08', u'Close': 52.12, u'Open': 51.5, u'Change': None, u'Turnover': 5690648.0}}\n"
     ]
    }
   ],
   "source": [
    "data17 = r.json()\n",
    "dict_17 = {}\n",
    "\n",
    "for row in data17['dataset']['data']:\n",
    "    columns = data17['dataset']['column_names']\n",
    "    dict_day = {}\n",
    "    val = 0\n",
    "    for col in columns:\n",
    "        dict_day[col] = row[val]\n",
    "        val += 1\n",
    "    dict_17[row[0]] = dict_day\n",
    "\n",
    "print dict_17"
   ]
  },
  {
   "cell_type": "markdown",
   "metadata": {},
   "source": [
    "## 3. Calculate what the highest and lowest opening prices were for the stock in this period."
   ]
  },
  {
   "cell_type": "code",
   "execution_count": 7,
   "metadata": {
    "collapsed": false
   },
   "outputs": [
    {
     "name": "stdout",
     "output_type": "stream",
     "text": [
      "Highest opening price: 53.11\n",
      "Lowest opening price using min(): None\n",
      "Lowest opening price with value: 34.0\n",
      "\n",
      "[None, None, None, 34.0, 34.04, 34.42, 34.54, 34.75, 34.8, 34.83, 34.85, 34.91, 34.95, 34.98, 34.99, 35.02, 35.04, 35.04, 35.06, 35.07, 35.24, 35.29, 35.38, 35.38, 35.48, 35.56, 35.9, 35.95, 35.98, 36.02, 36.06, 36.2, 36.65, 37.37, 38.25, 38.5, 38.73, 38.8, 38.8, 38.81, 38.85, 38.94, 38.95, 39.01, 39.25, 39.39, 39.5, 39.6, 39.72, 39.75, 39.77, 39.77, 40.02, 40.15, 40.38, 40.9, 40.96, 41.1, 41.12, 41.13, 41.19, 41.2, 41.25, 41.26, 41.3, 41.38, 41.4, 41.4, 41.4, 41.46, 41.47, 41.48, 41.5, 41.51, 41.53, 41.61, 41.62, 41.71, 41.73, 41.8, 41.83, 41.86, 41.88, 41.88, 41.89, 41.93, 41.94, 41.97, 42.0, 42.0, 42.0, 42.01, 42.02, 42.06, 42.11, 42.12, 42.16, 42.17, 42.2, 42.24, 42.28, 42.29, 42.29, 42.3, 42.3, 42.35, 42.35, 42.38, 42.4, 42.42, 42.46, 42.49, 42.5, 42.5, 42.52, 42.53, 42.54, 42.64, 42.65, 42.66, 42.7, 42.72, 42.81, 42.82, 43.0, 43.0, 43.0, 43.21, 43.4, 43.5, 43.5, 43.58, 43.67, 43.74, 43.92, 44.0, 44.16, 44.29, 44.51, 44.64, 44.67, 44.67, 44.7, 44.79, 44.8, 44.8, 44.9, 44.9, 44.91, 44.94, 44.94, 45.0, 45.01, 45.01, 45.05, 45.06, 45.06, 45.07, 45.08, 45.09, 45.13, 45.15, 45.16, 45.16, 45.18, 45.2, 45.22, 45.24, 45.25, 45.26, 45.29, 45.31, 45.34, 45.36, 45.48, 45.5, 45.5, 45.5, 45.57, 45.58, 45.6, 45.61, 45.61, 45.64, 45.66, 45.72, 45.73, 45.74, 45.8, 45.81, 45.83, 45.85, 45.88, 45.97, 46.01, 46.01, 46.12, 46.16, 46.19, 46.2, 46.29, 46.34, 46.42, 46.48, 46.5, 46.52, 46.53, 46.57, 46.68, 46.77, 46.8, 46.9, 46.95, 47.01, 47.03, 47.03, 47.09, 47.12, 47.23, 47.25, 47.29, 47.3, 47.31, 47.46, 47.65, 47.8, 47.98, 48.38, 48.4, 48.4, 48.64, 48.8, 49.09, 49.11, 49.13, 49.5, 49.52, 49.64, 50.8, 50.89, 51.05, 51.16, 51.21, 51.45, 51.5, 51.65, 51.76, 51.88, 52.28, 52.29, 52.37, 52.64, 52.7, 52.73, 53.11]\n"
     ]
    }
   ],
   "source": [
    "opens = []\n",
    "\n",
    "for day in dict_17:\n",
    "    opens.append(dict_17[day]['Open'])\n",
    "       \n",
    "highest_open = max(opens)\n",
    "lowest_open = min(opens)\n",
    "\n",
    "#using min() we find that minimum value returned is None as there are a few opening prices with missing values. \n",
    "#We can sort the list to quickly find the lowest avaiable open price.\n",
    "sort_opens = sorted(opens)\n",
    "\n",
    "print 'Highest opening price: ' + str(highest_open)\n",
    "print 'Lowest opening price using min(): ' + str(lowest_open)\n",
    "print 'Lowest opening price with value: ' + str(sort_opens[3])\n",
    "print ''\n",
    "print sort_opens\n"
   ]
  },
  {
   "cell_type": "markdown",
   "metadata": {
    "collapsed": true
   },
   "source": [
    "## 4. What was the largest change in any one day (based on High and Low price)?"
   ]
  },
  {
   "cell_type": "code",
   "execution_count": 8,
   "metadata": {
    "collapsed": false
   },
   "outputs": [
    {
     "data": {
      "text/plain": [
       "2.81"
      ]
     },
     "execution_count": 8,
     "metadata": {},
     "output_type": "execute_result"
    }
   ],
   "source": [
    "changes = []\n",
    "\n",
    "for day in dict_17:\n",
    "    changes.append(dict_17[day]['High']- dict_17[day]['Low'])\n",
    "    \n",
    "largest_variation = max(changes)\n",
    "round(largest_variation,2)"
   ]
  },
  {
   "cell_type": "markdown",
   "metadata": {
    "collapsed": true
   },
   "source": [
    "## 5. What was the largest change between any two days (based on Closing Price)?"
   ]
  },
  {
   "cell_type": "code",
   "execution_count": 9,
   "metadata": {
    "collapsed": false
   },
   "outputs": [
    {
     "data": {
      "text/plain": [
       "19.03"
      ]
     },
     "execution_count": 9,
     "metadata": {},
     "output_type": "execute_result"
    }
   ],
   "source": [
    "#Because we're looking for any two days and not necessarily consecutive days, we can take a look at the highest closing price  \n",
    "#and subtract it from the lowest closing price for all of 2017.\n",
    "closing = []\n",
    "\n",
    "for day in dict_17:\n",
    "    closing.append(dict_17[day]['Close'])\n",
    "    \n",
    "largest_change = max(closing) - min(closing)\n",
    "largest_change"
   ]
  },
  {
   "cell_type": "markdown",
   "metadata": {},
   "source": [
    "## 6. What was the average daily trading volume during this year?"
   ]
  },
  {
   "cell_type": "code",
   "execution_count": 10,
   "metadata": {
    "collapsed": false
   },
   "outputs": [
    {
     "data": {
      "text/plain": [
       "89124.34"
      ]
     },
     "execution_count": 10,
     "metadata": {},
     "output_type": "execute_result"
    }
   ],
   "source": [
    "daily_vol = []\n",
    "\n",
    "for day in dict_17:\n",
    "    daily_vol.append(dict_17[day]['Traded Volume'])\n",
    "\n",
    "avg_volume= sum(daily_vol)/len(daily_vol)\n",
    "round(avg_volume,2)"
   ]
  },
  {
   "cell_type": "markdown",
   "metadata": {},
   "source": [
    "## 7. (Optional) What was the median trading volume during this year. (Note: you may need to implement your own function for calculating the median.)"
   ]
  },
  {
   "cell_type": "code",
   "execution_count": 11,
   "metadata": {
    "collapsed": false
   },
   "outputs": [
    {
     "name": "stdout",
     "output_type": "stream",
     "text": [
      "76286.0\n"
     ]
    }
   ],
   "source": [
    "def median(list1):\n",
    "    middle_idx = int(len(list1)/2)\n",
    "    if len(list1) % 2 == 0:\n",
    "        return (list1[middle_idx]+list1[middle_idx-1])/2.0\n",
    "    else:\n",
    "        return list1[middle_idx]\n",
    "\n",
    "sorted_vol = sorted(daily_vol)\n",
    "median_trading_vol = median(sorted_vol)\n",
    "print median_trading_vol\n"
   ]
  }
 ],
 "metadata": {
  "kernelspec": {
   "display_name": "Python 2",
   "language": "python",
   "name": "python2"
  },
  "language_info": {
   "codemirror_mode": {
    "name": "ipython",
    "version": 2
   },
   "file_extension": ".py",
   "mimetype": "text/x-python",
   "name": "python",
   "nbconvert_exporter": "python",
   "pygments_lexer": "ipython2",
   "version": "2.7.11"
  }
 },
 "nbformat": 4,
 "nbformat_minor": 2
}

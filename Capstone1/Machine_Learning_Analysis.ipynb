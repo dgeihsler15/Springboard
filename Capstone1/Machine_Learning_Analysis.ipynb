{
 "cells": [
  {
   "cell_type": "markdown",
   "metadata": {},
   "source": [
    "### Overview:\n",
    "\n",
    "In this notebook the insights gained from exploratory analysis are used to help answer the question surrounding proper stocking requirements for Divvy stations. The goal was to create a model to predict the ratio of trips in / trips out of any given station by day of the week and month of the year. This would allow Divvy to compare this predicted ratio with the current stocking status of their stations."
   ]
  },
  {
   "cell_type": "code",
   "execution_count": 1,
   "metadata": {
    "collapsed": true
   },
   "outputs": [],
   "source": [
    "%matplotlib inline\n",
    "import matplotlib.pyplot as plt \n",
    "import pandas as pd\n",
    "import numpy as np\n",
    "import seaborn as sns\n",
    "import scipy as sp\n",
    "from scipy import stats\n",
    "import statsmodels.api as sm\n",
    "import datetime as dt"
   ]
  },
  {
   "cell_type": "code",
   "execution_count": 2,
   "metadata": {
    "collapsed": true
   },
   "outputs": [],
   "source": [
    "df = pd.read_csv('Divvy_data_2017T2.csv')"
   ]
  },
  {
   "cell_type": "code",
   "execution_count": 3,
   "metadata": {
    "collapsed": false
   },
   "outputs": [],
   "source": [
    "df.rename(columns={'start_station_trip_count': 'start_trips_whole_year'}, inplace=True)"
   ]
  },
  {
   "cell_type": "code",
   "execution_count": 4,
   "metadata": {
    "collapsed": false
   },
   "outputs": [],
   "source": [
    "df.start_time = pd.to_datetime(df.start_time, format='%Y-%m-%d  %H:%M:%S')\n",
    "df = df.set_index('start_time')\n",
    "df['month_of_year'] = df.index.month"
   ]
  },
  {
   "cell_type": "markdown",
   "metadata": {},
   "source": [
    "### First we need to define our target and predictor variables"
   ]
  },
  {
   "cell_type": "code",
   "execution_count": 5,
   "metadata": {
    "collapsed": false
   },
   "outputs": [],
   "source": [
    "#find the number of trips leaving each station by day of the week and month of the year\n",
    "stations_out = df.groupby(['start_station_id', 'day_of_week', 'month_of_year']).count()\n",
    "\n",
    "#Not all stations had trips arrive at them every single day of the year. These are not currently shown as empty values, data does\n",
    "#not appear for those days at all. Unstack the month and day of week, to view information for all days, and fill NaN's with 0's.\n",
    "out = stations_out.unstack(['month_of_year', 'day_of_week'])\n",
    "out = out.fillna(0)"
   ]
  },
  {
   "cell_type": "code",
   "execution_count": 6,
   "metadata": {
    "collapsed": false
   },
   "outputs": [
    {
     "data": {
      "text/html": [
       "<div>\n",
       "<table border=\"1\" class=\"dataframe\">\n",
       "  <thead>\n",
       "    <tr>\n",
       "      <th></th>\n",
       "      <th colspan=\"10\" halign=\"left\">trip_id</th>\n",
       "      <th>...</th>\n",
       "      <th colspan=\"10\" halign=\"left\">week_of_year</th>\n",
       "    </tr>\n",
       "    <tr>\n",
       "      <th>month_of_year</th>\n",
       "      <th>1</th>\n",
       "      <th>2</th>\n",
       "      <th>3</th>\n",
       "      <th>4</th>\n",
       "      <th>5</th>\n",
       "      <th>6</th>\n",
       "      <th>7</th>\n",
       "      <th>8</th>\n",
       "      <th>9</th>\n",
       "      <th>10</th>\n",
       "      <th>...</th>\n",
       "      <th>3</th>\n",
       "      <th>4</th>\n",
       "      <th>5</th>\n",
       "      <th>6</th>\n",
       "      <th>7</th>\n",
       "      <th>8</th>\n",
       "      <th>9</th>\n",
       "      <th>10</th>\n",
       "      <th>11</th>\n",
       "      <th>12</th>\n",
       "    </tr>\n",
       "    <tr>\n",
       "      <th>day_of_week</th>\n",
       "      <th>0</th>\n",
       "      <th>0</th>\n",
       "      <th>0</th>\n",
       "      <th>0</th>\n",
       "      <th>0</th>\n",
       "      <th>0</th>\n",
       "      <th>0</th>\n",
       "      <th>0</th>\n",
       "      <th>0</th>\n",
       "      <th>0</th>\n",
       "      <th>...</th>\n",
       "      <th>6</th>\n",
       "      <th>6</th>\n",
       "      <th>6</th>\n",
       "      <th>6</th>\n",
       "      <th>6</th>\n",
       "      <th>6</th>\n",
       "      <th>6</th>\n",
       "      <th>6</th>\n",
       "      <th>6</th>\n",
       "      <th>6</th>\n",
       "    </tr>\n",
       "    <tr>\n",
       "      <th>start_station_id</th>\n",
       "      <th></th>\n",
       "      <th></th>\n",
       "      <th></th>\n",
       "      <th></th>\n",
       "      <th></th>\n",
       "      <th></th>\n",
       "      <th></th>\n",
       "      <th></th>\n",
       "      <th></th>\n",
       "      <th></th>\n",
       "      <th></th>\n",
       "      <th></th>\n",
       "      <th></th>\n",
       "      <th></th>\n",
       "      <th></th>\n",
       "      <th></th>\n",
       "      <th></th>\n",
       "      <th></th>\n",
       "      <th></th>\n",
       "      <th></th>\n",
       "      <th></th>\n",
       "    </tr>\n",
       "  </thead>\n",
       "  <tbody>\n",
       "    <tr>\n",
       "      <th>2</th>\n",
       "      <td>12</td>\n",
       "      <td>75</td>\n",
       "      <td>51</td>\n",
       "      <td>128</td>\n",
       "      <td>273</td>\n",
       "      <td>322</td>\n",
       "      <td>536</td>\n",
       "      <td>270</td>\n",
       "      <td>330</td>\n",
       "      <td>145</td>\n",
       "      <td>...</td>\n",
       "      <td>57</td>\n",
       "      <td>293</td>\n",
       "      <td>286</td>\n",
       "      <td>463</td>\n",
       "      <td>749</td>\n",
       "      <td>357</td>\n",
       "      <td>623</td>\n",
       "      <td>162</td>\n",
       "      <td>20</td>\n",
       "      <td>11</td>\n",
       "    </tr>\n",
       "    <tr>\n",
       "      <th>3</th>\n",
       "      <td>38</td>\n",
       "      <td>171</td>\n",
       "      <td>107</td>\n",
       "      <td>228</td>\n",
       "      <td>556</td>\n",
       "      <td>477</td>\n",
       "      <td>912</td>\n",
       "      <td>682</td>\n",
       "      <td>614</td>\n",
       "      <td>394</td>\n",
       "      <td>...</td>\n",
       "      <td>186</td>\n",
       "      <td>585</td>\n",
       "      <td>760</td>\n",
       "      <td>876</td>\n",
       "      <td>1248</td>\n",
       "      <td>796</td>\n",
       "      <td>1020</td>\n",
       "      <td>631</td>\n",
       "      <td>188</td>\n",
       "      <td>113</td>\n",
       "    </tr>\n",
       "    <tr>\n",
       "      <th>4</th>\n",
       "      <td>15</td>\n",
       "      <td>101</td>\n",
       "      <td>28</td>\n",
       "      <td>182</td>\n",
       "      <td>469</td>\n",
       "      <td>399</td>\n",
       "      <td>744</td>\n",
       "      <td>377</td>\n",
       "      <td>431</td>\n",
       "      <td>251</td>\n",
       "      <td>...</td>\n",
       "      <td>74</td>\n",
       "      <td>505</td>\n",
       "      <td>595</td>\n",
       "      <td>867</td>\n",
       "      <td>1052</td>\n",
       "      <td>595</td>\n",
       "      <td>635</td>\n",
       "      <td>369</td>\n",
       "      <td>76</td>\n",
       "      <td>56</td>\n",
       "    </tr>\n",
       "    <tr>\n",
       "      <th>5</th>\n",
       "      <td>24</td>\n",
       "      <td>51</td>\n",
       "      <td>35</td>\n",
       "      <td>60</td>\n",
       "      <td>124</td>\n",
       "      <td>147</td>\n",
       "      <td>231</td>\n",
       "      <td>138</td>\n",
       "      <td>95</td>\n",
       "      <td>113</td>\n",
       "      <td>...</td>\n",
       "      <td>16</td>\n",
       "      <td>63</td>\n",
       "      <td>89</td>\n",
       "      <td>156</td>\n",
       "      <td>197</td>\n",
       "      <td>99</td>\n",
       "      <td>94</td>\n",
       "      <td>89</td>\n",
       "      <td>17</td>\n",
       "      <td>12</td>\n",
       "    </tr>\n",
       "    <tr>\n",
       "      <th>6</th>\n",
       "      <td>21</td>\n",
       "      <td>99</td>\n",
       "      <td>41</td>\n",
       "      <td>54</td>\n",
       "      <td>443</td>\n",
       "      <td>398</td>\n",
       "      <td>655</td>\n",
       "      <td>420</td>\n",
       "      <td>417</td>\n",
       "      <td>316</td>\n",
       "      <td>...</td>\n",
       "      <td>119</td>\n",
       "      <td>404</td>\n",
       "      <td>557</td>\n",
       "      <td>834</td>\n",
       "      <td>1038</td>\n",
       "      <td>759</td>\n",
       "      <td>745</td>\n",
       "      <td>442</td>\n",
       "      <td>66</td>\n",
       "      <td>69</td>\n",
       "    </tr>\n",
       "  </tbody>\n",
       "</table>\n",
       "<p>5 rows × 2184 columns</p>\n",
       "</div>"
      ],
      "text/plain": [
       "                 trip_id                                              ...   \\\n",
       "month_of_year         1    2    3    4    5    6    7    8    9    10 ...    \n",
       "day_of_week            0    0    0    0    0    0    0    0    0    0 ...    \n",
       "start_station_id                                                      ...    \n",
       "2                     12   75   51  128  273  322  536  270  330  145 ...    \n",
       "3                     38  171  107  228  556  477  912  682  614  394 ...    \n",
       "4                     15  101   28  182  469  399  744  377  431  251 ...    \n",
       "5                     24   51   35   60  124  147  231  138   95  113 ...    \n",
       "6                     21   99   41   54  443  398  655  420  417  316 ...    \n",
       "\n",
       "                 week_of_year                                                 \n",
       "month_of_year              3    4    5    6     7    8     9    10   11   12  \n",
       "day_of_week                 6    6    6    6     6    6     6    6    6    6  \n",
       "start_station_id                                                              \n",
       "2                          57  293  286  463   749  357   623  162   20   11  \n",
       "3                         186  585  760  876  1248  796  1020  631  188  113  \n",
       "4                          74  505  595  867  1052  595   635  369   76   56  \n",
       "5                          16   63   89  156   197   99    94   89   17   12  \n",
       "6                         119  404  557  834  1038  759   745  442   66   69  \n",
       "\n",
       "[5 rows x 2184 columns]"
      ]
     },
     "execution_count": 6,
     "metadata": {},
     "output_type": "execute_result"
    }
   ],
   "source": [
    "out.head()"
   ]
  },
  {
   "cell_type": "code",
   "execution_count": 7,
   "metadata": {
    "collapsed": true
   },
   "outputs": [],
   "source": [
    "#restack the day and month so we can see the number of trips broken down by these variables with the 0s filled in \n",
    "a = out.stack(['day_of_week', 'month_of_year'])"
   ]
  },
  {
   "cell_type": "code",
   "execution_count": 8,
   "metadata": {
    "collapsed": true
   },
   "outputs": [],
   "source": [
    "#find the number of trips arriving at each station by day of the week and month of the year\n",
    "stations_in = df.groupby(['end_station_id', 'day_of_week', 'month_of_year']).count()\n",
    "\n",
    "#Not all stations had trips leave from them every single day of the year. These are not currently shown as empty values, data does\n",
    "#not appear for those days at all. Unstack the month and day of week, to view information for all days, and fill NaN's with 0's.\n",
    "ins = stations_in.unstack(['month_of_year', 'day_of_week'])\n",
    "ins = ins.fillna(0)"
   ]
  },
  {
   "cell_type": "code",
   "execution_count": 9,
   "metadata": {
    "collapsed": false
   },
   "outputs": [],
   "source": [
    "#restack the day and month so we can see the number of trips broken down by these variables with the 0s filled in \n",
    "b = ins.stack(['day_of_week', 'month_of_year'])"
   ]
  },
  {
   "cell_type": "code",
   "execution_count": 10,
   "metadata": {
    "collapsed": true
   },
   "outputs": [],
   "source": [
    "#create a function to find the trips coming in to trips going out ratio for each station\n",
    "def io_ratio():\n",
    "    station_ios = []\n",
    "    \n",
    "    #49140 is how many observations there our in our data broken down by station, day of week, and month of the year\n",
    "    for row in range(0, 49140):\n",
    "        if int(a.trip_id.iloc[row]) == 0 & int(b.trip_id.iloc[row]) == 0:\n",
    "            station_ios.append(1)\n",
    "        elif b.trip_id.iloc[row] == 0:\n",
    "            station_ios.append(1/a.trip_id.iloc[row])\n",
    "        elif a.trip_id.iloc[row] == 0:\n",
    "            station_ios.append(b.trip_id.iloc[row])\n",
    "        else:\n",
    "            io = float(b.trip_id.iloc[row]) / a.trip_id.iloc[row]\n",
    "            station_ios.append(io)\n",
    "    \n",
    "    return station_ios\n"
   ]
  },
  {
   "cell_type": "code",
   "execution_count": 11,
   "metadata": {
    "collapsed": false
   },
   "outputs": [],
   "source": [
    "ratio = io_ratio()"
   ]
  },
  {
   "cell_type": "code",
   "execution_count": 12,
   "metadata": {
    "collapsed": true
   },
   "outputs": [],
   "source": [
    "#create a function to find the number of trips coming in and coming out of each station by day of the week and month.\n",
    "def rides():\n",
    "    rides_in = []\n",
    "    rides_out =[]\n",
    "    \n",
    "    \n",
    "    #49140 is how many observations there our in our data broken down by station, day of week, and month of the year\n",
    "    for row in range(0, 49140):\n",
    "            rides_in.append(b.trip_id.iloc[row])\n",
    "            rides_out.append(a.trip_id.iloc[row])\n",
    "    \n",
    "    return rides_in, rides_out"
   ]
  },
  {
   "cell_type": "code",
   "execution_count": 13,
   "metadata": {
    "collapsed": false
   },
   "outputs": [],
   "source": [
    "i, o = rides()"
   ]
  },
  {
   "cell_type": "code",
   "execution_count": 14,
   "metadata": {
    "collapsed": true
   },
   "outputs": [],
   "source": [
    "avg_duration = df.groupby(['start_station_id', 'day_of_week', 'month_of_year']).mean()\n"
   ]
  },
  {
   "cell_type": "code",
   "execution_count": 15,
   "metadata": {
    "collapsed": true
   },
   "outputs": [],
   "source": [
    "dur = avg_duration.unstack(['month_of_year', 'day_of_week'])\n",
    "dur = dur.fillna(0)\n",
    "ad = dur.stack(['day_of_week', 'month_of_year'])"
   ]
  },
  {
   "cell_type": "code",
   "execution_count": 16,
   "metadata": {
    "collapsed": true
   },
   "outputs": [],
   "source": [
    "#create a function to find the number average duration starting from each station by day of the week and month.\n",
    "def average_duration():\n",
    "    avgdur = []\n",
    "    \n",
    "    \n",
    "    #49140 is how many observations there our in our data broken down by station, day of week, and month of the year\n",
    "    for row in range(0, 49140):\n",
    "            avgdur.append(ad.trip_duration.iloc[row])\n",
    "    \n",
    "    return avgdur\n",
    "\n",
    "avgdur = average_duration()"
   ]
  },
  {
   "cell_type": "code",
   "execution_count": 17,
   "metadata": {
    "collapsed": false
   },
   "outputs": [],
   "source": [
    "c = a.reset_index()\n",
    "c['ratio'] = ratio\n",
    "c['rides_in'] = i\n",
    "c['rides_out'] = o\n",
    "c['average_duration'] = avgdur\n"
   ]
  },
  {
   "cell_type": "code",
   "execution_count": 18,
   "metadata": {
    "collapsed": true
   },
   "outputs": [],
   "source": [
    "#add some additional features\n",
    "add_features = df.groupby(['start_station_id', 'start_capacity', 'group', 'start_latitude', 'start_longitude' ]).count()\n",
    "add_features = add_features.reset_index()\n",
    "add_features = add_features[['start_station_id', 'start_capacity', 'group', 'start_latitude', 'start_longitude']]"
   ]
  },
  {
   "cell_type": "code",
   "execution_count": 19,
   "metadata": {
    "collapsed": true
   },
   "outputs": [],
   "source": [
    "af = c.merge(add_features, on='start_station_id')\n",
    "c['capacity'] = af.start_capacity_y\n",
    "c['group'] = af.group_y\n",
    "c['latitude'] = af.start_latitude_y\n",
    "c['longitude'] = af.start_longitude_y"
   ]
  },
  {
   "cell_type": "code",
   "execution_count": 20,
   "metadata": {
    "collapsed": false
   },
   "outputs": [],
   "source": [
    "c['start_station_id'] = c['start_station_id'].astype(float)\n",
    "c['day_of_week'] = c['day_of_week'].astype(float)\n",
    "c['month_of_year'] = c['month_of_year'].astype(float)\n",
    "c['rides_in'] = c['rides_in'].astype(float)\n",
    "c['rides_out'] = c['rides_out'].astype(float)\n",
    "c['capacity'] = c['capacity'].astype(float)\n",
    "c['group'] = c['group'].astype(float)"
   ]
  },
  {
   "cell_type": "code",
   "execution_count": 21,
   "metadata": {
    "collapsed": false
   },
   "outputs": [],
   "source": [
    "data = c[['start_station_id','day_of_week','month_of_year', 'capacity', 'group','latitude', 'longitude', 'average_duration', \\\n",
    "              'rides_in', 'rides_out', 'ratio',]]"
   ]
  },
  {
   "cell_type": "code",
   "execution_count": 22,
   "metadata": {
    "collapsed": false
   },
   "outputs": [
    {
     "data": {
      "text/plain": [
       "41.886922999999996"
      ]
     },
     "execution_count": 22,
     "metadata": {},
     "output_type": "execute_result"
    }
   ],
   "source": [
    "data.latitude.median()"
   ]
  },
  {
   "cell_type": "code",
   "execution_count": 23,
   "metadata": {
    "collapsed": false
   },
   "outputs": [
    {
     "data": {
      "text/plain": [
       "-87.65383299999998"
      ]
     },
     "execution_count": 23,
     "metadata": {},
     "output_type": "execute_result"
    }
   ],
   "source": [
    "data.longitude.median()"
   ]
  },
  {
   "cell_type": "code",
   "execution_count": 24,
   "metadata": {
    "collapsed": false
   },
   "outputs": [],
   "source": [
    "sections = []\n",
    "\n",
    "for i in data['latitude']:\n",
    "    if i >= 41.886923:\n",
    "        sections.append(1)\n",
    "    else:\n",
    "        sections.append(0)\n",
    "    "
   ]
  },
  {
   "cell_type": "code",
   "execution_count": 25,
   "metadata": {
    "collapsed": false
   },
   "outputs": [
    {
     "name": "stderr",
     "output_type": "stream",
     "text": [
      "C:\\Users\\Danny\\Miniconda2\\envs\\tutorial\\lib\\site-packages\\ipykernel\\__main__.py:1: SettingWithCopyWarning: \n",
      "A value is trying to be set on a copy of a slice from a DataFrame.\n",
      "Try using .loc[row_indexer,col_indexer] = value instead\n",
      "\n",
      "See the caveats in the documentation: http://pandas.pydata.org/pandas-docs/stable/indexing.html#indexing-view-versus-copy\n",
      "  if __name__ == '__main__':\n"
     ]
    }
   ],
   "source": [
    "data['section'] = sections"
   ]
  },
  {
   "cell_type": "code",
   "execution_count": 26,
   "metadata": {
    "collapsed": false
   },
   "outputs": [],
   "source": [
    "territory = []\n",
    "\n",
    "north = data.loc[data.section ==1]\n",
    "south = data.loc[data.section ==0]\n",
    "\n",
    "for i in north['longitude']:\n",
    "    if i < -87.653833:\n",
    "        territory.append(1)\n",
    "    else:\n",
    "        territory.append(2)\n",
    "        \n",
    "for i in south['longitude']:\n",
    "    if i < -87.653833:\n",
    "        territory.append(3)\n",
    "    else:\n",
    "        territory.append(4)\n",
    "        \n",
    "\n",
    "        \n",
    "    "
   ]
  },
  {
   "cell_type": "code",
   "execution_count": 27,
   "metadata": {
    "collapsed": false
   },
   "outputs": [
    {
     "name": "stderr",
     "output_type": "stream",
     "text": [
      "C:\\Users\\Danny\\Miniconda2\\envs\\tutorial\\lib\\site-packages\\ipykernel\\__main__.py:1: SettingWithCopyWarning: \n",
      "A value is trying to be set on a copy of a slice from a DataFrame.\n",
      "Try using .loc[row_indexer,col_indexer] = value instead\n",
      "\n",
      "See the caveats in the documentation: http://pandas.pydata.org/pandas-docs/stable/indexing.html#indexing-view-versus-copy\n",
      "  if __name__ == '__main__':\n"
     ]
    }
   ],
   "source": [
    "data['territory'] = territory"
   ]
  },
  {
   "cell_type": "code",
   "execution_count": 28,
   "metadata": {
    "collapsed": false
   },
   "outputs": [
    {
     "name": "stderr",
     "output_type": "stream",
     "text": [
      "C:\\Users\\Danny\\Miniconda2\\envs\\tutorial\\lib\\site-packages\\ipykernel\\__main__.py:5: SettingWithCopyWarning: \n",
      "A value is trying to be set on a copy of a slice from a DataFrame.\n",
      "Try using .loc[row_indexer,col_indexer] = value instead\n",
      "\n",
      "See the caveats in the documentation: http://pandas.pydata.org/pandas-docs/stable/indexing.html#indexing-view-versus-copy\n"
     ]
    }
   ],
   "source": [
    "#add in the date when the bike stations went live\n",
    "\n",
    "online = df[['start_station_id','start_online_date']]\n",
    "online1 = online.drop_duplicates('start_station_id')\n",
    "online1['start_online_date'] = pd.to_datetime(online1['start_online_date'])"
   ]
  },
  {
   "cell_type": "code",
   "execution_count": 29,
   "metadata": {
    "collapsed": false
   },
   "outputs": [
    {
     "data": {
      "text/html": [
       "<div>\n",
       "<table border=\"1\" class=\"dataframe\">\n",
       "  <thead>\n",
       "    <tr style=\"text-align: right;\">\n",
       "      <th></th>\n",
       "      <th>start_station_id</th>\n",
       "      <th>start_online_date</th>\n",
       "    </tr>\n",
       "    <tr>\n",
       "      <th>start_time</th>\n",
       "      <th></th>\n",
       "      <th></th>\n",
       "    </tr>\n",
       "  </thead>\n",
       "  <tbody>\n",
       "    <tr>\n",
       "      <th>2017-03-31 22:52:02</th>\n",
       "      <td>2</td>\n",
       "      <td>2013-06-10 10:43:00</td>\n",
       "    </tr>\n",
       "    <tr>\n",
       "      <th>2017-03-31 17:19:34</th>\n",
       "      <td>3</td>\n",
       "      <td>2013-06-10 10:44:00</td>\n",
       "    </tr>\n",
       "    <tr>\n",
       "      <th>2017-03-31 19:13:42</th>\n",
       "      <td>4</td>\n",
       "      <td>2013-06-10 10:46:00</td>\n",
       "    </tr>\n",
       "    <tr>\n",
       "      <th>2017-03-31 22:37:14</th>\n",
       "      <td>5</td>\n",
       "      <td>2013-06-10 10:46:00</td>\n",
       "    </tr>\n",
       "    <tr>\n",
       "      <th>2017-03-31 20:16:59</th>\n",
       "      <td>6</td>\n",
       "      <td>2013-06-10 11:18:00</td>\n",
       "    </tr>\n",
       "  </tbody>\n",
       "</table>\n",
       "</div>"
      ],
      "text/plain": [
       "                     start_station_id   start_online_date\n",
       "start_time                                               \n",
       "2017-03-31 22:52:02                 2 2013-06-10 10:43:00\n",
       "2017-03-31 17:19:34                 3 2013-06-10 10:44:00\n",
       "2017-03-31 19:13:42                 4 2013-06-10 10:46:00\n",
       "2017-03-31 22:37:14                 5 2013-06-10 10:46:00\n",
       "2017-03-31 20:16:59                 6 2013-06-10 11:18:00"
      ]
     },
     "execution_count": 29,
     "metadata": {},
     "output_type": "execute_result"
    }
   ],
   "source": [
    "online1 = online1.sort_values('start_station_id')\n",
    "online1.head()"
   ]
  },
  {
   "cell_type": "code",
   "execution_count": 30,
   "metadata": {
    "collapsed": true
   },
   "outputs": [],
   "source": [
    "years = []\n",
    "for i in range(0,585):\n",
    "    years.append(online1.start_online_date[i].year)\n",
    "    \n",
    "online1['year_online'] = years\n",
    "\n",
    "months = []\n",
    "\n",
    "for i in range(0,585):\n",
    "    months.append(online1.start_online_date[i].month)\n",
    "    \n",
    "online1['month_online'] = months\n",
    "    "
   ]
  },
  {
   "cell_type": "code",
   "execution_count": 31,
   "metadata": {
    "collapsed": false
   },
   "outputs": [],
   "source": [
    "online_dates = online1[['start_station_id', 'year_online', 'month_online']]"
   ]
  },
  {
   "cell_type": "code",
   "execution_count": 32,
   "metadata": {
    "collapsed": false
   },
   "outputs": [],
   "source": [
    "data = data.merge(online_dates, on='start_station_id')"
   ]
  },
  {
   "cell_type": "code",
   "execution_count": 33,
   "metadata": {
    "collapsed": false
   },
   "outputs": [
    {
     "data": {
      "text/plain": [
       "count    49140.000000\n",
       "mean        17.507692\n",
       "std          6.670351\n",
       "min         11.000000\n",
       "25%         15.000000\n",
       "50%         15.000000\n",
       "75%         19.000000\n",
       "max         55.000000\n",
       "Name: capacity, dtype: float64"
      ]
     },
     "execution_count": 33,
     "metadata": {},
     "output_type": "execute_result"
    }
   ],
   "source": [
    "#group stations by capacities\n",
    "data.capacity.describe()\n"
   ]
  },
  {
   "cell_type": "code",
   "execution_count": 34,
   "metadata": {
    "collapsed": false
   },
   "outputs": [],
   "source": [
    "capgs = []\n",
    "\n",
    "for i in data['capacity']:\n",
    "    if i < 15:\n",
    "        capgs.append(1)\n",
    "    elif i == 15:\n",
    "        capgs.append(2)\n",
    "    elif i < 20:\n",
    "        capgs.append(3)\n",
    "    elif i >= 20:\n",
    "        capgs.append(4)"
   ]
  },
  {
   "cell_type": "code",
   "execution_count": 35,
   "metadata": {
    "collapsed": false
   },
   "outputs": [],
   "source": [
    "data['cap_group'] = capgs"
   ]
  },
  {
   "cell_type": "markdown",
   "metadata": {},
   "source": [
    "### To predict the stocking ratio for all stations it may be helpful to segment the stations into groups and train models for each groups intricacies. Here we'll group stations based on their size using the cap_group designations.\n",
    "\n",
    "In past analysis we've found that the average ratio between stations capacities does not differ significantly but the variance is much higher for the lower capacity stations. Grouping in this way will also help predict the ratio for new stations. (If we grouped by traffic level for instatnce, we would not have any trip information for a brand new station to place it correctly.)\n"
   ]
  },
  {
   "cell_type": "code",
   "execution_count": 36,
   "metadata": {
    "collapsed": false
   },
   "outputs": [],
   "source": [
    "group1 = data.loc[data.cap_group == 1]\n",
    "Xg1 = group1[['day_of_week', 'month_of_year', 'average_duration', 'capacity', 'territory', 'section', 'year_online','month_online', 'group']]\n",
    "yg1 = group1['ratio']\n",
    "\n",
    "group2 = data.loc[data.cap_group == 2]\n",
    "Xg2 = group2[['day_of_week', 'month_of_year', 'average_duration', 'capacity', 'territory', 'section', 'year_online','month_online', 'group']]\n",
    "yg2 = group2['ratio']\n",
    "\n",
    "group3 = data.loc[data.cap_group == 3]\n",
    "Xg3 = group3[['day_of_week', 'month_of_year', 'average_duration', 'capacity', 'territory', 'section', 'year_online','month_online', 'group']]\n",
    "yg3 = group3['ratio']\n",
    "\n",
    "group4 = data.loc[data.cap_group == 4]\n",
    "Xg4 = group4[['day_of_week', 'month_of_year', 'average_duration', 'capacity', 'territory', 'section', 'year_online','month_online', 'group']]\n",
    "yg4 = group4['ratio']\n"
   ]
  },
  {
   "cell_type": "code",
   "execution_count": 37,
   "metadata": {
    "collapsed": false
   },
   "outputs": [],
   "source": [
    "#predictor variables\n",
    "X = data[['day_of_week', 'month_of_year', 'average_duration', 'capacity', 'territory', 'section', 'year_online','month_online', 'group']]"
   ]
  },
  {
   "cell_type": "code",
   "execution_count": 38,
   "metadata": {
    "collapsed": true
   },
   "outputs": [],
   "source": [
    "#target variable\n",
    "y = data['ratio'].values"
   ]
  },
  {
   "cell_type": "markdown",
   "metadata": {},
   "source": [
    "### Feature Selection"
   ]
  },
  {
   "cell_type": "code",
   "execution_count": 39,
   "metadata": {
    "collapsed": false
   },
   "outputs": [
    {
     "data": {
      "text/plain": [
       "array([-0.,  0.,  0., -0.,  0.,  0.,  0., -0.,  0.])"
      ]
     },
     "execution_count": 39,
     "metadata": {},
     "output_type": "execute_result"
    }
   ],
   "source": [
    "from sklearn.model_selection import train_test_split\n",
    "from sklearn.linear_model import Lasso\n",
    "\n",
    "lasso = Lasso()\n",
    "\n",
    "X_train, X_test, y_train, y_test = train_test_split(X, y, test_size=.2, random_state=15)\n",
    "\n",
    "lasso_coef = lasso.fit(X_train,y_train).coef_\n",
    "\n",
    "lasso_coef"
   ]
  },
  {
   "cell_type": "markdown",
   "metadata": {
    "collapsed": true
   },
   "source": [
    "None of the variables have strong coefficents, so we will use all predictor varibles while creating our models "
   ]
  },
  {
   "cell_type": "code",
   "execution_count": 40,
   "metadata": {
    "collapsed": false
   },
   "outputs": [
    {
     "name": "stderr",
     "output_type": "stream",
     "text": [
      "C:\\Users\\Danny\\Miniconda2\\envs\\tutorial\\lib\\site-packages\\pandas\\core\\generic.py:2387: SettingWithCopyWarning: \n",
      "A value is trying to be set on a copy of a slice from a DataFrame.\n",
      "Try using .loc[row_indexer,col_indexer] = value instead\n",
      "\n",
      "See the caveats in the documentation: http://pandas.pydata.org/pandas-docs/stable/indexing.html#indexing-view-versus-copy\n",
      "  self[name] = value\n"
     ]
    }
   ],
   "source": [
    "#prep categorical variables to utilize the get_dummies function\n",
    "X.group = X.group.astype('category')\n",
    "X.month_of_year = X.month_of_year.astype('category')\n",
    "X.day_of_week = X.day_of_week.astype('category')\n",
    "X.section = X.section.astype(\"category\")\n",
    "X.territory = X.territory.astype('category')\n",
    "\n",
    "Xg1.group = X.group.astype('category')\n",
    "Xg1.month_of_year = X.month_of_year.astype('category')\n",
    "Xg1.day_of_week = X.day_of_week.astype('category')\n",
    "Xg1.section = X.section.astype(\"category\")\n",
    "Xg1.territory = X.territory.astype('category')"
   ]
  },
  {
   "cell_type": "code",
   "execution_count": 41,
   "metadata": {
    "collapsed": false
   },
   "outputs": [],
   "source": [
    "X = pd.get_dummies(X)\n",
    "Xg1 = pd.get_dummies(Xg1)"
   ]
  },
  {
   "cell_type": "markdown",
   "metadata": {},
   "source": [
    "### We will also need a baseline to compare our model against later on\n",
    "\n",
    "This will allow us to see how well our models compare against just using the average ratio for each station for the year as a whole."
   ]
  },
  {
   "cell_type": "code",
   "execution_count": 42,
   "metadata": {
    "collapsed": true
   },
   "outputs": [],
   "source": [
    "#count number of rides out per station for 2017\n",
    "rout = df.groupby(['start_station_id']).count()\n",
    "\n",
    "#count number of rides in per station for 2017\n",
    "rin = df.groupby(['end_station_id']).count()"
   ]
  },
  {
   "cell_type": "code",
   "execution_count": 43,
   "metadata": {
    "collapsed": true
   },
   "outputs": [],
   "source": [
    "# get the infromation for trips in and trips out ready for a join\n",
    "i = pd.DataFrame(rin.trip_id)\n",
    "o = pd.DataFrame(rout.trip_id)\n",
    "i.rename(columns={'trip_id': 'trips_in'}, inplace=True)\n",
    "o.rename(columns={'trip_id': 'trips_out'}, inplace=True)\n",
    "i.index.names = ['station_id']\n",
    "o.index.names= ['station_id']\n",
    "\n",
    "# join trips in and out into one dataframe\n",
    "io = i.join(o, how='outer')\n",
    "io['2017_ratio'] = io.trips_in / io.trips_out\n",
    "\n",
    "io = io.drop(['trips_in', 'trips_out'], axis=1)\n",
    "io = io.reset_index()"
   ]
  },
  {
   "cell_type": "code",
   "execution_count": 44,
   "metadata": {
    "collapsed": false
   },
   "outputs": [],
   "source": [
    "data = data.merge(io, left_on='start_station_id', right_on='station_id')\n",
    "data = data.drop('station_id', axis=1)"
   ]
  },
  {
   "cell_type": "markdown",
   "metadata": {},
   "source": [
    "### Now that we have our predictor and target variables, we can split the data into training and tests sets, and train a model. "
   ]
  },
  {
   "cell_type": "code",
   "execution_count": 45,
   "metadata": {
    "collapsed": false
   },
   "outputs": [],
   "source": [
    "from sklearn.model_selection import GridSearchCV\n",
    "from sklearn.linear_model import LinearRegression\n",
    "from sklearn.neighbors import KNeighborsClassifier\n",
    "from sklearn.linear_model import Ridge\n",
    "from sklearn.preprocessing import StandardScaler\n",
    "from sklearn.pipeline import Pipeline\n",
    "from sklearn.metrics import classification_report"
   ]
  },
  {
   "cell_type": "code",
   "execution_count": 46,
   "metadata": {
    "collapsed": false
   },
   "outputs": [
    {
     "name": "stdout",
     "output_type": "stream",
     "text": [
      "0.009087623565337544\n"
     ]
    }
   ],
   "source": [
    "steps=[('scaler', StandardScaler()), ('reg', LinearRegression())]\n",
    "\n",
    "pipeline = Pipeline(steps)\n",
    "\n",
    "X_train, X_test, y_train, y_test = train_test_split(X, y, test_size=.2, random_state=15)\n",
    "reg_scaled = pipeline.fit(X_train, y_train)\n",
    "\n",
    "y_pred= pipeline.predict(X_test)\n",
    "\n",
    "print pipeline.score(X_test, y_test)"
   ]
  },
  {
   "cell_type": "code",
   "execution_count": 47,
   "metadata": {
    "collapsed": false
   },
   "outputs": [
    {
     "name": "stdout",
     "output_type": "stream",
     "text": [
      "0.0026512744618963913\n"
     ]
    }
   ],
   "source": [
    "steps=[('scaler', StandardScaler()), ('reg', LinearRegression())]\n",
    "\n",
    "pipeline = Pipeline(steps)\n",
    "\n",
    "X_train, X_test, y_train, y_test = train_test_split(Xg1, yg1, test_size=.2, random_state=15)\n",
    "reg_scaled = pipeline.fit(X_train, y_train)\n",
    "\n",
    "y_pred= pipeline.predict(X_test)\n",
    "\n",
    "print pipeline.score(X_test, y_test)"
   ]
  },
  {
   "cell_type": "code",
   "execution_count": 48,
   "metadata": {
    "collapsed": false
   },
   "outputs": [
    {
     "name": "stdout",
     "output_type": "stream",
     "text": [
      "{'ridge__alpha': 1}\n"
     ]
    }
   ],
   "source": [
    "steps=[('scaler', StandardScaler()), ('ridge', Ridge(alpha=.5, normalize=True))]\n",
    "\n",
    "pipeline = Pipeline(steps)\n",
    "\n",
    "parameters = {'ridge__alpha': [.1,.5,1,5,10]}\n",
    "\n",
    "X_train, X_test, y_train, y_test = train_test_split(Xg1, yg1, test_size=.2, random_state=15)\n",
    "\n",
    "cv = GridSearchCV(pipeline, param_grid=parameters, cv=5)\n",
    "\n",
    "cv.fit(X_train, y_train)\n",
    "\n",
    "print cv.best_params_"
   ]
  },
  {
   "cell_type": "code",
   "execution_count": 49,
   "metadata": {
    "collapsed": false
   },
   "outputs": [
    {
     "name": "stdout",
     "output_type": "stream",
     "text": [
      "0.0019294830660026019\n"
     ]
    }
   ],
   "source": [
    "steps=[('scaler', StandardScaler()), ('ridge', Ridge(alpha=.1, normalize=True))]\n",
    "\n",
    "pipeline = Pipeline(steps)\n",
    "\n",
    "X_train, X_test, y_train, y_test = train_test_split(Xg1, yg1, test_size=.2, random_state=15)\n",
    "reg_scaled = pipeline.fit(X_train, y_train)\n",
    "\n",
    "y_pred= pipeline.predict(X_test)\n",
    "\n",
    "print pipeline.score(X_test, y_test)"
   ]
  },
  {
   "cell_type": "markdown",
   "metadata": {
    "collapsed": true
   },
   "source": [
    "### What if we separated out the target variable into classes that can be used for different stocking recommendations, and used our data for classification?\n",
    "\n",
    "These stocking classes will be based on the trips in to trips out ratio, and will be separated in a way that a different recommendation can be made about stocking requirements for each class."
   ]
  },
  {
   "cell_type": "code",
   "execution_count": 50,
   "metadata": {
    "collapsed": false
   },
   "outputs": [
    {
     "data": {
      "image/png": "[encoded data removed]",
      "text/plain": [
       "<matplotlib.figure.Figure at 0x5cbb2940>"
      ]
     },
     "metadata": {},
     "output_type": "display_data"
    }
   ],
   "source": [
    "#view the distribution for the ratios - most seem to fall between 0 and 2\n",
    "plt.hist(data.ratio)\n",
    "plt.xlabel('Trips in vs trips out ratio')\n",
    "plt.ylabel('Frequency')\n",
    "plt.title('Distribution of Ratios')\n",
    "plt.show()"
   ]
  },
  {
   "cell_type": "code",
   "execution_count": 51,
   "metadata": {
    "collapsed": false
   },
   "outputs": [],
   "source": [
    "#separate the stock classes - different ratios would require different degrees of stocking needs\n",
    "\n",
    "stockclass= []\n",
    "\n",
    "def separate_stockclass():\n",
    "    for i in range(len(c.ratio)):\n",
    "        if data.ratio[i] < .5:\n",
    "            stockclass.append('0 to .5')\n",
    "        elif data.ratio[i] < .8:\n",
    "            stockclass.append('.5 to .8')\n",
    "        elif data.ratio[i] < 1.2:\n",
    "            stockclass.append('.8 to 1.2')\n",
    "        elif data.ratio[i] < 2.5:\n",
    "            stockclass.append('1.2 to 2.5')\n",
    "        elif data.ratio[i] >= 2.5:\n",
    "            stockclass.append('2.5+')\n",
    "        else:\n",
    "            return 'Error'"
   ]
  },
  {
   "cell_type": "code",
   "execution_count": 52,
   "metadata": {
    "collapsed": false
   },
   "outputs": [],
   "source": [
    "separate_stockclass()"
   ]
  },
  {
   "cell_type": "code",
   "execution_count": 53,
   "metadata": {
    "collapsed": false
   },
   "outputs": [],
   "source": [
    "#new predictor and target variables for classification\n",
    "data['class'] = stockclass\n",
    "yc = data['class']\n",
    "Xc = data[['day_of_week', 'month_of_year', 'average_duration', 'group', 'capacity', 'territory', 'year_online', 'month_online', 'section']]\n",
    "\n",
    "#update the grouped predictor and target variables\n",
    "g1c = group1[['day_of_week', 'month_of_year', 'average_duration', 'group', 'capacity', 'territory', 'year_online', 'month_online', 'section']]\n",
    "g1yc = data['class'].loc[data.cap_group == 1]\n",
    "g2c = group2[['day_of_week', 'month_of_year', 'average_duration', 'group', 'capacity', 'territory', 'year_online', 'month_online', 'section']]\n",
    "g2yc = data['class'].loc[data.cap_group == 2]\n",
    "g3c = group3[['day_of_week', 'month_of_year', 'average_duration', 'group', 'capacity', 'territory', 'year_online', 'month_online', 'section']]\n",
    "g3yc = data['class'].loc[data.cap_group == 3]\n",
    "g4c = group4[['day_of_week', 'month_of_year', 'average_duration', 'capacity', 'territory', 'year_online', 'month_online', 'group', 'section']]\n",
    "g4yc = data['class'].loc[data.cap_group == 4]"
   ]
  },
  {
   "cell_type": "markdown",
   "metadata": {},
   "source": [
    "### Create benchmarks to help evaluate our models going forward"
   ]
  },
  {
   "cell_type": "code",
   "execution_count": 54,
   "metadata": {
    "collapsed": true
   },
   "outputs": [],
   "source": [
    "#look at baseline performance for these new classes. As mentioned previously the average ratio per station for the year will act\n",
    "#as our benchmark\n",
    "baseline_results= []\n",
    "\n",
    "def baseline():\n",
    "    for i in range(len(c.ratio)):\n",
    "        if data['2017_ratio'][i] < .5:\n",
    "            baseline_results.append('0 to .5')\n",
    "        elif data['2017_ratio'][i] < .8:\n",
    "            baseline_results.append('.5 to .8')\n",
    "        elif data['2017_ratio'][i] < 1.2:\n",
    "            baseline_results.append('.8 to 1.2')\n",
    "        elif data['2017_ratio'][i] < 2.5:\n",
    "            baseline_results.append('1.2 to 2.5')\n",
    "        elif data['2017_ratio'][i] >= 2.5:\n",
    "            baseline_results.append('2.5+')\n",
    "        else:\n",
    "            return 'Error'\n"
   ]
  },
  {
   "cell_type": "code",
   "execution_count": 55,
   "metadata": {
    "collapsed": false
   },
   "outputs": [],
   "source": [
    "baseline()\n",
    "data['baseline'] = baseline_results"
   ]
  },
  {
   "cell_type": "code",
   "execution_count": 56,
   "metadata": {
    "collapsed": true
   },
   "outputs": [],
   "source": [
    "#update the grouped dfs to include the class and baseline variables\n",
    "group1 = data.loc[data.cap_group == 1]\n",
    "group2 = data.loc[data.cap_group == 2]\n",
    "group3 = data.loc[data.cap_group == 3]\n",
    "group4 = data.loc[data.cap_group == 4]"
   ]
  },
  {
   "cell_type": "code",
   "execution_count": 57,
   "metadata": {
    "collapsed": false
   },
   "outputs": [
    {
     "data": {
      "text/plain": [
       "0.6846764346764347"
      ]
     },
     "execution_count": 57,
     "metadata": {},
     "output_type": "execute_result"
    }
   ],
   "source": [
    "#baseline performance for non-group model\n",
    "a = data['class'].loc[data['class'] == data['baseline']]\n",
    "float(len(a))/len(data)"
   ]
  },
  {
   "cell_type": "code",
   "execution_count": 58,
   "metadata": {
    "collapsed": false
   },
   "outputs": [
    {
     "name": "stdout",
     "output_type": "stream",
     "text": [
      "             precision    recall  f1-score   support\n",
      "\n",
      "   .5 to .8       0.23      0.06      0.10      5502\n",
      "  .8 to 1.2       0.72      0.94      0.81     34657\n",
      "    0 to .5       0.24      0.02      0.04       919\n",
      " 1.2 to 2.5       0.34      0.09      0.15      7482\n",
      "       2.5+       0.05      0.01      0.01       580\n",
      "\n",
      "avg / total       0.59      0.68      0.61     49140\n",
      "\n"
     ]
    }
   ],
   "source": [
    "print classification_report(data['class'], data['baseline'])\n"
   ]
  },
  {
   "cell_type": "code",
   "execution_count": 59,
   "metadata": {
    "collapsed": false
   },
   "outputs": [
    {
     "data": {
      "text/plain": [
       "0.6102292768959435"
      ]
     },
     "execution_count": 59,
     "metadata": {},
     "output_type": "execute_result"
    }
   ],
   "source": [
    "#baseline performance for group1\n",
    "a = group1['class'].loc[group1['class'] == group1['baseline']]\n",
    "float(len(a))/len(group1)"
   ]
  },
  {
   "cell_type": "code",
   "execution_count": 60,
   "metadata": {
    "collapsed": false
   },
   "outputs": [
    {
     "name": "stdout",
     "output_type": "stream",
     "text": [
      "             precision    recall  f1-score   support\n",
      "\n",
      "   .5 to .8       0.15      0.10      0.12      1115\n",
      "  .8 to 1.2       0.71      0.83      0.77      6308\n",
      "    0 to .5       0.00      0.00      0.00       315\n",
      " 1.2 to 2.5       0.19      0.14      0.16      1129\n",
      "       2.5+       0.05      0.02      0.03       205\n",
      "\n",
      "avg / total       0.54      0.61      0.57      9072\n",
      "\n"
     ]
    },
    {
     "name": "stderr",
     "output_type": "stream",
     "text": [
      "C:\\Users\\Danny\\Miniconda2\\envs\\tutorial\\lib\\site-packages\\sklearn\\metrics\\classification.py:1135: UndefinedMetricWarning: Precision and F-score are ill-defined and being set to 0.0 in labels with no predicted samples.\n",
      "  'precision', 'predicted', average, warn_for)\n"
     ]
    }
   ],
   "source": [
    "print classification_report(group1['class'], group1['baseline'])"
   ]
  },
  {
   "cell_type": "code",
   "execution_count": 61,
   "metadata": {
    "collapsed": false
   },
   "outputs": [
    {
     "data": {
      "text/plain": [
       "0.6367426347971095"
      ]
     },
     "execution_count": 61,
     "metadata": {},
     "output_type": "execute_result"
    }
   ],
   "source": [
    "#baseline performance for group2\n",
    "a = group2['class'].loc[group2['class'] == group2['baseline']]\n",
    "float(len(a))/len(group2)"
   ]
  },
  {
   "cell_type": "code",
   "execution_count": 62,
   "metadata": {
    "collapsed": false
   },
   "outputs": [
    {
     "name": "stdout",
     "output_type": "stream",
     "text": [
      "             precision    recall  f1-score   support\n",
      "\n",
      "   .5 to .8       0.10      0.02      0.03      2677\n",
      "  .8 to 1.2       0.66      0.95      0.78     14163\n",
      "    0 to .5       0.24      0.04      0.07       482\n",
      " 1.2 to 2.5       0.37      0.07      0.12      3963\n",
      "       2.5+       0.00      0.00      0.00       303\n",
      "\n",
      "avg / total       0.52      0.64      0.54     21588\n",
      "\n"
     ]
    }
   ],
   "source": [
    "print classification_report(group2['class'], group2['baseline'])"
   ]
  },
  {
   "cell_type": "code",
   "execution_count": 63,
   "metadata": {
    "collapsed": false
   },
   "outputs": [
    {
     "data": {
      "text/plain": [
       "0.7470501474926253"
      ]
     },
     "execution_count": 63,
     "metadata": {},
     "output_type": "execute_result"
    }
   ],
   "source": [
    "#baseline performance for group3\n",
    "a = group3['class'].loc[group3['class'] == group3['baseline']]\n",
    "float(len(a))/len(group3)"
   ]
  },
  {
   "cell_type": "code",
   "execution_count": 64,
   "metadata": {
    "collapsed": false
   },
   "outputs": [
    {
     "name": "stdout",
     "output_type": "stream",
     "text": [
      "             precision    recall  f1-score   support\n",
      "\n",
      "   .5 to .8       0.19      0.02      0.03       924\n",
      "  .8 to 1.2       0.76      0.98      0.85      7036\n",
      "    0 to .5       0.00      0.00      0.00        98\n",
      " 1.2 to 2.5       0.59      0.14      0.23      1388\n",
      "       2.5+       0.00      0.00      0.00        46\n",
      "\n",
      "avg / total       0.67      0.75      0.67      9492\n",
      "\n"
     ]
    }
   ],
   "source": [
    "print classification_report(group3['class'], group3['baseline'])"
   ]
  },
  {
   "cell_type": "code",
   "execution_count": 65,
   "metadata": {
    "collapsed": false
   },
   "outputs": [
    {
     "data": {
      "text/plain": [
       "0.8090787716955942"
      ]
     },
     "execution_count": 65,
     "metadata": {},
     "output_type": "execute_result"
    }
   ],
   "source": [
    "#baseline performance for group4\n",
    "a = group4['class'].loc[group4['class'] == group4['baseline']]\n",
    "float(len(a))/len(group4)"
   ]
  },
  {
   "cell_type": "code",
   "execution_count": 66,
   "metadata": {
    "collapsed": false
   },
   "outputs": [
    {
     "name": "stdout",
     "output_type": "stream",
     "text": [
      "             precision    recall  f1-score   support\n",
      "\n",
      "   .5 to .8       0.19      0.02      0.03       924\n",
      "  .8 to 1.2       0.76      0.98      0.85      7036\n",
      "    0 to .5       0.00      0.00      0.00        98\n",
      " 1.2 to 2.5       0.59      0.14      0.23      1388\n",
      "       2.5+       0.00      0.00      0.00        46\n",
      "\n",
      "avg / total       0.67      0.75      0.67      9492\n",
      "\n"
     ]
    }
   ],
   "source": [
    "print classification_report(group3['class'], group3['baseline'])"
   ]
  },
  {
   "cell_type": "markdown",
   "metadata": {},
   "source": [
    "## KNN"
   ]
  },
  {
   "cell_type": "code",
   "execution_count": 67,
   "metadata": {
    "collapsed": false
   },
   "outputs": [
    {
     "name": "stdout",
     "output_type": "stream",
     "text": [
      "{'knn__n_neighbors': 24}\n",
      "0.7013380138380139\n"
     ]
    }
   ],
   "source": [
    "steps=[('knn', KNeighborsClassifier())]\n",
    "\n",
    "pipeline = Pipeline(steps)\n",
    "\n",
    "parameters = {'knn__n_neighbors':np.arange(9,25)}\n",
    "\n",
    "X_train, X_test, y_train, y_test = train_test_split(Xc, yc, test_size=.2, random_state=15)\n",
    "\n",
    "cv = GridSearchCV(pipeline, param_grid=parameters, cv=5)\n",
    "\n",
    "cv.fit(X_train, y_train)\n",
    "\n",
    "print cv.best_params_\n",
    "print cv.best_score_"
   ]
  },
  {
   "cell_type": "code",
   "execution_count": 68,
   "metadata": {
    "collapsed": false
   },
   "outputs": [
    {
     "name": "stdout",
     "output_type": "stream",
     "text": [
      "Training score:  0.7117165242165242\n",
      "Test score:  0.7001424501424501\n",
      "             precision    recall  f1-score   support\n",
      "\n",
      "   .5 to .8       0.26      0.05      0.08      1104\n",
      "  .8 to 1.2       0.72      0.98      0.83      6935\n",
      "    0 to .5       0.00      0.00      0.00       186\n",
      " 1.2 to 2.5       0.31      0.04      0.07      1482\n",
      "       2.5+       0.00      0.00      0.00       121\n",
      "\n",
      "avg / total       0.58      0.70      0.60      9828\n",
      "\n"
     ]
    }
   ],
   "source": [
    "clf = KNeighborsClassifier(n_neighbors= 24)\n",
    "X_train, X_test, y_train, y_test = train_test_split(Xc, yc, test_size=.2, random_state=15)\n",
    "clf.fit(X_train, y_train)\n",
    "y_pred = clf.predict(X_test)\n",
    "\n",
    "print \"Training score: \", clf.score(X_train, y_train)\n",
    "print \"Test score: \", clf.score(X_test, y_test)\n",
    "\n",
    "print classification_report(y_test, y_pred)"
   ]
  },
  {
   "cell_type": "markdown",
   "metadata": {},
   "source": [
    "Group 1"
   ]
  },
  {
   "cell_type": "code",
   "execution_count": 69,
   "metadata": {
    "collapsed": false
   },
   "outputs": [
    {
     "name": "stdout",
     "output_type": "stream",
     "text": [
      "{'knn__n_neighbors': 18}\n",
      "0.6745211519911809\n"
     ]
    }
   ],
   "source": [
    "steps=[('knn', KNeighborsClassifier())]\n",
    "\n",
    "pipeline = Pipeline(steps)\n",
    "\n",
    "parameters = {'knn__n_neighbors':np.arange(5,20)}\n",
    "\n",
    "X_train, X_test, y_train, y_test = train_test_split(g1c, g1yc, test_size=.2, random_state=15)\n",
    "\n",
    "cv = GridSearchCV(pipeline, param_grid=parameters, cv=5)\n",
    "\n",
    "cv.fit(X_train, y_train)\n",
    "\n",
    "print cv.best_params_\n",
    "print cv.best_score_"
   ]
  },
  {
   "cell_type": "code",
   "execution_count": 70,
   "metadata": {
    "collapsed": false
   },
   "outputs": [
    {
     "name": "stdout",
     "output_type": "stream",
     "text": [
      "Training score:  0.7016673556566074\n",
      "Test score:  0.699724517906336\n",
      "             precision    recall  f1-score   support\n",
      "\n",
      "   .5 to .8       0.27      0.12      0.17       208\n",
      "  .8 to 1.2       0.74      0.95      0.83      1301\n",
      "    0 to .5       0.00      0.00      0.00        64\n",
      " 1.2 to 2.5       0.23      0.06      0.10       207\n",
      "       2.5+       0.00      0.00      0.00        35\n",
      "\n",
      "avg / total       0.59      0.70      0.63      1815\n",
      "\n"
     ]
    }
   ],
   "source": [
    "clf = KNeighborsClassifier(n_neighbors= 19)\n",
    "X_train, X_test, y_train, y_test = train_test_split(g1c, g1yc, test_size=.2, random_state=15)\n",
    "clf.fit(X_train, y_train)\n",
    "y_pred = clf.predict(X_test)\n",
    "\n",
    "print \"Training score: \", clf.score(X_train, y_train)\n",
    "print \"Test score: \", clf.score(X_test, y_test)\n",
    "\n",
    "print classification_report(y_test, y_pred)"
   ]
  },
  {
   "cell_type": "markdown",
   "metadata": {},
   "source": [
    "Group 2"
   ]
  },
  {
   "cell_type": "code",
   "execution_count": 71,
   "metadata": {
    "collapsed": false
   },
   "outputs": [
    {
     "name": "stdout",
     "output_type": "stream",
     "text": [
      "{'knn__n_neighbors': 24}\n",
      "0.6479444122756225\n"
     ]
    }
   ],
   "source": [
    "steps=[('knn', KNeighborsClassifier())]\n",
    "\n",
    "pipeline = Pipeline(steps)\n",
    "\n",
    "parameters = {'knn__n_neighbors':np.arange(9,25)}\n",
    "\n",
    "X_train, X_test, y_train, y_test = train_test_split(g2c, g2yc, test_size=.2, random_state=15)\n",
    "\n",
    "cv = GridSearchCV(pipeline, param_grid=parameters, cv=5)\n",
    "\n",
    "cv.fit(X_train, y_train)\n",
    "\n",
    "print cv.best_params_\n",
    "print cv.best_score_"
   ]
  },
  {
   "cell_type": "code",
   "execution_count": 72,
   "metadata": {
    "collapsed": false
   },
   "outputs": [
    {
     "name": "stdout",
     "output_type": "stream",
     "text": [
      "Training score:  0.6615518239722061\n",
      "Test score:  0.6387216303844372\n",
      "             precision    recall  f1-score   support\n",
      "\n",
      "   .5 to .8       0.11      0.01      0.03       564\n",
      "  .8 to 1.2       0.66      0.97      0.78      2808\n",
      "    0 to .5       0.00      0.00      0.00        90\n",
      " 1.2 to 2.5       0.25      0.04      0.07       807\n",
      "       2.5+       0.00      0.00      0.00        49\n",
      "\n",
      "avg / total       0.49      0.64      0.53      4318\n",
      "\n"
     ]
    }
   ],
   "source": [
    "clf = KNeighborsClassifier(n_neighbors= 24)\n",
    "X_train, X_test, y_train, y_test = train_test_split(g2c, g2yc, test_size=.2, random_state=15)\n",
    "clf.fit(X_train, y_train)\n",
    "y_pred = clf.predict(X_test)\n",
    "\n",
    "print \"Training score: \", clf.score(X_train, y_train)\n",
    "print \"Test score: \", clf.score(X_test, y_test)\n",
    "\n",
    "print classification_report(y_test, y_pred)"
   ]
  },
  {
   "cell_type": "markdown",
   "metadata": {},
   "source": [
    "Group 3"
   ]
  },
  {
   "cell_type": "code",
   "execution_count": 73,
   "metadata": {
    "collapsed": false
   },
   "outputs": [
    {
     "name": "stdout",
     "output_type": "stream",
     "text": [
      "{'knn__n_neighbors': 19}\n",
      "0.7375214012906625\n"
     ]
    }
   ],
   "source": [
    "steps=[('knn', KNeighborsClassifier())]\n",
    "\n",
    "pipeline = Pipeline(steps)\n",
    "\n",
    "parameters = {'knn__n_neighbors':np.arange(9,25)}\n",
    "\n",
    "X_train, X_test, y_train, y_test = train_test_split(g3c, g3yc, test_size=.2, random_state=15)\n",
    "\n",
    "cv = GridSearchCV(pipeline, param_grid=parameters, cv=5)\n",
    "\n",
    "cv.fit(X_train, y_train)\n",
    "\n",
    "print cv.best_params_\n",
    "print cv.best_score_"
   ]
  },
  {
   "cell_type": "code",
   "execution_count": 74,
   "metadata": {
    "collapsed": false
   },
   "outputs": [
    {
     "name": "stdout",
     "output_type": "stream",
     "text": [
      "Training score:  0.7445015145528776\n",
      "Test score:  0.7424960505529226\n",
      "             precision    recall  f1-score   support\n",
      "\n",
      "   .5 to .8       0.12      0.01      0.02       187\n",
      "  .8 to 1.2       0.75      0.99      0.85      1414\n",
      "    0 to .5       0.00      0.00      0.00        18\n",
      " 1.2 to 2.5       0.45      0.05      0.09       274\n",
      "       2.5+       0.00      0.00      0.00         6\n",
      "\n",
      "avg / total       0.64      0.74      0.65      1899\n",
      "\n"
     ]
    }
   ],
   "source": [
    "clf = KNeighborsClassifier(n_neighbors= 23)\n",
    "X_train, X_test, y_train, y_test = train_test_split(g3c, g3yc, test_size=.2, random_state=15)\n",
    "clf.fit(X_train, y_train)\n",
    "y_pred = clf.predict(X_test)\n",
    "\n",
    "print \"Training score: \", clf.score(X_train, y_train)\n",
    "print \"Test score: \", clf.score(X_test, y_test)\n",
    "\n",
    "print classification_report(y_test, y_pred)"
   ]
  },
  {
   "cell_type": "markdown",
   "metadata": {},
   "source": [
    "Group 4 "
   ]
  },
  {
   "cell_type": "code",
   "execution_count": 75,
   "metadata": {
    "collapsed": false
   },
   "outputs": [
    {
     "name": "stdout",
     "output_type": "stream",
     "text": [
      "{'knn__n_neighbors': 22}\n",
      "0.8027816411682893\n"
     ]
    }
   ],
   "source": [
    "steps=[('knn', KNeighborsClassifier())]\n",
    "\n",
    "pipeline = Pipeline(steps)\n",
    "\n",
    "parameters = {'knn__n_neighbors':np.arange(9,25)}\n",
    "\n",
    "X_train, X_test, y_train, y_test = train_test_split(g4c, g4yc, test_size=.2, random_state=15)\n",
    "\n",
    "cv = GridSearchCV(pipeline, param_grid=parameters, cv=5)\n",
    "\n",
    "cv.fit(X_train, y_train)\n",
    "\n",
    "print cv.best_params_\n",
    "print cv.best_score_"
   ]
  },
  {
   "cell_type": "code",
   "execution_count": 76,
   "metadata": {
    "collapsed": false
   },
   "outputs": [
    {
     "name": "stdout",
     "output_type": "stream",
     "text": [
      "Training score:  0.8116828929068151\n",
      "Test score:  0.8047830923248054\n",
      "             precision    recall  f1-score   support\n",
      "\n",
      "   .5 to .8       0.81      0.17      0.28       149\n",
      "  .8 to 1.2       0.81      0.99      0.89      1425\n",
      "    0 to .5       0.00      0.00      0.00         8\n",
      " 1.2 to 2.5       0.42      0.05      0.09       208\n",
      "       2.5+       0.00      0.00      0.00         8\n",
      "\n",
      "avg / total       0.76      0.80      0.74      1798\n",
      "\n"
     ]
    }
   ],
   "source": [
    "clf = KNeighborsClassifier(n_neighbors= 14)\n",
    "X_train, X_test, y_train, y_test = train_test_split(g4c, g4yc, test_size=.2, random_state=15)\n",
    "clf.fit(X_train, y_train)\n",
    "y_pred = clf.predict(X_test)\n",
    "\n",
    "print \"Training score: \", clf.score(X_train, y_train)\n",
    "print \"Test score: \", clf.score(X_test, y_test)\n",
    "\n",
    "print classification_report(y_test, y_pred)"
   ]
  },
  {
   "cell_type": "markdown",
   "metadata": {},
   "source": [
    "## Random Forest"
   ]
  },
  {
   "cell_type": "code",
   "execution_count": 77,
   "metadata": {
    "collapsed": false
   },
   "outputs": [
    {
     "name": "stdout",
     "output_type": "stream",
     "text": [
      "{'rf__n_estimators': 17}\n",
      "0.6654202279202279\n"
     ]
    },
    {
     "name": "stderr",
     "output_type": "stream",
     "text": [
      "C:\\Users\\Danny\\Miniconda2\\envs\\tutorial\\lib\\site-packages\\sklearn\\ensemble\\weight_boosting.py:29: DeprecationWarning: numpy.core.umath_tests is an internal NumPy module and should not be imported. It will be removed in a future NumPy release.\n",
      "  from numpy.core.umath_tests import inner1d\n"
     ]
    }
   ],
   "source": [
    "from sklearn.ensemble import RandomForestClassifier\n",
    "\n",
    "steps=[('rf', RandomForestClassifier())]\n",
    "\n",
    "pipeline = Pipeline(steps)\n",
    "\n",
    "parameters = {'rf__n_estimators':np.arange(5,20)}\n",
    "\n",
    "X_train, X_test, y_train, y_test = train_test_split(Xc, yc, test_size=.2, random_state=15)\n",
    "\n",
    "cv = GridSearchCV(pipeline, param_grid=parameters, cv=5)\n",
    "\n",
    "cv.fit(X_train, y_train)\n",
    "\n",
    "print cv.best_params_\n",
    "print cv.best_score_"
   ]
  },
  {
   "cell_type": "code",
   "execution_count": 78,
   "metadata": {
    "collapsed": false
   },
   "outputs": [
    {
     "name": "stdout",
     "output_type": "stream",
     "text": [
      "Training score:  0.992979242979243\n",
      "Test score:  0.6696174196174196\n",
      "             precision    recall  f1-score   support\n",
      "\n",
      "   .5 to .8       0.25      0.17      0.20      1104\n",
      "  .8 to 1.2       0.76      0.88      0.82      6935\n",
      "    0 to .5       0.15      0.06      0.09       186\n",
      " 1.2 to 2.5       0.30      0.18      0.23      1482\n",
      "       2.5+       0.09      0.03      0.05       121\n",
      "\n",
      "avg / total       0.61      0.67      0.63      9828\n",
      "\n"
     ]
    }
   ],
   "source": [
    "from sklearn.ensemble import RandomForestClassifier\n",
    "clf = RandomForestClassifier(n_estimators=19)\n",
    "X_train, X_test, y_train, y_test = train_test_split(Xc, yc, test_size=.2, random_state=15)\n",
    "clf.fit(X_train, y_train)\n",
    "\n",
    "\n",
    "print \"Training score: \", clf.score(X_train, y_train)\n",
    "print \"Test score: \", clf.score(X_test, y_test)\n",
    "\n",
    "y_pred = clf.predict(X_test)\n",
    "print classification_report(y_test, y_pred)"
   ]
  },
  {
   "cell_type": "markdown",
   "metadata": {},
   "source": [
    "Group 1"
   ]
  },
  {
   "cell_type": "code",
   "execution_count": 79,
   "metadata": {
    "collapsed": false
   },
   "outputs": [
    {
     "name": "stdout",
     "output_type": "stream",
     "text": [
      "{'rf__n_estimators': 17}\n",
      "0.6442055945983188\n"
     ]
    }
   ],
   "source": [
    "\n",
    "steps=[('rf', RandomForestClassifier())]\n",
    "\n",
    "pipeline = Pipeline(steps)\n",
    "\n",
    "parameters = {'rf__n_estimators':np.arange(5,20)}\n",
    "\n",
    "X_train, X_test, y_train, y_test = train_test_split(g1c, g1yc, test_size=.2, random_state=15)\n",
    "\n",
    "cv = GridSearchCV(pipeline, param_grid=parameters, cv=5)\n",
    "\n",
    "cv.fit(X_train, y_train)\n",
    "\n",
    "print cv.best_params_\n",
    "print cv.best_score_"
   ]
  },
  {
   "cell_type": "code",
   "execution_count": 80,
   "metadata": {
    "collapsed": false
   },
   "outputs": [
    {
     "name": "stdout",
     "output_type": "stream",
     "text": [
      "Training score:  0.9833264434339258\n",
      "Test score:  0.6539944903581267\n",
      "             precision    recall  f1-score   support\n",
      "\n",
      "   .5 to .8       0.24      0.26      0.25       208\n",
      "  .8 to 1.2       0.78      0.83      0.81      1301\n",
      "    0 to .5       0.21      0.12      0.16        64\n",
      " 1.2 to 2.5       0.26      0.19      0.22       207\n",
      "       2.5+       0.06      0.03      0.04        35\n",
      "\n",
      "avg / total       0.63      0.65      0.64      1815\n",
      "\n"
     ]
    }
   ],
   "source": [
    "clf = RandomForestClassifier(n_estimators=11)\n",
    "X_train, X_test, y_train, y_test = train_test_split(g1c, g1yc, test_size=.2, random_state=15)\n",
    "clf.fit(X_train, y_train)\n",
    "\n",
    "\n",
    "print \"Training score: \", clf.score(X_train, y_train)\n",
    "print \"Test score: \", clf.score(X_test, y_test)\n",
    "\n",
    "y_pred = clf.predict(X_test)\n",
    "print classification_report(y_test, y_pred)"
   ]
  },
  {
   "cell_type": "markdown",
   "metadata": {},
   "source": [
    "Group 2"
   ]
  },
  {
   "cell_type": "code",
   "execution_count": 81,
   "metadata": {
    "collapsed": false
   },
   "outputs": [
    {
     "name": "stdout",
     "output_type": "stream",
     "text": [
      "{'rf__n_estimators': 16}\n",
      "0.6009264620729589\n"
     ]
    }
   ],
   "source": [
    "steps=[('rf', RandomForestClassifier())]\n",
    "\n",
    "pipeline = Pipeline(steps)\n",
    "\n",
    "parameters = {'rf__n_estimators':np.arange(5,20)}\n",
    "\n",
    "X_train, X_test, y_train, y_test = train_test_split(g2c, g2yc, test_size=.2, random_state=15)\n",
    "\n",
    "cv = GridSearchCV(pipeline, param_grid=parameters, cv=5)\n",
    "\n",
    "cv.fit(X_train, y_train)\n",
    "\n",
    "print cv.best_params_\n",
    "print cv.best_score_"
   ]
  },
  {
   "cell_type": "code",
   "execution_count": 82,
   "metadata": {
    "collapsed": false
   },
   "outputs": [
    {
     "name": "stdout",
     "output_type": "stream",
     "text": [
      "Training score:  0.986624203821656\n",
      "Test score:  0.5970356646595646\n",
      "             precision    recall  f1-score   support\n",
      "\n",
      "   .5 to .8       0.21      0.15      0.18       564\n",
      "  .8 to 1.2       0.71      0.83      0.77      2808\n",
      "    0 to .5       0.13      0.07      0.09        90\n",
      " 1.2 to 2.5       0.28      0.21      0.24       807\n",
      "       2.5+       0.04      0.02      0.03        49\n",
      "\n",
      "avg / total       0.55      0.60      0.57      4318\n",
      "\n"
     ]
    }
   ],
   "source": [
    "clf = RandomForestClassifier(n_estimators=14)\n",
    "X_train, X_test, y_train, y_test = train_test_split(g2c, g2yc, test_size=.2, random_state=15)\n",
    "clf.fit(X_train, y_train)\n",
    "\n",
    "\n",
    "print \"Training score: \", clf.score(X_train, y_train)\n",
    "print \"Test score: \", clf.score(X_test, y_test)\n",
    "\n",
    "y_pred = clf.predict(X_test)\n",
    "print classification_report(y_test, y_pred)"
   ]
  },
  {
   "cell_type": "markdown",
   "metadata": {
    "collapsed": true
   },
   "source": [
    "Group 3"
   ]
  },
  {
   "cell_type": "code",
   "execution_count": 83,
   "metadata": {
    "collapsed": false
   },
   "outputs": [
    {
     "name": "stdout",
     "output_type": "stream",
     "text": [
      "{'rf__n_estimators': 17}\n",
      "0.7111813512445674\n"
     ]
    }
   ],
   "source": [
    "steps=[('rf', RandomForestClassifier())]\n",
    "\n",
    "pipeline = Pipeline(steps)\n",
    "\n",
    "parameters = {'rf__n_estimators':np.arange(5,20)}\n",
    "\n",
    "X_train, X_test, y_train, y_test = train_test_split(g3c, g3yc, test_size=.2, random_state=15)\n",
    "\n",
    "cv = GridSearchCV(pipeline, param_grid=parameters, cv=5)\n",
    "\n",
    "cv.fit(X_train, y_train)\n",
    "\n",
    "print cv.best_params_\n",
    "print cv.best_score_"
   ]
  },
  {
   "cell_type": "code",
   "execution_count": 84,
   "metadata": {
    "collapsed": false
   },
   "outputs": [
    {
     "name": "stdout",
     "output_type": "stream",
     "text": [
      "Training score:  0.9924930857368629\n",
      "Test score:  0.7203791469194313\n",
      "             precision    recall  f1-score   support\n",
      "\n",
      "   .5 to .8       0.25      0.14      0.18       187\n",
      "  .8 to 1.2       0.79      0.91      0.84      1414\n",
      "    0 to .5       0.12      0.06      0.08        18\n",
      " 1.2 to 2.5       0.37      0.19      0.25       274\n",
      "       2.5+       0.00      0.00      0.00         6\n",
      "\n",
      "avg / total       0.66      0.72      0.68      1899\n",
      "\n"
     ]
    }
   ],
   "source": [
    "clf = RandomForestClassifier(n_estimators=19)\n",
    "X_train, X_test, y_train, y_test = train_test_split(g3c, g3yc, test_size=.2, random_state=15)\n",
    "clf.fit(X_train, y_train)\n",
    "\n",
    "\n",
    "print \"Training score: \", clf.score(X_train, y_train)\n",
    "print \"Test score: \", clf.score(X_test, y_test)\n",
    "\n",
    "y_pred = clf.predict(X_test)\n",
    "print classification_report(y_test, y_pred)"
   ]
  },
  {
   "cell_type": "markdown",
   "metadata": {},
   "source": [
    "Group 4"
   ]
  },
  {
   "cell_type": "code",
   "execution_count": 85,
   "metadata": {
    "collapsed": false
   },
   "outputs": [
    {
     "name": "stdout",
     "output_type": "stream",
     "text": [
      "{'rf__n_estimators': 15}\n",
      "0.7934631432545202\n"
     ]
    }
   ],
   "source": [
    "steps=[('rf', RandomForestClassifier())]\n",
    "\n",
    "pipeline = Pipeline(steps)\n",
    "\n",
    "parameters = {'rf__n_estimators':np.arange(5,20)}\n",
    "\n",
    "X_train, X_test, y_train, y_test = train_test_split(g4c, g4yc, test_size=.2, random_state=15)\n",
    "\n",
    "cv = GridSearchCV(pipeline, param_grid=parameters, cv=5)\n",
    "\n",
    "cv.fit(X_train, y_train)\n",
    "\n",
    "print cv.best_params_\n",
    "print cv.best_score_"
   ]
  },
  {
   "cell_type": "code",
   "execution_count": 86,
   "metadata": {
    "collapsed": false
   },
   "outputs": [
    {
     "name": "stdout",
     "output_type": "stream",
     "text": [
      "Training score:  0.9897079276773296\n",
      "Test score:  0.7897664071190211\n",
      "             precision    recall  f1-score   support\n",
      "\n",
      "   .5 to .8       0.59      0.34      0.43       149\n",
      "  .8 to 1.2       0.83      0.94      0.88      1425\n",
      "    0 to .5       0.00      0.00      0.00         8\n",
      " 1.2 to 2.5       0.29      0.13      0.18       208\n",
      "       2.5+       0.00      0.00      0.00         8\n",
      "\n",
      "avg / total       0.74      0.79      0.76      1798\n",
      "\n"
     ]
    }
   ],
   "source": [
    "clf = RandomForestClassifier(n_estimators=15)\n",
    "X_train, X_test, y_train, y_test = train_test_split(g4c, g4yc, test_size=.2, random_state=15)\n",
    "clf.fit(X_train, y_train)\n",
    "\n",
    "\n",
    "print \"Training score: \", clf.score(X_train, y_train)\n",
    "print \"Test score: \", clf.score(X_test, y_test)\n",
    "\n",
    "y_pred = clf.predict(X_test)\n",
    "print classification_report(y_test, y_pred)"
   ]
  },
  {
   "cell_type": "markdown",
   "metadata": {},
   "source": [
    "## SVM"
   ]
  },
  {
   "cell_type": "markdown",
   "metadata": {},
   "source": [
    "Group 1"
   ]
  },
  {
   "cell_type": "code",
   "execution_count": 87,
   "metadata": {
    "collapsed": false
   },
   "outputs": [
    {
     "data": {
      "text/plain": [
       "SVC(C=100, cache_size=200, class_weight=None, coef0=0.0,\n",
       "  decision_function_shape='ovr', degree=3, gamma=0.001, kernel='rbf',\n",
       "  max_iter=-1, probability=False, random_state=None, shrinking=True,\n",
       "  tol=0.001, verbose=False)"
      ]
     },
     "execution_count": 87,
     "metadata": {},
     "output_type": "execute_result"
    }
   ],
   "source": [
    "from sklearn import svm\n",
    "\n",
    "clf = svm.SVC(gamma=.001, C=100)\n",
    "\n",
    "X_train, X_test, y_train, y_test = train_test_split(g1c, g1yc, test_size=.2, random_state=15)\n",
    "clf.fit(X_train, y_train)"
   ]
  },
  {
   "cell_type": "code",
   "execution_count": 88,
   "metadata": {
    "collapsed": false
   },
   "outputs": [
    {
     "name": "stdout",
     "output_type": "stream",
     "text": [
      "Training score:  0.693399476367645\n",
      "Test score:  0.715702479338843\n",
      "             precision    recall  f1-score   support\n",
      "\n",
      "   .5 to .8       0.25      0.00      0.01       208\n",
      "  .8 to 1.2       0.72      1.00      0.83      1301\n",
      "    0 to .5       0.00      0.00      0.00        64\n",
      " 1.2 to 2.5       0.00      0.00      0.00       207\n",
      "       2.5+       0.00      0.00      0.00        35\n",
      "\n",
      "avg / total       0.54      0.72      0.60      1815\n",
      "\n"
     ]
    }
   ],
   "source": [
    "print \"Training score: \", clf.score(X_train, y_train)\n",
    "print \"Test score: \", clf.score(X_test, y_test)\n",
    "y_pred = clf.predict(X_test)\n",
    "print classification_report(y_test, y_pred)"
   ]
  },
  {
   "cell_type": "markdown",
   "metadata": {},
   "source": [
    "Group 2"
   ]
  },
  {
   "cell_type": "code",
   "execution_count": 89,
   "metadata": {
    "collapsed": false
   },
   "outputs": [
    {
     "data": {
      "text/plain": [
       "SVC(C=100, cache_size=200, class_weight=None, coef0=0.0,\n",
       "  decision_function_shape='ovr', degree=3, gamma=0.001, kernel='rbf',\n",
       "  max_iter=-1, probability=False, random_state=None, shrinking=True,\n",
       "  tol=0.001, verbose=False)"
      ]
     },
     "execution_count": 89,
     "metadata": {},
     "output_type": "execute_result"
    }
   ],
   "source": [
    "from sklearn import svm\n",
    "\n",
    "clf = svm.SVC(gamma=.001, C=100)\n",
    "\n",
    "X_train, X_test, y_train, y_test = train_test_split(g2c, g2yc, test_size=.2, random_state=15)\n",
    "clf.fit(X_train, y_train)"
   ]
  },
  {
   "cell_type": "code",
   "execution_count": 90,
   "metadata": {
    "collapsed": false
   },
   "outputs": [
    {
     "name": "stdout",
     "output_type": "stream",
     "text": [
      "Training score:  0.6594093804284887\n",
      "Test score:  0.6498378879110699\n",
      "             precision    recall  f1-score   support\n",
      "\n",
      "   .5 to .8       0.00      0.00      0.00       564\n",
      "  .8 to 1.2       0.65      1.00      0.79      2808\n",
      "    0 to .5       0.00      0.00      0.00        90\n",
      " 1.2 to 2.5       0.00      0.00      0.00       807\n",
      "       2.5+       0.00      0.00      0.00        49\n",
      "\n",
      "avg / total       0.42      0.65      0.51      4318\n",
      "\n"
     ]
    }
   ],
   "source": [
    "print \"Training score: \", clf.score(X_train, y_train)\n",
    "print \"Test score: \", clf.score(X_test, y_test)\n",
    "y_pred = clf.predict(X_test)\n",
    "print classification_report(y_test, y_pred)"
   ]
  },
  {
   "cell_type": "markdown",
   "metadata": {},
   "source": [
    "Group 3"
   ]
  },
  {
   "cell_type": "code",
   "execution_count": 91,
   "metadata": {
    "collapsed": false
   },
   "outputs": [
    {
     "data": {
      "text/plain": [
       "SVC(C=100.0, cache_size=200, class_weight=None, coef0=0.0,\n",
       "  decision_function_shape='ovr', degree=3, gamma=0.001, kernel='rbf',\n",
       "  max_iter=-1, probability=False, random_state=None, shrinking=True,\n",
       "  tol=0.001, verbose=False)"
      ]
     },
     "execution_count": 91,
     "metadata": {},
     "output_type": "execute_result"
    }
   ],
   "source": [
    "clf = svm.SVC(gamma=0.001, C=100.)\n",
    "\n",
    "X_train, X_test, y_train, y_test = train_test_split(g3c, g3yc, test_size=.2, random_state=15)\n",
    "clf.fit(X_train, y_train)"
   ]
  },
  {
   "cell_type": "code",
   "execution_count": 92,
   "metadata": {
    "collapsed": false
   },
   "outputs": [
    {
     "name": "stdout",
     "output_type": "stream",
     "text": [
      "Training score:  0.7416041090478072\n",
      "Test score:  0.7446024223275408\n",
      "             precision    recall  f1-score   support\n",
      "\n",
      "   .5 to .8       0.00      0.00      0.00       187\n",
      "  .8 to 1.2       0.75      1.00      0.85      1414\n",
      "    0 to .5       0.00      0.00      0.00        18\n",
      " 1.2 to 2.5       0.33      0.00      0.01       274\n",
      "       2.5+       0.00      0.00      0.00         6\n",
      "\n",
      "avg / total       0.60      0.74      0.64      1899\n",
      "\n"
     ]
    }
   ],
   "source": [
    "print \"Training score: \", clf.score(X_train, y_train)\n",
    "print \"Test score: \", clf.score(X_test, y_test)\n",
    "y_pred = clf.predict(X_test)\n",
    "print classification_report(y_test, y_pred)"
   ]
  },
  {
   "cell_type": "markdown",
   "metadata": {
    "collapsed": true
   },
   "source": [
    "Group 4"
   ]
  },
  {
   "cell_type": "code",
   "execution_count": 93,
   "metadata": {
    "collapsed": false
   },
   "outputs": [
    {
     "data": {
      "text/plain": [
       "SVC(C=100.0, cache_size=200, class_weight=None, coef0=0.0,\n",
       "  decision_function_shape='ovr', degree=3, gamma=0.001, kernel='rbf',\n",
       "  max_iter=-1, probability=False, random_state=None, shrinking=True,\n",
       "  tol=0.001, verbose=False)"
      ]
     },
     "execution_count": 93,
     "metadata": {},
     "output_type": "execute_result"
    }
   ],
   "source": [
    "clf = svm.SVC(gamma=0.001, C=100.)\n",
    "\n",
    "X_train, X_test, y_train, y_test = train_test_split(g4c, g4yc, test_size=.2, random_state=15)\n",
    "clf.fit(X_train, y_train)\n",
    "#y_pred = clf.predict(X_test)"
   ]
  },
  {
   "cell_type": "code",
   "execution_count": 94,
   "metadata": {
    "collapsed": false
   },
   "outputs": [
    {
     "name": "stdout",
     "output_type": "stream",
     "text": [
      "Training score:  0.8023643949930459\n",
      "Test score:  0.7975528364849833\n",
      "             precision    recall  f1-score   support\n",
      "\n",
      "   .5 to .8       0.85      0.07      0.14       149\n",
      "  .8 to 1.2       0.80      1.00      0.89      1425\n",
      "    0 to .5       0.00      0.00      0.00         8\n",
      " 1.2 to 2.5       0.00      0.00      0.00       208\n",
      "       2.5+       0.00      0.00      0.00         8\n",
      "\n",
      "avg / total       0.70      0.80      0.71      1798\n",
      "\n"
     ]
    }
   ],
   "source": [
    "print \"Training score: \", clf.score(X_train, y_train)\n",
    "print \"Test score: \", clf.score(X_test, y_test)\n",
    "y_pred = clf.predict(X_test)\n",
    "print classification_report(y_test, y_pred)"
   ]
  },
  {
   "cell_type": "markdown",
   "metadata": {},
   "source": [
    "## Multinomial NB"
   ]
  },
  {
   "cell_type": "code",
   "execution_count": 95,
   "metadata": {
    "collapsed": false
   },
   "outputs": [
    {
     "name": "stdout",
     "output_type": "stream",
     "text": [
      "{'MNB__alpha': 9}\n",
      "0.6517857142857143\n"
     ]
    }
   ],
   "source": [
    "from sklearn.naive_bayes import MultinomialNB\n",
    "\n",
    "steps=[('MNB', MultinomialNB())]\n",
    "\n",
    "pipeline = Pipeline(steps)\n",
    "\n",
    "parameters = {'MNB__alpha':np.arange(1,10)}\n",
    "\n",
    "#using X on this model because X has the dummy columns added in\n",
    "X_train, X_test, y_train, y_test = train_test_split(X, yc, test_size=.2, random_state=15)\n",
    "\n",
    "cv = GridSearchCV(pipeline, param_grid=parameters, cv=5)\n",
    "\n",
    "cv.fit(X_train, y_train)\n",
    "\n",
    "print cv.best_params_\n",
    "print cv.best_score_"
   ]
  },
  {
   "cell_type": "code",
   "execution_count": 96,
   "metadata": {
    "collapsed": false
   },
   "outputs": [
    {
     "name": "stdout",
     "output_type": "stream",
     "text": [
      "Training score:  0.6574074074074074\n",
      "Test score:  0.6597476597476597\n",
      "             precision    recall  f1-score   support\n",
      "\n",
      "   .5 to .8       0.16      0.07      0.10      1104\n",
      "  .8 to 1.2       0.72      0.91      0.80      6935\n",
      "    0 to .5       0.04      0.05      0.05       186\n",
      " 1.2 to 2.5       0.21      0.05      0.08      1482\n",
      "       2.5+       0.00      0.00      0.00       121\n",
      "\n",
      "avg / total       0.56      0.66      0.59      9828\n",
      "\n"
     ]
    }
   ],
   "source": [
    "clf = MultinomialNB(alpha=9)\n",
    "\n",
    "X_train, X_test, y_train, y_test = train_test_split(Xc, yc, test_size=.2, random_state=15)\n",
    "clf.fit(X_train, y_train)\n",
    "\n",
    "\n",
    "print \"Training score: \", clf.score(X_train, y_train)\n",
    "print \"Test score: \", clf.score(X_test, y_test)\n",
    "\n",
    "y_pred = clf.predict(X_test)\n",
    "print classification_report(y_test, y_pred)"
   ]
  },
  {
   "cell_type": "code",
   "execution_count": 97,
   "metadata": {
    "collapsed": true
   },
   "outputs": [],
   "source": [
    "g1cd = pd.get_dummies(g1c)\n",
    "g2cd = pd.get_dummies(g2c)\n",
    "g3cd = pd.get_dummies(g3c)\n",
    "g4cd = pd.get_dummies(g4c)"
   ]
  },
  {
   "cell_type": "markdown",
   "metadata": {},
   "source": [
    "Group 1"
   ]
  },
  {
   "cell_type": "code",
   "execution_count": 98,
   "metadata": {
    "collapsed": false
   },
   "outputs": [
    {
     "name": "stdout",
     "output_type": "stream",
     "text": [
      "{'MNB__alpha': 2}\n",
      "0.605484359928345\n"
     ]
    }
   ],
   "source": [
    "steps=[('MNB', MultinomialNB())]\n",
    "\n",
    "pipeline = Pipeline(steps)\n",
    "\n",
    "parameters = {'MNB__alpha':np.arange(1,10)}\n",
    "\n",
    "#using X on this model because X has the dummy columns added in\n",
    "X_train, X_test, y_train, y_test = train_test_split(g1c, g1yc, test_size=.2, random_state=15)\n",
    "\n",
    "cv = GridSearchCV(pipeline, param_grid=parameters, cv=5)\n",
    "\n",
    "cv.fit(X_train, y_train)\n",
    "\n",
    "print cv.best_params_\n",
    "print cv.best_score_"
   ]
  },
  {
   "cell_type": "code",
   "execution_count": 99,
   "metadata": {
    "collapsed": false
   },
   "outputs": [
    {
     "name": "stdout",
     "output_type": "stream",
     "text": [
      "Training score:  0.6049331679757476\n",
      "Test score:  0.6038567493112947\n",
      "             precision    recall  f1-score   support\n",
      "\n",
      "   .5 to .8       0.17      0.15      0.16       208\n",
      "  .8 to 1.2       0.77      0.79      0.78      1301\n",
      "    0 to .5       0.04      0.06      0.05        64\n",
      " 1.2 to 2.5       0.15      0.13      0.14       207\n",
      "       2.5+       0.00      0.00      0.00        35\n",
      "\n",
      "avg / total       0.59      0.60      0.60      1815\n",
      "\n"
     ]
    }
   ],
   "source": [
    "clf = MultinomialNB(alpha=1)\n",
    "\n",
    "X_train, X_test, y_train, y_test = train_test_split(g1cd, g1yc, test_size=.2, random_state=15)\n",
    "clf.fit(X_train, y_train)\n",
    "\n",
    "\n",
    "print \"Training score: \", clf.score(X_train, y_train)\n",
    "print \"Test score: \", clf.score(X_test, y_test)\n",
    "\n",
    "y_pred = clf.predict(X_test)\n",
    "print classification_report(y_test, y_pred)"
   ]
  },
  {
   "cell_type": "markdown",
   "metadata": {},
   "source": [
    "Group 2"
   ]
  },
  {
   "cell_type": "code",
   "execution_count": 100,
   "metadata": {
    "collapsed": false
   },
   "outputs": [
    {
     "name": "stdout",
     "output_type": "stream",
     "text": [
      "{'MNB__alpha': 1}\n",
      "0.6160393746381008\n"
     ]
    }
   ],
   "source": [
    "steps=[('MNB', MultinomialNB())]\n",
    "\n",
    "pipeline = Pipeline(steps)\n",
    "\n",
    "parameters = {'MNB__alpha':np.arange(1,10)}\n",
    "\n",
    "#using X on this model because X has the dummy columns added in\n",
    "X_train, X_test, y_train, y_test = train_test_split(g2c, g2yc, test_size=.2, random_state=15)\n",
    "\n",
    "cv = GridSearchCV(pipeline, param_grid=parameters, cv=5)\n",
    "\n",
    "cv.fit(X_train, y_train)\n",
    "\n",
    "print cv.best_params_\n",
    "print cv.best_score_"
   ]
  },
  {
   "cell_type": "code",
   "execution_count": 101,
   "metadata": {
    "collapsed": false
   },
   "outputs": [
    {
     "name": "stdout",
     "output_type": "stream",
     "text": [
      "Training score:  0.6163867979154604\n",
      "Test score:  0.611162575266327\n",
      "             precision    recall  f1-score   support\n",
      "\n",
      "   .5 to .8       0.19      0.01      0.03       564\n",
      "  .8 to 1.2       0.66      0.92      0.77      2808\n",
      "    0 to .5       0.00      0.00      0.00        90\n",
      " 1.2 to 2.5       0.24      0.04      0.07       807\n",
      "       2.5+       0.02      0.10      0.04        49\n",
      "\n",
      "avg / total       0.50      0.61      0.52      4318\n",
      "\n"
     ]
    }
   ],
   "source": [
    "clf = MultinomialNB(alpha=7)\n",
    "\n",
    "X_train, X_test, y_train, y_test = train_test_split(g2cd, g2yc, test_size=.2, random_state=15)\n",
    "clf.fit(X_train, y_train)\n",
    "\n",
    "\n",
    "print \"Training score: \", clf.score(X_train, y_train)\n",
    "print \"Test score: \", clf.score(X_test, y_test)\n",
    "\n",
    "y_pred = clf.predict(X_test)\n",
    "print classification_report(y_test, y_pred)"
   ]
  },
  {
   "cell_type": "markdown",
   "metadata": {},
   "source": [
    "Group 3"
   ]
  },
  {
   "cell_type": "code",
   "execution_count": 102,
   "metadata": {
    "collapsed": false
   },
   "outputs": [
    {
     "name": "stdout",
     "output_type": "stream",
     "text": [
      "{'MNB__alpha': 7}\n",
      "0.7214539707625445\n"
     ]
    }
   ],
   "source": [
    "steps=[('MNB', MultinomialNB())]\n",
    "\n",
    "pipeline = Pipeline(steps)\n",
    "\n",
    "parameters = {'MNB__alpha':np.arange(1,10)}\n",
    "\n",
    "#using X on this model because X has the dummy columns added in\n",
    "X_train, X_test, y_train, y_test = train_test_split(g3c, g3yc, test_size=.2, random_state=15)\n",
    "\n",
    "cv = GridSearchCV(pipeline, param_grid=parameters, cv=5)\n",
    "\n",
    "cv.fit(X_train, y_train)\n",
    "\n",
    "print cv.best_params_\n",
    "print cv.best_score_"
   ]
  },
  {
   "cell_type": "code",
   "execution_count": 103,
   "metadata": {
    "collapsed": false
   },
   "outputs": [
    {
     "name": "stdout",
     "output_type": "stream",
     "text": [
      "Training score:  0.721058870011853\n",
      "Test score:  0.7235387045813586\n",
      "             precision    recall  f1-score   support\n",
      "\n",
      "   .5 to .8       0.00      0.00      0.00       187\n",
      "  .8 to 1.2       0.75      0.97      0.84      1414\n",
      "    0 to .5       0.00      0.00      0.00        18\n",
      " 1.2 to 2.5       0.00      0.00      0.00       274\n",
      "       2.5+       0.03      0.33      0.06         6\n",
      "\n",
      "avg / total       0.56      0.72      0.63      1899\n",
      "\n"
     ]
    }
   ],
   "source": [
    "clf = MultinomialNB(alpha=7)\n",
    "\n",
    "X_train, X_test, y_train, y_test = train_test_split(g3cd, g3yc, test_size=.2, random_state=15)\n",
    "clf.fit(X_train, y_train)\n",
    "\n",
    "\n",
    "print \"Training score: \", clf.score(X_train, y_train)\n",
    "print \"Test score: \", clf.score(X_test, y_test)\n",
    "\n",
    "y_pred = clf.predict(X_test)\n",
    "print classification_report(y_test, y_pred)"
   ]
  },
  {
   "cell_type": "markdown",
   "metadata": {},
   "source": [
    "Group 4"
   ]
  },
  {
   "cell_type": "code",
   "execution_count": 104,
   "metadata": {
    "collapsed": false
   },
   "outputs": [
    {
     "name": "stdout",
     "output_type": "stream",
     "text": [
      "{'MNB__alpha': 1}\n",
      "0.7760778859527121\n"
     ]
    }
   ],
   "source": [
    "steps=[('MNB', MultinomialNB())]\n",
    "\n",
    "pipeline = Pipeline(steps)\n",
    "\n",
    "parameters = {'MNB__alpha':np.arange(1,10)}\n",
    "\n",
    "#using X on this model because X has the dummy columns added in\n",
    "X_train, X_test, y_train, y_test = train_test_split(g4c, g4yc, test_size=.2, random_state=15)\n",
    "\n",
    "cv = GridSearchCV(pipeline, param_grid=parameters, cv=5)\n",
    "\n",
    "cv.fit(X_train, y_train)\n",
    "\n",
    "print cv.best_params_\n",
    "print cv.best_score_"
   ]
  },
  {
   "cell_type": "code",
   "execution_count": 105,
   "metadata": {
    "collapsed": false
   },
   "outputs": [
    {
     "name": "stdout",
     "output_type": "stream",
     "text": [
      "Training score:  0.7777468706536856\n",
      "Test score:  0.7725250278086763\n",
      "             precision    recall  f1-score   support\n",
      "\n",
      "   .5 to .8       0.21      0.09      0.12       149\n",
      "  .8 to 1.2       0.79      0.97      0.87      1425\n",
      "    0 to .5       0.00      0.00      0.00         8\n",
      " 1.2 to 2.5       0.00      0.00      0.00       208\n",
      "       2.5+       0.00      0.00      0.00         8\n",
      "\n",
      "avg / total       0.65      0.77      0.70      1798\n",
      "\n"
     ]
    }
   ],
   "source": [
    "clf = MultinomialNB(alpha=1)\n",
    "\n",
    "X_train, X_test, y_train, y_test = train_test_split(g4c, g4yc, test_size=.2, random_state=15)\n",
    "clf.fit(X_train, y_train)\n",
    "\n",
    "\n",
    "print \"Training score: \", clf.score(X_train, y_train)\n",
    "print \"Test score: \", clf.score(X_test, y_test)\n",
    "\n",
    "y_pred = clf.predict(X_test)\n",
    "print classification_report(y_test, y_pred)"
   ]
  },
  {
   "cell_type": "markdown",
   "metadata": {},
   "source": [
    "## Compare Performance from models"
   ]
  },
  {
   "cell_type": "code",
   "execution_count": 107,
   "metadata": {
    "collapsed": true
   },
   "outputs": [],
   "source": [
    "sns.set()"
   ]
  },
  {
   "cell_type": "code",
   "execution_count": 111,
   "metadata": {
    "collapsed": false
   },
   "outputs": [
    {
     "data": {
      "image/png": "[encoded data removed]",
      "text/plain": [
       "<matplotlib.figure.Figure at 0x19b7c630>"
      ]
     },
     "metadata": {},
     "output_type": "display_data"
    }
   ],
   "source": [
    "\n",
    "knn = [70.01,70,63.87,74.24,80.48]\n",
    "\n",
    "svm = [72.69,71.57,64.98,74.46,79.76]\n",
    "\n",
    "randomforest = [66.96,65.4,59.7,72.04,78.98]\n",
    "\n",
    "MNbayes = [65.97,60.39,61.12,72.35,77.25]\n",
    "\n",
    "benchmark = [68.47,61.02,63.67,74.71,80.91]\n",
    "\n",
    "\n",
    "xaxis = [1,2,3,4,5]\n",
    "\n",
    "plt.plot(xaxis, benchmark, marker='.', color='red', label='Benchmark')\n",
    "plt.plot(xaxis, knn, color='green', label='KNN')\n",
    "plt.plot(xaxis, svm, color='blue', label='SVM')\n",
    "plt.plot(xaxis, randomforest, color='yellow', label='Random Forest')\n",
    "plt.plot(xaxis, MNbayes, color='purple', label='MN Bayes')\n",
    "plt.xticks([1, 2, 3, 4, 5], ['U', 1,2,3,4,5])\n",
    "plt.legend(loc='lower right')\n",
    "plt.xlabel('Groups')\n",
    "plt.ylabel('Accuracy scores')\n",
    "plt.title('Model Performance by Group')\n",
    "plt.show()\n",
    "\n",
    "\n"
   ]
  }
 ],
 "metadata": {
  "kernelspec": {
   "display_name": "Python 2",
   "language": "python",
   "name": "python2"
  },
  "language_info": {
   "codemirror_mode": {
    "name": "ipython",
    "version": 2
   },
   "file_extension": ".py",
   "mimetype": "text/x-python",
   "name": "python",
   "nbconvert_exporter": "python",
   "pygments_lexer": "ipython2",
   "version": "2.7.11"
  }
 },
 "nbformat": 4,
 "nbformat_minor": 0
}

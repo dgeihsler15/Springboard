{
 "cells": [
  {
   "cell_type": "markdown",
   "metadata": {},
   "source": [
    "### Overview:\n",
    "\n",
    "In this notebook the insights gained from exploratory analysis are used to help answer the question surrounding proper stocking requirements for Divvy stations. The goal was to create a model to predict the ratio of trips in / trips out of any given station by day of the week and month of the year. This would allow Divvy to compare this predicted ratio with the current stocking status of their stations."
   ]
  },
  {
   "cell_type": "code",
   "execution_count": 1,
   "metadata": {
    "collapsed": true
   },
   "outputs": [],
   "source": [
    "%matplotlib inline\n",
    "import matplotlib.pyplot as plt \n",
    "import pandas as pd\n",
    "import numpy as np\n",
    "import seaborn as sns\n",
    "import scipy as sp\n",
    "from scipy import stats\n",
    "import statsmodels.api as sm\n",
    "import datetime as dt"
   ]
  },
  {
   "cell_type": "code",
   "execution_count": 2,
   "metadata": {
    "collapsed": true
   },
   "outputs": [],
   "source": [
    "df = pd.read_csv('Divvy_data_2017T2.csv')"
   ]
  },
  {
   "cell_type": "code",
   "execution_count": 3,
   "metadata": {
    "collapsed": false
   },
   "outputs": [],
   "source": [
    "df.rename(columns={'start_station_trip_count': 'start_trips_whole_year'}, inplace=True)"
   ]
  },
  {
   "cell_type": "code",
   "execution_count": 4,
   "metadata": {
    "collapsed": false
   },
   "outputs": [],
   "source": [
    "df.start_time = pd.to_datetime(df.start_time, format='%Y-%m-%d  %H:%M:%S')\n",
    "df = df.set_index('start_time')\n",
    "df['month_of_year'] = df.index.month"
   ]
  },
  {
   "cell_type": "markdown",
   "metadata": {},
   "source": [
    "### First we need to define our target and predictor variables"
   ]
  },
  {
   "cell_type": "code",
   "execution_count": 5,
   "metadata": {
    "collapsed": false
   },
   "outputs": [],
   "source": [
    "#find the number of trips leaving each station by day of the week and month of the year\n",
    "stations_out = df.groupby(['start_station_id', 'day_of_week', 'month_of_year']).count()\n",
    "\n",
    "#Not all stations had trips arrive at them every single day of the year. These are not currently shown as empty values, data does\n",
    "#not appear for those days at all. Unstack the month and day of week, to view information for all days, and fill NaN's with 0's.\n",
    "out = stations_out.unstack(['month_of_year', 'day_of_week'])\n",
    "out = out.fillna(0)"
   ]
  },
  {
   "cell_type": "code",
   "execution_count": 6,
   "metadata": {
    "collapsed": false
   },
   "outputs": [
    {
     "data": {
      "text/html": [
       "<div>\n",
       "<table border=\"1\" class=\"dataframe\">\n",
       "  <thead>\n",
       "    <tr>\n",
       "      <th></th>\n",
       "      <th colspan=\"10\" halign=\"left\">trip_id</th>\n",
       "      <th>...</th>\n",
       "      <th colspan=\"10\" halign=\"left\">week_of_year</th>\n",
       "    </tr>\n",
       "    <tr>\n",
       "      <th>month_of_year</th>\n",
       "      <th>1</th>\n",
       "      <th>2</th>\n",
       "      <th>3</th>\n",
       "      <th>4</th>\n",
       "      <th>5</th>\n",
       "      <th>6</th>\n",
       "      <th>7</th>\n",
       "      <th>8</th>\n",
       "      <th>9</th>\n",
       "      <th>10</th>\n",
       "      <th>...</th>\n",
       "      <th>3</th>\n",
       "      <th>4</th>\n",
       "      <th>5</th>\n",
       "      <th>6</th>\n",
       "      <th>7</th>\n",
       "      <th>8</th>\n",
       "      <th>9</th>\n",
       "      <th>10</th>\n",
       "      <th>11</th>\n",
       "      <th>12</th>\n",
       "    </tr>\n",
       "    <tr>\n",
       "      <th>day_of_week</th>\n",
       "      <th>0</th>\n",
       "      <th>0</th>\n",
       "      <th>0</th>\n",
       "      <th>0</th>\n",
       "      <th>0</th>\n",
       "      <th>0</th>\n",
       "      <th>0</th>\n",
       "      <th>0</th>\n",
       "      <th>0</th>\n",
       "      <th>0</th>\n",
       "      <th>...</th>\n",
       "      <th>6</th>\n",
       "      <th>6</th>\n",
       "      <th>6</th>\n",
       "      <th>6</th>\n",
       "      <th>6</th>\n",
       "      <th>6</th>\n",
       "      <th>6</th>\n",
       "      <th>6</th>\n",
       "      <th>6</th>\n",
       "      <th>6</th>\n",
       "    </tr>\n",
       "    <tr>\n",
       "      <th>start_station_id</th>\n",
       "      <th></th>\n",
       "      <th></th>\n",
       "      <th></th>\n",
       "      <th></th>\n",
       "      <th></th>\n",
       "      <th></th>\n",
       "      <th></th>\n",
       "      <th></th>\n",
       "      <th></th>\n",
       "      <th></th>\n",
       "      <th></th>\n",
       "      <th></th>\n",
       "      <th></th>\n",
       "      <th></th>\n",
       "      <th></th>\n",
       "      <th></th>\n",
       "      <th></th>\n",
       "      <th></th>\n",
       "      <th></th>\n",
       "      <th></th>\n",
       "      <th></th>\n",
       "    </tr>\n",
       "  </thead>\n",
       "  <tbody>\n",
       "    <tr>\n",
       "      <th>2</th>\n",
       "      <td>12</td>\n",
       "      <td>75</td>\n",
       "      <td>51</td>\n",
       "      <td>128</td>\n",
       "      <td>273</td>\n",
       "      <td>322</td>\n",
       "      <td>536</td>\n",
       "      <td>270</td>\n",
       "      <td>330</td>\n",
       "      <td>145</td>\n",
       "      <td>...</td>\n",
       "      <td>57</td>\n",
       "      <td>293</td>\n",
       "      <td>286</td>\n",
       "      <td>463</td>\n",
       "      <td>749</td>\n",
       "      <td>357</td>\n",
       "      <td>623</td>\n",
       "      <td>162</td>\n",
       "      <td>20</td>\n",
       "      <td>11</td>\n",
       "    </tr>\n",
       "    <tr>\n",
       "      <th>3</th>\n",
       "      <td>38</td>\n",
       "      <td>171</td>\n",
       "      <td>107</td>\n",
       "      <td>228</td>\n",
       "      <td>556</td>\n",
       "      <td>477</td>\n",
       "      <td>912</td>\n",
       "      <td>682</td>\n",
       "      <td>614</td>\n",
       "      <td>394</td>\n",
       "      <td>...</td>\n",
       "      <td>186</td>\n",
       "      <td>585</td>\n",
       "      <td>760</td>\n",
       "      <td>876</td>\n",
       "      <td>1248</td>\n",
       "      <td>796</td>\n",
       "      <td>1020</td>\n",
       "      <td>631</td>\n",
       "      <td>188</td>\n",
       "      <td>113</td>\n",
       "    </tr>\n",
       "    <tr>\n",
       "      <th>4</th>\n",
       "      <td>15</td>\n",
       "      <td>101</td>\n",
       "      <td>28</td>\n",
       "      <td>182</td>\n",
       "      <td>469</td>\n",
       "      <td>399</td>\n",
       "      <td>744</td>\n",
       "      <td>377</td>\n",
       "      <td>431</td>\n",
       "      <td>251</td>\n",
       "      <td>...</td>\n",
       "      <td>74</td>\n",
       "      <td>505</td>\n",
       "      <td>595</td>\n",
       "      <td>867</td>\n",
       "      <td>1052</td>\n",
       "      <td>595</td>\n",
       "      <td>635</td>\n",
       "      <td>369</td>\n",
       "      <td>76</td>\n",
       "      <td>56</td>\n",
       "    </tr>\n",
       "    <tr>\n",
       "      <th>5</th>\n",
       "      <td>24</td>\n",
       "      <td>51</td>\n",
       "      <td>35</td>\n",
       "      <td>60</td>\n",
       "      <td>124</td>\n",
       "      <td>147</td>\n",
       "      <td>231</td>\n",
       "      <td>138</td>\n",
       "      <td>95</td>\n",
       "      <td>113</td>\n",
       "      <td>...</td>\n",
       "      <td>16</td>\n",
       "      <td>63</td>\n",
       "      <td>89</td>\n",
       "      <td>156</td>\n",
       "      <td>197</td>\n",
       "      <td>99</td>\n",
       "      <td>94</td>\n",
       "      <td>89</td>\n",
       "      <td>17</td>\n",
       "      <td>12</td>\n",
       "    </tr>\n",
       "    <tr>\n",
       "      <th>6</th>\n",
       "      <td>21</td>\n",
       "      <td>99</td>\n",
       "      <td>41</td>\n",
       "      <td>54</td>\n",
       "      <td>443</td>\n",
       "      <td>398</td>\n",
       "      <td>655</td>\n",
       "      <td>420</td>\n",
       "      <td>417</td>\n",
       "      <td>316</td>\n",
       "      <td>...</td>\n",
       "      <td>119</td>\n",
       "      <td>404</td>\n",
       "      <td>557</td>\n",
       "      <td>834</td>\n",
       "      <td>1038</td>\n",
       "      <td>759</td>\n",
       "      <td>745</td>\n",
       "      <td>442</td>\n",
       "      <td>66</td>\n",
       "      <td>69</td>\n",
       "    </tr>\n",
       "  </tbody>\n",
       "</table>\n",
       "<p>5 rows × 2184 columns</p>\n",
       "</div>"
      ],
      "text/plain": [
       "                 trip_id                                              ...   \\\n",
       "month_of_year         1    2    3    4    5    6    7    8    9    10 ...    \n",
       "day_of_week            0    0    0    0    0    0    0    0    0    0 ...    \n",
       "start_station_id                                                      ...    \n",
       "2                     12   75   51  128  273  322  536  270  330  145 ...    \n",
       "3                     38  171  107  228  556  477  912  682  614  394 ...    \n",
       "4                     15  101   28  182  469  399  744  377  431  251 ...    \n",
       "5                     24   51   35   60  124  147  231  138   95  113 ...    \n",
       "6                     21   99   41   54  443  398  655  420  417  316 ...    \n",
       "\n",
       "                 week_of_year                                                 \n",
       "month_of_year              3    4    5    6     7    8     9    10   11   12  \n",
       "day_of_week                 6    6    6    6     6    6     6    6    6    6  \n",
       "start_station_id                                                              \n",
       "2                          57  293  286  463   749  357   623  162   20   11  \n",
       "3                         186  585  760  876  1248  796  1020  631  188  113  \n",
       "4                          74  505  595  867  1052  595   635  369   76   56  \n",
       "5                          16   63   89  156   197   99    94   89   17   12  \n",
       "6                         119  404  557  834  1038  759   745  442   66   69  \n",
       "\n",
       "[5 rows x 2184 columns]"
      ]
     },
     "execution_count": 6,
     "metadata": {},
     "output_type": "execute_result"
    }
   ],
   "source": [
    "out.head()"
   ]
  },
  {
   "cell_type": "code",
   "execution_count": 7,
   "metadata": {
    "collapsed": true
   },
   "outputs": [],
   "source": [
    "#restack the day and month so we can see the number of trips broken down by these variables with the 0s filled in \n",
    "a = out.stack(['day_of_week', 'month_of_year'])"
   ]
  },
  {
   "cell_type": "code",
   "execution_count": 8,
   "metadata": {
    "collapsed": true
   },
   "outputs": [],
   "source": [
    "#find the number of trips arriving at each station by day of the week and month of the year\n",
    "stations_in = df.groupby(['end_station_id', 'day_of_week', 'month_of_year']).count()\n",
    "\n",
    "#Not all stations had trips leave from them every single day of the year. These are not currently shown as empty values, data does\n",
    "#not appear for those days at all. Unstack the month and day of week, to view information for all days, and fill NaN's with 0's.\n",
    "ins = stations_in.unstack(['month_of_year', 'day_of_week'])\n",
    "ins = ins.fillna(0)"
   ]
  },
  {
   "cell_type": "code",
   "execution_count": 9,
   "metadata": {
    "collapsed": false
   },
   "outputs": [],
   "source": [
    "#restack the day and month so we can see the number of trips broken down by these variables with the 0s filled in \n",
    "b = ins.stack(['day_of_week', 'month_of_year'])"
   ]
  },
  {
   "cell_type": "code",
   "execution_count": 10,
   "metadata": {
    "collapsed": true
   },
   "outputs": [],
   "source": [
    "#create a function to find the trips coming in to trips going out ratio for each station\n",
    "def io_ratio():\n",
    "    station_ios = []\n",
    "    \n",
    "    #49140 is how many observations there our in our data broken down by station, day of week, and month of the year\n",
    "    for row in range(0, 49140):\n",
    "        if int(a.trip_id.iloc[row]) == 0 & int(b.trip_id.iloc[row]) == 0:\n",
    "            station_ios.append(1)\n",
    "        elif b.trip_id.iloc[row] == 0:\n",
    "            station_ios.append(1/a.trip_id.iloc[row])\n",
    "        elif a.trip_id.iloc[row] == 0:\n",
    "            station_ios.append(b.trip_id.iloc[row])\n",
    "        else:\n",
    "            io = float(b.trip_id.iloc[row]) / a.trip_id.iloc[row]\n",
    "            station_ios.append(io)\n",
    "    \n",
    "    return station_ios\n"
   ]
  },
  {
   "cell_type": "code",
   "execution_count": 11,
   "metadata": {
    "collapsed": false
   },
   "outputs": [],
   "source": [
    "ratio = io_ratio()"
   ]
  },
  {
   "cell_type": "code",
   "execution_count": 12,
   "metadata": {
    "collapsed": true
   },
   "outputs": [],
   "source": [
    "#create a function to find the number of trips coming in and coming out of each station by day of the week and month.\n",
    "def rides():\n",
    "    rides_in = []\n",
    "    rides_out =[]\n",
    "    \n",
    "    \n",
    "    #49140 is how many observations there our in our data broken down by station, day of week, and month of the year\n",
    "    for row in range(0, 49140):\n",
    "            rides_in.append(b.trip_id.iloc[row])\n",
    "            rides_out.append(a.trip_id.iloc[row])\n",
    "    \n",
    "    return rides_in, rides_out"
   ]
  },
  {
   "cell_type": "code",
   "execution_count": 13,
   "metadata": {
    "collapsed": false
   },
   "outputs": [],
   "source": [
    "i, o = rides()"
   ]
  },
  {
   "cell_type": "code",
   "execution_count": 14,
   "metadata": {
    "collapsed": true
   },
   "outputs": [],
   "source": [
    "avg_duration = df.groupby(['start_station_id', 'day_of_week', 'month_of_year']).mean()\n"
   ]
  },
  {
   "cell_type": "code",
   "execution_count": 15,
   "metadata": {
    "collapsed": true
   },
   "outputs": [],
   "source": [
    "dur = avg_duration.unstack(['month_of_year', 'day_of_week'])\n",
    "dur = dur.fillna(0)\n",
    "ad = dur.stack(['day_of_week', 'month_of_year'])"
   ]
  },
  {
   "cell_type": "code",
   "execution_count": 16,
   "metadata": {
    "collapsed": true
   },
   "outputs": [],
   "source": [
    "#create a function to find the number average duration starting from each station by day of the week and month.\n",
    "def average_duration():\n",
    "    avgdur = []\n",
    "    \n",
    "    \n",
    "    #49140 is how many observations there our in our data broken down by station, day of week, and month of the year\n",
    "    for row in range(0, 49140):\n",
    "            avgdur.append(ad.trip_duration.iloc[row])\n",
    "    \n",
    "    return avgdur\n",
    "\n",
    "avgdur = average_duration()"
   ]
  },
  {
   "cell_type": "code",
   "execution_count": 17,
   "metadata": {
    "collapsed": false
   },
   "outputs": [],
   "source": [
    "c = a.reset_index()\n",
    "c['ratio'] = ratio\n",
    "c['rides_in'] = i\n",
    "c['rides_out'] = o\n",
    "c['average_duration'] = avgdur\n"
   ]
  },
  {
   "cell_type": "code",
   "execution_count": 18,
   "metadata": {
    "collapsed": true
   },
   "outputs": [],
   "source": [
    "#add some additional features\n",
    "add_features = df.groupby(['start_station_id', 'start_capacity', 'group', 'start_latitude', 'start_longitude' ]).count()\n",
    "add_features = add_features.reset_index()\n",
    "add_features = add_features[['start_station_id', 'start_capacity', 'group', 'start_latitude', 'start_longitude']]"
   ]
  },
  {
   "cell_type": "code",
   "execution_count": 19,
   "metadata": {
    "collapsed": true
   },
   "outputs": [],
   "source": [
    "af = c.merge(add_features, on='start_station_id')\n",
    "c['capacity'] = af.start_capacity_y\n",
    "c['group'] = af.group_y\n",
    "c['latitude'] = af.start_latitude_y\n",
    "c['longitude'] = af.start_longitude_y"
   ]
  },
  {
   "cell_type": "code",
   "execution_count": 20,
   "metadata": {
    "collapsed": false
   },
   "outputs": [],
   "source": [
    "c['start_station_id'] = c['start_station_id'].astype(float)\n",
    "c['day_of_week'] = c['day_of_week'].astype(float)\n",
    "c['month_of_year'] = c['month_of_year'].astype(float)\n",
    "c['rides_in'] = c['rides_in'].astype(float)\n",
    "c['rides_out'] = c['rides_out'].astype(float)\n",
    "c['capacity'] = c['capacity'].astype(float)\n",
    "c['group'] = c['group'].astype(float)"
   ]
  },
  {
   "cell_type": "code",
   "execution_count": 21,
   "metadata": {
    "collapsed": false
   },
   "outputs": [],
   "source": [
    "data = c[['start_station_id','day_of_week','month_of_year', 'capacity', 'group','latitude', 'longitude', 'average_duration', \\\n",
    "              'rides_in', 'rides_out', 'ratio',]]"
   ]
  },
  {
   "cell_type": "code",
   "execution_count": 22,
   "metadata": {
    "collapsed": false
   },
   "outputs": [
    {
     "data": {
      "text/plain": [
       "41.886922999999996"
      ]
     },
     "execution_count": 22,
     "metadata": {},
     "output_type": "execute_result"
    }
   ],
   "source": [
    "data.latitude.median()"
   ]
  },
  {
   "cell_type": "code",
   "execution_count": 23,
   "metadata": {
    "collapsed": false
   },
   "outputs": [
    {
     "data": {
      "text/plain": [
       "-87.65383299999998"
      ]
     },
     "execution_count": 23,
     "metadata": {},
     "output_type": "execute_result"
    }
   ],
   "source": [
    "data.longitude.median()"
   ]
  },
  {
   "cell_type": "code",
   "execution_count": 24,
   "metadata": {
    "collapsed": false
   },
   "outputs": [],
   "source": [
    "sections = []\n",
    "\n",
    "for i in data['latitude']:\n",
    "    if i >= 41.886923:\n",
    "        sections.append(1)\n",
    "    else:\n",
    "        sections.append(0)\n",
    "    "
   ]
  },
  {
   "cell_type": "code",
   "execution_count": 25,
   "metadata": {
    "collapsed": false
   },
   "outputs": [
    {
     "name": "stderr",
     "output_type": "stream",
     "text": [
      "C:\\Users\\Danny\\Miniconda2\\envs\\tutorial\\lib\\site-packages\\ipykernel\\__main__.py:1: SettingWithCopyWarning: \n",
      "A value is trying to be set on a copy of a slice from a DataFrame.\n",
      "Try using .loc[row_indexer,col_indexer] = value instead\n",
      "\n",
      "See the caveats in the documentation: http://pandas.pydata.org/pandas-docs/stable/indexing.html#indexing-view-versus-copy\n",
      "  if __name__ == '__main__':\n"
     ]
    }
   ],
   "source": [
    "data['section'] = sections"
   ]
  },
  {
   "cell_type": "code",
   "execution_count": 26,
   "metadata": {
    "collapsed": false
   },
   "outputs": [],
   "source": [
    "territory = []\n",
    "\n",
    "north = data.loc[data.section ==1]\n",
    "south = data.loc[data.section ==0]\n",
    "\n",
    "for i in north['longitude']:\n",
    "    if i < -87.653833:\n",
    "        territory.append(1)\n",
    "    else:\n",
    "        territory.append(2)\n",
    "        \n",
    "for i in south['longitude']:\n",
    "    if i < -87.653833:\n",
    "        territory.append(3)\n",
    "    else:\n",
    "        territory.append(4)\n",
    "        \n",
    "\n",
    "        \n",
    "    "
   ]
  },
  {
   "cell_type": "code",
   "execution_count": 27,
   "metadata": {
    "collapsed": false
   },
   "outputs": [
    {
     "name": "stderr",
     "output_type": "stream",
     "text": [
      "C:\\Users\\Danny\\Miniconda2\\envs\\tutorial\\lib\\site-packages\\ipykernel\\__main__.py:1: SettingWithCopyWarning: \n",
      "A value is trying to be set on a copy of a slice from a DataFrame.\n",
      "Try using .loc[row_indexer,col_indexer] = value instead\n",
      "\n",
      "See the caveats in the documentation: http://pandas.pydata.org/pandas-docs/stable/indexing.html#indexing-view-versus-copy\n",
      "  if __name__ == '__main__':\n"
     ]
    }
   ],
   "source": [
    "data['territory'] = territory"
   ]
  },
  {
   "cell_type": "code",
   "execution_count": 28,
   "metadata": {
    "collapsed": true
   },
   "outputs": [],
   "source": [
    "#target variable\n",
    "y = data['ratio'].values"
   ]
  },
  {
   "cell_type": "code",
   "execution_count": 29,
   "metadata": {
    "collapsed": false
   },
   "outputs": [],
   "source": [
    "#predictor variables\n",
    "X = data[['day_of_week', 'month_of_year', 'average_duration', 'capacity', 'group', 'territory']]"
   ]
  },
  {
   "cell_type": "markdown",
   "metadata": {},
   "source": [
    "### To predict the stocking ratio for all of the stations, I'd like to see if we can use clustering to break the stations into groups. Then we'll be able to create a model for each group and apply the results to every station within that group."
   ]
  },
  {
   "cell_type": "code",
   "execution_count": 30,
   "metadata": {
    "collapsed": false
   },
   "outputs": [
    {
     "data": {
      "text/html": [
       "<div>\n",
       "<table border=\"1\" class=\"dataframe\">\n",
       "  <thead>\n",
       "    <tr style=\"text-align: right;\">\n",
       "      <th></th>\n",
       "      <th>capacity</th>\n",
       "      <th>average_duration</th>\n",
       "      <th>ratio</th>\n",
       "      <th>territory</th>\n",
       "    </tr>\n",
       "    <tr>\n",
       "      <th>start_station_id</th>\n",
       "      <th></th>\n",
       "      <th></th>\n",
       "      <th></th>\n",
       "      <th></th>\n",
       "    </tr>\n",
       "  </thead>\n",
       "  <tbody>\n",
       "    <tr>\n",
       "      <th>2</th>\n",
       "      <td>27</td>\n",
       "      <td>24.508130</td>\n",
       "      <td>0.933288</td>\n",
       "      <td>2</td>\n",
       "    </tr>\n",
       "    <tr>\n",
       "      <th>3</th>\n",
       "      <td>55</td>\n",
       "      <td>24.029410</td>\n",
       "      <td>0.921853</td>\n",
       "      <td>1</td>\n",
       "    </tr>\n",
       "    <tr>\n",
       "      <th>4</th>\n",
       "      <td>23</td>\n",
       "      <td>23.240488</td>\n",
       "      <td>0.999742</td>\n",
       "      <td>1</td>\n",
       "    </tr>\n",
       "    <tr>\n",
       "      <th>5</th>\n",
       "      <td>23</td>\n",
       "      <td>13.895267</td>\n",
       "      <td>1.142532</td>\n",
       "      <td>2</td>\n",
       "    </tr>\n",
       "    <tr>\n",
       "      <th>6</th>\n",
       "      <td>39</td>\n",
       "      <td>24.002963</td>\n",
       "      <td>0.900026</td>\n",
       "      <td>2</td>\n",
       "    </tr>\n",
       "  </tbody>\n",
       "</table>\n",
       "</div>"
      ],
      "text/plain": [
       "                  capacity  average_duration     ratio  territory\n",
       "start_station_id                                                 \n",
       "2                       27         24.508130  0.933288          2\n",
       "3                       55         24.029410  0.921853          1\n",
       "4                       23         23.240488  0.999742          1\n",
       "5                       23         13.895267  1.142532          2\n",
       "6                       39         24.002963  0.900026          2"
      ]
     },
     "execution_count": 30,
     "metadata": {},
     "output_type": "execute_result"
    }
   ],
   "source": [
    "find_clusters = data.groupby('start_station_id').mean()\n",
    "find_clusters = find_clusters[['capacity', 'average_duration', 'ratio', 'territory'] ]\n",
    "find_clusters.head()"
   ]
  },
  {
   "cell_type": "code",
   "execution_count": 31,
   "metadata": {
    "collapsed": false
   },
   "outputs": [
    {
     "data": {
      "image/png": "[encoded data removed]",
      "text/plain": [
       "<matplotlib.figure.Figure at 0x5cb32f28>"
      ]
     },
     "metadata": {},
     "output_type": "display_data"
    }
   ],
   "source": [
    "from sklearn.cluster import KMeans\n",
    "\n",
    "f1 = find_clusters['capacity'].values\n",
    "#f2 = find_clusters['average_duration'].values\n",
    "f3 = find_clusters['ratio'].values\n",
    "#f4 = find_clusters['territory'].values\n",
    "\n",
    "M=np.matrix(zip(f1,f3))\n",
    "\n",
    "SS = []\n",
    "\n",
    "for k in range(2,11):\n",
    "    cluster = KMeans(n_clusters=k)\n",
    "    cluster.fit(M)\n",
    "    SS.append(cluster.inertia_)\n",
    "\n",
    "#Construct a plot showing SS for each K and pick K using this plot. For simplicity, test 2≤K≤10.\n",
    "x_range = [2,3,4,5,6,7,8,9,10]\n",
    "\n",
    "plt.plot(x_range, SS, marker='.')\n",
    "plt.xlabel('K values')\n",
    "plt.ylabel('Inertia (SS)')\n",
    "plt.title('Inertia for Different Ks')\n",
    "          \n",
    "plt.show()"
   ]
  },
  {
   "cell_type": "code",
   "execution_count": 32,
   "metadata": {
    "collapsed": false
   },
   "outputs": [],
   "source": [
    "kmeans = KMeans(n_clusters=3, random_state=15).fit(M)\n",
    "find_clusters['cluster_id'] = kmeans.labels_"
   ]
  },
  {
   "cell_type": "code",
   "execution_count": 33,
   "metadata": {
    "collapsed": false
   },
   "outputs": [],
   "source": [
    "find_clusters = find_clusters.reset_index()\n",
    "data = data.merge(find_clusters[['start_station_id','cluster_id']], on='start_station_id')"
   ]
  },
  {
   "cell_type": "code",
   "execution_count": 34,
   "metadata": {
    "collapsed": false
   },
   "outputs": [
    {
     "name": "stdout",
     "output_type": "stream",
     "text": [
      "0.011303773707424317\n",
      "0.07169074321281337\n",
      "0.04651129437759224\n",
      "0.04449979321872798\n"
     ]
    }
   ],
   "source": [
    "print sp.stats.pearsonr(data.section, data.ratio)[0]\n",
    "print sp.stats.pearsonr(data.group, data.ratio)[0]\n",
    "print sp.stats.pearsonr(data.territory, data.ratio)[0]\n",
    "print sp.stats.pearsonr(data.cluster_id, data.ratio)[0]"
   ]
  },
  {
   "cell_type": "markdown",
   "metadata": {},
   "source": [
    "### As the groups based on number of trips is more strongly correlated with the in/out ratio, these groups will be used to separate the stations instead of the clusters."
   ]
  },
  {
   "cell_type": "code",
   "execution_count": 35,
   "metadata": {
    "collapsed": false
   },
   "outputs": [],
   "source": [
    "group1 = data.loc[data.group == 1]\n",
    "Xg1 = group1[['day_of_week', 'month_of_year', 'average_duration', 'capacity', 'territory']]\n",
    "yg1 = group1['ratio']\n",
    "\n",
    "group2 = data.loc[data.group == 2]\n",
    "Xg2 = group2[['day_of_week', 'month_of_year', 'average_duration', 'capacity', 'territory']]\n",
    "yg2 = group2['ratio']\n",
    "\n",
    "group3 = data.loc[data.group == 3]\n",
    "Xg3 = group3[['day_of_week', 'month_of_year', 'average_duration', 'capacity', 'territory']]\n",
    "yg3 = group3['ratio']\n",
    "\n",
    "group4 = data.loc[data.group == 4]\n",
    "Xg4 = group4[['day_of_week', 'month_of_year', 'average_duration', 'capacity', 'territory']]\n",
    "yg4 = group4['ratio']\n"
   ]
  },
  {
   "cell_type": "markdown",
   "metadata": {},
   "source": [
    "### Feature Selection"
   ]
  },
  {
   "cell_type": "code",
   "execution_count": 36,
   "metadata": {
    "collapsed": false
   },
   "outputs": [
    {
     "data": {
      "text/plain": [
       "array([-0.,  0.,  0., -0.,  0.,  0.])"
      ]
     },
     "execution_count": 36,
     "metadata": {},
     "output_type": "execute_result"
    }
   ],
   "source": [
    "from sklearn.model_selection import train_test_split\n",
    "from sklearn.linear_model import Lasso\n",
    "\n",
    "lasso = Lasso()\n",
    "\n",
    "X_train, X_test, y_train, y_test = train_test_split(X, y, test_size=.2, random_state=15)\n",
    "\n",
    "lasso_coef = lasso.fit(X_train,y_train).coef_\n",
    "\n",
    "lasso_coef"
   ]
  },
  {
   "cell_type": "markdown",
   "metadata": {
    "collapsed": true
   },
   "source": [
    "None of the variables have strong coefficents, so we will use all predictor varibles while creating our models "
   ]
  },
  {
   "cell_type": "code",
   "execution_count": 37,
   "metadata": {
    "collapsed": false
   },
   "outputs": [
    {
     "name": "stderr",
     "output_type": "stream",
     "text": [
      "C:\\Users\\Danny\\Miniconda2\\envs\\tutorial\\lib\\site-packages\\pandas\\core\\generic.py:2387: SettingWithCopyWarning: \n",
      "A value is trying to be set on a copy of a slice from a DataFrame.\n",
      "Try using .loc[row_indexer,col_indexer] = value instead\n",
      "\n",
      "See the caveats in the documentation: http://pandas.pydata.org/pandas-docs/stable/indexing.html#indexing-view-versus-copy\n",
      "  self[name] = value\n"
     ]
    }
   ],
   "source": [
    "#prep categorical variables to utilize the get_dummies function\n",
    "X.group = X.group.astype('category')\n",
    "X.month_of_year = X.month_of_year.astype('category')\n",
    "X.day_of_week = X.day_of_week.astype('category')\n",
    "X.territory = X.territory.astype('category')\n",
    "\n",
    "Xg1.month_of_year = Xg1.month_of_year.astype('category')\n",
    "Xg1.day_of_week = Xg1.day_of_week.astype('category')\n",
    "Xg1.territory = Xg1.territory.astype('category')"
   ]
  },
  {
   "cell_type": "code",
   "execution_count": 38,
   "metadata": {
    "collapsed": false
   },
   "outputs": [],
   "source": [
    "X = pd.get_dummies(X)\n",
    "Xg1 = pd.get_dummies(Xg1)"
   ]
  },
  {
   "cell_type": "markdown",
   "metadata": {},
   "source": [
    "### We will also need a baseline to compare our model against later on\n",
    "\n",
    "This will allow us to see how well our models compare against just using the average ratio for each station for the year as a whole."
   ]
  },
  {
   "cell_type": "code",
   "execution_count": 39,
   "metadata": {
    "collapsed": true
   },
   "outputs": [],
   "source": [
    "#count number of rides out per station for 2017\n",
    "rout = df.groupby(['start_station_id']).count()\n",
    "\n",
    "#count number of rides in per station for 2017\n",
    "rin = df.groupby(['end_station_id']).count()"
   ]
  },
  {
   "cell_type": "code",
   "execution_count": 40,
   "metadata": {
    "collapsed": true
   },
   "outputs": [],
   "source": [
    "# get the infromation for trips in and trips out ready for a join\n",
    "i = pd.DataFrame(rin.trip_id)\n",
    "o = pd.DataFrame(rout.trip_id)\n",
    "i.rename(columns={'trip_id': 'trips_in'}, inplace=True)\n",
    "o.rename(columns={'trip_id': 'trips_out'}, inplace=True)\n",
    "i.index.names = ['station_id']\n",
    "o.index.names= ['station_id']\n",
    "\n",
    "# join trips in and out into one dataframe\n",
    "io = i.join(o, how='outer')\n",
    "io['2017_ratio'] = io.trips_in / io.trips_out\n",
    "\n",
    "io = io.drop(['trips_in', 'trips_out'], axis=1)\n",
    "io = io.reset_index()"
   ]
  },
  {
   "cell_type": "code",
   "execution_count": 41,
   "metadata": {
    "collapsed": false
   },
   "outputs": [],
   "source": [
    "data = data.merge(io, left_on='start_station_id', right_on='station_id')\n",
    "data = data.drop('station_id', axis=1)"
   ]
  },
  {
   "cell_type": "markdown",
   "metadata": {},
   "source": [
    "### Now that we have our predictor and target variables, we can split the data into training and tests sets, and train a model. "
   ]
  },
  {
   "cell_type": "code",
   "execution_count": 42,
   "metadata": {
    "collapsed": false
   },
   "outputs": [],
   "source": [
    "from sklearn.model_selection import GridSearchCV\n",
    "from sklearn.linear_model import LinearRegression\n",
    "from sklearn.neighbors import KNeighborsClassifier\n",
    "from sklearn.linear_model import Ridge\n",
    "from sklearn.preprocessing import StandardScaler\n",
    "from sklearn.pipeline import Pipeline\n",
    "from sklearn.metrics import classification_report"
   ]
  },
  {
   "cell_type": "code",
   "execution_count": 43,
   "metadata": {
    "collapsed": false
   },
   "outputs": [
    {
     "name": "stdout",
     "output_type": "stream",
     "text": [
      "0.007818453344142107\n"
     ]
    }
   ],
   "source": [
    "steps=[('scaler', StandardScaler()), ('reg', LinearRegression())]\n",
    "\n",
    "pipeline = Pipeline(steps)\n",
    "\n",
    "X_train, X_test, y_train, y_test = train_test_split(X, y, test_size=.2, random_state=15)\n",
    "reg_scaled = pipeline.fit(X_train, y_train)\n",
    "\n",
    "y_pred= pipeline.predict(X_test)\n",
    "\n",
    "print pipeline.score(X_test, y_test)"
   ]
  },
  {
   "cell_type": "code",
   "execution_count": 44,
   "metadata": {
    "collapsed": false
   },
   "outputs": [
    {
     "name": "stdout",
     "output_type": "stream",
     "text": [
      "0.010888518518974766\n"
     ]
    }
   ],
   "source": [
    "steps=[('scaler', StandardScaler()), ('reg', LinearRegression())]\n",
    "\n",
    "pipeline = Pipeline(steps)\n",
    "\n",
    "X_train, X_test, y_train, y_test = train_test_split(Xg1, yg1, test_size=.2, random_state=15)\n",
    "reg_scaled = pipeline.fit(X_train, y_train)\n",
    "\n",
    "y_pred= pipeline.predict(X_test)\n",
    "\n",
    "print pipeline.score(X_test, y_test)"
   ]
  },
  {
   "cell_type": "code",
   "execution_count": 45,
   "metadata": {
    "collapsed": false
   },
   "outputs": [
    {
     "name": "stdout",
     "output_type": "stream",
     "text": [
      "{'ridge__alpha': 0.1}\n"
     ]
    }
   ],
   "source": [
    "steps=[('scaler', StandardScaler()), ('ridge', Ridge(alpha=.5, normalize=True))]\n",
    "\n",
    "pipeline = Pipeline(steps)\n",
    "\n",
    "parameters = {'ridge__alpha': [.1,.5,1,5,10]}\n",
    "\n",
    "X_train, X_test, y_train, y_test = train_test_split(Xg1, yg1, test_size=.2, random_state=15)\n",
    "\n",
    "cv = GridSearchCV(pipeline, param_grid=parameters, cv=5)\n",
    "\n",
    "cv.fit(X_train, y_train)\n",
    "\n",
    "print cv.best_params_"
   ]
  },
  {
   "cell_type": "code",
   "execution_count": 46,
   "metadata": {
    "collapsed": false
   },
   "outputs": [
    {
     "name": "stdout",
     "output_type": "stream",
     "text": [
      "0.011069049176805179\n"
     ]
    }
   ],
   "source": [
    "steps=[('scaler', StandardScaler()), ('ridge', Ridge(alpha=.1, normalize=True))]\n",
    "\n",
    "pipeline = Pipeline(steps)\n",
    "\n",
    "X_train, X_test, y_train, y_test = train_test_split(Xg1, yg1, test_size=.2, random_state=15)\n",
    "reg_scaled = pipeline.fit(X_train, y_train)\n",
    "\n",
    "y_pred= pipeline.predict(X_test)\n",
    "\n",
    "print pipeline.score(X_test, y_test)"
   ]
  },
  {
   "cell_type": "markdown",
   "metadata": {
    "collapsed": true
   },
   "source": [
    "### What if we separated out the target variable into classes that can be used for different stocking recommendations, and used our data for classification?\n",
    "\n",
    "These stocking classes will be based on the trips in to trips out ratio, and will be separated in a way that a different recommendation can be made about stocking requirements for each class."
   ]
  },
  {
   "cell_type": "code",
   "execution_count": 47,
   "metadata": {
    "collapsed": false
   },
   "outputs": [
    {
     "data": {
      "image/png": "[encoded data removed]",
      "text/plain": [
       "<matplotlib.figure.Figure at 0x2e8ff0b8>"
      ]
     },
     "metadata": {},
     "output_type": "display_data"
    }
   ],
   "source": [
    "#view the distribution for the ratios - most seem to fall between 0 and 2\n",
    "plt.hist(data.ratio)\n",
    "plt.xlabel('Trips in vs trips out ratio')\n",
    "plt.ylabel('Frequency')\n",
    "plt.title('Distribution of Ratios')\n",
    "plt.show()"
   ]
  },
  {
   "cell_type": "code",
   "execution_count": 48,
   "metadata": {
    "collapsed": false
   },
   "outputs": [],
   "source": [
    "#separate the stock classes - different ratios would require different degrees of stocking needs\n",
    "\n",
    "stockclass= []\n",
    "\n",
    "def separate_stockclass():\n",
    "    for i in range(len(c.ratio)):\n",
    "        if data.ratio[i] < .5:\n",
    "            stockclass.append('0 to .5')\n",
    "        elif data.ratio[i] < .8:\n",
    "            stockclass.append('.5 to .8')\n",
    "        elif data.ratio[i] < 1.2:\n",
    "            stockclass.append('.8 to 1.2')\n",
    "        elif data.ratio[i] < 2.5:\n",
    "            stockclass.append('1.2 to 2.5')\n",
    "        elif data.ratio[i] >= 2.5:\n",
    "            stockclass.append('2.5+')\n",
    "        else:\n",
    "            return 'Error'"
   ]
  },
  {
   "cell_type": "code",
   "execution_count": 49,
   "metadata": {
    "collapsed": false
   },
   "outputs": [],
   "source": [
    "separate_stockclass()"
   ]
  },
  {
   "cell_type": "code",
   "execution_count": 50,
   "metadata": {
    "collapsed": false
   },
   "outputs": [],
   "source": [
    "#new predictor and target variables for classification\n",
    "data['class'] = stockclass\n",
    "yc = data['class']\n",
    "Xc = data[['day_of_week', 'month_of_year', 'average_duration', 'group', 'capacity', 'territory']]\n",
    "\n",
    "#update the grouped predictor and target variables\n",
    "g1c = group1[['day_of_week', 'month_of_year', 'average_duration', 'capacity', 'territory']]\n",
    "g1yc = data['class'].loc[data.group == 1]\n",
    "g2c = group2[['day_of_week', 'month_of_year', 'average_duration', 'capacity', 'territory']]\n",
    "g2yc = data['class'].loc[data.group == 2]\n",
    "g3c = group3[['day_of_week', 'month_of_year', 'average_duration', 'capacity', 'territory']]\n",
    "g3yc = data['class'].loc[data.group == 3]\n",
    "g4c = group4[['day_of_week', 'month_of_year', 'average_duration', 'capacity', 'territory']]\n",
    "g4yc = data['class'].loc[data.group == 4]"
   ]
  },
  {
   "cell_type": "markdown",
   "metadata": {},
   "source": [
    "### Create benchmarks to help evaluate our models going forward"
   ]
  },
  {
   "cell_type": "code",
   "execution_count": 51,
   "metadata": {
    "collapsed": true
   },
   "outputs": [],
   "source": [
    "#look at baseline performance for these new classes. As mentioned previously the average ratio per station for the year will act\n",
    "#as our benchmark\n",
    "baseline_results= []\n",
    "\n",
    "def baseline():\n",
    "    for i in range(len(c.ratio)):\n",
    "        if data['2017_ratio'][i] < .5:\n",
    "            baseline_results.append('0 to .5')\n",
    "        elif data['2017_ratio'][i] < .8:\n",
    "            baseline_results.append('.5 to .8')\n",
    "        elif data['2017_ratio'][i] < 1.2:\n",
    "            baseline_results.append('.8 to 1.2')\n",
    "        elif data['2017_ratio'][i] < 2.5:\n",
    "            baseline_results.append('1.2 to 2.5')\n",
    "        elif data['2017_ratio'][i] >= 2.5:\n",
    "            baseline_results.append('2.5+')\n",
    "        else:\n",
    "            return 'Error'\n"
   ]
  },
  {
   "cell_type": "code",
   "execution_count": 52,
   "metadata": {
    "collapsed": true
   },
   "outputs": [],
   "source": [
    "baseline()\n",
    "data['baseline'] = baseline_results"
   ]
  },
  {
   "cell_type": "code",
   "execution_count": 53,
   "metadata": {
    "collapsed": true
   },
   "outputs": [],
   "source": [
    "#update the grouped dfs to include the class and baseline variables\n",
    "group1 = data.loc[data.group == 1]\n",
    "group2 = data.loc[data.group == 2]\n",
    "group3 = data.loc[data.group == 3]\n",
    "group4 = data.loc[data.group == 4]"
   ]
  },
  {
   "cell_type": "code",
   "execution_count": 54,
   "metadata": {
    "collapsed": false
   },
   "outputs": [
    {
     "data": {
      "text/plain": [
       "0.6846764346764347"
      ]
     },
     "execution_count": 54,
     "metadata": {},
     "output_type": "execute_result"
    }
   ],
   "source": [
    "#baseline performance for non-group model\n",
    "a = data['class'].loc[data['class'] == data['baseline']]\n",
    "float(len(a))/len(data)"
   ]
  },
  {
   "cell_type": "code",
   "execution_count": 55,
   "metadata": {
    "collapsed": false
   },
   "outputs": [
    {
     "name": "stdout",
     "output_type": "stream",
     "text": [
      "             precision    recall  f1-score   support\n",
      "\n",
      "   .5 to .8       0.23      0.06      0.10      5502\n",
      "  .8 to 1.2       0.72      0.94      0.81     34657\n",
      "    0 to .5       0.24      0.02      0.04       919\n",
      " 1.2 to 2.5       0.34      0.09      0.15      7482\n",
      "       2.5+       0.05      0.01      0.01       580\n",
      "\n",
      "avg / total       0.59      0.68      0.61     49140\n",
      "\n"
     ]
    }
   ],
   "source": [
    "print classification_report(data['class'], data['baseline'])\n"
   ]
  },
  {
   "cell_type": "code",
   "execution_count": 56,
   "metadata": {
    "collapsed": false
   },
   "outputs": [
    {
     "data": {
      "text/plain": [
       "0.8603012633624878"
      ]
     },
     "execution_count": 56,
     "metadata": {},
     "output_type": "execute_result"
    }
   ],
   "source": [
    "#baseline performance for group1\n",
    "a = group1['class'].loc[group1['class'] == group1['baseline']]\n",
    "float(len(a))/len(group1)"
   ]
  },
  {
   "cell_type": "code",
   "execution_count": 57,
   "metadata": {
    "collapsed": false
   },
   "outputs": [
    {
     "name": "stdout",
     "output_type": "stream",
     "text": [
      "             precision    recall  f1-score   support\n",
      "\n",
      "   .5 to .8       0.70      0.15      0.24       802\n",
      "  .8 to 1.2       0.87      0.99      0.92     10509\n",
      "    0 to .5       0.00      0.00      0.00        12\n",
      " 1.2 to 2.5       0.61      0.10      0.17      1020\n",
      "       2.5+       0.00      0.00      0.00         5\n",
      "\n",
      "avg / total       0.83      0.86      0.82     12348\n",
      "\n"
     ]
    },
    {
     "name": "stderr",
     "output_type": "stream",
     "text": [
      "C:\\Users\\Danny\\Miniconda2\\envs\\tutorial\\lib\\site-packages\\sklearn\\metrics\\classification.py:1135: UndefinedMetricWarning: Precision and F-score are ill-defined and being set to 0.0 in labels with no predicted samples.\n",
      "  'precision', 'predicted', average, warn_for)\n"
     ]
    }
   ],
   "source": [
    "print classification_report(group1['class'], group1['baseline'])"
   ]
  },
  {
   "cell_type": "code",
   "execution_count": 58,
   "metadata": {
    "collapsed": false
   },
   "outputs": [
    {
     "data": {
      "text/plain": [
       "0.7534246575342466"
      ]
     },
     "execution_count": 58,
     "metadata": {},
     "output_type": "execute_result"
    }
   ],
   "source": [
    "#baseline performance for group2\n",
    "a = group2['class'].loc[group2['class'] == group2['baseline']]\n",
    "float(len(a))/len(group2)"
   ]
  },
  {
   "cell_type": "code",
   "execution_count": 59,
   "metadata": {
    "collapsed": false
   },
   "outputs": [
    {
     "name": "stdout",
     "output_type": "stream",
     "text": [
      "             precision    recall  f1-score   support\n",
      "\n",
      "   .5 to .8       0.71      0.05      0.09      1183\n",
      "  .8 to 1.2       0.76      1.00      0.86      9176\n",
      "    0 to .5       0.00      0.00      0.00        29\n",
      " 1.2 to 2.5       0.56      0.03      0.05      1869\n",
      "       2.5+       0.00      0.00      0.00         7\n",
      "\n",
      "avg / total       0.72      0.75      0.66     12264\n",
      "\n"
     ]
    }
   ],
   "source": [
    "print classification_report(group2['class'], group2['baseline'])"
   ]
  },
  {
   "cell_type": "code",
   "execution_count": 60,
   "metadata": {
    "collapsed": false
   },
   "outputs": [
    {
     "data": {
      "text/plain": [
       "0.5448467058056099"
      ]
     },
     "execution_count": 60,
     "metadata": {},
     "output_type": "execute_result"
    }
   ],
   "source": [
    "#baseline performance for group3\n",
    "a = group3['class'].loc[group3['class'] == group3['baseline']]\n",
    "float(len(a))/len(group3)"
   ]
  },
  {
   "cell_type": "code",
   "execution_count": 61,
   "metadata": {
    "collapsed": false
   },
   "outputs": [
    {
     "name": "stdout",
     "output_type": "stream",
     "text": [
      "             precision    recall  f1-score   support\n",
      "\n",
      "   .5 to .8       0.00      0.00      0.00      2097\n",
      "  .8 to 1.2       0.54      0.98      0.70      6575\n",
      "    0 to .5       0.00      0.00      0.00       333\n",
      " 1.2 to 2.5       0.56      0.08      0.14      3045\n",
      "       2.5+       0.00      0.00      0.00       214\n",
      "\n",
      "avg / total       0.43      0.54      0.41     12264\n",
      "\n"
     ]
    }
   ],
   "source": [
    "print classification_report(group3['class'], group3['baseline'])"
   ]
  },
  {
   "cell_type": "code",
   "execution_count": 62,
   "metadata": {
    "collapsed": false
   },
   "outputs": [
    {
     "data": {
      "text/plain": [
       "0.5789302022178735"
      ]
     },
     "execution_count": 62,
     "metadata": {},
     "output_type": "execute_result"
    }
   ],
   "source": [
    "#baseline performance for group4\n",
    "a = group4['class'].loc[group4['class'] == group4['baseline']]\n",
    "float(len(a))/len(group4)"
   ]
  },
  {
   "cell_type": "code",
   "execution_count": 63,
   "metadata": {
    "collapsed": false
   },
   "outputs": [
    {
     "name": "stdout",
     "output_type": "stream",
     "text": [
      "             precision    recall  f1-score   support\n",
      "\n",
      "   .5 to .8       0.00      0.00      0.00      2097\n",
      "  .8 to 1.2       0.54      0.98      0.70      6575\n",
      "    0 to .5       0.00      0.00      0.00       333\n",
      " 1.2 to 2.5       0.56      0.08      0.14      3045\n",
      "       2.5+       0.00      0.00      0.00       214\n",
      "\n",
      "avg / total       0.43      0.54      0.41     12264\n",
      "\n"
     ]
    }
   ],
   "source": [
    "print classification_report(group3['class'], group3['baseline'])"
   ]
  },
  {
   "cell_type": "markdown",
   "metadata": {},
   "source": [
    "## KNN"
   ]
  },
  {
   "cell_type": "code",
   "execution_count": 64,
   "metadata": {
    "collapsed": false
   },
   "outputs": [
    {
     "name": "stdout",
     "output_type": "stream",
     "text": [
      "{'knn__n_neighbors': 24}\n"
     ]
    }
   ],
   "source": [
    "steps=[('knn', KNeighborsClassifier())]\n",
    "\n",
    "pipeline = Pipeline(steps)\n",
    "\n",
    "parameters = {'knn__n_neighbors':np.arange(9,25)}\n",
    "\n",
    "X_train, X_test, y_train, y_test = train_test_split(Xc, yc, test_size=.2, random_state=15)\n",
    "\n",
    "cv = GridSearchCV(pipeline, param_grid=parameters, cv=5)\n",
    "\n",
    "cv.fit(X_train, y_train)\n",
    "\n",
    "print cv.best_params_"
   ]
  },
  {
   "cell_type": "code",
   "execution_count": 65,
   "metadata": {
    "collapsed": false
   },
   "outputs": [
    {
     "name": "stdout",
     "output_type": "stream",
     "text": [
      "Training score:  0.7105718355718356\n",
      "Test score:  0.700956450956451\n",
      "             precision    recall  f1-score   support\n",
      "\n",
      "   .5 to .8       0.26      0.04      0.07      1104\n",
      "  .8 to 1.2       0.72      0.98      0.83      6935\n",
      "    0 to .5       0.00      0.00      0.00       186\n",
      " 1.2 to 2.5       0.31      0.04      0.07      1482\n",
      "       2.5+       0.00      0.00      0.00       121\n",
      "\n",
      "avg / total       0.58      0.70      0.60      9828\n",
      "\n"
     ]
    }
   ],
   "source": [
    "clf = KNeighborsClassifier(n_neighbors= 24)\n",
    "X_train, X_test, y_train, y_test = train_test_split(Xc, yc, test_size=.2, random_state=15)\n",
    "clf.fit(X_train, y_train)\n",
    "y_pred = clf.predict(X_test)\n",
    "\n",
    "print \"Training score: \", clf.score(X_train, y_train)\n",
    "print \"Test score: \", clf.score(X_test, y_test)\n",
    "\n",
    "print classification_report(y_test, y_pred)"
   ]
  },
  {
   "cell_type": "markdown",
   "metadata": {},
   "source": [
    "Group 1"
   ]
  },
  {
   "cell_type": "code",
   "execution_count": 66,
   "metadata": {
    "collapsed": false
   },
   "outputs": [
    {
     "name": "stdout",
     "output_type": "stream",
     "text": [
      "{'knn__n_neighbors': 18}\n"
     ]
    }
   ],
   "source": [
    "steps=[('knn', KNeighborsClassifier())]\n",
    "\n",
    "pipeline = Pipeline(steps)\n",
    "\n",
    "parameters = {'knn__n_neighbors':np.arange(9,25)}\n",
    "\n",
    "X_train, X_test, y_train, y_test = train_test_split(g1c, g1yc, test_size=.2, random_state=15)\n",
    "\n",
    "cv = GridSearchCV(pipeline, param_grid=parameters, cv=5)\n",
    "\n",
    "cv.fit(X_train, y_train)\n",
    "\n",
    "print cv.best_params_"
   ]
  },
  {
   "cell_type": "code",
   "execution_count": 67,
   "metadata": {
    "collapsed": false
   },
   "outputs": [
    {
     "name": "stdout",
     "output_type": "stream",
     "text": [
      "Training score:  0.8552338530066815\n",
      "Test score:  0.8437246963562753\n",
      "             precision    recall  f1-score   support\n",
      "\n",
      "   .5 to .8       0.78      0.04      0.07       193\n",
      "  .8 to 1.2       0.84      1.00      0.92      2079\n",
      "    0 to .5       0.00      0.00      0.00         2\n",
      " 1.2 to 2.5       0.00      0.00      0.00       196\n",
      "\n",
      "avg / total       0.77      0.84      0.78      2470\n",
      "\n"
     ]
    }
   ],
   "source": [
    "clf = KNeighborsClassifier(n_neighbors= 18)\n",
    "X_train, X_test, y_train, y_test = train_test_split(g1c, g1yc, test_size=.2, random_state=15)\n",
    "clf.fit(X_train, y_train)\n",
    "y_pred = clf.predict(X_test)\n",
    "\n",
    "print \"Training score: \", clf.score(X_train, y_train)\n",
    "print \"Test score: \", clf.score(X_test, y_test)\n",
    "\n",
    "print classification_report(y_test, y_pred)"
   ]
  },
  {
   "cell_type": "markdown",
   "metadata": {},
   "source": [
    "Group 2"
   ]
  },
  {
   "cell_type": "code",
   "execution_count": 68,
   "metadata": {
    "collapsed": false
   },
   "outputs": [
    {
     "name": "stdout",
     "output_type": "stream",
     "text": [
      "{'knn__n_neighbors': 24}\n"
     ]
    }
   ],
   "source": [
    "steps=[('knn', KNeighborsClassifier())]\n",
    "\n",
    "pipeline = Pipeline(steps)\n",
    "\n",
    "parameters = {'knn__n_neighbors':np.arange(9,25)}\n",
    "\n",
    "X_train, X_test, y_train, y_test = train_test_split(g2c, g2yc, test_size=.2, random_state=15)\n",
    "\n",
    "cv = GridSearchCV(pipeline, param_grid=parameters, cv=5)\n",
    "\n",
    "cv.fit(X_train, y_train)\n",
    "\n",
    "print cv.best_params_"
   ]
  },
  {
   "cell_type": "code",
   "execution_count": 69,
   "metadata": {
    "collapsed": false
   },
   "outputs": [
    {
     "name": "stdout",
     "output_type": "stream",
     "text": [
      "Training score:  0.7562939557639384\n",
      "Test score:  0.7403179779861394\n",
      "             precision    recall  f1-score   support\n",
      "\n",
      "   .5 to .8       0.75      0.05      0.09       251\n",
      "  .8 to 1.2       0.74      0.99      0.85      1813\n",
      "    0 to .5       0.00      0.00      0.00         7\n",
      " 1.2 to 2.5       0.25      0.01      0.02       381\n",
      "       2.5+       0.00      0.00      0.00         1\n",
      "\n",
      "avg / total       0.66      0.74      0.64      2453\n",
      "\n"
     ]
    }
   ],
   "source": [
    "clf = KNeighborsClassifier(n_neighbors= 24)\n",
    "X_train, X_test, y_train, y_test = train_test_split(g2c, g2yc, test_size=.2, random_state=15)\n",
    "clf.fit(X_train, y_train)\n",
    "y_pred = clf.predict(X_test)\n",
    "\n",
    "print \"Training score: \", clf.score(X_train, y_train)\n",
    "print \"Test score: \", clf.score(X_test, y_test)\n",
    "\n",
    "print classification_report(y_test, y_pred)"
   ]
  },
  {
   "cell_type": "markdown",
   "metadata": {},
   "source": [
    "Group 3"
   ]
  },
  {
   "cell_type": "code",
   "execution_count": 70,
   "metadata": {
    "collapsed": false
   },
   "outputs": [
    {
     "name": "stdout",
     "output_type": "stream",
     "text": [
      "{'knn__n_neighbors': 24}\n"
     ]
    }
   ],
   "source": [
    "steps=[('knn', KNeighborsClassifier())]\n",
    "\n",
    "pipeline = Pipeline(steps)\n",
    "\n",
    "parameters = {'knn__n_neighbors':np.arange(9,25)}\n",
    "\n",
    "X_train, X_test, y_train, y_test = train_test_split(g3c, g3yc, test_size=.2, random_state=15)\n",
    "\n",
    "cv = GridSearchCV(pipeline, param_grid=parameters, cv=5)\n",
    "\n",
    "cv.fit(X_train, y_train)\n",
    "\n",
    "print cv.best_params_"
   ]
  },
  {
   "cell_type": "code",
   "execution_count": 71,
   "metadata": {
    "collapsed": false
   },
   "outputs": [
    {
     "name": "stdout",
     "output_type": "stream",
     "text": [
      "Training score:  0.5540719600448476\n",
      "Test score:  0.5165103954341622\n",
      "             precision    recall  f1-score   support\n",
      "\n",
      "   .5 to .8       0.20      0.06      0.09       440\n",
      "  .8 to 1.2       0.55      0.90      0.68      1299\n",
      "    0 to .5       0.00      0.00      0.00        64\n",
      " 1.2 to 2.5       0.39      0.12      0.18       609\n",
      "       2.5+       0.00      0.00      0.00        41\n",
      "\n",
      "avg / total       0.42      0.52      0.42      2453\n",
      "\n"
     ]
    }
   ],
   "source": [
    "clf = KNeighborsClassifier(n_neighbors= 24)\n",
    "X_train, X_test, y_train, y_test = train_test_split(g3c, g3yc, test_size=.2, random_state=15)\n",
    "clf.fit(X_train, y_train)\n",
    "y_pred = clf.predict(X_test)\n",
    "\n",
    "print \"Training score: \", clf.score(X_train, y_train)\n",
    "print \"Test score: \", clf.score(X_test, y_test)\n",
    "\n",
    "print classification_report(y_test, y_pred)"
   ]
  },
  {
   "cell_type": "markdown",
   "metadata": {},
   "source": [
    "Group 4 "
   ]
  },
  {
   "cell_type": "code",
   "execution_count": 72,
   "metadata": {
    "collapsed": false
   },
   "outputs": [
    {
     "name": "stdout",
     "output_type": "stream",
     "text": [
      "{'knn__n_neighbors': 24}\n"
     ]
    }
   ],
   "source": [
    "steps=[('knn', KNeighborsClassifier())]\n",
    "\n",
    "pipeline = Pipeline(steps)\n",
    "\n",
    "parameters = {'knn__n_neighbors':np.arange(9,25)}\n",
    "\n",
    "X_train, X_test, y_train, y_test = train_test_split(g4c, g4yc, test_size=.2, random_state=15)\n",
    "\n",
    "cv = GridSearchCV(pipeline, param_grid=parameters, cv=5)\n",
    "\n",
    "cv.fit(X_train, y_train)\n",
    "\n",
    "print cv.best_params_"
   ]
  },
  {
   "cell_type": "code",
   "execution_count": 73,
   "metadata": {
    "collapsed": false
   },
   "outputs": [
    {
     "name": "stdout",
     "output_type": "stream",
     "text": [
      "Training score:  0.693507287738253\n",
      "Test score:  0.6632694659600489\n",
      "             precision    recall  f1-score   support\n",
      "\n",
      "   .5 to .8       0.24      0.09      0.13       295\n",
      "  .8 to 1.2       0.70      0.94      0.81      1681\n",
      "    0 to .5       0.00      0.00      0.00        95\n",
      " 1.2 to 2.5       0.19      0.06      0.09       310\n",
      "       2.5+       0.00      0.00      0.00        72\n",
      "\n",
      "avg / total       0.54      0.66      0.58      2453\n",
      "\n"
     ]
    }
   ],
   "source": [
    "clf = KNeighborsClassifier(n_neighbors= 24)\n",
    "X_train, X_test, y_train, y_test = train_test_split(g4c, g4yc, test_size=.2, random_state=15)\n",
    "clf.fit(X_train, y_train)\n",
    "y_pred = clf.predict(X_test)\n",
    "\n",
    "print \"Training score: \", clf.score(X_train, y_train)\n",
    "print \"Test score: \", clf.score(X_test, y_test)\n",
    "\n",
    "print classification_report(y_test, y_pred)"
   ]
  },
  {
   "cell_type": "markdown",
   "metadata": {},
   "source": [
    "## Random Forest"
   ]
  },
  {
   "cell_type": "code",
   "execution_count": 74,
   "metadata": {
    "collapsed": false
   },
   "outputs": [
    {
     "name": "stdout",
     "output_type": "stream",
     "text": [
      "{'rf__n_estimators': 16}\n",
      "0.6426790801790802\n"
     ]
    },
    {
     "name": "stderr",
     "output_type": "stream",
     "text": [
      "C:\\Users\\Danny\\Miniconda2\\envs\\tutorial\\lib\\site-packages\\sklearn\\ensemble\\weight_boosting.py:29: DeprecationWarning: numpy.core.umath_tests is an internal NumPy module and should not be imported. It will be removed in a future NumPy release.\n",
      "  from numpy.core.umath_tests import inner1d\n"
     ]
    }
   ],
   "source": [
    "from sklearn.ensemble import RandomForestClassifier\n",
    "\n",
    "steps=[('rf', RandomForestClassifier())]\n",
    "\n",
    "pipeline = Pipeline(steps)\n",
    "\n",
    "parameters = {'rf__n_estimators':np.arange(5,20)}\n",
    "\n",
    "X_train, X_test, y_train, y_test = train_test_split(Xc, yc, test_size=.2, random_state=15)\n",
    "\n",
    "cv = GridSearchCV(pipeline, param_grid=parameters, cv=5)\n",
    "\n",
    "cv.fit(X_train, y_train)\n",
    "\n",
    "print cv.best_params_\n",
    "print cv.best_score_"
   ]
  },
  {
   "cell_type": "code",
   "execution_count": 75,
   "metadata": {
    "collapsed": false
   },
   "outputs": [
    {
     "name": "stdout",
     "output_type": "stream",
     "text": [
      "Training score:  0.9828296703296703\n",
      "Test score:  0.6386853886853887\n",
      "             precision    recall  f1-score   support\n",
      "\n",
      "   .5 to .8       0.20      0.17      0.18      1086\n",
      "  .8 to 1.2       0.76      0.84      0.80      6942\n",
      "    0 to .5       0.07      0.05      0.06       186\n",
      " 1.2 to 2.5       0.25      0.17      0.20      1507\n",
      "       2.5+       0.05      0.03      0.04       107\n",
      "\n",
      "avg / total       0.60      0.64      0.61      9828\n",
      "\n"
     ]
    }
   ],
   "source": [
    "from sklearn.ensemble import RandomForestClassifier\n",
    "clf = RandomForestClassifier(n_estimators=14)\n",
    "X_train, X_test, y_train, y_test = train_test_split(Xc, yc, test_size=.2, random_state=18)\n",
    "clf.fit(X_train, y_train)\n",
    "\n",
    "\n",
    "print \"Training score: \", clf.score(X_train, y_train)\n",
    "print \"Test score: \", clf.score(X_test, y_test)\n",
    "\n",
    "y_pred = clf.predict(X_test)\n",
    "print classification_report(y_test, y_pred)"
   ]
  },
  {
   "cell_type": "markdown",
   "metadata": {},
   "source": [
    "Group 1"
   ]
  },
  {
   "cell_type": "code",
   "execution_count": 76,
   "metadata": {
    "collapsed": false
   },
   "outputs": [
    {
     "name": "stdout",
     "output_type": "stream",
     "text": [
      "{'rf__n_estimators': 19}\n",
      "0.8364041303907673\n"
     ]
    }
   ],
   "source": [
    "\n",
    "steps=[('rf', RandomForestClassifier())]\n",
    "\n",
    "pipeline = Pipeline(steps)\n",
    "\n",
    "parameters = {'rf__n_estimators':np.arange(5,20)}\n",
    "\n",
    "X_train, X_test, y_train, y_test = train_test_split(g1c, g1yc, test_size=.2, random_state=15)\n",
    "\n",
    "cv = GridSearchCV(pipeline, param_grid=parameters, cv=5)\n",
    "\n",
    "cv.fit(X_train, y_train)\n",
    "\n",
    "print cv.best_params_\n",
    "print cv.best_score_"
   ]
  },
  {
   "cell_type": "code",
   "execution_count": 77,
   "metadata": {
    "collapsed": false
   },
   "outputs": [
    {
     "name": "stdout",
     "output_type": "stream",
     "text": [
      "Training score:  0.989167847742458\n",
      "Test score:  0.8170040485829959\n",
      "             precision    recall  f1-score   support\n",
      "\n",
      "   .5 to .8       0.41      0.20      0.27       172\n",
      "  .8 to 1.2       0.86      0.95      0.90      2080\n",
      "    0 to .5       0.00      0.00      0.00         1\n",
      " 1.2 to 2.5       0.15      0.06      0.09       214\n",
      "       2.5+       0.00      0.00      0.00         3\n",
      "\n",
      "avg / total       0.76      0.82      0.78      2470\n",
      "\n"
     ]
    }
   ],
   "source": [
    "clf = RandomForestClassifier(n_estimators=15)\n",
    "X_train, X_test, y_train, y_test = train_test_split(g1c, g1yc, test_size=.2, random_state=18)\n",
    "clf.fit(X_train, y_train)\n",
    "\n",
    "\n",
    "print \"Training score: \", clf.score(X_train, y_train)\n",
    "print \"Test score: \", clf.score(X_test, y_test)\n",
    "\n",
    "y_pred = clf.predict(X_test)\n",
    "print classification_report(y_test, y_pred)"
   ]
  },
  {
   "cell_type": "markdown",
   "metadata": {},
   "source": [
    "Group 2"
   ]
  },
  {
   "cell_type": "code",
   "execution_count": 78,
   "metadata": {
    "collapsed": false
   },
   "outputs": [
    {
     "name": "stdout",
     "output_type": "stream",
     "text": [
      "{'rf__n_estimators': 19}\n",
      "0.6917745387829987\n"
     ]
    }
   ],
   "source": [
    "steps=[('rf', RandomForestClassifier())]\n",
    "\n",
    "pipeline = Pipeline(steps)\n",
    "\n",
    "parameters = {'rf__n_estimators':np.arange(5,20)}\n",
    "\n",
    "X_train, X_test, y_train, y_test = train_test_split(g2c, g2yc, test_size=.2, random_state=15)\n",
    "\n",
    "cv = GridSearchCV(pipeline, param_grid=parameters, cv=5)\n",
    "\n",
    "cv.fit(X_train, y_train)\n",
    "\n",
    "print cv.best_params_\n",
    "print cv.best_score_"
   ]
  },
  {
   "cell_type": "code",
   "execution_count": 79,
   "metadata": {
    "collapsed": false
   },
   "outputs": [
    {
     "name": "stdout",
     "output_type": "stream",
     "text": [
      "Training score:  0.9776781163999593\n",
      "Test score:  0.6820220138605789\n",
      "             precision    recall  f1-score   support\n",
      "\n",
      "   .5 to .8       0.23      0.16      0.19       259\n",
      "  .8 to 1.2       0.77      0.86      0.81      1827\n",
      "    0 to .5       0.00      0.00      0.00         4\n",
      " 1.2 to 2.5       0.24      0.15      0.18       363\n",
      "\n",
      "avg / total       0.63      0.68      0.65      2453\n",
      "\n"
     ]
    }
   ],
   "source": [
    "clf = RandomForestClassifier(n_estimators=12)\n",
    "X_train, X_test, y_train, y_test = train_test_split(g2c, g2yc, test_size=.2, random_state=18)\n",
    "clf.fit(X_train, y_train)\n",
    "\n",
    "\n",
    "print \"Training score: \", clf.score(X_train, y_train)\n",
    "print \"Test score: \", clf.score(X_test, y_test)\n",
    "\n",
    "y_pred = clf.predict(X_test)\n",
    "print classification_report(y_test, y_pred)"
   ]
  },
  {
   "cell_type": "markdown",
   "metadata": {
    "collapsed": true
   },
   "source": [
    "Group 3"
   ]
  },
  {
   "cell_type": "code",
   "execution_count": 80,
   "metadata": {
    "collapsed": false
   },
   "outputs": [
    {
     "name": "stdout",
     "output_type": "stream",
     "text": [
      "{'rf__n_estimators': 17}\n",
      "0.44582611354601975\n"
     ]
    }
   ],
   "source": [
    "steps=[('rf', RandomForestClassifier())]\n",
    "\n",
    "pipeline = Pipeline(steps)\n",
    "\n",
    "parameters = {'rf__n_estimators':np.arange(5,20)}\n",
    "\n",
    "X_train, X_test, y_train, y_test = train_test_split(g3c, g3yc, test_size=.2, random_state=15)\n",
    "\n",
    "cv = GridSearchCV(pipeline, param_grid=parameters, cv=5)\n",
    "\n",
    "cv.fit(X_train, y_train)\n",
    "\n",
    "print cv.best_params_\n",
    "print cv.best_score_"
   ]
  },
  {
   "cell_type": "code",
   "execution_count": 81,
   "metadata": {
    "collapsed": false
   },
   "outputs": [
    {
     "name": "stdout",
     "output_type": "stream",
     "text": [
      "Training score:  0.9871572724492916\n",
      "Test score:  0.437015898899307\n",
      "             precision    recall  f1-score   support\n",
      "\n",
      "   .5 to .8       0.19      0.14      0.16       454\n",
      "  .8 to 1.2       0.56      0.67      0.61      1276\n",
      "    0 to .5       0.02      0.02      0.02        57\n",
      " 1.2 to 2.5       0.29      0.25      0.27       620\n",
      "       2.5+       0.00      0.00      0.00        46\n",
      "\n",
      "avg / total       0.40      0.44      0.42      2453\n",
      "\n"
     ]
    }
   ],
   "source": [
    "clf = RandomForestClassifier(n_estimators=19)\n",
    "X_train, X_test, y_train, y_test = train_test_split(g3c, g3yc, test_size=.2, random_state=18)\n",
    "clf.fit(X_train, y_train)\n",
    "\n",
    "\n",
    "print \"Training score: \", clf.score(X_train, y_train)\n",
    "print \"Test score: \", clf.score(X_test, y_test)\n",
    "\n",
    "y_pred = clf.predict(X_test)\n",
    "print classification_report(y_test, y_pred)"
   ]
  },
  {
   "cell_type": "markdown",
   "metadata": {},
   "source": [
    "Group 4"
   ]
  },
  {
   "cell_type": "code",
   "execution_count": 82,
   "metadata": {
    "collapsed": false
   },
   "outputs": [
    {
     "name": "stdout",
     "output_type": "stream",
     "text": [
      "{'rf__n_estimators': 18}\n",
      "0.625420446437672\n"
     ]
    }
   ],
   "source": [
    "steps=[('rf', RandomForestClassifier())]\n",
    "\n",
    "pipeline = Pipeline(steps)\n",
    "\n",
    "parameters = {'rf__n_estimators':np.arange(5,20)}\n",
    "\n",
    "X_train, X_test, y_train, y_test = train_test_split(g4c, g4yc, test_size=.2, random_state=15)\n",
    "\n",
    "cv = GridSearchCV(pipeline, param_grid=parameters, cv=5)\n",
    "\n",
    "cv.fit(X_train, y_train)\n",
    "\n",
    "print cv.best_params_\n",
    "print cv.best_score_"
   ]
  },
  {
   "cell_type": "code",
   "execution_count": 83,
   "metadata": {
    "collapsed": false
   },
   "outputs": [
    {
     "name": "stdout",
     "output_type": "stream",
     "text": [
      "Training score:  0.9551523799816533\n",
      "Test score:  0.6078271504280472\n",
      "             precision    recall  f1-score   support\n",
      "\n",
      "   .5 to .8       0.25      0.24      0.24       310\n",
      "  .8 to 1.2       0.76      0.82      0.79      1639\n",
      "    0 to .5       0.09      0.07      0.08       111\n",
      " 1.2 to 2.5       0.24      0.19      0.21       316\n",
      "       2.5+       0.11      0.05      0.07        77\n",
      "\n",
      "avg / total       0.58      0.61      0.59      2453\n",
      "\n"
     ]
    }
   ],
   "source": [
    "clf = RandomForestClassifier(n_estimators=6)\n",
    "X_train, X_test, y_train, y_test = train_test_split(g4c, g4yc, test_size=.2, random_state=18)\n",
    "clf.fit(X_train, y_train)\n",
    "\n",
    "\n",
    "print \"Training score: \", clf.score(X_train, y_train)\n",
    "print \"Test score: \", clf.score(X_test, y_test)\n",
    "\n",
    "y_pred = clf.predict(X_test)\n",
    "print classification_report(y_test, y_pred)"
   ]
  },
  {
   "cell_type": "markdown",
   "metadata": {},
   "source": [
    "## SVM"
   ]
  },
  {
   "cell_type": "code",
   "execution_count": null,
   "metadata": {
    "collapsed": true
   },
   "outputs": [],
   "source": [
    "X_train, X_test, y_train, y_test = train_test_split(g1c, g1yc, test_size=.2, random_state=15)\n",
    "\n",
    "Cs = [0.001, 0.01, 0.1, 1, 10, 50, 100]\n",
    "gammas = [0.001, 0.01, 0.1, 1]\n",
    "param_grid = {'C': Cs, 'gamma' : gammas}\n",
    "cv = GridSearchCV(svm.SVC(kernel='rbf'), param_grid, cv=5)\n",
    "cv.fit(X_train, y_train)\n",
    "\n",
    "print cv.best_params_"
   ]
  },
  {
   "cell_type": "markdown",
   "metadata": {},
   "source": [
    "Group 1"
   ]
  },
  {
   "cell_type": "code",
   "execution_count": 84,
   "metadata": {
    "collapsed": false
   },
   "outputs": [
    {
     "data": {
      "text/plain": [
       "SVC(C=100, cache_size=200, class_weight=None, coef0=0.0,\n",
       "  decision_function_shape='ovr', degree=3, gamma=0.001, kernel='rbf',\n",
       "  max_iter=-1, probability=False, random_state=None, shrinking=True,\n",
       "  tol=0.001, verbose=False)"
      ]
     },
     "execution_count": 84,
     "metadata": {},
     "output_type": "execute_result"
    }
   ],
   "source": [
    "from sklearn import svm\n",
    "\n",
    "clf = svm.SVC(gamma=.001, C=100)\n",
    "\n",
    "X_train, X_test, y_train, y_test = train_test_split(g1c, g1yc, test_size=.2, random_state=15)\n",
    "clf.fit(X_train, y_train)"
   ]
  },
  {
   "cell_type": "code",
   "execution_count": 85,
   "metadata": {
    "collapsed": false
   },
   "outputs": [
    {
     "name": "stdout",
     "output_type": "stream",
     "text": [
      "Training score:  0.8537153269892691\n",
      "Test score:  0.8421052631578947\n",
      "             precision    recall  f1-score   support\n",
      "\n",
      "   .5 to .8       0.00      0.00      0.00       193\n",
      "  .8 to 1.2       0.84      1.00      0.91      2079\n",
      "    0 to .5       0.00      0.00      0.00         2\n",
      " 1.2 to 2.5       1.00      0.01      0.01       196\n",
      "\n",
      "avg / total       0.79      0.84      0.77      2470\n",
      "\n"
     ]
    }
   ],
   "source": [
    "print \"Training score: \", clf.score(X_train, y_train)\n",
    "print \"Test score: \", clf.score(X_test, y_test)\n",
    "y_pred = clf.predict(X_test)\n",
    "print classification_report(y_test, y_pred)"
   ]
  },
  {
   "cell_type": "markdown",
   "metadata": {},
   "source": [
    "Group 2"
   ]
  },
  {
   "cell_type": "code",
   "execution_count": 86,
   "metadata": {
    "collapsed": false
   },
   "outputs": [
    {
     "data": {
      "text/plain": [
       "SVC(C=100, cache_size=200, class_weight=None, coef0=0.0,\n",
       "  decision_function_shape='ovr', degree=3, gamma=0.001, kernel='rbf',\n",
       "  max_iter=-1, probability=False, random_state=None, shrinking=True,\n",
       "  tol=0.001, verbose=False)"
      ]
     },
     "execution_count": 86,
     "metadata": {},
     "output_type": "execute_result"
    }
   ],
   "source": [
    "clf = svm.SVC(gamma=0.001, C=100)\n",
    "\n",
    "X_train, X_test, y_train, y_test = train_test_split(g2c, g2yc, test_size=.2, random_state=15)\n",
    "clf.fit(X_train, y_train)\n",
    "#y_pred = clf.predict(X_test)"
   ]
  },
  {
   "cell_type": "code",
   "execution_count": 87,
   "metadata": {
    "collapsed": false
   },
   "outputs": [
    {
     "name": "stdout",
     "output_type": "stream",
     "text": [
      "Training score:  0.7548669860360819\n",
      "Test score:  0.7431716265796984\n",
      "             precision    recall  f1-score   support\n",
      "\n",
      "   .5 to .8       0.80      0.05      0.09       251\n",
      "  .8 to 1.2       0.74      1.00      0.85      1813\n",
      "    0 to .5       0.00      0.00      0.00         7\n",
      " 1.2 to 2.5       0.00      0.00      0.00       381\n",
      "       2.5+       0.00      0.00      0.00         1\n",
      "\n",
      "avg / total       0.63      0.74      0.64      2453\n",
      "\n"
     ]
    }
   ],
   "source": [
    "print \"Training score: \", clf.score(X_train, y_train)\n",
    "print \"Test score: \", clf.score(X_test, y_test)\n",
    "y_pred = clf.predict(X_test)\n",
    "print classification_report(y_test, y_pred)"
   ]
  },
  {
   "cell_type": "markdown",
   "metadata": {},
   "source": [
    "Group 3"
   ]
  },
  {
   "cell_type": "code",
   "execution_count": 88,
   "metadata": {
    "collapsed": false
   },
   "outputs": [
    {
     "data": {
      "text/plain": [
       "SVC(C=100.0, cache_size=200, class_weight=None, coef0=0.0,\n",
       "  decision_function_shape='ovr', degree=3, gamma=0.001, kernel='rbf',\n",
       "  max_iter=-1, probability=False, random_state=None, shrinking=True,\n",
       "  tol=0.001, verbose=False)"
      ]
     },
     "execution_count": 88,
     "metadata": {},
     "output_type": "execute_result"
    }
   ],
   "source": [
    "clf = svm.SVC(gamma=0.001, C=100.)\n",
    "\n",
    "X_train, X_test, y_train, y_test = train_test_split(g3c, g3yc, test_size=.2, random_state=15)\n",
    "clf.fit(X_train, y_train)\n",
    "#y_pred = clf.predict(X_test)"
   ]
  },
  {
   "cell_type": "code",
   "execution_count": 89,
   "metadata": {
    "collapsed": false
   },
   "outputs": [
    {
     "name": "stdout",
     "output_type": "stream",
     "text": [
      "Training score:  0.5389868514932219\n",
      "Test score:  0.5283326538931921\n",
      "             precision    recall  f1-score   support\n",
      "\n",
      "   .5 to .8       0.00      0.00      0.00       440\n",
      "  .8 to 1.2       0.53      1.00      0.69      1299\n",
      "    0 to .5       0.00      0.00      0.00        64\n",
      " 1.2 to 2.5       0.20      0.00      0.00       609\n",
      "       2.5+       0.00      0.00      0.00        41\n",
      "\n",
      "avg / total       0.33      0.53      0.37      2453\n",
      "\n"
     ]
    }
   ],
   "source": [
    "print \"Training score: \", clf.score(X_train, y_train)\n",
    "print \"Test score: \", clf.score(X_test, y_test)\n",
    "y_pred = clf.predict(X_test)\n",
    "print classification_report(y_test, y_pred)"
   ]
  },
  {
   "cell_type": "markdown",
   "metadata": {
    "collapsed": true
   },
   "source": [
    "Group 4"
   ]
  },
  {
   "cell_type": "code",
   "execution_count": 90,
   "metadata": {
    "collapsed": false
   },
   "outputs": [
    {
     "data": {
      "text/plain": [
       "SVC(C=100.0, cache_size=200, class_weight=None, coef0=0.0,\n",
       "  decision_function_shape='ovr', degree=3, gamma=0.001, kernel='rbf',\n",
       "  max_iter=-1, probability=False, random_state=None, shrinking=True,\n",
       "  tol=0.001, verbose=False)"
      ]
     },
     "execution_count": 90,
     "metadata": {},
     "output_type": "execute_result"
    }
   ],
   "source": [
    "clf = svm.SVC(gamma=0.001, C=100.)\n",
    "\n",
    "X_train, X_test, y_train, y_test = train_test_split(g4c, g4yc, test_size=.2, random_state=15)\n",
    "clf.fit(X_train, y_train)\n",
    "#y_pred = clf.predict(X_test)"
   ]
  },
  {
   "cell_type": "code",
   "execution_count": 91,
   "metadata": {
    "collapsed": false
   },
   "outputs": [
    {
     "name": "stdout",
     "output_type": "stream",
     "text": [
      "Training score:  0.6884109672816227\n",
      "Test score:  0.6856909906237261\n",
      "             precision    recall  f1-score   support\n",
      "\n",
      "   .5 to .8       0.67      0.01      0.01       295\n",
      "  .8 to 1.2       0.69      1.00      0.81      1681\n",
      "    0 to .5       1.00      0.01      0.02        95\n",
      " 1.2 to 2.5       0.00      0.00      0.00       310\n",
      "       2.5+       0.00      0.00      0.00        72\n",
      "\n",
      "avg / total       0.59      0.69      0.56      2453\n",
      "\n"
     ]
    }
   ],
   "source": [
    "print \"Training score: \", clf.score(X_train, y_train)\n",
    "print \"Test score: \", clf.score(X_test, y_test)\n",
    "y_pred = clf.predict(X_test)\n",
    "print classification_report(y_test, y_pred)"
   ]
  },
  {
   "cell_type": "markdown",
   "metadata": {},
   "source": [
    "## Multinomial NB"
   ]
  },
  {
   "cell_type": "code",
   "execution_count": 92,
   "metadata": {
    "collapsed": false
   },
   "outputs": [
    {
     "name": "stdout",
     "output_type": "stream",
     "text": [
      "{'MNB__alpha': 9}\n",
      "0.6655982905982906\n"
     ]
    }
   ],
   "source": [
    "from sklearn.naive_bayes import MultinomialNB\n",
    "\n",
    "steps=[('MNB', MultinomialNB())]\n",
    "\n",
    "pipeline = Pipeline(steps)\n",
    "\n",
    "parameters = {'MNB__alpha':np.arange(1,10)}\n",
    "\n",
    "#using X on this model because X has the dummy columns added in\n",
    "X_train, X_test, y_train, y_test = train_test_split(X, yc, test_size=.2, random_state=15)\n",
    "\n",
    "cv = GridSearchCV(pipeline, param_grid=parameters, cv=5)\n",
    "\n",
    "cv.fit(X_train, y_train)\n",
    "\n",
    "print cv.best_params_\n",
    "print cv.best_score_"
   ]
  },
  {
   "cell_type": "code",
   "execution_count": 93,
   "metadata": {
    "collapsed": false
   },
   "outputs": [
    {
     "name": "stdout",
     "output_type": "stream",
     "text": [
      "Training score:  0.6722629222629223\n",
      "Test score:  0.6713471713471714\n",
      "             precision    recall  f1-score   support\n",
      "\n",
      "   .5 to .8       0.17      0.03      0.05      1086\n",
      "  .8 to 1.2       0.72      0.93      0.81      6942\n",
      "    0 to .5       0.07      0.04      0.05       186\n",
      " 1.2 to 2.5       0.19      0.06      0.09      1507\n",
      "       2.5+       0.00      0.00      0.00       107\n",
      "\n",
      "avg / total       0.56      0.67      0.59      9828\n",
      "\n"
     ]
    }
   ],
   "source": [
    "clf = MultinomialNB(alpha=9)\n",
    "\n",
    "X_train, X_test, y_train, y_test = train_test_split(Xc, yc, test_size=.2, random_state=18)\n",
    "clf.fit(X_train, y_train)\n",
    "\n",
    "\n",
    "print \"Training score: \", clf.score(X_train, y_train)\n",
    "print \"Test score: \", clf.score(X_test, y_test)\n",
    "\n",
    "y_pred = clf.predict(X_test)\n",
    "print classification_report(y_test, y_pred)"
   ]
  },
  {
   "cell_type": "code",
   "execution_count": 94,
   "metadata": {
    "collapsed": true
   },
   "outputs": [],
   "source": [
    "g1cd = pd.get_dummies(g1c)\n",
    "g2cd = pd.get_dummies(g2c)\n",
    "g3cd = pd.get_dummies(g3c)\n",
    "g4cd = pd.get_dummies(g4c)"
   ]
  },
  {
   "cell_type": "markdown",
   "metadata": {},
   "source": [
    "Group 1"
   ]
  },
  {
   "cell_type": "code",
   "execution_count": 95,
   "metadata": {
    "collapsed": false
   },
   "outputs": [
    {
     "name": "stdout",
     "output_type": "stream",
     "text": [
      "{'MNB__alpha': 5}\n",
      "0.8534116217857866\n"
     ]
    }
   ],
   "source": [
    "steps=[('MNB', MultinomialNB())]\n",
    "\n",
    "pipeline = Pipeline(steps)\n",
    "\n",
    "parameters = {'MNB__alpha':np.arange(1,10)}\n",
    "\n",
    "#using X on this model because X has the dummy columns added in\n",
    "X_train, X_test, y_train, y_test = train_test_split(g1c, g1yc, test_size=.2, random_state=15)\n",
    "\n",
    "cv = GridSearchCV(pipeline, param_grid=parameters, cv=5)\n",
    "\n",
    "cv.fit(X_train, y_train)\n",
    "\n",
    "print cv.best_params_\n",
    "print cv.best_score_"
   ]
  },
  {
   "cell_type": "code",
   "execution_count": 96,
   "metadata": {
    "collapsed": false
   },
   "outputs": [
    {
     "name": "stdout",
     "output_type": "stream",
     "text": [
      "Training score:  0.8533103867179591\n",
      "Test score:  0.8421052631578947\n",
      "             precision    recall  f1-score   support\n",
      "\n",
      "   .5 to .8       0.00      0.00      0.00       172\n",
      "  .8 to 1.2       0.84      1.00      0.91      2080\n",
      "    0 to .5       0.00      0.00      0.00         1\n",
      " 1.2 to 2.5       0.00      0.00      0.00       214\n",
      "       2.5+       0.00      0.00      0.00         3\n",
      "\n",
      "avg / total       0.71      0.84      0.77      2470\n",
      "\n"
     ]
    }
   ],
   "source": [
    "clf = MultinomialNB(alpha=5)\n",
    "\n",
    "X_train, X_test, y_train, y_test = train_test_split(g1cd, g1yc, test_size=.2, random_state=18)\n",
    "clf.fit(X_train, y_train)\n",
    "\n",
    "\n",
    "print \"Training score: \", clf.score(X_train, y_train)\n",
    "print \"Test score: \", clf.score(X_test, y_test)\n",
    "\n",
    "y_pred = clf.predict(X_test)\n",
    "print classification_report(y_test, y_pred)"
   ]
  },
  {
   "cell_type": "markdown",
   "metadata": {},
   "source": [
    "Group 2"
   ]
  },
  {
   "cell_type": "code",
   "execution_count": 97,
   "metadata": {
    "collapsed": false
   },
   "outputs": [
    {
     "name": "stdout",
     "output_type": "stream",
     "text": [
      "{'MNB__alpha': 3}\n",
      "0.7479359902150647\n"
     ]
    }
   ],
   "source": [
    "steps=[('MNB', MultinomialNB())]\n",
    "\n",
    "pipeline = Pipeline(steps)\n",
    "\n",
    "parameters = {'MNB__alpha':np.arange(1,10)}\n",
    "\n",
    "#using X on this model because X has the dummy columns added in\n",
    "X_train, X_test, y_train, y_test = train_test_split(g2c, g2yc, test_size=.2, random_state=15)\n",
    "\n",
    "cv = GridSearchCV(pipeline, param_grid=parameters, cv=5)\n",
    "\n",
    "cv.fit(X_train, y_train)\n",
    "\n",
    "print cv.best_params_\n",
    "print cv.best_score_"
   ]
  },
  {
   "cell_type": "code",
   "execution_count": 98,
   "metadata": {
    "collapsed": false
   },
   "outputs": [
    {
     "name": "stdout",
     "output_type": "stream",
     "text": [
      "Training score:  0.7440627866680257\n",
      "Test score:  0.7386873216469629\n",
      "             precision    recall  f1-score   support\n",
      "\n",
      "   .5 to .8       0.00      0.00      0.00       259\n",
      "  .8 to 1.2       0.74      0.99      0.85      1827\n",
      "    0 to .5       0.00      0.00      0.00         4\n",
      " 1.2 to 2.5       0.00      0.00      0.00       363\n",
      "       2.5+       0.00      0.00      0.00         0\n",
      "\n",
      "avg / total       0.55      0.74      0.63      2453\n",
      "\n"
     ]
    },
    {
     "name": "stderr",
     "output_type": "stream",
     "text": [
      "C:\\Users\\Danny\\Miniconda2\\envs\\tutorial\\lib\\site-packages\\sklearn\\metrics\\classification.py:1137: UndefinedMetricWarning: Recall and F-score are ill-defined and being set to 0.0 in labels with no true samples.\n",
      "  'recall', 'true', average, warn_for)\n"
     ]
    }
   ],
   "source": [
    "clf = MultinomialNB(alpha=3)\n",
    "\n",
    "X_train, X_test, y_train, y_test = train_test_split(g2cd, g2yc, test_size=.2, random_state=18)\n",
    "clf.fit(X_train, y_train)\n",
    "\n",
    "\n",
    "print \"Training score: \", clf.score(X_train, y_train)\n",
    "print \"Test score: \", clf.score(X_test, y_test)\n",
    "\n",
    "y_pred = clf.predict(X_test)\n",
    "print classification_report(y_test, y_pred)"
   ]
  },
  {
   "cell_type": "markdown",
   "metadata": {},
   "source": [
    "Group 3"
   ]
  },
  {
   "cell_type": "code",
   "execution_count": 99,
   "metadata": {
    "collapsed": false
   },
   "outputs": [
    {
     "name": "stdout",
     "output_type": "stream",
     "text": [
      "{'MNB__alpha': 1}\n",
      "0.5358271328101111\n"
     ]
    }
   ],
   "source": [
    "steps=[('MNB', MultinomialNB())]\n",
    "\n",
    "pipeline = Pipeline(steps)\n",
    "\n",
    "parameters = {'MNB__alpha':np.arange(1,10)}\n",
    "\n",
    "#using X on this model because X has the dummy columns added in\n",
    "X_train, X_test, y_train, y_test = train_test_split(g3c, g3yc, test_size=.2, random_state=15)\n",
    "\n",
    "cv = GridSearchCV(pipeline, param_grid=parameters, cv=5)\n",
    "\n",
    "cv.fit(X_train, y_train)\n",
    "\n",
    "print cv.best_params_\n",
    "print cv.best_score_"
   ]
  },
  {
   "cell_type": "code",
   "execution_count": 100,
   "metadata": {
    "collapsed": false
   },
   "outputs": [
    {
     "name": "stdout",
     "output_type": "stream",
     "text": [
      "Training score:  0.5359290592192437\n",
      "Test score:  0.5144720750101917\n",
      "             precision    recall  f1-score   support\n",
      "\n",
      "   .5 to .8       0.00      0.00      0.00       454\n",
      "  .8 to 1.2       0.52      0.99      0.68      1276\n",
      "    0 to .5       0.00      0.00      0.00        57\n",
      " 1.2 to 2.5       0.17      0.01      0.02       620\n",
      "       2.5+       0.00      0.00      0.00        46\n",
      "\n",
      "avg / total       0.31      0.51      0.36      2453\n",
      "\n"
     ]
    }
   ],
   "source": [
    "clf = MultinomialNB(alpha=1)\n",
    "\n",
    "X_train, X_test, y_train, y_test = train_test_split(g3cd, g3yc, test_size=.2, random_state=18)\n",
    "clf.fit(X_train, y_train)\n",
    "\n",
    "\n",
    "print \"Training score: \", clf.score(X_train, y_train)\n",
    "print \"Test score: \", clf.score(X_test, y_test)\n",
    "\n",
    "y_pred = clf.predict(X_test)\n",
    "print classification_report(y_test, y_pred)"
   ]
  },
  {
   "cell_type": "markdown",
   "metadata": {},
   "source": [
    "Group 4"
   ]
  },
  {
   "cell_type": "code",
   "execution_count": 101,
   "metadata": {
    "collapsed": false
   },
   "outputs": [
    {
     "name": "stdout",
     "output_type": "stream",
     "text": [
      "{'MNB__alpha': 1}\n",
      "0.6212414636632352\n"
     ]
    }
   ],
   "source": [
    "steps=[('MNB', MultinomialNB())]\n",
    "\n",
    "pipeline = Pipeline(steps)\n",
    "\n",
    "parameters = {'MNB__alpha':np.arange(1,10)}\n",
    "\n",
    "#using X on this model because X has the dummy columns added in\n",
    "X_train, X_test, y_train, y_test = train_test_split(g4c, g4yc, test_size=.2, random_state=15)\n",
    "\n",
    "cv = GridSearchCV(pipeline, param_grid=parameters, cv=5)\n",
    "\n",
    "cv.fit(X_train, y_train)\n",
    "\n",
    "print cv.best_params_\n",
    "print cv.best_score_"
   ]
  },
  {
   "cell_type": "code",
   "execution_count": 102,
   "metadata": {
    "collapsed": false
   },
   "outputs": [
    {
     "name": "stdout",
     "output_type": "stream",
     "text": [
      "Training score:  0.6271531953929264\n",
      "Test score:  0.6045658377496943\n",
      "             precision    recall  f1-score   support\n",
      "\n",
      "   .5 to .8       0.20      0.14      0.16       310\n",
      "  .8 to 1.2       0.72      0.84      0.78      1639\n",
      "    0 to .5       0.00      0.00      0.00       111\n",
      " 1.2 to 2.5       0.20      0.20      0.20       316\n",
      "       2.5+       0.00      0.00      0.00        77\n",
      "\n",
      "avg / total       0.53      0.60      0.56      2453\n",
      "\n"
     ]
    }
   ],
   "source": [
    "clf = MultinomialNB(alpha=1)\n",
    "\n",
    "X_train, X_test, y_train, y_test = train_test_split(g4c, g4yc, test_size=.2, random_state=18)\n",
    "clf.fit(X_train, y_train)\n",
    "\n",
    "\n",
    "print \"Training score: \", clf.score(X_train, y_train)\n",
    "print \"Test score: \", clf.score(X_test, y_test)\n",
    "\n",
    "y_pred = clf.predict(X_test)\n",
    "print classification_report(y_test, y_pred)"
   ]
  },
  {
   "cell_type": "markdown",
   "metadata": {},
   "source": [
    "## Compare Performance from models"
   ]
  },
  {
   "cell_type": "code",
   "execution_count": 103,
   "metadata": {
    "collapsed": true
   },
   "outputs": [],
   "source": [
    "sns.set()"
   ]
  },
  {
   "cell_type": "code",
   "execution_count": 104,
   "metadata": {
    "collapsed": false
   },
   "outputs": [
    {
     "data": {
      "image/png": "[encoded data removed]",
      "text/plain": [
       "<matplotlib.figure.Figure at 0x22111e48>"
      ]
     },
     "metadata": {},
     "output_type": "display_data"
    }
   ],
   "source": [
    "\n",
    "knn = [70.1,84.37,74.03,51.65,66.33]\n",
    "svm = [70,84.45,74.25,52.83,68.57]\n",
    "randomforest = [64.08,81.66,68.24,43.33,61.15]\n",
    "MNbayes = [67.13,84.21,74.79,51.45,60.46]\n",
    "benchmark = [68.46,86.03,75.34,54.48,57.89]\n",
    "xaxis = [1,2,3,4,5]\n",
    "\n",
    "plt.plot(xaxis, benchmark, marker='.', color='red', label='Benchmark')\n",
    "plt.plot(xaxis, knn, marker='D', color='green', label='KNN')\n",
    "plt.plot(xaxis, svm, color='blue', label='SVM')\n",
    "plt.plot(xaxis, randomforest, color='yellow', label='Random Forest')\n",
    "plt.plot(xaxis, MNbayes, color='purple', label='MN Bayes')\n",
    "plt.xticks([1, 2, 3, 4, 5], ['U', 1,2,3,4,5])\n",
    "plt.legend(loc='upper right')\n",
    "plt.xlabel('Groups')\n",
    "plt.ylabel('Accuracy scores')\n",
    "plt.title('Model Performance by Group')\n",
    "plt.show()\n",
    "\n",
    "\n"
   ]
  }
 ],
 "metadata": {
  "kernelspec": {
   "display_name": "Python 2",
   "language": "python",
   "name": "python2"
  },
  "language_info": {
   "codemirror_mode": {
    "name": "ipython",
    "version": 2
   },
   "file_extension": ".py",
   "mimetype": "text/x-python",
   "name": "python",
   "nbconvert_exporter": "python",
   "pygments_lexer": "ipython2",
   "version": "2.7.11"
  }
 },
 "nbformat": 4,
 "nbformat_minor": 0
}

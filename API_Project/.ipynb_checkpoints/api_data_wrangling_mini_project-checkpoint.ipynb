{
 "cells": [
  {
   "cell_type": "markdown",
   "metadata": {},
   "source": [
    "\n",
    "\n",
    "\n",
    "This exercise will require you to pull some data from the Qunadl API. Qaundl is currently the most widely used aggregator of financial market data."
   ]
  },
  {
   "cell_type": "markdown",
   "metadata": {},
   "source": [
    "As a first step, you will need to register a free account on the http://www.quandl.com website."
   ]
  },
  {
   "cell_type": "markdown",
   "metadata": {},
   "source": [
    "After you register, you will be provided with a unique API key, that you should store:"
   ]
  },
  {
   "cell_type": "code",
   "execution_count": 1,
   "metadata": {
    "collapsed": true
   },
   "outputs": [],
   "source": [
    "# Store the API key as a string - according to PEP8, constants are always named in all upper case\n",
    "API_KEY = 'dxpXisifsxgCyjy8xgZs'"
   ]
  },
  {
   "cell_type": "markdown",
   "metadata": {},
   "source": [
    "Qaundl has a large number of data sources, but, unfortunately, most of them require a Premium subscription. Still, there are also a good number of free datasets."
   ]
  },
  {
   "cell_type": "markdown",
   "metadata": {},
   "source": [
    "For this mini project, we will focus on equities data from the Frankfurt Stock Exhange (FSE), which is available for free. We'll try and analyze the stock prices of a company called Carl Zeiss Meditec, which manufactures tools for eye examinations, as well as medical lasers for laser eye surgery: https://www.zeiss.com/meditec/int/home.html. The company is listed under the stock ticker AFX_X."
   ]
  },
  {
   "cell_type": "markdown",
   "metadata": {},
   "source": [
    "You can find the detailed Quandl API instructions here: https://docs.quandl.com/docs/time-series"
   ]
  },
  {
   "cell_type": "markdown",
   "metadata": {},
   "source": [
    "While there is a dedicated Python package for connecting to the Quandl API, we would prefer that you use the *requests* package, which can be easily downloaded using *pip* or *conda*. You can find the documentation for the package here: http://docs.python-requests.org/en/master/ "
   ]
  },
  {
   "cell_type": "markdown",
   "metadata": {},
   "source": [
    "Finally, apart from the *requests* package, you are encouraged to not use any third party Python packages, such as *pandas*, and instead focus on what's available in the Python Standard Library (the *collections* module might come in handy: https://pymotw.com/3/collections/).\n",
    "Also, since you won't have access to DataFrames, you are encouraged to us Python's native data structures - preferably dictionaries, though some questions can also be answered using lists.\n",
    "You can read more on these data structures here: https://docs.python.org/3/tutorial/datastructures.html"
   ]
  },
  {
   "cell_type": "markdown",
   "metadata": {},
   "source": [
    "Keep in mind that the JSON responses you will be getting from the API map almost one-to-one to Python's dictionaries. Unfortunately, they can be very nested, so make sure you read up on indexing dictionaries in the documentation provided above."
   ]
  },
  {
   "cell_type": "code",
   "execution_count": 2,
   "metadata": {
    "collapsed": true
   },
   "outputs": [],
   "source": [
    "# First, import the relevant modules\n",
    "import requests\n",
    "import json"
   ]
  },
  {
   "cell_type": "code",
   "execution_count": 3,
   "metadata": {
    "collapsed": false
   },
   "outputs": [
    {
     "name": "stdout",
     "output_type": "stream",
     "text": [
      "{u'dataset': {u'dataset_code': u'AFX_X', u'column_names': [u'Date', u'Open', u'High', u'Low', u'Close', u'Change', u'Traded Volume', u'Turnover', u'Last Price of the Day', u'Daily Traded Units', u'Daily Turnover'], u'newest_available_date': u'2018-06-20', u'description': u'Stock Prices for Carl Zeiss Meditec (AFX) from the Frankfurt Stock Exchange.<br><br>Trading System: Xetra<br><br>ISIN: DE0005313704', u'end_date': u'2018-06-15', u'data': [[u'2018-06-15', None, 62.45, 60.9, 61.45, None, 461929.0, 28395821.0, None, None, None]], u'start_date': u'2018-06-15', u'limit': None, u'transform': None, u'order': None, u'refreshed_at': u'2018-06-20T22:28:01.440Z', u'frequency': u'daily', u'database_code': u'FSE', u'oldest_available_date': u'2000-06-07', u'collapse': None, u'premium': False, u'database_id': 6129, u'column_index': None, u'type': u'Time Series', u'id': 10095370, u'name': u'Carl Zeiss Meditec (AFX_X)'}}\n"
     ]
    }
   ],
   "source": [
    "# Now, call the Quandl API and pull out a small sample of the data (only one day) to get a glimpse\n",
    "# into the JSON structure that will be returned\n",
    "\n",
    "r = requests.get(\"https://www.quandl.com/api/v3/datasets/FSE/AFX_X.json?start_date=2018-06-15&end_date=2018-06-15& \\\n",
    "api_key=dxpXisifsxgCyjy8xgZs\")\n",
    "june1518 = r.json()\n",
    "print june1518\n"
   ]
  },
  {
   "cell_type": "code",
   "execution_count": 4,
   "metadata": {
    "collapsed": false
   },
   "outputs": [
    {
     "data": {
      "text/plain": [
       "[[u'2018-06-15',\n",
       "  None,\n",
       "  62.45,\n",
       "  60.9,\n",
       "  61.45,\n",
       "  None,\n",
       "  461929.0,\n",
       "  28395821.0,\n",
       "  None,\n",
       "  None,\n",
       "  None]]"
      ]
     },
     "execution_count": 4,
     "metadata": {},
     "output_type": "execute_result"
    }
   ],
   "source": [
    "# Inspect the JSON structure of the object you created, and take note of how nested it is,\n",
    "# as well as the overall structure\n",
    "\n",
    "june1518['dataset']['data']\n"
   ]
  },
  {
   "cell_type": "markdown",
   "metadata": {},
   "source": [
    "These are your tasks for this mini project:\n",
    "\n",
    "1. Collect data from the Franfurt Stock Exchange, for the ticker AFX_X, for the whole year 2017 (keep in mind that the date format is YYYY-MM-DD).\n",
    "2. Convert the returned JSON object into a Python dictionary.\n",
    "3. Calculate what the highest and lowest opening prices were for the stock in this period.\n",
    "4. What was the largest change in any one day (based on High and Low price)?\n",
    "5. What was the largest change between any two days (based on Closing Price)?\n",
    "6. What was the average daily trading volume during this year?\n",
    "7. (Optional) What was the median trading volume during this year. (Note: you may need to implement your own function for calculating the median.)"
   ]
  },
  {
   "cell_type": "markdown",
   "metadata": {
    "collapsed": true
   },
   "source": [
    "## 1. Collect data from the Franfurt Stock Exchange, for the ticker AFX_X, for the whole year 2017 \n",
    "(keep in mind that the date format is YYYY-MM-DD)."
   ]
  },
  {
   "cell_type": "code",
   "execution_count": 5,
   "metadata": {
    "collapsed": false
   },
   "outputs": [],
   "source": [
    "r = requests.get(\"https://www.quandl.com/api/v3/datasets/FSE/AFX_X.json?start_date=2017-01-01&end_date=2017-12-31& \\\n",
    "api_key=dxpXisifsxgCyjy8xgZs\")\n",
    "\n"
   ]
  },
  {
   "cell_type": "markdown",
   "metadata": {},
   "source": [
    "## 2. Convert the returned JSON object into a Python dictionary."
   ]
  },
  {
   "cell_type": "code",
   "execution_count": 6,
   "metadata": {
    "collapsed": false
   },
   "outputs": [
    {
     "data": {
      "text/plain": [
       "{u'Change': None,\n",
       " u'Close': 42.28,\n",
       " u'Daily Traded Units': None,\n",
       " u'Daily Turnover': None,\n",
       " u'Date': u'2017-08-15',\n",
       " u'High': 42.53,\n",
       " u'Last Price of the Day': None,\n",
       " u'Low': 42.2,\n",
       " u'Open': 42.53,\n",
       " u'Traded Volume': 64334.0,\n",
       " u'Turnover': 2721852.0}"
      ]
     },
     "execution_count": 6,
     "metadata": {},
     "output_type": "execute_result"
    }
   ],
   "source": [
    "data17 = r.json()\n",
    "dict_17 = {}\n",
    "\n",
    "for row in data17['dataset']['data']:\n",
    "    columns = data17['dataset']['column_names']\n",
    "    dict_day = {}\n",
    "    val = 0\n",
    "    for col in columns:\n",
    "        dict_day[col] = row[val]\n",
    "        val += 1\n",
    "    dict_17[row[0]] = dict_day\n",
    "\n",
    "#Example to show structure\n",
    "dict_17['2017-08-15']\n"
   ]
  },
  {
   "cell_type": "markdown",
   "metadata": {},
   "source": [
    "## 3. Calculate what the highest and lowest opening prices were for the stock in this period."
   ]
  },
  {
   "cell_type": "code",
   "execution_count": 7,
   "metadata": {
    "collapsed": false
   },
   "outputs": [
    {
     "name": "stdout",
     "output_type": "stream",
     "text": [
      "Highest opening price: 53.11\n",
      "Lowest opening price using min(): None\n",
      "Lowest opening price with value: 34.0\n",
      "\n",
      "[None, None, None, 34.0, 34.04, 34.42, 34.54, 34.75, 34.8, 34.83, 34.85, 34.91, 34.95, 34.98, 34.99, 35.02, 35.04, 35.04, 35.06, 35.07, 35.24, 35.29, 35.38, 35.38, 35.48, 35.56, 35.9, 35.95, 35.98, 36.02, 36.06, 36.2, 36.65, 37.37, 38.25, 38.5, 38.73, 38.8, 38.8, 38.81, 38.85, 38.94, 38.95, 39.01, 39.25, 39.39, 39.5, 39.6, 39.72, 39.75, 39.77, 39.77, 40.02, 40.15, 40.38, 40.9, 40.96, 41.1, 41.12, 41.13, 41.19, 41.2, 41.25, 41.26, 41.3, 41.38, 41.4, 41.4, 41.4, 41.46, 41.47, 41.48, 41.5, 41.51, 41.53, 41.61, 41.62, 41.71, 41.73, 41.8, 41.83, 41.86, 41.88, 41.88, 41.89, 41.93, 41.94, 41.97, 42.0, 42.0, 42.0, 42.01, 42.02, 42.06, 42.11, 42.12, 42.16, 42.17, 42.2, 42.24, 42.28, 42.29, 42.29, 42.3, 42.3, 42.35, 42.35, 42.38, 42.4, 42.42, 42.46, 42.49, 42.5, 42.5, 42.52, 42.53, 42.54, 42.64, 42.65, 42.66, 42.7, 42.72, 42.81, 42.82, 43.0, 43.0, 43.0, 43.21, 43.4, 43.5, 43.5, 43.58, 43.67, 43.74, 43.92, 44.0, 44.16, 44.29, 44.51, 44.64, 44.67, 44.67, 44.7, 44.79, 44.8, 44.8, 44.9, 44.9, 44.91, 44.94, 44.94, 45.0, 45.01, 45.01, 45.05, 45.06, 45.06, 45.07, 45.08, 45.09, 45.13, 45.15, 45.16, 45.16, 45.18, 45.2, 45.22, 45.24, 45.25, 45.26, 45.29, 45.31, 45.34, 45.36, 45.48, 45.5, 45.5, 45.5, 45.57, 45.58, 45.6, 45.61, 45.61, 45.64, 45.66, 45.72, 45.73, 45.74, 45.8, 45.81, 45.83, 45.85, 45.88, 45.97, 46.01, 46.01, 46.12, 46.16, 46.19, 46.2, 46.29, 46.34, 46.42, 46.48, 46.5, 46.52, 46.53, 46.57, 46.68, 46.77, 46.8, 46.9, 46.95, 47.01, 47.03, 47.03, 47.09, 47.12, 47.23, 47.25, 47.29, 47.3, 47.31, 47.46, 47.65, 47.8, 47.98, 48.38, 48.4, 48.4, 48.64, 48.8, 49.09, 49.11, 49.13, 49.5, 49.52, 49.64, 50.8, 50.89, 51.05, 51.16, 51.21, 51.45, 51.5, 51.65, 51.76, 51.88, 52.28, 52.29, 52.37, 52.64, 52.7, 52.73, 53.11]\n"
     ]
    }
   ],
   "source": [
    "opens = []\n",
    "\n",
    "for day in dict_17:\n",
    "    opens.append(dict_17[day]['Open'])\n",
    "       \n",
    "highest_open = max(opens)\n",
    "lowest_open = min(opens)\n",
    "\n",
    "#using min() we find that minimum value returned is None as there are a few opening prices with missing values. \n",
    "#We can sort the list to quickly find the lowest avaiable open price.\n",
    "sort_opens = sorted(opens)\n",
    "\n",
    "print 'Highest opening price: ' + str(highest_open)\n",
    "print 'Lowest opening price using min(): ' + str(lowest_open)\n",
    "print 'Lowest opening price with value: ' + str(sort_opens[3])\n",
    "print ''\n",
    "print sort_opens\n"
   ]
  },
  {
   "cell_type": "markdown",
   "metadata": {
    "collapsed": true
   },
   "source": [
    "## 4. What was the largest change in any one day (based on High and Low price)?"
   ]
  },
  {
   "cell_type": "code",
   "execution_count": 8,
   "metadata": {
    "collapsed": false
   },
   "outputs": [
    {
     "data": {
      "text/plain": [
       "2.81"
      ]
     },
     "execution_count": 8,
     "metadata": {},
     "output_type": "execute_result"
    }
   ],
   "source": [
    "changes = []\n",
    "\n",
    "for day in dict_17:\n",
    "    changes.append(dict_17[day]['High']- dict_17[day]['Low'])\n",
    "    \n",
    "largest_variation = max(changes)\n",
    "round(largest_variation,2)"
   ]
  },
  {
   "cell_type": "markdown",
   "metadata": {
    "collapsed": true
   },
   "source": [
    "## 5. What was the largest change between any two days (based on Closing Price)?"
   ]
  },
  {
   "cell_type": "code",
   "execution_count": 9,
   "metadata": {
    "collapsed": false
   },
   "outputs": [
    {
     "data": {
      "text/plain": [
       "19.03"
      ]
     },
     "execution_count": 9,
     "metadata": {},
     "output_type": "execute_result"
    }
   ],
   "source": [
    "#Because we're looking for any two days and not necessarily consecutive days, we can take a look at the highest closing price  \n",
    "#and subtract it from the lowest closing price for all of 2017.\n",
    "closing = []\n",
    "\n",
    "for day in dict_17:\n",
    "    closing.append(dict_17[day]['Close'])\n",
    "    \n",
    "largest_change = max(closing) - min(closing)\n",
    "largest_change"
   ]
  },
  {
   "cell_type": "markdown",
   "metadata": {},
   "source": [
    "## 6. What was the average daily trading volume during this year?"
   ]
  },
  {
   "cell_type": "code",
   "execution_count": 10,
   "metadata": {
    "collapsed": false
   },
   "outputs": [
    {
     "data": {
      "text/plain": [
       "89124.34"
      ]
     },
     "execution_count": 10,
     "metadata": {},
     "output_type": "execute_result"
    }
   ],
   "source": [
    "daily_vol = []\n",
    "\n",
    "for day in dict_17:\n",
    "    daily_vol.append(dict_17[day]['Traded Volume'])\n",
    "\n",
    "avg_volume= sum(daily_vol)/len(daily_vol)\n",
    "round(avg_volume,2)"
   ]
  },
  {
   "cell_type": "markdown",
   "metadata": {},
   "source": [
    "## 7. (Optional) What was the median trading volume during this year. (Note: you may need to implement your own function for calculating the median.)"
   ]
  },
  {
   "cell_type": "code",
   "execution_count": 11,
   "metadata": {
    "collapsed": false
   },
   "outputs": [
    {
     "name": "stdout",
     "output_type": "stream",
     "text": [
      "76286.0\n"
     ]
    }
   ],
   "source": [
    "def median(list1):\n",
    "    middle_idx = int(len(list1)/2)\n",
    "    if len(list1) % 2 == 0:\n",
    "        return (list1[middle_idx]+list1[middle_idx-1])/2.0\n",
    "    else:\n",
    "        return list1[middle_idx]\n",
    "\n",
    "sorted_vol = sorted(daily_vol)\n",
    "median_trading_vol = median(sorted_vol)\n",
    "print median_trading_vol\n"
   ]
  }
 ],
 "metadata": {
  "kernelspec": {
   "display_name": "Python 2",
   "language": "python",
   "name": "python2"
  },
  "language_info": {
   "codemirror_mode": {
    "name": "ipython",
    "version": 2
   },
   "file_extension": ".py",
   "mimetype": "text/x-python",
   "name": "python",
   "nbconvert_exporter": "python",
   "pygments_lexer": "ipython2",
   "version": "2.7.11"
  }
 },
 "nbformat": 4,
 "nbformat_minor": 2
}

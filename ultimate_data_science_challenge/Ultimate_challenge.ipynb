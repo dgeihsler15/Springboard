{
 "cells": [
  {
   "cell_type": "markdown",
   "metadata": {},
   "source": [
    "## Data Analysis Interview Challenge"
   ]
  },
  {
   "cell_type": "markdown",
   "metadata": {},
   "source": [
    "### Part 1 ‑ Exploratory data analysis\n",
    "The attached logins.json file contains (simulated) timestamps of user logins in a particular geographic location. Aggregate these login counts based on 15minute time intervals, and visualize and describe the resulting time series of login counts in ways that best characterize the underlying patterns of the demand. Please report/illustrate important features of the demand,such as daily cycles. If there are data quality issues, please report them."
   ]
  },
  {
   "cell_type": "code",
   "execution_count": 1,
   "metadata": {},
   "outputs": [],
   "source": [
    "#import packages\n",
    "%matplotlib inline\n",
    "import matplotlib.pyplot as plt \n",
    "import pandas as pd\n",
    "import numpy as np\n",
    "import json\n",
    "import datetime as dt"
   ]
  },
  {
   "cell_type": "code",
   "execution_count": 2,
   "metadata": {},
   "outputs": [],
   "source": [
    "#load the logins file as a dataframe\n",
    "logins = pd.read_json('logins.json')"
   ]
  },
  {
   "cell_type": "code",
   "execution_count": 3,
   "metadata": {},
   "outputs": [
    {
     "name": "stdout",
     "output_type": "stream",
     "text": [
      "<class 'pandas.core.frame.DataFrame'>\n",
      "RangeIndex: 93142 entries, 0 to 93141\n",
      "Data columns (total 1 columns):\n",
      "login_time    93142 non-null datetime64[ns]\n",
      "dtypes: datetime64[ns](1)\n",
      "memory usage: 727.8 KB\n"
     ]
    }
   ],
   "source": [
    "logins.info()"
   ]
  },
  {
   "cell_type": "code",
   "execution_count": 4,
   "metadata": {},
   "outputs": [
    {
     "data": {
      "text/html": [
       "<div>\n",
       "<style scoped>\n",
       "    .dataframe tbody tr th:only-of-type {\n",
       "        vertical-align: middle;\n",
       "    }\n",
       "\n",
       "    .dataframe tbody tr th {\n",
       "        vertical-align: top;\n",
       "    }\n",
       "\n",
       "    .dataframe thead th {\n",
       "        text-align: right;\n",
       "    }\n",
       "</style>\n",
       "<table border=\"1\" class=\"dataframe\">\n",
       "  <thead>\n",
       "    <tr style=\"text-align: right;\">\n",
       "      <th></th>\n",
       "      <th>login_time</th>\n",
       "    </tr>\n",
       "  </thead>\n",
       "  <tbody>\n",
       "    <tr>\n",
       "      <th>0</th>\n",
       "      <td>1970-01-01 20:13:18</td>\n",
       "    </tr>\n",
       "    <tr>\n",
       "      <th>1</th>\n",
       "      <td>1970-01-01 20:16:10</td>\n",
       "    </tr>\n",
       "    <tr>\n",
       "      <th>2</th>\n",
       "      <td>1970-01-01 20:16:37</td>\n",
       "    </tr>\n",
       "    <tr>\n",
       "      <th>3</th>\n",
       "      <td>1970-01-01 20:16:36</td>\n",
       "    </tr>\n",
       "    <tr>\n",
       "      <th>4</th>\n",
       "      <td>1970-01-01 20:26:21</td>\n",
       "    </tr>\n",
       "  </tbody>\n",
       "</table>\n",
       "</div>"
      ],
      "text/plain": [
       "           login_time\n",
       "0 1970-01-01 20:13:18\n",
       "1 1970-01-01 20:16:10\n",
       "2 1970-01-01 20:16:37\n",
       "3 1970-01-01 20:16:36\n",
       "4 1970-01-01 20:26:21"
      ]
     },
     "execution_count": 4,
     "metadata": {},
     "output_type": "execute_result"
    }
   ],
   "source": [
    "logins.head()"
   ]
  },
  {
   "cell_type": "code",
   "execution_count": 5,
   "metadata": {},
   "outputs": [],
   "source": [
    "#convert login_time to datetime objects and set them as the index\n",
    "logins.login_time = pd.to_datetime(logins.login_time)\n",
    "logins.set_index('login_time', inplace=True)"
   ]
  },
  {
   "cell_type": "code",
   "execution_count": 6,
   "metadata": {},
   "outputs": [],
   "source": [
    "#create a login count column to track number of logins when the timestamps are resampled to 15 min increments\n",
    "logins['login_count'] = 1"
   ]
  },
  {
   "cell_type": "code",
   "execution_count": 7,
   "metadata": {},
   "outputs": [],
   "source": [
    "#resample data to 15 min increments\n",
    "logins15 = logins.resample('15T').count()"
   ]
  },
  {
   "cell_type": "code",
   "execution_count": 8,
   "metadata": {},
   "outputs": [
    {
     "data": {
      "text/plain": [
       "count    9788.000000\n",
       "mean        9.515938\n",
       "std         8.328818\n",
       "min         0.000000\n",
       "25%         3.000000\n",
       "50%         7.000000\n",
       "75%        13.000000\n",
       "max        73.000000\n",
       "Name: login_count, dtype: float64"
      ]
     },
     "execution_count": 8,
     "metadata": {},
     "output_type": "execute_result"
    }
   ],
   "source": [
    "#look at descriptive stats for login counts for the 15 min intervals\n",
    "logins15.login_count.describe()"
   ]
  },
  {
   "cell_type": "code",
   "execution_count": 9,
   "metadata": {},
   "outputs": [
    {
     "data": {
      "image/png": "[encoded data removed]",
      "text/plain": [
       "<Figure size 432x288 with 1 Axes>"
      ]
     },
     "metadata": {},
     "output_type": "display_data"
    }
   ],
   "source": [
    "#find distribution of login counts for 15 min intervals\n",
    "plt.hist(logins15.login_count)\n",
    "plt.title(\"Distribution of 15 min Interval Logins\")\n",
    "plt.xlabel('Number of Logins')\n",
    "plt.ylabel('Frequency')\n",
    "plt.show()"
   ]
  },
  {
   "cell_type": "code",
   "execution_count": 10,
   "metadata": {},
   "outputs": [
    {
     "data": {
      "image/png": "[encoded data removed]",
      "text/plain": [
       "<Figure size 432x288 with 1 Axes>"
      ]
     },
     "metadata": {},
     "output_type": "display_data"
    }
   ],
   "source": [
    "#most 15 min intervals contain login counts between 0-20. Find the breakdown in this range\n",
    "plt.hist(logins15.login_count)\n",
    "plt.title(\"Distribution of 15 min Interval Logins\")\n",
    "plt.xlabel('Number of Logins in 0-20 Range')\n",
    "plt.ylabel('Frequency')\n",
    "plt.xlim(0,20)\n",
    "plt.show()"
   ]
  },
  {
   "cell_type": "code",
   "execution_count": 11,
   "metadata": {},
   "outputs": [],
   "source": [
    "#create a column to designate day of the year, and day of week for each timestamp\n",
    "logins15['day_of_year'] = logins15.index.dayofyear\n",
    "logins15['day_of_week'] = logins15.index.dayofweek"
   ]
  },
  {
   "cell_type": "code",
   "execution_count": 12,
   "metadata": {},
   "outputs": [
    {
     "name": "stdout",
     "output_type": "stream",
     "text": [
      "Day with most logins:  94\n",
      "Day with fewest logins:  1\n"
     ]
    }
   ],
   "source": [
    "#find the max and min login days and look at daily cycles\n",
    "loginsday = logins15.groupby('day_of_year').sum()\n",
    "print('Day with most logins: ', loginsday.login_count.idxmax())\n",
    "print('Day with fewest logins: ', loginsday.login_count.idxmin())"
   ]
  },
  {
   "cell_type": "code",
   "execution_count": 13,
   "metadata": {},
   "outputs": [
    {
     "data": {
      "text/plain": [
       "16"
      ]
     },
     "execution_count": 13,
     "metadata": {},
     "output_type": "execute_result"
    }
   ],
   "source": [
    "#look at day with fewest logins\n",
    "first = logins15[logins15.day_of_year == 1]\n",
    "len(first)"
   ]
  },
  {
   "cell_type": "code",
   "execution_count": 14,
   "metadata": {},
   "outputs": [
    {
     "name": "stdout",
     "output_type": "stream",
     "text": [
      "day_of_year\n",
      "1      112\n",
      "103    395\n",
      "5      459\n",
      "26     462\n",
      "34     464\n",
      "Name: login_count, dtype: int64\n"
     ]
    }
   ],
   "source": [
    "#the frist day wasn't a full day, we'll need to find a full day with the fewest logins\n",
    "fewest = loginsday.sort_values('login_count')\n",
    "print(fewest.login_count.head())"
   ]
  },
  {
   "cell_type": "code",
   "execution_count": 15,
   "metadata": {},
   "outputs": [
    {
     "data": {
      "text/plain": [
       "day_of_year\n",
       "71    827\n",
       "Name: login_count, dtype: int64"
      ]
     },
     "execution_count": 15,
     "metadata": {},
     "output_type": "execute_result"
    }
   ],
   "source": [
    "#find the median login day\n",
    "median = loginsday.login_count.median()\n",
    "middle = loginsday.login_count[loginsday.login_count == median]\n",
    "middle"
   ]
  },
  {
   "cell_type": "code",
   "execution_count": 16,
   "metadata": {},
   "outputs": [],
   "source": [
    "#filter out data for lowest, median, and highest login days\n",
    "low = logins15[logins15.day_of_year == 103]\n",
    "high = logins15[logins15.day_of_year == 94]\n",
    "middle = logins15[logins15.day_of_year == 71]"
   ]
  },
  {
   "cell_type": "code",
   "execution_count": 17,
   "metadata": {},
   "outputs": [
    {
     "name": "stdout",
     "output_type": "stream",
     "text": [
      "login_count     12\n",
      "day_of_year    103\n",
      "day_of_week      0\n",
      "Name: 1970-04-13 00:00:00, dtype: int64\n",
      "login_count    20\n",
      "day_of_year    71\n",
      "day_of_week     3\n",
      "Name: 1970-03-12 00:00:00, dtype: int64\n",
      "login_count    31\n",
      "day_of_year    94\n",
      "day_of_week     5\n",
      "Name: 1970-04-04 00:00:00, dtype: int64\n"
     ]
    }
   ],
   "source": [
    "#what days of the week do each of these days fall on. (0 is Monday)\n",
    "print(low.iloc[0])\n",
    "print(middle.iloc[0])\n",
    "print(high.iloc[0])"
   ]
  },
  {
   "cell_type": "code",
   "execution_count": 18,
   "metadata": {},
   "outputs": [
    {
     "data": {
      "image/png": "[encoded data removed]",
      "text/plain": [
       "<Figure size 432x288 with 1 Axes>"
      ]
     },
     "metadata": {},
     "output_type": "display_data"
    }
   ],
   "source": [
    "#find login counts per day of the week\n",
    "loginsdow = logins15.groupby('day_of_week').sum()\n",
    "\n",
    "plt.bar(loginsdow.index, loginsdow.login_count)\n",
    "plt.title('Login Counts per Day of the Week')\n",
    "plt.xlabel('Day of the Week')\n",
    "plt.ylabel('Number of Logins')\n",
    "plt.xticks(loginsdow.index, ['Mon', 'Tue', 'Wed', 'Thu', 'Fri', 'Sat', 'Sun'])\n",
    "plt.show()"
   ]
  },
  {
   "cell_type": "code",
   "execution_count": 19,
   "metadata": {},
   "outputs": [
    {
     "data": {
      "image/png": "[encoded data removed]",
      "text/plain": [
       "<Figure size 432x288 with 1 Axes>"
      ]
     },
     "metadata": {},
     "output_type": "display_data"
    }
   ],
   "source": [
    "#look at logins throughout highest login day\n",
    "plt.plot(high.index, high.login_count)\n",
    "plt.xticks(rotation=45)\n",
    "plt.title('Maximum Day Login Count')\n",
    "plt.xlabel('Hour of the Day')\n",
    "plt.ylabel('Number of Logins')\n",
    "plt.show()"
   ]
  },
  {
   "cell_type": "code",
   "execution_count": 20,
   "metadata": {},
   "outputs": [
    {
     "data": {
      "image/png": "[encoded data removed]",
      "text/plain": [
       "<Figure size 432x288 with 1 Axes>"
      ]
     },
     "metadata": {},
     "output_type": "display_data"
    }
   ],
   "source": [
    "#look at logins throughout median login day\n",
    "plt.plot(high.index, middle.login_count, color='green')\n",
    "plt.xticks(rotation=45)\n",
    "plt.title('Median Day Login Count')\n",
    "plt.xlabel('Hour of the Day')\n",
    "plt.ylabel('Number of Logins')\n",
    "plt.show()"
   ]
  },
  {
   "cell_type": "code",
   "execution_count": 21,
   "metadata": {},
   "outputs": [
    {
     "data": {
      "image/png": "[encoded data removed]",
      "text/plain": [
       "<Figure size 432x288 with 1 Axes>"
      ]
     },
     "metadata": {},
     "output_type": "display_data"
    }
   ],
   "source": [
    "#look at logins throughout lowest login day\n",
    "plt.plot(low.index, low.login_count, color='red')\n",
    "plt.xticks(rotation=45)\n",
    "plt.title('Minimum Day Login Count')\n",
    "plt.xlabel('Hour of the Day')\n",
    "plt.ylabel('Number of Logins')\n",
    "plt.show()"
   ]
  },
  {
   "cell_type": "markdown",
   "metadata": {},
   "source": [
    "#### Findings:\n",
    "\n",
    "Through Exploratory analyis we found that the average login count per 15 min interval is 9.52 logins. The maximum number of logins was 73 in a 15 minute timeframe, and the lowest amount was 0. The above histograms showed that most 15 minute intervals have between 0 and 20 logins. The majority of logins in that range fall below 7.\n",
    "\n",
    "Looking at login counts by day of the week we find that the highest login counts fall on the weekend, while the lowest login counts are on Mondays. This is reinforced when we determined the days with the overall highest, lowest, and median number of logins. Our highest login day was found to be a Saturday, lowest a Monday, and the Median day fell on a Wednesday.\n",
    "\n",
    "When comparing the number of logins over these 3 days, we see a spike of number of logins around 11am during the lowest and median days. Both of these days record around 25 logins during that time. The highest login day still recorded around 20 logins in the middle of the day, but that came around 2pm. The major spikes for logins on the highest day came around midnight and 5am, and recorded over 60 logins. "
   ]
  },
  {
   "cell_type": "markdown",
   "metadata": {},
   "source": [
    "### Part 2 ‑ Experiment and metrics design\n",
    "The neighboring cities of Gotham and Metropolis have complementary circadian rhythms: on weekdays, Ultimate Gotham is most active at night, and Ultimate Metropolis is most active during the day. On weekends, there is reasonable activity in both cities. \n",
    "\n",
    "However, a toll bridge, with a two way toll, between the two cities causes driver partners to tend to be exclusive to each city. The Ultimate managers of city operations for the two cities have proposed an experiment to encourage driver partners to be available in both cities, by reimbursing all toll costs."
   ]
  },
  {
   "cell_type": "markdown",
   "metadata": {},
   "source": [
    "1. What would you choose as the key measure of success of this experiment in encouraging driver partners to serve both cities, and why would you choose this metric?"
   ]
  },
  {
   "cell_type": "markdown",
   "metadata": {},
   "source": [
    "As the experiment looks to encourage driving partners to be available in both cities, success would be defined as an increased number of drivers crossing the toll bridge. This can be measured by the number of tolls that are collected throughout the experiment. Each toll collected means a driving partner has crossed the toll bridge into the other city. This metric can be compared against the number of tolls recieved previously in a similiar timeframe. "
   ]
  },
  {
   "cell_type": "markdown",
   "metadata": {},
   "source": [
    "2. Describe a practical experiment you would design to compare the effectiveness of the proposed change in relation to the key measure of success. Please provide details on:\n",
    "    a. how you will implement the experiment\n",
    "    b. what statistical test(s) you will conduct to verify the significance of the observation\n",
    "    c. how you would interpret the results and provide recommendations to the city operations team along with any caveats."
   ]
  },
  {
   "cell_type": "markdown",
   "metadata": {},
   "source": [
    "After annoucning the toll reimbursement experiment, I would track the number of tolls collected for a one week period. I would look at this information for the week as a whole, as well as the time of day and day of the week. This more detailed breakdown may help decide wether its more beneficial for tolls to be reimburesed only for certain parts of the week. \n",
    "\n",
    "I would then gather similiar data for a one week period before the annoucement was made. This would ideally be in one of the most recent weeks to keep any variables that could be associated with the time of year constant. \n",
    "\n",
    "Once I had both sets of data I would conduct a series of t tests to determine if there is a significant difference in the mean number of tolls collected from the experiment and the benchmark data. These tests would be conducted for the time of day, day of the week, and the number of tolls for the week as a whole.\n",
    "\n",
    "If we determine that there is a significant difference between the mean number of tolls collected, we can make a conclusion that the experiement was either a success or failure. A succesful experiment would be defined as a higher number of tolls collected during the experiment week. \n",
    "\n",
    "Recommendations could then be made about the most benefical days of the week or times to reimburse tolls moving forward. Other factors would have to be considered to make sure this is a viable plan long term however. The amount of money for the reimbursed tolls would have to be outweighed by the value driving partners create by being more available in both cities."
   ]
  },
  {
   "cell_type": "markdown",
   "metadata": {},
   "source": [
    "### Part 3 ‑ Predictive modeling\n",
    "Ultimate is interested in predicting rider retention. To help explore this question, we have provided a sample dataset of a cohort of users who signed up for an Ultimate account in January 2014. The data was pulled several months later; we consider a user retained if they were “active” (i.e. took a trip) in the following 30 days. We would like you to use this data set to help understand what factors are the best predictors for retention, and offer suggestions to operationalize those insights to help Ultimate. The data is in the attached file ultimate_data_challenge.json. "
   ]
  },
  {
   "cell_type": "markdown",
   "metadata": {},
   "source": [
    "1. Perform any cleaning, exploratory analysis, and/or visualizations to use the provided data for this analysis (a few sentences/plots describing your approach will suffice). What fraction of the observed users were retained?"
   ]
  },
  {
   "cell_type": "code",
   "execution_count": 22,
   "metadata": {},
   "outputs": [],
   "source": [
    "#import json file\n",
    "from pandas.io.json import json_normalize\n",
    "js = json.load((open('ultimate_data_challenge.json')))\n",
    "df = json_normalize(js)"
   ]
  },
  {
   "cell_type": "code",
   "execution_count": 23,
   "metadata": {},
   "outputs": [
    {
     "data": {
      "text/html": [
       "<div>\n",
       "<style scoped>\n",
       "    .dataframe tbody tr th:only-of-type {\n",
       "        vertical-align: middle;\n",
       "    }\n",
       "\n",
       "    .dataframe tbody tr th {\n",
       "        vertical-align: top;\n",
       "    }\n",
       "\n",
       "    .dataframe thead th {\n",
       "        text-align: right;\n",
       "    }\n",
       "</style>\n",
       "<table border=\"1\" class=\"dataframe\">\n",
       "  <thead>\n",
       "    <tr style=\"text-align: right;\">\n",
       "      <th></th>\n",
       "      <th>avg_dist</th>\n",
       "      <th>avg_rating_by_driver</th>\n",
       "      <th>avg_rating_of_driver</th>\n",
       "      <th>avg_surge</th>\n",
       "      <th>city</th>\n",
       "      <th>last_trip_date</th>\n",
       "      <th>phone</th>\n",
       "      <th>signup_date</th>\n",
       "      <th>surge_pct</th>\n",
       "      <th>trips_in_first_30_days</th>\n",
       "      <th>ultimate_black_user</th>\n",
       "      <th>weekday_pct</th>\n",
       "    </tr>\n",
       "  </thead>\n",
       "  <tbody>\n",
       "    <tr>\n",
       "      <th>0</th>\n",
       "      <td>3.67</td>\n",
       "      <td>5.0</td>\n",
       "      <td>4.7</td>\n",
       "      <td>1.10</td>\n",
       "      <td>King's Landing</td>\n",
       "      <td>2014-06-17</td>\n",
       "      <td>iPhone</td>\n",
       "      <td>2014-01-25</td>\n",
       "      <td>15.4</td>\n",
       "      <td>4</td>\n",
       "      <td>True</td>\n",
       "      <td>46.2</td>\n",
       "    </tr>\n",
       "    <tr>\n",
       "      <th>1</th>\n",
       "      <td>8.26</td>\n",
       "      <td>5.0</td>\n",
       "      <td>5.0</td>\n",
       "      <td>1.00</td>\n",
       "      <td>Astapor</td>\n",
       "      <td>2014-05-05</td>\n",
       "      <td>Android</td>\n",
       "      <td>2014-01-29</td>\n",
       "      <td>0.0</td>\n",
       "      <td>0</td>\n",
       "      <td>False</td>\n",
       "      <td>50.0</td>\n",
       "    </tr>\n",
       "    <tr>\n",
       "      <th>2</th>\n",
       "      <td>0.77</td>\n",
       "      <td>5.0</td>\n",
       "      <td>4.3</td>\n",
       "      <td>1.00</td>\n",
       "      <td>Astapor</td>\n",
       "      <td>2014-01-07</td>\n",
       "      <td>iPhone</td>\n",
       "      <td>2014-01-06</td>\n",
       "      <td>0.0</td>\n",
       "      <td>3</td>\n",
       "      <td>False</td>\n",
       "      <td>100.0</td>\n",
       "    </tr>\n",
       "    <tr>\n",
       "      <th>3</th>\n",
       "      <td>2.36</td>\n",
       "      <td>4.9</td>\n",
       "      <td>4.6</td>\n",
       "      <td>1.14</td>\n",
       "      <td>King's Landing</td>\n",
       "      <td>2014-06-29</td>\n",
       "      <td>iPhone</td>\n",
       "      <td>2014-01-10</td>\n",
       "      <td>20.0</td>\n",
       "      <td>9</td>\n",
       "      <td>True</td>\n",
       "      <td>80.0</td>\n",
       "    </tr>\n",
       "    <tr>\n",
       "      <th>4</th>\n",
       "      <td>3.13</td>\n",
       "      <td>4.9</td>\n",
       "      <td>4.4</td>\n",
       "      <td>1.19</td>\n",
       "      <td>Winterfell</td>\n",
       "      <td>2014-03-15</td>\n",
       "      <td>Android</td>\n",
       "      <td>2014-01-27</td>\n",
       "      <td>11.8</td>\n",
       "      <td>14</td>\n",
       "      <td>False</td>\n",
       "      <td>82.4</td>\n",
       "    </tr>\n",
       "  </tbody>\n",
       "</table>\n",
       "</div>"
      ],
      "text/plain": [
       "   avg_dist  avg_rating_by_driver  avg_rating_of_driver  avg_surge  \\\n",
       "0      3.67                   5.0                   4.7       1.10   \n",
       "1      8.26                   5.0                   5.0       1.00   \n",
       "2      0.77                   5.0                   4.3       1.00   \n",
       "3      2.36                   4.9                   4.6       1.14   \n",
       "4      3.13                   4.9                   4.4       1.19   \n",
       "\n",
       "             city last_trip_date    phone signup_date  surge_pct  \\\n",
       "0  King's Landing     2014-06-17   iPhone  2014-01-25       15.4   \n",
       "1         Astapor     2014-05-05  Android  2014-01-29        0.0   \n",
       "2         Astapor     2014-01-07   iPhone  2014-01-06        0.0   \n",
       "3  King's Landing     2014-06-29   iPhone  2014-01-10       20.0   \n",
       "4      Winterfell     2014-03-15  Android  2014-01-27       11.8   \n",
       "\n",
       "   trips_in_first_30_days  ultimate_black_user  weekday_pct  \n",
       "0                       4                 True         46.2  \n",
       "1                       0                False         50.0  \n",
       "2                       3                False        100.0  \n",
       "3                       9                 True         80.0  \n",
       "4                      14                False         82.4  "
      ]
     },
     "execution_count": 23,
     "metadata": {},
     "output_type": "execute_result"
    }
   ],
   "source": [
    "df.head()"
   ]
  },
  {
   "cell_type": "code",
   "execution_count": 24,
   "metadata": {},
   "outputs": [
    {
     "name": "stdout",
     "output_type": "stream",
     "text": [
      "<class 'pandas.core.frame.DataFrame'>\n",
      "RangeIndex: 50000 entries, 0 to 49999\n",
      "Data columns (total 12 columns):\n",
      "avg_dist                  50000 non-null float64\n",
      "avg_rating_by_driver      49799 non-null float64\n",
      "avg_rating_of_driver      41878 non-null float64\n",
      "avg_surge                 50000 non-null float64\n",
      "city                      50000 non-null object\n",
      "last_trip_date            50000 non-null object\n",
      "phone                     49604 non-null object\n",
      "signup_date               50000 non-null object\n",
      "surge_pct                 50000 non-null float64\n",
      "trips_in_first_30_days    50000 non-null int64\n",
      "ultimate_black_user       50000 non-null bool\n",
      "weekday_pct               50000 non-null float64\n",
      "dtypes: bool(1), float64(6), int64(1), object(4)\n",
      "memory usage: 4.2+ MB\n"
     ]
    }
   ],
   "source": [
    "df.info()"
   ]
  },
  {
   "cell_type": "code",
   "execution_count": 25,
   "metadata": {},
   "outputs": [],
   "source": [
    "#label users as retained or not. Retained users will have at least one trip in first 30 days\n",
    "def retained(num):\n",
    "    if num > 0:\n",
    "        return 1\n",
    "    else:\n",
    "        return 0\n",
    "    \n",
    "df['retained'] = df.trips_in_first_30_days.apply(retained)"
   ]
  },
  {
   "cell_type": "code",
   "execution_count": 26,
   "metadata": {},
   "outputs": [
    {
     "data": {
      "text/plain": [
       "0.6922"
      ]
     },
     "execution_count": 26,
     "metadata": {},
     "output_type": "execute_result"
    }
   ],
   "source": [
    "#find the fraction of retained users\n",
    "len(df[df.retained == 1]) / len(df.retained)"
   ]
  },
  {
   "cell_type": "code",
   "execution_count": 27,
   "metadata": {},
   "outputs": [],
   "source": [
    "#convert date strings to datetime ojects\n",
    "df.last_trip_date = pd.to_datetime(df.last_trip_date)\n",
    "df.signup_date = pd.to_datetime(df.signup_date)"
   ]
  },
  {
   "cell_type": "code",
   "execution_count": 28,
   "metadata": {},
   "outputs": [
    {
     "name": "stdout",
     "output_type": "stream",
     "text": [
      "city\n",
      "Astapor           16534\n",
      "King's Landing    10130\n",
      "Winterfell        23336\n",
      "Name: retained, dtype: int64\n"
     ]
    },
    {
     "data": {
      "image/png": "[encoded data removed]",
      "text/plain": [
       "<Figure size 432x288 with 1 Axes>"
      ]
     },
     "metadata": {},
     "output_type": "display_data"
    }
   ],
   "source": [
    "# find the breakdown of retained users by city\n",
    "city = df.groupby('city').count()\n",
    "print(city.retained)\n",
    "\n",
    "plt.bar(city.index, city.retained, color='green', alpha=.5)\n",
    "plt.title('Number of Retained Users by City')\n",
    "plt.xlabel('Cities')\n",
    "plt.ylabel('Number of Retained Users')\n",
    "plt.show()"
   ]
  },
  {
   "cell_type": "code",
   "execution_count": 29,
   "metadata": {},
   "outputs": [
    {
     "data": {
      "text/html": [
       "<div>\n",
       "<style scoped>\n",
       "    .dataframe tbody tr th:only-of-type {\n",
       "        vertical-align: middle;\n",
       "    }\n",
       "\n",
       "    .dataframe tbody tr th {\n",
       "        vertical-align: top;\n",
       "    }\n",
       "\n",
       "    .dataframe thead th {\n",
       "        text-align: right;\n",
       "    }\n",
       "</style>\n",
       "<table border=\"1\" class=\"dataframe\">\n",
       "  <thead>\n",
       "    <tr style=\"text-align: right;\">\n",
       "      <th></th>\n",
       "      <th>avg_dist</th>\n",
       "      <th>avg_rating_by_driver</th>\n",
       "      <th>avg_rating_of_driver</th>\n",
       "      <th>avg_surge</th>\n",
       "      <th>surge_pct</th>\n",
       "      <th>trips_in_first_30_days</th>\n",
       "      <th>ultimate_black_user</th>\n",
       "      <th>weekday_pct</th>\n",
       "    </tr>\n",
       "    <tr>\n",
       "      <th>retained</th>\n",
       "      <th></th>\n",
       "      <th></th>\n",
       "      <th></th>\n",
       "      <th></th>\n",
       "      <th></th>\n",
       "      <th></th>\n",
       "      <th></th>\n",
       "      <th></th>\n",
       "    </tr>\n",
       "  </thead>\n",
       "  <tbody>\n",
       "    <tr>\n",
       "      <th>0</th>\n",
       "      <td>6.397854</td>\n",
       "      <td>4.791200</td>\n",
       "      <td>4.632721</td>\n",
       "      <td>1.071320</td>\n",
       "      <td>8.512982</td>\n",
       "      <td>0.000000</td>\n",
       "      <td>0.349513</td>\n",
       "      <td>61.299350</td>\n",
       "    </tr>\n",
       "    <tr>\n",
       "      <th>1</th>\n",
       "      <td>5.529568</td>\n",
       "      <td>4.772376</td>\n",
       "      <td>4.589562</td>\n",
       "      <td>1.076295</td>\n",
       "      <td>8.999191</td>\n",
       "      <td>3.291245</td>\n",
       "      <td>0.389338</td>\n",
       "      <td>60.760104</td>\n",
       "    </tr>\n",
       "  </tbody>\n",
       "</table>\n",
       "</div>"
      ],
      "text/plain": [
       "          avg_dist  avg_rating_by_driver  avg_rating_of_driver  avg_surge  \\\n",
       "retained                                                                    \n",
       "0         6.397854              4.791200              4.632721   1.071320   \n",
       "1         5.529568              4.772376              4.589562   1.076295   \n",
       "\n",
       "          surge_pct  trips_in_first_30_days  ultimate_black_user  weekday_pct  \n",
       "retained                                                                       \n",
       "0          8.512982                0.000000             0.349513    61.299350  \n",
       "1          8.999191                3.291245             0.389338    60.760104  "
      ]
     },
     "execution_count": 29,
     "metadata": {},
     "output_type": "execute_result"
    }
   ],
   "source": [
    "#look at how the features differ from retained to non retained users\n",
    "ret = df.groupby('retained').mean()\n",
    "ret"
   ]
  },
  {
   "cell_type": "code",
   "execution_count": 30,
   "metadata": {},
   "outputs": [
    {
     "data": {
      "text/html": [
       "<div>\n",
       "<style scoped>\n",
       "    .dataframe tbody tr th:only-of-type {\n",
       "        vertical-align: middle;\n",
       "    }\n",
       "\n",
       "    .dataframe tbody tr th {\n",
       "        vertical-align: top;\n",
       "    }\n",
       "\n",
       "    .dataframe thead th {\n",
       "        text-align: right;\n",
       "    }\n",
       "</style>\n",
       "<table border=\"1\" class=\"dataframe\">\n",
       "  <thead>\n",
       "    <tr style=\"text-align: right;\">\n",
       "      <th></th>\n",
       "      <th>avg_dist</th>\n",
       "      <th>avg_rating_by_driver</th>\n",
       "      <th>avg_rating_of_driver</th>\n",
       "      <th>avg_surge</th>\n",
       "      <th>surge_pct</th>\n",
       "      <th>trips_in_first_30_days</th>\n",
       "      <th>weekday_pct</th>\n",
       "      <th>retained</th>\n",
       "    </tr>\n",
       "    <tr>\n",
       "      <th>ultimate_black_user</th>\n",
       "      <th></th>\n",
       "      <th></th>\n",
       "      <th></th>\n",
       "      <th></th>\n",
       "      <th></th>\n",
       "      <th></th>\n",
       "      <th></th>\n",
       "      <th></th>\n",
       "    </tr>\n",
       "  </thead>\n",
       "  <tbody>\n",
       "    <tr>\n",
       "      <th>False</th>\n",
       "      <td>5.653354</td>\n",
       "      <td>4.774906</td>\n",
       "      <td>4.602578</td>\n",
       "      <td>1.088393</td>\n",
       "      <td>10.508932</td>\n",
       "      <td>1.947088</td>\n",
       "      <td>59.887523</td>\n",
       "      <td>0.678578</td>\n",
       "    </tr>\n",
       "    <tr>\n",
       "      <th>True</th>\n",
       "      <td>6.033838</td>\n",
       "      <td>4.783512</td>\n",
       "      <td>4.599932</td>\n",
       "      <td>1.052248</td>\n",
       "      <td>6.108285</td>\n",
       "      <td>2.825183</td>\n",
       "      <td>62.641742</td>\n",
       "      <td>0.714702</td>\n",
       "    </tr>\n",
       "  </tbody>\n",
       "</table>\n",
       "</div>"
      ],
      "text/plain": [
       "                     avg_dist  avg_rating_by_driver  avg_rating_of_driver  \\\n",
       "ultimate_black_user                                                         \n",
       "False                5.653354              4.774906              4.602578   \n",
       "True                 6.033838              4.783512              4.599932   \n",
       "\n",
       "                     avg_surge  surge_pct  trips_in_first_30_days  \\\n",
       "ultimate_black_user                                                 \n",
       "False                 1.088393  10.508932                1.947088   \n",
       "True                  1.052248   6.108285                2.825183   \n",
       "\n",
       "                     weekday_pct  retained  \n",
       "ultimate_black_user                         \n",
       "False                  59.887523  0.678578  \n",
       "True                   62.641742  0.714702  "
      ]
     },
     "execution_count": 30,
     "metadata": {},
     "output_type": "execute_result"
    }
   ],
   "source": [
    "black = df.groupby('ultimate_black_user').mean()\n",
    "black"
   ]
  },
  {
   "cell_type": "code",
   "execution_count": 31,
   "metadata": {},
   "outputs": [
    {
     "data": {
      "image/png": "[encoded data removed]",
      "text/plain": [
       "<Figure size 432x288 with 1 Axes>"
      ]
     },
     "metadata": {},
     "output_type": "display_data"
    }
   ],
   "source": [
    "#look at what types of phones retained users have vs not retained users\n",
    "ret = df[df.retained == 1]\n",
    "notret = df[df.retained == 0]\n",
    "\n",
    "pret = ret.groupby('phone').count()\n",
    "pnot = notret.groupby('phone').count()\n",
    "\n",
    "plt.bar(pret.index, pret.retained, color='Blue', alpha=.5, label='Retained')\n",
    "plt.bar(pret.index, pnot.retained, color='Red', alpha=.5, label='Not Retained')\n",
    "plt.title('Number of Users per Phone Type')\n",
    "plt.xlabel('Phone Type')\n",
    "plt.ylabel('Number of Users')\n",
    "plt.legend(loc='upper left')\n",
    "plt.show()"
   ]
  },
  {
   "cell_type": "code",
   "execution_count": 32,
   "metadata": {},
   "outputs": [
    {
     "data": {
      "image/png": "[encoded data removed]",
      "text/plain": [
       "<Figure size 432x288 with 1 Axes>"
      ]
     },
     "metadata": {},
     "output_type": "display_data"
    },
    {
     "name": "stdout",
     "output_type": "stream",
     "text": [
      "(0.11906807562371279, 6.624305246140119e-95)\n"
     ]
    }
   ],
   "source": [
    "#is there a relationship between average rating of driver, and average rating of driver for retained users\n",
    "import scipy as sp\n",
    "from scipy import stats\n",
    "\n",
    "#not all rating values were available in data\n",
    "a=ret.dropna()\n",
    "\n",
    "plt.scatter(a.avg_rating_by_driver, a.avg_rating_of_driver)\n",
    "plt.title('Avg Rating from Driver vs Avg rating of Driver')\n",
    "plt.xlabel('Avg Rating by Driver')\n",
    "plt.ylabel('Avg Rating of Driver')\n",
    "plt.show()\n",
    "\n",
    "print(sp.stats.pearsonr(a.avg_rating_by_driver, a.avg_rating_of_driver))"
   ]
  },
  {
   "cell_type": "code",
   "execution_count": 33,
   "metadata": {},
   "outputs": [
    {
     "data": {
      "image/png": "[encoded data removed]",
      "text/plain": [
       "<Figure size 432x288 with 1 Axes>"
      ]
     },
     "metadata": {},
     "output_type": "display_data"
    },
    {
     "name": "stdout",
     "output_type": "stream",
     "text": [
      "(0.1277974872513193, 3.650559085684634e-43)\n"
     ]
    }
   ],
   "source": [
    "#is there a relationship between average rating of driver, and average rating of driver for non retained users\n",
    "\n",
    "#not all rating values were available in data\n",
    "b=notret.dropna() \n",
    "\n",
    "plt.scatter(b.avg_rating_by_driver, b.avg_rating_of_driver)\n",
    "plt.title('Avg Rating from Driver vs Avg rating of Driver')\n",
    "plt.xlabel('Avg Rating by Driver')\n",
    "plt.ylabel('Avg Rating of Driver')\n",
    "plt.show()\n",
    "\n",
    "print(sp.stats.pearsonr(b.avg_rating_by_driver, b.avg_rating_of_driver))"
   ]
  },
  {
   "cell_type": "markdown",
   "metadata": {},
   "source": [
    "#### Findings thus far:\n",
    "\n",
    "Through exploratory analysis we find that 69.22% of the users that signed up in January qualify as retained. Looking at the number of retained users by city we can see that Winterfell has the most retained users at 23,336. Astapor and Kings landing had 16,534 retained users, and 10,130 retained users respectively.\n",
    "\n",
    "When we break down users by their retained status, we find that retained users have a shorter avgerage distance (5.5 vs 6.4 miles) and have a slightly lower weekday percentage than non retained users. The other features are very similiar for both retained and non retained users.\n",
    "\n",
    "Retained users were found to have a similar breadown of iPhones vs Androids, with iPhones being the phone of choice for users of both groups. We did not find a big difference in the relationship between average ratings by driver and average ratings of driver for retained and non retained users either. There was a not a strong relationship between the two variables in either group.\n",
    "\n"
   ]
  },
  {
   "cell_type": "markdown",
   "metadata": {},
   "source": [
    "2. Build a predictive model to help Ultimate determine whether or not a user will be active in their 6th month on the system. Discuss why you chose your approach, what alternatives you considered, and any concerns you have. How valid is your model? Include any key indicators of model performance."
   ]
  },
  {
   "cell_type": "code",
   "execution_count": 34,
   "metadata": {},
   "outputs": [],
   "source": [
    "#prep dates for modeling\n",
    "df.last_trip_date = df['last_trip_date'].apply(lambda x: x.toordinal())\n",
    "df.signup_date = df['signup_date'].apply(lambda x: x.toordinal())"
   ]
  },
  {
   "cell_type": "code",
   "execution_count": 35,
   "metadata": {},
   "outputs": [],
   "source": [
    "#first we need to assign our predictor and target variables\n",
    "\n",
    "df.phone = df.phone.fillna('Not Available')\n",
    "\n",
    "#avg_rating_by_driver, and avg_rating_of_driver are being excluded as they are incomplete and the averages are almost\n",
    "#identical for both retained and non retained users\n",
    "\n",
    "X1 = df[['avg_dist', 'avg_surge', 'city', 'phone', 'last_trip_date','surge_pct', 'signup_date','weekday_pct', \\\n",
    "         'ultimate_black_user']]\n",
    "y = df['retained']"
   ]
  },
  {
   "cell_type": "code",
   "execution_count": 36,
   "metadata": {},
   "outputs": [],
   "source": [
    "#create dummy variables for categorical features\n",
    "X = pd.get_dummies(X1)"
   ]
  },
  {
   "cell_type": "code",
   "execution_count": 37,
   "metadata": {},
   "outputs": [
    {
     "data": {
      "text/plain": [
       "array([-0.       ,  0.       , -0.0012811,  0.       ,  0.       ,\n",
       "       -0.       ,  0.       , -0.       , -0.       ,  0.       ,\n",
       "       -0.       ,  0.       ,  0.       ])"
      ]
     },
     "execution_count": 37,
     "metadata": {},
     "output_type": "execute_result"
    }
   ],
   "source": [
    "#we can use lasso regularization to see which features are most important in predicting the target variable\n",
    "from sklearn.linear_model import Lasso\n",
    "from sklearn.model_selection import train_test_split\n",
    "\n",
    "lasso = Lasso()\n",
    "\n",
    "X_train, X_test, y_train, y_test = train_test_split(X, y, test_size=.2, random_state=15)\n",
    "\n",
    "lasso_coef = lasso.fit(X_train,y_train).coef_\n",
    "\n",
    "lasso_coef"
   ]
  },
  {
   "cell_type": "code",
   "execution_count": 38,
   "metadata": {},
   "outputs": [
    {
     "data": {
      "text/plain": [
       "Index(['avg_dist', 'avg_surge', 'last_trip_date', 'surge_pct', 'signup_date',\n",
       "       'weekday_pct', 'ultimate_black_user', 'city_Astapor',\n",
       "       'city_King's Landing', 'city_Winterfell', 'phone_Android',\n",
       "       'phone_Not Available', 'phone_iPhone'],\n",
       "      dtype='object')"
      ]
     },
     "execution_count": 38,
     "metadata": {},
     "output_type": "execute_result"
    }
   ],
   "source": [
    "X.columns"
   ]
  },
  {
   "cell_type": "markdown",
   "metadata": {},
   "source": [
    "Lasso minimized all of the coefficents down to zero except for last_trip_date making this an important predictive factor for retained users."
   ]
  },
  {
   "cell_type": "code",
   "execution_count": 39,
   "metadata": {},
   "outputs": [
    {
     "name": "stdout",
     "output_type": "stream",
     "text": [
      "{'C': 0.001}\n"
     ]
    }
   ],
   "source": [
    "#Because this is a binary classification problem we can start by looking at logistic regression\n",
    "from sklearn.model_selection import train_test_split\n",
    "from sklearn.linear_model import LogisticRegression\n",
    "from sklearn.model_selection import GridSearchCV\n",
    "\n",
    "X_train, X_test, y_train, y_test = train_test_split(X, y, test_size=.2, random_state=15)\n",
    "\n",
    "parameters = {'C': [0.001, 0.1, 1, 10, 100]}\n",
    "logreg = LogisticRegression()\n",
    "logreg_cv = GridSearchCV(logreg, param_grid=parameters)\n",
    "logreg_cv.fit(X_train, y_train)\n",
    "print(logreg_cv.best_params_)"
   ]
  },
  {
   "cell_type": "code",
   "execution_count": 40,
   "metadata": {},
   "outputs": [
    {
     "name": "stdout",
     "output_type": "stream",
     "text": [
      "0.6912\n"
     ]
    }
   ],
   "source": [
    "logreg = LogisticRegression(C=.001)\n",
    "logreg.fit(X_train, y_train)\n",
    "y_pred = logreg.predict(X_test)\n",
    "print(logreg.score(X_test, y_test))"
   ]
  },
  {
   "cell_type": "code",
   "execution_count": 41,
   "metadata": {},
   "outputs": [
    {
     "name": "stdout",
     "output_type": "stream",
     "text": [
      "             precision    recall  f1-score   support\n",
      "\n",
      "          0       0.00      0.00      0.00      3088\n",
      "          1       0.69      1.00      0.82      6912\n",
      "\n",
      "avg / total       0.48      0.69      0.56     10000\n",
      "\n",
      "[[   0 3088]\n",
      " [   0 6912]]\n"
     ]
    },
    {
     "name": "stderr",
     "output_type": "stream",
     "text": [
      "C:\\Users\\Danny\\Miniconda2\\envs\\soccer\\lib\\site-packages\\sklearn\\metrics\\classification.py:1135: UndefinedMetricWarning: Precision and F-score are ill-defined and being set to 0.0 in labels with no predicted samples.\n",
      "  'precision', 'predicted', average, warn_for)\n"
     ]
    }
   ],
   "source": [
    "from sklearn.metrics import classification_report\n",
    "from sklearn.metrics import confusion_matrix\n",
    "\n",
    "print(classification_report(y_test, y_pred))\n",
    "print(confusion_matrix(y_test, y_pred))\n"
   ]
  },
  {
   "cell_type": "markdown",
   "metadata": {},
   "source": [
    "The logistic regression model is not classifying any users as not retained. Let's see how another model performs. \n",
    "\n",
    "The RandomForestClassifier is another good option for classification, and it has a .feature_importances_ method to help us determine which features are the strongest predictors."
   ]
  },
  {
   "cell_type": "code",
   "execution_count": 42,
   "metadata": {},
   "outputs": [
    {
     "name": "stdout",
     "output_type": "stream",
     "text": [
      "{'n_estimators': 17}\n",
      "0.80475\n"
     ]
    }
   ],
   "source": [
    "from sklearn.ensemble import RandomForestClassifier\n",
    "\n",
    "rf = RandomForestClassifier()\n",
    "\n",
    "parameters = {'n_estimators':np.arange(5,20)}\n",
    "\n",
    "X_train, X_test, y_train, y_test = train_test_split(X, y, test_size=.2, random_state=15)\n",
    "\n",
    "cv = GridSearchCV(rf, param_grid=parameters, cv=5)\n",
    "\n",
    "cv.fit(X_train, y_train)\n",
    "\n",
    "print(cv.best_params_)\n",
    "print(cv.best_score_)"
   ]
  },
  {
   "cell_type": "code",
   "execution_count": 43,
   "metadata": {},
   "outputs": [
    {
     "name": "stdout",
     "output_type": "stream",
     "text": [
      "             precision    recall  f1-score   support\n",
      "\n",
      "          0       0.71      0.61      0.66      3088\n",
      "          1       0.84      0.89      0.86      6912\n",
      "\n",
      "avg / total       0.80      0.80      0.80     10000\n",
      "\n",
      "[[1899 1189]\n",
      " [ 775 6137]]\n"
     ]
    }
   ],
   "source": [
    "rf = RandomForestClassifier(n_estimators=19)\n",
    "rf.fit(X_train, y_train)\n",
    "y_pred = rf.predict(X_test)\n",
    "\n",
    "print(classification_report(y_test, y_pred))\n",
    "print(confusion_matrix(y_test, y_pred))"
   ]
  },
  {
   "cell_type": "code",
   "execution_count": 44,
   "metadata": {},
   "outputs": [
    {
     "data": {
      "text/plain": [
       "array([0.19979877, 0.04021444, 0.38546509, 0.04877039, 0.13121533,\n",
       "       0.15298471, 0.01261051, 0.00488198, 0.00529103, 0.00664426,\n",
       "       0.00534309, 0.00110309, 0.00567731])"
      ]
     },
     "execution_count": 44,
     "metadata": {},
     "output_type": "execute_result"
    }
   ],
   "source": [
    "#look at the feature importances for the rf classifier\n",
    "rf.feature_importances_"
   ]
  },
  {
   "cell_type": "code",
   "execution_count": 45,
   "metadata": {},
   "outputs": [
    {
     "data": {
      "text/plain": [
       "Index(['avg_dist', 'avg_surge', 'last_trip_date', 'surge_pct', 'signup_date',\n",
       "       'weekday_pct', 'ultimate_black_user', 'city_Astapor',\n",
       "       'city_King's Landing', 'city_Winterfell', 'phone_Android',\n",
       "       'phone_Not Available', 'phone_iPhone'],\n",
       "      dtype='object')"
      ]
     },
     "execution_count": 45,
     "metadata": {},
     "output_type": "execute_result"
    }
   ],
   "source": [
    "X.columns"
   ]
  },
  {
   "cell_type": "markdown",
   "metadata": {},
   "source": [
    "The random forest model backs up the lasso regularization that last_trip_date is the most important factor in classifying a retained user. We can also see that avg_dist and weekday_pct are the next most import features. This reflects what we saw in our exploratory analysis, that those two variables differed in the most in both groups while the other variables were almost identical for both retained and not retained users.\n",
    "\n",
    "The random forest model predicted retained users with a higher accuracy than the logistic regression at 80%. It had better precision and recall scores, and was able to classify retained customers as well. "
   ]
  },
  {
   "cell_type": "markdown",
   "metadata": {},
   "source": [
    "3. Briefly discuss how Ultimate might leverage the insights gained from the model to improve its longterm rider retention (again, a few sentences will suffice)."
   ]
  },
  {
   "cell_type": "markdown",
   "metadata": {},
   "source": [
    "Finding that the last_trip_date had the highest impact on predicting retained users may not seem like a miraculous discovery, but knowing that that is the main factor reinforces the importance in keeping users from going too long without using the service. Offering discounts or different offers when users have not taken a ride in the last 30 days can peak their interest and turn their attention back to Ultimate. \n",
    "\n",
    "Additionaly, after finding that the average distance is another important factor in predicting retained users, it will be important to continue to work on how Ultimate uses navigation systems to get their users from point a to point b. Improvements to the way the Ultimate app interacts with 3rd party navigation can equate to fewer missed turns, shorter average trip distance, and a better experience for the user."
   ]
  }
 ],
 "metadata": {
  "kernelspec": {
   "display_name": "Python 3",
   "language": "python",
   "name": "python3"
  },
  "language_info": {
   "codemirror_mode": {
    "name": "ipython",
    "version": 3
   },
   "file_extension": ".py",
   "mimetype": "text/x-python",
   "name": "python",
   "nbconvert_exporter": "python",
   "pygments_lexer": "ipython3",
   "version": "3.6.5"
  }
 },
 "nbformat": 4,
 "nbformat_minor": 2
}

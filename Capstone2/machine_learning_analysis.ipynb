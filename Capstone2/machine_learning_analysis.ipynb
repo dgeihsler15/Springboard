{
 "cells": [
  {
   "cell_type": "code",
   "execution_count": 1,
   "metadata": {},
   "outputs": [],
   "source": [
    "%matplotlib inline\n",
    "import matplotlib.pyplot as plt \n",
    "import pandas as pd\n",
    "import numpy as np\n",
    "import seaborn as sns\n",
    "\n",
    "sns.set()"
   ]
  },
  {
   "cell_type": "code",
   "execution_count": 2,
   "metadata": {},
   "outputs": [],
   "source": [
    "#import hotel reviews into a dataframe\n",
    "df = pd.read_csv('yelp_reviews_filtered.csv')"
   ]
  },
  {
   "cell_type": "markdown",
   "metadata": {},
   "source": [
    "### Prepare data for modeling"
   ]
  },
  {
   "cell_type": "code",
   "execution_count": 3,
   "metadata": {},
   "outputs": [],
   "source": [
    "#create a label column that will be used for our model\n",
    "def create_label(rating):\n",
    "    if rating > 3:\n",
    "        return 1\n",
    "    elif rating == 3:\n",
    "        return -1\n",
    "    else:\n",
    "        return 0\n",
    "\n",
    "df['label'] = df.review_rating.apply(create_label)"
   ]
  },
  {
   "cell_type": "code",
   "execution_count": 4,
   "metadata": {},
   "outputs": [
    {
     "name": "stdout",
     "output_type": "stream",
     "text": [
      "25293\n",
      "24798\n",
      "11543\n"
     ]
    }
   ],
   "source": [
    "#look at the breakdown of postive, neutral, and negative reviews\n",
    "print(len(df[df.label==1]))\n",
    "print(len(df[df.label==0]))\n",
    "print(len(df[df.label==-1]))"
   ]
  },
  {
   "cell_type": "code",
   "execution_count": 5,
   "metadata": {},
   "outputs": [],
   "source": [
    "#remove 3 star reviews from dataset so we can focus on positive and negative classification\n",
    "data = df[df.review_rating != 3]"
   ]
  },
  {
   "cell_type": "code",
   "execution_count": 6,
   "metadata": {},
   "outputs": [],
   "source": [
    "from sklearn.model_selection import train_test_split\n",
    "\n",
    "X = data.text\n",
    "y = data.label\n",
    "\n",
    "# Create training and test sets\n",
    "X_train, X_test, y_train, y_test = train_test_split(X, y, test_size=0.2, random_state=15)"
   ]
  },
  {
   "cell_type": "markdown",
   "metadata": {},
   "source": [
    "### Vectorize Text"
   ]
  },
  {
   "cell_type": "code",
   "execution_count": 7,
   "metadata": {},
   "outputs": [],
   "source": [
    "from nltk.tokenize import word_tokenize\n",
    "from nltk.stem import WordNetLemmatizer\n",
    "from nltk.corpus import stopwords\n",
    "\n",
    "#create a function that pre_processes the text in our reviews\n",
    "def pre_process(text):\n",
    "    # Tokenize the article: tokens\n",
    "    tokens = word_tokenize(text)\n",
    "\n",
    "    # Convert the tokens into lowercase\n",
    "    lower_tokens = [t.lower() for t in tokens]\n",
    "\n",
    "    stop_words = set(stopwords.words('english'))\n",
    "\n",
    "    # Retain alphabetic characters\n",
    "    alpha_only = [t for t in lower_tokens if t.isalpha()]\n",
    "\n",
    "    # Remove all stop words\n",
    "    return [t  for t in alpha_only if t not in stop_words]\n"
   ]
  },
  {
   "cell_type": "code",
   "execution_count": 8,
   "metadata": {},
   "outputs": [],
   "source": [
    "from sklearn.feature_extraction.text import CountVectorizer\n",
    "\n",
    "#Initialize a CountVectorizer object, and use the pre_process function to clean the text\n",
    "count_vectorizer = CountVectorizer(analyzer = pre_process, stop_words='english')"
   ]
  },
  {
   "cell_type": "code",
   "execution_count": 9,
   "metadata": {},
   "outputs": [],
   "source": [
    "#Transform the training data \n",
    "count_train = count_vectorizer.fit_transform(X_train)"
   ]
  },
  {
   "cell_type": "code",
   "execution_count": 10,
   "metadata": {},
   "outputs": [],
   "source": [
    "#Transform the testing data\n",
    "count_test = count_vectorizer.transform(X_test)"
   ]
  },
  {
   "cell_type": "code",
   "execution_count": 11,
   "metadata": {},
   "outputs": [
    {
     "name": "stdout",
     "output_type": "stream",
     "text": [
      "['aa', 'aaa', 'aaaaaaaaaaaaawwwwwwwwwwwwww', 'aaaaaaaaaaaoooiiiiiiiiiiiiiiiiiiiiiiiiiiiiiiiiiiii', 'aaaaaaall', 'aaaaaand', 'aaaaah', 'aaaaahhh', 'aaaaand', 'aaaaanyway']\n"
     ]
    }
   ],
   "source": [
    "# Print the first 10 features of the count_vectorizer\n",
    "print(count_vectorizer.get_feature_names()[:10])"
   ]
  },
  {
   "cell_type": "code",
   "execution_count": 12,
   "metadata": {},
   "outputs": [],
   "source": [
    "#Import TfidfVectorizer\n",
    "from sklearn.feature_extraction.text import TfidfVectorizer\n",
    "\n",
    "# Initialize a TfidfVectorizer object: tfidf_vectorizer\n",
    "tfidf_vectorizer = TfidfVectorizer(analyzer = pre_process, stop_words='english', max_df=0.7)"
   ]
  },
  {
   "cell_type": "code",
   "execution_count": 13,
   "metadata": {},
   "outputs": [],
   "source": [
    "#Transform the training data: tfidf_train \n",
    "tfidf_train = tfidf_vectorizer.fit_transform(X_train)"
   ]
  },
  {
   "cell_type": "code",
   "execution_count": 14,
   "metadata": {},
   "outputs": [],
   "source": [
    "# Transform the test data: tfidf_test \n",
    "tfidf_test = tfidf_vectorizer.transform(X_test)\n"
   ]
  },
  {
   "cell_type": "markdown",
   "metadata": {},
   "source": [
    "### Multinomial Bayes"
   ]
  },
  {
   "cell_type": "code",
   "execution_count": 15,
   "metadata": {},
   "outputs": [
    {
     "name": "stdout",
     "output_type": "stream",
     "text": [
      "0.8978940013973451\n",
      "[[4678  376]\n",
      " [ 647 4318]]\n"
     ]
    }
   ],
   "source": [
    "from sklearn.naive_bayes import MultinomialNB\n",
    "from sklearn import metrics\n",
    "\n",
    "nb_classifier = MultinomialNB()\n",
    "\n",
    "# Fit the classifier to training data\n",
    "nb_classifier.fit(count_train, y_train)\n",
    "\n",
    "# Create predictions\n",
    "pred = nb_classifier.predict(count_test)\n",
    "\n",
    "# Calculate the accuracy score\n",
    "score = metrics.accuracy_score(y_test, pred)\n",
    "print(score)\n",
    "\n",
    "# Calculate the confusion matrix: cm\n",
    "cm = metrics.confusion_matrix(y_test, pred, labels=[1, 0])\n",
    "print(cm)"
   ]
  },
  {
   "cell_type": "code",
   "execution_count": 16,
   "metadata": {},
   "outputs": [
    {
     "data": {
      "image/png": "[encoded data removed]",
      "text/plain": [
       "<Figure size 432x288 with 1 Axes>"
      ]
     },
     "metadata": {},
     "output_type": "display_data"
    },
    {
     "name": "stdout",
     "output_type": "stream",
     "text": [
      "AUC:  0.9511143497159179\n"
     ]
    }
   ],
   "source": [
    "#Create ROC curve\n",
    "from sklearn.metrics import roc_curve\n",
    "from sklearn.metrics import roc_auc_score\n",
    "\n",
    "y_pred_prob = nb_classifier.predict_proba(count_test)[:,1]\n",
    "\n",
    "fpr, tpr, thresholds = roc_curve(y_test, y_pred_prob)\n",
    "\n",
    "# Plot ROC curve\n",
    "plt.plot([0, 1], [0, 1], 'k--')\n",
    "plt.plot(fpr, tpr)\n",
    "plt.xlabel('False Positive Rate')\n",
    "plt.ylabel('True Positive Rate')\n",
    "plt.title('ROC Curve MNB/CountVec')\n",
    "plt.show()\n",
    "\n",
    "\n",
    "# Compute and print AUC score\n",
    "print(\"AUC: \", roc_auc_score(y_test, y_pred_prob))\n"
   ]
  },
  {
   "cell_type": "code",
   "execution_count": 17,
   "metadata": {},
   "outputs": [
    {
     "name": "stdout",
     "output_type": "stream",
     "text": [
      "0.9053797784210001\n",
      "[[4643  411]\n",
      " [ 537 4428]]\n"
     ]
    }
   ],
   "source": [
    "nb_classifier = MultinomialNB()\n",
    "\n",
    "# Fit the classifier to training data\n",
    "nb_classifier.fit(tfidf_train, y_train)\n",
    "\n",
    "# Create predictions\n",
    "pred = nb_classifier.predict(tfidf_test)\n",
    "\n",
    "# Calculate the accuracy score\n",
    "score = metrics.accuracy_score(y_test, pred)\n",
    "print(score)\n",
    "\n",
    "# Calculate the confusion matrix\n",
    "cm = metrics.confusion_matrix(y_test, pred, labels=[1, 0])\n",
    "print(cm)"
   ]
  },
  {
   "cell_type": "code",
   "execution_count": 18,
   "metadata": {},
   "outputs": [
    {
     "data": {
      "image/png": "[encoded data removed]",
      "text/plain": [
       "<Figure size 432x288 with 1 Axes>"
      ]
     },
     "metadata": {},
     "output_type": "display_data"
    },
    {
     "name": "stdout",
     "output_type": "stream",
     "text": [
      "AUC:  0.9656269390282831\n"
     ]
    }
   ],
   "source": [
    "y_pred_prob = nb_classifier.predict_proba(tfidf_test)[:,1]\n",
    "\n",
    "fpr, tpr, thresholds = roc_curve(y_test, y_pred_prob)\n",
    "\n",
    "# Plot ROC curve\n",
    "plt.plot([0, 1], [0, 1], 'k--')\n",
    "plt.plot(fpr, tpr)\n",
    "plt.xlabel('False Positive Rate')\n",
    "plt.ylabel('True Positive Rate')\n",
    "plt.title('ROC Curve MNB/Tf-idfVec')\n",
    "plt.show()\n",
    "\n",
    "\n",
    "# Compute and print AUC score\n",
    "print(\"AUC: \", roc_auc_score(y_test, y_pred_prob))"
   ]
  },
  {
   "cell_type": "markdown",
   "metadata": {},
   "source": [
    "### Logistic Regression"
   ]
  },
  {
   "cell_type": "code",
   "execution_count": 19,
   "metadata": {},
   "outputs": [
    {
     "name": "stdout",
     "output_type": "stream",
     "text": [
      "0.9239445054396647\n",
      "[[4677  377]\n",
      " [ 385 4580]]\n"
     ]
    }
   ],
   "source": [
    "from sklearn.linear_model import LogisticRegression\n",
    "\n",
    "#using count vectorizer\n",
    "logreg = LogisticRegression()\n",
    "logreg.fit(count_train, y_train)\n",
    "y_pred = logreg.predict(count_test)\n",
    "score = metrics.accuracy_score(y_test, y_pred)\n",
    "print(score)\n",
    "\n",
    "cm = metrics.confusion_matrix(y_test, y_pred, labels=[1, 0])\n",
    "print(cm)"
   ]
  },
  {
   "cell_type": "code",
   "execution_count": 20,
   "metadata": {
    "scrolled": true
   },
   "outputs": [
    {
     "data": {
      "image/png": "[encoded data removed]",
      "text/plain": [
       "<Figure size 432x288 with 1 Axes>"
      ]
     },
     "metadata": {},
     "output_type": "display_data"
    },
    {
     "name": "stdout",
     "output_type": "stream",
     "text": [
      "AUC:  0.9719062324279454\n"
     ]
    }
   ],
   "source": [
    "y_pred_prob = logreg.predict_proba(count_test)[:,1]\n",
    "\n",
    "fpr, tpr, thresholds = roc_curve(y_test, y_pred_prob)\n",
    "\n",
    "# Plot ROC curve\n",
    "plt.plot([0, 1], [0, 1], 'k--')\n",
    "plt.plot(fpr, tpr)\n",
    "plt.xlabel('False Positive Rate')\n",
    "plt.ylabel('True Positive Rate')\n",
    "plt.title('ROC Curve LogReg/CountVec')\n",
    "plt.show()\n",
    "\n",
    "\n",
    "# Compute and print AUC score\n",
    "print(\"AUC: \", roc_auc_score(y_test, y_pred_prob))"
   ]
  },
  {
   "cell_type": "code",
   "execution_count": 21,
   "metadata": {},
   "outputs": [
    {
     "name": "stdout",
     "output_type": "stream",
     "text": [
      "0.9267391955284958\n",
      "[[4678  376]\n",
      " [ 358 4607]]\n"
     ]
    }
   ],
   "source": [
    "#using tf-idf vectorizer\n",
    "logreg = LogisticRegression()\n",
    "logreg.fit(tfidf_train, y_train)\n",
    "y_pred = logreg.predict(tfidf_test)\n",
    "\n",
    "score = metrics.accuracy_score(y_test, y_pred)\n",
    "print(score)\n",
    "\n",
    "cm = metrics.confusion_matrix(y_test, y_pred, labels=[1, 0])\n",
    "print(cm)"
   ]
  },
  {
   "cell_type": "code",
   "execution_count": 22,
   "metadata": {},
   "outputs": [
    {
     "data": {
      "image/png": "[encoded data removed]",
      "text/plain": [
       "<Figure size 432x288 with 1 Axes>"
      ]
     },
     "metadata": {},
     "output_type": "display_data"
    },
    {
     "name": "stdout",
     "output_type": "stream",
     "text": [
      "AUC:  0.9801481761328108\n"
     ]
    }
   ],
   "source": [
    "y_pred_prob = logreg.predict_proba(tfidf_test)[:,1]\n",
    "\n",
    "fpr, tpr, thresholds = roc_curve(y_test, y_pred_prob)\n",
    "\n",
    "# Plot ROC curve\n",
    "plt.plot([0, 1], [0, 1], 'k--')\n",
    "plt.plot(fpr, tpr)\n",
    "plt.xlabel('False Positive Rate')\n",
    "plt.ylabel('True Positive Rate')\n",
    "plt.title('ROC Curve LogReg/tf-idfVec')\n",
    "plt.show()\n",
    "\n",
    "\n",
    "# Compute and print AUC score\n",
    "print(\"AUC: \", roc_auc_score(y_test, y_pred_prob))"
   ]
  },
  {
   "cell_type": "markdown",
   "metadata": {},
   "source": [
    "### Tune parameters"
   ]
  },
  {
   "cell_type": "code",
   "execution_count": 23,
   "metadata": {},
   "outputs": [
    {
     "name": "stdout",
     "output_type": "stream",
     "text": [
      "Alpha:  0.3\n",
      "Score:  0.8982932428386067\n",
      "\n",
      "Alpha:  0.5\n",
      "Score:  0.8977941910370296\n",
      "\n",
      "Alpha:  0.7\n",
      "Score:  0.8981934324782912\n",
      "\n",
      "Alpha:  0.9\n",
      "Score:  0.8980936221179758\n",
      "\n"
     ]
    }
   ],
   "source": [
    "#Create the list of alphas for MultinomialNB\n",
    "alphas = [.3,.5,.7,.9]\n",
    "\n",
    "#tune parameters for the count vectorizer \n",
    "def train_and_predict_cv(alpha):\n",
    "    nb_classifier = MultinomialNB(alpha=alpha)\n",
    "    nb_classifier.fit(count_train, y_train)\n",
    "    pred = nb_classifier.predict(count_test)\n",
    "    score = metrics.accuracy_score(y_test, pred)\n",
    "    return score\n",
    "\n",
    "for alpha in alphas:\n",
    "    print('Alpha: ', alpha)\n",
    "    print('Score: ', train_and_predict_cv(alpha))\n",
    "    print()\n",
    "    "
   ]
  },
  {
   "cell_type": "code",
   "execution_count": 24,
   "metadata": {},
   "outputs": [
    {
     "name": "stdout",
     "output_type": "stream",
     "text": [
      "Alpha:  0.3\n",
      "Score:  0.9046811058987922\n",
      "\n",
      "Alpha:  0.5\n",
      "Score:  0.9054795887813155\n",
      "\n",
      "Alpha:  0.7\n",
      "Score:  0.9049805369797385\n",
      "\n",
      "Alpha:  0.9\n",
      "Score:  0.9053797784210001\n",
      "\n"
     ]
    }
   ],
   "source": [
    "#Create the list of alphas for MultinomialNB\n",
    "alphas = [.3,.5,.7,.9]\n",
    "\n",
    "#tune parameters for the tf-idf vectorizer \n",
    "def train_and_predict_tf(alpha):\n",
    "    nb_classifier = MultinomialNB(alpha=alpha)\n",
    "    nb_classifier.fit(tfidf_train, y_train)\n",
    "    pred = nb_classifier.predict(tfidf_test)\n",
    "    score = metrics.accuracy_score(y_test, pred)\n",
    "    return score\n",
    "\n",
    "for alpha in alphas:\n",
    "    print('Alpha: ', alpha)\n",
    "    print('Score: ', train_and_predict_tf(alpha))\n",
    "    print()"
   ]
  },
  {
   "cell_type": "code",
   "execution_count": 25,
   "metadata": {},
   "outputs": [
    {
     "name": "stdout",
     "output_type": "stream",
     "text": [
      "C:  0.001\n",
      "Score:  0.901387364008384\n",
      "\n",
      "C:  0.1\n",
      "Score:  0.9259407126459727\n",
      "\n",
      "C:  0.3\n",
      "Score:  0.9254416608443956\n",
      "\n",
      "C:  0.5\n",
      "Score:  0.9248427986825033\n",
      "\n"
     ]
    }
   ],
   "source": [
    "#Create the list of C's for Logistic Regression\n",
    "\n",
    "Cs = [0.001, 0.1, .3, .5]\n",
    "\n",
    "#tune parameters for count vectorizer\n",
    "def train_and_predict_lc(C):\n",
    "    lr = LogisticRegression(C=C)\n",
    "    lr.fit(count_train, y_train)\n",
    "    pred = lr.predict(count_test)\n",
    "    score = metrics.accuracy_score(y_test, pred)\n",
    "    return score\n",
    "\n",
    "\n",
    "for C in Cs:\n",
    "    print('C: ', C)\n",
    "    print('Score: ', train_and_predict_lc(C))\n",
    "    print()"
   ]
  },
  {
   "cell_type": "code",
   "execution_count": 26,
   "metadata": {
    "scrolled": true
   },
   "outputs": [
    {
     "name": "stdout",
     "output_type": "stream",
     "text": [
      "C:  0.001\n",
      "Score:  0.863259806367901\n",
      "\n",
      "C:  0.1\n",
      "Score:  0.9127657450843397\n",
      "\n",
      "C:  0.5\n",
      "Score:  0.9243437468809262\n",
      "\n",
      "C:  10\n",
      "Score:  0.9274378680507037\n",
      "\n",
      "C:  15\n",
      "Score:  0.9252420401237649\n",
      "\n"
     ]
    }
   ],
   "source": [
    "#Create the list of C's for Logistic Regression\n",
    "\n",
    "Cs = [0.001, 0.1, .5, 10, 15]\n",
    "\n",
    "#tune parameters for tf-idf vectorizer\n",
    "def train_and_predict_lt(C):\n",
    "    lr = LogisticRegression(C=C)\n",
    "    lr.fit(tfidf_train, y_train)\n",
    "    pred = lr.predict(tfidf_test)\n",
    "    score = metrics.accuracy_score(y_test, pred)\n",
    "    return score\n",
    "\n",
    "for C in Cs:\n",
    "    print('C: ', C)\n",
    "    print('Score: ', train_and_predict_lt(C))\n",
    "    print()"
   ]
  },
  {
   "cell_type": "markdown",
   "metadata": {},
   "source": [
    "### Analyze Best Model: Logistic Regression using the tf-idf vectorizer"
   ]
  },
  {
   "cell_type": "code",
   "execution_count": 27,
   "metadata": {},
   "outputs": [],
   "source": [
    "tfidf_all = tfidf_vectorizer.fit_transform(X)"
   ]
  },
  {
   "cell_type": "code",
   "execution_count": 28,
   "metadata": {},
   "outputs": [
    {
     "name": "stdout",
     "output_type": "stream",
     "text": [
      "Test data AUC:  0.9801481761328108\n",
      "AUC scores using 5-fold cross-validation:  [0.9824168  0.97913243 0.97486163 0.97654169 0.97623909]\n"
     ]
    }
   ],
   "source": [
    "#how do this model's metrics hold up in cross validation?\n",
    "\n",
    "from sklearn.model_selection import cross_val_score\n",
    "\n",
    "y_pred_prob = logreg.predict_proba(tfidf_test)[:,1]\n",
    "print(\"Test data AUC: \", roc_auc_score(y_test, y_pred_prob))\n",
    "\n",
    "# Compute cross-validated AUC scores\n",
    "cv_auc = cross_val_score(logreg, tfidf_all, y, cv=5, scoring='roc_auc')\n",
    "print(\"AUC scores using 5-fold cross-validation: \", cv_auc)"
   ]
  },
  {
   "cell_type": "code",
   "execution_count": 29,
   "metadata": {},
   "outputs": [
    {
     "name": "stdout",
     "output_type": "stream",
     "text": [
      "Test data Accuracy:  0.9267391955284958\n",
      "Accuracy scores using 5-fold cross-validation:   [0.93482383 0.92564128 0.91835513 0.91943696 0.92422881]\n"
     ]
    }
   ],
   "source": [
    "print('Test data Accuracy: ', score)\n",
    "acc = cross_val_score(logreg, tfidf_all, y, cv=5, scoring='accuracy')\n",
    "print('Accuracy scores using 5-fold cross-validation:  ', acc)"
   ]
  },
  {
   "cell_type": "code",
   "execution_count": 30,
   "metadata": {},
   "outputs": [
    {
     "name": "stdout",
     "output_type": "stream",
     "text": [
      "0 [(-7.846766744148305, 'toothpaste'), (-6.8957243077696955, 'decepticon'), (-6.594080798826583, 'grateful'), (-6.087053532710597, 'prochain'), (-5.220779824251215, 'sist'), (-4.937548967417722, 'obsolescent'), (-4.786642749671899, 'tmi'), (-4.5751517564009125, 'managent'), (-4.312892774522596, 'declaration'), (-4.258986405012825, 'dominic'), (-4.204464136416, 'sobe'), (-4.196376793502969, 'deficient'), (-4.110525827723337, 'massages'), (-3.989636588336676, 'merciful'), (-3.9875908281692434, 'stream'), (-3.969995088851147, 'merino'), (-3.9316343965277163, 'au'), (-3.764233830007526, 'loomed'), (-3.710211475188315, 'hummas'), (-3.6749618041536953, 'seers')]\n",
      "\n",
      "1 [(4.123410644747679, 'criticism'), (4.249782392639598, 'entombed'), (4.39888372020674, 'svarta'), (4.400048082088312, 'portrait'), (4.4735736047477666, 'chuckles'), (4.644220958217461, 'disembark'), (4.681269630361009, 'falt'), (4.830920009975222, 'effused'), (4.854797438869993, 'romanian'), (4.896036964936465, 'naugahyde'), (5.561224226479739, 'becuse'), (5.58206759792383, 'jewels'), (5.749995842741977, 'barbecued'), (6.160528510897011, 'chargin'), (6.445079362295551, 'mangolias'), (6.494389742359212, 'draus'), (6.932994814164067, 'attude'), (7.049577984259344, 'along'), (7.741169867431081, 'jewelry'), (9.655019789973139, 'frequent')]\n"
     ]
    }
   ],
   "source": [
    "review_labels = logreg.classes_\n",
    "\n",
    "feature_names = tfidf_vectorizer.get_feature_names()\n",
    "\n",
    "#Combine the feature names with their coefficients and sort by weights\n",
    "feat_with_weights = sorted(zip(logreg.coef_[0], feature_names))\n",
    "\n",
    "# Print the negative review label and the top 20 feat_with_weights entries\n",
    "print(review_labels[0], feat_with_weights[:20])\n",
    "\n",
    "print('')\n",
    "\n",
    "# Print the positive review label and the bottom 20 feat_with_weights entries\n",
    "print(review_labels[1], feat_with_weights[-20:])"
   ]
  },
  {
   "cell_type": "code",
   "execution_count": 31,
   "metadata": {},
   "outputs": [
    {
     "name": "stdout",
     "output_type": "stream",
     "text": [
      "Mis-predicted negative reviews\n",
      "---------------------------\n",
      "After staying here last year I thought heck I'll give them another try. That was a pretty good stay. Wish I would have went with a different property. I called twice before arriving. 2 months prior to make our reservations and let them know exactly what we wanted. Called again to confirm before our arrival and again made sure they had our request. They assured us yes we will give u what u want. Get there... that's when the chaos begun. They booked us in the old part (after requesting new part) went back down and had to wait in line again. Got a room change, but at a hefty price. Lots of excuses. Went ahead with the up charge bc we could Not stay in a room with the smell of rotten potatoes. Then the men's bathroom was being painted the whole weekend. So my boyfriend was very frustrated about that. Why would they choose to paint on a weekend? When it's so busy? Had to buy Tylenol sinus... my fault for forgetting mine at home.... $22.69 for it. My sister went on the trip with us so we got the room with the pull out bc that's all they had by this time and there were no extra sheets or pillows for the bed. Had to sleep on the blankets we had brought for our plane ride. Also, the tv in the bathroom did not work. The ceiling fan was so loud when it was on that we couldn't use it and the light bulbs were burnt out. All in all a very disappointing stay. Will not be back. But I must say we did enjoy the oxygen bar and Carlos and Charlie's never disappoints.\n",
      "\n",
      "started with calling and getting different quotes from different people..anywhere from $69.99 to $238.00...Parking is a b*&^h. Good luck driving up and NOT using valet and trying to check in.   Amenities?  well there was no coffee maker, no micro, no fridge. There was an ice bucket, and ONE glass...hmm. themed room? What the heck is Tank Girl? really?  Oh and good luck finding the third floor...you know where the breakfast buffet is. No # 3 button in the elevator..There was other little things that just made it frustrating or difficult...oh if you have to walk a dog, its like frogger  across four lanes of traffic in the parking garage to an unlit designated grass area...and the luggage carts are NOT for you to use unless attached to a tip expecting bus boy.  Bed was comfy, slept well. TV was large.  Just wasn't impressed.\n",
      "\n",
      "pretty run down hotel, not at stripe but they offer free shuttle every 30 min which kind of make up for it.\n",
      "\n",
      "I was surprised how rundown and filthy this casino has gotten. If you can avoid it I would recommend going anywhere but here\n",
      "\n",
      "I love Hooters!   Great wings and service UNLESS you're in Vegas.   I wanted to take our family out that had never been to a Hooters- I told them how great it was.   \n",
      "\n",
      "We had to go to the bar to get our own drinks and the food was cold when served.    We complained to management who said they were just really busy.   Busy?!   Ha!  We were one of only two table occupied in the whole restaurant!   We watched three wait staff hang out with the bartender and ignore us until we got up to serve ourselves!    \n",
      "\n",
      "Our last experience here for sure.\n",
      "\n",
      "Mis-predicted positive reviews\n",
      "--------------------------\n",
      "The exterior can be a bit blinding. Overall, I had a great time at the Rio. Visited during the summer time. Hot, hot. Spent time in the pool,and mostly shopped at the gift shop and stores off the strip. I loved our room. Had two beds,and a long sofa , where I stretched out, while watching a movie. I recommend this hotel for your next visit to Sin city.\n",
      "\n",
      "Hands down the best place I've stayed in Vegas.  \n",
      "\n",
      "Staying at Red Rock is like being in a sexy movie.  The rooms, the casino, the pool; it's all gorgeous.   The only bad thing I can say about this place is its distance from the strip, a 30 minute cab ride.  On the other hand, getting away from the strip isn't necessarily such a bad thing.  \n",
      "Can't wait to come back and rock this spot again.\n",
      "\n",
      "Flamingo is one of the oldest hotels on the Vegas strip but is still a top one in my opinion because of its central location on  Las Vegas Blvd. Crossing the blvd you are at Caesars Palace; if you walk south you are at the Cromwell and walking north will take you to Jimmy Buffett's Margaritaville and to the Linq area with retail shops and bars. The high roller Ferris wheel is located at the back of this area.\n",
      "\n",
      "If you stay at this hotel, try to make sure it's in the summer as it has an amazing 21+ party pool with live djs, and relatively affordable daybed and cabanas. This past summer they started having night time entertainment at the pool. The back garden with flamingos and goldfish are still an attraction and are well maintained kept. \n",
      "\n",
      "To any visitor, I would stay here if I were a bachelor or bachlorette party on a budget with no intention of staying in your room for other than sleeping and showering. \n",
      "\n",
      "You'll have good time and it helps being in the center of the strip.\n",
      "\n",
      "zomg totally dont gamble here because they have clothed strippers (oxymoron) dancing next to the gamblin tables. You will lose all your money being distracted by them.\n",
      "\n",
      "Anyways, it is refreshing to see females dancing while I am losing all my money. It's like going to a strip club except I'm not giving my money directly to the strippers but to the craps table. Oh and of course, there are always chances of profit (which is not possible at an actual strip club) but I wouldn't count on it.\n",
      "\n",
      "Just to set things straight I dont stare at the strippers because I'm not a perv or nothing. They were just totally dancing in the area I wanted to gamble in. How annoying!\n",
      "\n",
      "You are thinking, there are alternative gamblin tables at PH where no pole dancing is involved. Well, stop being a smartass.\n",
      "\n",
      "tiene buena hubicacion,puede ser que la habitaciones sean pequenas,pero  a las vegas creo 99 porciento no va a dormir ,tiene buen buffe,el servicio de habitacion es bueno,las empleadas son muy serviciales,en fin la pasamos bien e iremos de nuevo pronto\n",
      "\n"
     ]
    }
   ],
   "source": [
    "#take a look at the prediction errors\n",
    "prob = logreg.predict_proba(tfidf_test)[:, 0]\n",
    "predict = logreg.predict(tfidf_test)\n",
    "\n",
    "wrong_negative = np.argsort(prob[y_test == 0])[:5]\n",
    "wrong_positive = np.argsort(prob[y_test == 1])[-5:]\n",
    "\n",
    "print(\"Mis-predicted negative reviews\")\n",
    "print('---------------------------')\n",
    "for row in wrong_negative:\n",
    "    print(data[y == 0].text.iloc[row])\n",
    "    print(\"\")\n",
    "\n",
    "print(\"Mis-predicted positive reviews\")\n",
    "print('--------------------------')\n",
    "for row in wrong_positive:\n",
    "    print(data[y == 1].text.iloc[row])\n",
    "    print(\"\")"
   ]
  },
  {
   "cell_type": "code",
   "execution_count": 35,
   "metadata": {},
   "outputs": [
    {
     "data": {
      "image/png": "[encoded data removed]",
      "text/plain": [
       "<Figure size 432x288 with 1 Axes>"
      ]
     },
     "metadata": {},
     "output_type": "display_data"
    }
   ],
   "source": [
    "#Accuracy Scores\n",
    "Accuracy  = [89.80,90.55,92.59,92.67]\n",
    "\n",
    "AUC = [95.11,96.56,97.19,98.01]\n",
    "\n",
    "\n",
    "xaxis = [1,2,3,4]\n",
    "\n",
    "plt.plot(xaxis, Accuracy, marker='D', color='green', label='Accuracy Score')\n",
    "plt.plot(xaxis, AUC, marker='D', color='blue', label='AUC Score')\n",
    "plt.xticks(xaxis, ['MB Count', 'MB Tf-idf', 'LogReg Count', 'LogReg Tf-idf'])\n",
    "plt.legend(loc='lower right')\n",
    "plt.xlabel('Models')\n",
    "plt.ylabel('Perfomance')\n",
    "plt.title('Model Performance')\n",
    "plt.show()\n"
   ]
  }
 ],
 "metadata": {
  "kernelspec": {
   "display_name": "Python 3",
   "language": "python",
   "name": "python3"
  },
  "language_info": {
   "codemirror_mode": {
    "name": "ipython",
    "version": 3
   },
   "file_extension": ".py",
   "mimetype": "text/x-python",
   "name": "python",
   "nbconvert_exporter": "python",
   "pygments_lexer": "ipython3",
   "version": "3.6.5"
  }
 },
 "nbformat": 4,
 "nbformat_minor": 2
}
